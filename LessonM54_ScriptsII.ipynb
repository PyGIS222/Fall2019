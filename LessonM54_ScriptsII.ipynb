{
 "cells": [
  {
   "cell_type": "markdown",
   "metadata": {},
   "source": [
    "[![Google Colab](https://colab.research.google.com/assets/colab-badge.svg)](https://colab.research.google.com/github/PyGIS222/Fall2019/blob/master/LessonM54_ScriptsII.ipynb)\n",
    "\n",
    "[![Binder](https://mybinder.org/badge_logo.svg)](https://mybinder.org/v2/gh/PyGIS222/Fall2019/master?filepath=LessonM54_ScriptsII.ipynb)"
   ]
  },
  {
   "cell_type": "markdown",
   "metadata": {},
   "source": [
    "## Notebook Lesson 5.4\n",
    "\n",
    "# How to Write Scripts the 'right' way\n",
    "\n",
    "This Jupyter Notebook is part of Module 5 of the course GIS222 (Fall2019). This notebook gives important tips for documenting and commenting the content of your scripts. One of the big advantages of using scripts is including features that make the code easier to read and understand. These include comments in the code, which explain what the code does, but are not executed when the code is run. As your scripts get longer and more complicated, features such as comments will become essential. Below are some suggestions to make sure your code is formatted nicely and easy to understand.\n",
    "\n",
    "### Sources\n",
    "\n",
    "This notebook adapts the lesson \"Writing our scripts the 'right' way\" of the [Geo-Python 2018](https://geo-python.github.io/site/2018/notebooks/L4/writing-scripts.html), which is licensed under a Creative Commons Attribution-ShareAlike 4.0 International licence.\n",
    "\n",
    "---\n"
   ]
  },
  {
   "cell_type": "markdown",
   "metadata": {},
   "source": [
    "## Inline comments\n",
    "\n",
    "Inline comments are comments within the code that explain what certain lines of the code do. To you, it may seem obvious how the code works, but if you share it with another person perhaps they will not feel the same way. This is particularly true when you start using scripts instead of Jupyter notebooks, where you might not feel you can include as much text describing your code. Because we want to teach you to code in an effective way, it is a very good idea to make your scripts as easy to read as possible for people. Consider the example below."
   ]
  },
  {
   "cell_type": "code",
   "execution_count": 2,
   "metadata": {},
   "outputs": [
    {
     "name": "stdout",
     "output_type": "stream",
     "text": [
      "The Helsinki Kaivopuisto station is located at 60.15 N, 24.96 E\n"
     ]
    }
   ],
   "source": [
    "# Finnish Meterological Institute observation station name and location data\n",
    "# Station name for the station in Kaivopuisto, Helsinki, Finland\n",
    "stationName = 'Helsinki Kaivopuisto'\n",
    "# Station latitude and longitude - Latitude is north, longitude is east\n",
    "stationLat = 60.15\n",
    "stationLong = 24.96\n",
    "# Print station name and location to the screen\n",
    "print(\"The\", stationName, \"station is located at\", stationLat, \"N,\", stationLong, \"E\")"
   ]
  },
  {
   "cell_type": "markdown",
   "metadata": {},
   "source": [
    "Here, we have provided a a bit more information about the data in this script by adding inline comments. Inline comments begin with a `#` (number sign or hash), and all characters that follow on that line will be ignored by Python. Adding comments to scripts is essential for scientists like ourselves to both help us remember how a script works and to make it easier to share with colleagues. It is best to get into the habit of adding comments as you write, especially if you’re not using a Jupyter notebook."
   ]
  },
  {
   "cell_type": "markdown",
   "metadata": {},
   "source": [
    "## Use line breaks wisely\n",
    "\n",
    "*Line breaks*, or blank lines, in your scripts can greatly improve readability, and help divide different sections of the script. Perhaps it is obvious, but Python will ignore blank lines in a script."
   ]
  },
  {
   "cell_type": "code",
   "execution_count": 4,
   "metadata": {},
   "outputs": [
    {
     "name": "stdout",
     "output_type": "stream",
     "text": [
      "The Helsinki Kaivopuisto station is located at 60.15 N, 24.96 E\n"
     ]
    }
   ],
   "source": [
    "# Finnish Meterological Institute observation station name and location data\n",
    "\n",
    "# Station name for the station in Kaivopuisto, Helsinki, Finland\n",
    "stationName = 'Helsinki Kaivopuisto'\n",
    "\n",
    "# Station latitude and longitude - Latitude is north, longitude is east\n",
    "stationLat = 60.15\n",
    "stationLong = 24.96\n",
    "\n",
    "# Print station name and location to the screen\n",
    "print(\"The\", stationName, \"station is located at\", stationLat, \"N,\", stationLong, \"E\")"
   ]
  },
  {
   "cell_type": "markdown",
   "metadata": {},
   "source": [
    "## Use a docstring\n",
    "\n",
    "A *docstring* is a form of block comment at the start of your script that clearly states its purpose and how to run the program. \n",
    "\n",
    "A *block comment* is similar to the inline comments above, but starts with `'''` and comments out all code between the start and another closing set of `'''`. You can also include your name, and possibly add licensing information in the docstring."
   ]
  },
  {
   "cell_type": "code",
   "execution_count": 6,
   "metadata": {},
   "outputs": [
    {
     "name": "stdout",
     "output_type": "stream",
     "text": [
      "The Helsinki Kaivopuisto station is located at 60.15 N, 24.96 E\n"
     ]
    }
   ],
   "source": [
    "'''Prints information about an FMI observation station to the screen.\n",
    "\n",
    "Usage:\n",
    "    ./stationinfo.py\n",
    "\n",
    "Author:\n",
    "    David Whipp - 26.9.2018\n",
    "'''\n",
    "\n",
    "# Finnish Meterological Institute observation station name and location data\n",
    "\n",
    "# Station name for the station in Kaivopuisto, Helsinki, Finland\n",
    "stationName = 'Helsinki Kaivopuisto'\n",
    "\n",
    "# Station latitude and longitude - Latitude is north, longitude is east\n",
    "stationLat = 60.15\n",
    "stationLong = 24.96\n",
    "\n",
    "# Print station name and location to the screen\n",
    "print(\"The\", stationName, \"station is located at\", stationLat, \"N,\", stationLong, \"E\")"
   ]
  },
  {
   "cell_type": "markdown",
   "metadata": {},
   "source": [
    "In this example the script is simple, but many Python programs have optional values that can be used by the code when it is run, making the usage statement crucial."
   ]
  },
  {
   "cell_type": "markdown",
   "metadata": {},
   "source": [
    "## Advanced topics\n",
    "\n",
    "### Adding a license\n",
    "\n",
    "Depending on what you aim to do with your script, you may want to include a formal software license in the docstring to state the conditions under which the code can be used or modified. There are many helpful web resources to [teach you about software licenses](https://tldrlegal.com/) and how to [choose a license](https://choosealicense.com/). In most cases my preference is the [MIT License](https://opensource.org/licenses/MIT), which is simple and allows software use by anyone. An example is below."
   ]
  },
  {
   "cell_type": "code",
   "execution_count": 7,
   "metadata": {},
   "outputs": [
    {
     "name": "stdout",
     "output_type": "stream",
     "text": [
      "The Helsinki Kaivopuisto station is located at 60.15 N, 24.96 E\n"
     ]
    }
   ],
   "source": [
    "'''Prints information about an FMI observation station to the screen.\n",
    "\n",
    "Usage:\n",
    "    ./stationinfo.py\n",
    "\n",
    "License:\n",
    "    MIT License\n",
    "\n",
    "    Copyright (c) 2017 David Whipp\n",
    "\n",
    "    Permission is hereby granted, free of charge, to any person obtaining a copy\n",
    "    of this software and associated documentation files (the \"Software\"), to deal\n",
    "    in the Software without restriction, including without limitation the rights\n",
    "    to use, copy, modify, merge, publish, distribute, sublicense, and/or sell\n",
    "    copies of the Software, and to permit persons to whom the Software is\n",
    "    furnished to do so, subject to the following conditions:\n",
    "\n",
    "    The above copyright notice and this permission notice shall be included in all\n",
    "    copies or substantial portions of the Software.\n",
    "\n",
    "    THE SOFTWARE IS PROVIDED \"AS IS\", WITHOUT WARRANTY OF ANY KIND, EXPRESS OR\n",
    "    IMPLIED, INCLUDING BUT NOT LIMITED TO THE WARRANTIES OF MERCHANTABILITY,\n",
    "    FITNESS FOR A PARTICULAR PURPOSE AND NONINFRINGEMENT. IN NO EVENT SHALL THE\n",
    "    AUTHORS OR COPYRIGHT HOLDERS BE LIABLE FOR ANY CLAIM, DAMAGES OR OTHER\n",
    "    LIABILITY, WHETHER IN AN ACTION OF CONTRACT, TORT OR OTHERWISE, ARISING FROM,\n",
    "    OUT OF OR IN CONNECTION WITH THE SOFTWARE OR THE USE OR OTHER DEALINGS IN THE\n",
    "    SOFTWARE.\n",
    "'''\n",
    "\n",
    "# Finnish Meterological Institute observation station name and location data\n",
    "\n",
    "# Station name for the station in Kaivopuisto, Helsinki, Finland\n",
    "stationName = 'Helsinki Kaivopuisto'\n",
    "\n",
    "# Station latitude and longitude - Latitude is north, longitude is east\n",
    "stationLat = 60.15\n",
    "stationLong = 24.96\n",
    "\n",
    "# Print station name and location to the screen\n",
    "print(\"The\", stationName, \"station is located at\", stationLat, \"N,\", stationLong, \"E\")\n"
   ]
  },
  {
   "cell_type": "markdown",
   "metadata": {},
   "source": [
    "In this case the license information is taken directly from an [online software license template](http://choosealicense.com/licenses/mit/). Software licensing is an important consideration when posting your software in online repositories such as GitHub. It is one way to protect your intellectual property from being used in ways you do not wish.\n",
    "\n",
    "### Starting with a shebang\n",
    "\n",
    "Starting with a *shebang* is another thing to consider doing with your scripts. Why? Well, without going into too much detail, it makes it easier for users to run your script directly from a terminal, rather than needing to use a Jupyter notebook or open an Python console first. If this doesn’t make a great deal of sense, you can get a bit more information on [Wikipedia](https://en.wikipedia.org/wiki/Shebang_(Unix)).\n",
    "\n",
    "Starting with a shebang means that the first line of your program starts with the characters `#!` followed by the location of a program that will run the Python software installed on the computer. An example is below."
   ]
  },
  {
   "cell_type": "code",
   "execution_count": null,
   "metadata": {},
   "outputs": [],
   "source": [
    "#!/usr/bin/env python3\n",
    "'''Prints information about an FMI observation station to the screen.\n",
    "\n",
    "Usage:\n",
    "    ./stationinfo.py\n",
    "\n",
    "Author:\n",
    "    David Whipp - 10.9.2017\n",
    "'''\n",
    "\n",
    "# Finnish Meterological Institute observation station name and location data\n",
    "\n",
    "# Station name for the station in Kaivopuisto, Helsinki, Finland\n",
    "stationName = 'Helsinki Kaivopuisto'\n",
    "\n",
    "# Station latitude and longitude - Latitude is north, longitude is east\n",
    "stationLat = 60.15\n",
    "stationLong = 24.96\n",
    "\n",
    "# Print station name and location to the screen\n",
    "print(\"The\", stationName, \"station is located at\", stationLat, \"N,\", stationLong, \"E\")\n"
   ]
  },
  {
   "cell_type": "markdown",
   "metadata": {},
   "source": [
    "We’ll leave it at that for now, but if you have questions let us know.\n",
    "\n",
    "## Summary\n",
    "\n",
    "As you continue in this and follow-up courses, you will be creating more advanced Python scripts that include more complex code logic and other features we’ve not yet learned. With these, we’ll also learn a few tips for incorporating them in our scripts. However, an expectation in this course is that you stick to the general template described above when writing your script files, which means including appropriate use of inline comments, blank lines, and a docstring."
   ]
  }
 ],
 "metadata": {
  "kernelspec": {
   "display_name": "Python 3",
   "language": "python",
   "name": "python3"
  },
  "language_info": {
   "codemirror_mode": {
    "name": "ipython",
    "version": 3
   },
   "file_extension": ".py",
   "mimetype": "text/x-python",
   "name": "python",
   "nbconvert_exporter": "python",
   "pygments_lexer": "ipython3",
   "version": "3.7.4"
  }
 },
 "nbformat": 4,
 "nbformat_minor": 2
}
