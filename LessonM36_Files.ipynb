{
 "cells": [
  {
   "cell_type": "markdown",
   "metadata": {},
   "source": [
    "[![Google Colab](https://colab.research.google.com/assets/colab-badge.svg)](https://colab.research.google.com/github/PyGIS222/Fall2019/blob/master/LessonM36_FilesIO.ipynb)\n",
    "\n",
    "[![Binder](https://mybinder.org/badge_logo.svg)](https://mybinder.org/v2/gh/PyGIS222/Fall2019/master?filepath=LessonM36_Files.ipynb)"
   ]
  },
  {
   "cell_type": "markdown",
   "metadata": {},
   "source": [
    "### Notebook Lesson 3.6\n",
    "\n",
    "# File Input and Output\n",
    "\n",
    "This Jupyter Notebook is part of Module 3 of the course GIS222 (Fall2019).\n",
    "\n",
    "This lesson discusses the Python object type **Files** as well as how to **read and write** them. At the end, we will write an independent **Python script** and run it from a terminal, instead of through the Jupyter Notebook. Carefully study the content of this Notebook and use the chance to reflect the material through the interactive examples.\n",
    "\n",
    "### Sources\n",
    "This notebook is an adaption of the lesson [How To Handle Plain Text Files in Python 3](https://www.digitalocean.com/community/tutorials/how-to-handle-plain-text-files-in-python-3) of the [Digital Ocean Community](https://www.digitalocean.com/community).\n",
    "\n",
    "---\n"
   ]
  },
  {
   "cell_type": "markdown",
   "metadata": {},
   "source": [
    "## Introduction\n",
    "\n",
    "Python is a great tool for processing data. It is likely that any program you write will involve reading, writing, or manipulating data. For this reason, it’s especially useful to know how to handle different file formats, which store different types of data.\n",
    "\n",
    "For example, consider a Python program that checks a list of users for access control. Your list of users will likely be stored and saved in a text file. Perhaps you are not working with text, but instead have a program that does financial analysis. In order to do some number crunching, you will likely have to input those numbers from a saved spreadsheet. Regardless of your application, it is almost guaranteed that inputting or outputting data will be involved.\n",
    "\n",
    "This tutorial will briefly describe some of the format types Python is able to handle. After a brief introduction to file formats, we’ll go through how to open, read, and write a text file in Python 3.\n",
    "\n",
    "When you’re finished with this tutorial, you’ll be able to handle any text file in Python.\n",
    "\n",
    "\n",
    "## Background\n",
    "\n",
    "Python is super accommodating and can, with relative ease, handle a number of different file formats, including but not limited to the following:\n",
    "\n",
    "\n",
    "| File type |\tDescription |\n",
    "| :-: | :- | \n",
    "| `txt`  |\tPlain text file stores data that represents only characters (or strings) and excludes any structured metadata |\n",
    "| `csv`  |\tComma-separated values file uses commas (or other delimiters) to structure stored data, allowing data to be saved in a table format |\n",
    "| `html` |\tHyperText Markup Language file stores structured data and is commonly used with most websites    |\n",
    "| `json` |\tJavaScript Object Notation is a simple and efficient format, making it one of the most commonly used formats to store and transfer data |\n",
    "| `jpg` | JPEG is a commonly used method of lossy compression for digital images, particularly for those images produced by digital photography. |\n",
    "\n",
    "This tutorial will focus on the `txt` file format. Technically `csv` files are also textfiles.\n",
    "\n",
    "<div class=\"alert alert-info\">\n",
    "\n",
    "**Note**\n",
    "\n",
    "The JupyterHub includes a texteditor. To create, open and edit a textfile: go to your dashboard and click on \"New\" (button to the top right) > \"Text File\". This will create and open a textfile with the name \"untitled.txt\". Rename the file as you want, by clicking on the filename at the top of the texteditor. Once you are done with editing the file content, save and close it. Now, make sure that the file is located in the correct assignment folder. If neccessary move it to the right folder using the JupyterHub browser options for file items.\n",
    "\n",
    "</div>\n",
    "\n",
    "\n",
    "## Step 1 — Creating a Text File\n",
    "\n",
    "Before we can begin working in Python, we need to make sure we have a file to work with. To do this, open up the texteditor of the JupyterHub and create a new textfile, let’s call it `days.txt`.\n",
    "\n",
    "<div class=\"alert alert-success\">\n",
    "    \n",
    "**`/home/jupyter-sammy/days.txt`**\n",
    "\n",
    "Monday <br> Tuesday <br> Wednesday <br> Thursday <br> Friday <br> Saturday <br> Sunday <br>\n",
    "\n",
    "</div>\n",
    "\n",
    "Next, save your file and make sure you know where you put it. In our example, our user sammy, saved the file here: `/home/jupyter-sammy/days.txt`. This will be very important in later steps, where we open the file in Python.\n",
    "\n",
    "<div class=\"alert alert-info\">\n",
    "\n",
    "**Note**\n",
    "\n",
    "Your home directory on the JupyterHub is ***/home/jupyter-YourGithubUsername*** . Replace *YourGithubUsername* with your GitHub username. For examply, if you GitHub username would be *sammy*, your home directory would be */home/jupyter-sammy* .\n",
    "\n",
    "You can also find your GitHub username on the JupyterHub. If you click on \"Control Panel\" at the top right, then your username is listed there at the top right in grey font. Make sure to enter the correct file-path where your textfile is located, when you want to read it.\n",
    "\n",
    "</div>\n",
    "\n",
    "Now that we have a txt file to process, we can begin our code!\n",
    "\n",
    "\n",
    "## Step 2 — Opening a File\n",
    "\n",
    "To open a file in Python, we first need some way to associate the file on disk with a variable in Python. This process is called opening a file. We begin by telling Python where the file is. The location of your file is often referred to as the file path. In order for Python to open your file, it requires the path. The path to our `days.txt` file is: `/home/jupyter-YourGithubUsername/days.txt`. In Python, we will create a string variable to store this information."
   ]
  },
  {
   "cell_type": "code",
   "execution_count": 1,
   "metadata": {},
   "outputs": [],
   "source": [
    "path = '/user/jupyter-YourGithubUsername/days.txt'  # enter your GitHub username !!!"
   ]
  },
  {
   "cell_type": "markdown",
   "metadata": {},
   "source": [
    "We will then use Python’s `open()` function to open our `days.txt` file. The `open()` function requires as its first argument the file path. The function also allows for many other parameters. However, most important is the optional *mode* parameter. Mode is an optional string that specifies the mode in which the file is opened. The mode you choose will depend on what you wish to do with the file. Here are some of our mode options:\n",
    "\n",
    "* `'r'` : use for reading\n",
    "* `'w'` : use for writing\n",
    "* `'x'` : use for creating and writing to a new file\n",
    "* `'a'` : use for appending to a file\n",
    "* `'r+'` : use for reading and writing to the same file\n",
    "\n",
    "In this example, we only want to read from the file, so we will use the `'r'` mode. We will use the `open()` function to open the `days.txt` file and assign it to the variable `days_file`."
   ]
  },
  {
   "cell_type": "code",
   "execution_count": 2,
   "metadata": {},
   "outputs": [
    {
     "ename": "FileNotFoundError",
     "evalue": "[Errno 2] No such file or directory: '/user/jupyter-YourGithubUsername/days.txt'",
     "output_type": "error",
     "traceback": [
      "\u001b[0;31m---------------------------------------------------------------------------\u001b[0m",
      "\u001b[0;31mFileNotFoundError\u001b[0m                         Traceback (most recent call last)",
      "\u001b[0;32m<ipython-input-2-4737d6264ebf>\u001b[0m in \u001b[0;36m<module>\u001b[0;34m\u001b[0m\n\u001b[0;32m----> 1\u001b[0;31m \u001b[0mdays_file\u001b[0m \u001b[0;34m=\u001b[0m \u001b[0mopen\u001b[0m\u001b[0;34m(\u001b[0m\u001b[0mpath\u001b[0m\u001b[0;34m,\u001b[0m\u001b[0;34m'r'\u001b[0m\u001b[0;34m)\u001b[0m\u001b[0;34m\u001b[0m\u001b[0;34m\u001b[0m\u001b[0m\n\u001b[0m",
      "\u001b[0;31mFileNotFoundError\u001b[0m: [Errno 2] No such file or directory: '/user/jupyter-YourGithubUsername/days.txt'"
     ]
    }
   ],
   "source": [
    "days_file = open(path,'r')"
   ]
  },
  {
   "cell_type": "markdown",
   "metadata": {},
   "source": [
    "If you get an `FileNotFoundError`, make sure that you have entered the path correctly, including your Github usere name. After we have opened the file, we can then read from it, which we will do in the next step.\n",
    "\n",
    "\n",
    "## Step 3 — Reading a File\n",
    "\n",
    "Since our file has been opened, we can now manipulate it (i.e. read from it) through the variable we assigned to it. Python provides three related operations for reading information from a file. We’ll show how to use all three operations as examples that you can try out to get an understanding of how they work.\n",
    "\n",
    "The first operation `<file>.read()` returns the entire contents of the file as a single string."
   ]
  },
  {
   "cell_type": "code",
   "execution_count": null,
   "metadata": {},
   "outputs": [],
   "source": [
    "days_file = open(path,'r')\n",
    "days_file.read()"
   ]
  },
  {
   "cell_type": "markdown",
   "metadata": {},
   "source": [
    "Remember `\\n` from string formatting?! This backslash character codes a new line in strings and it represents a new line in the file.\n",
    "\n",
    "The second operation `<file>.readline()` returns the next line of the file, returning the text up to and including the next newline character. More simply put, this operation will read a file line-by-line. "
   ]
  },
  {
   "cell_type": "code",
   "execution_count": null,
   "metadata": {},
   "outputs": [],
   "source": [
    "days_file.readline()"
   ]
  },
  {
   "cell_type": "markdown",
   "metadata": {},
   "source": [
    "Oh, what happened ?!!\n",
    "\n",
    "You have received an empty object!. When reading a file, a file pointer is moving through the file and always stops at the position after the last read entry. Therefore, after executin the operation `<file>.read()`, a file pointer has reached the end of the file (`EOF`). If we continue reading the file after `EOF` was reached, we receive an empty string object.\n",
    "\n",
    "<div class=\"alert alert-info\">\n",
    "\n",
    "**Note**\n",
    "\n",
    "You have to be very careful with the order of file handling operations in a Jupyter Notebook, since it is possible to execute cells in any order. Meanwhile, the Python interpreter has to first receive a command to open the file, then it can read through it step by step from beginning to end. Therefore, if you want to read a file from the beginning, we advise to always re-open a file before reading it in one Jupyter Notebook code cell.  \n",
    "\n",
    "</div>\n",
    "\n",
    "So, let's first reopen the file and then read it with the `<file>.readline()` method."
   ]
  },
  {
   "cell_type": "code",
   "execution_count": null,
   "metadata": {},
   "outputs": [],
   "source": [
    "days_file = open(path,'r')\n",
    "days_file.readline()"
   ]
  },
  {
   "cell_type": "markdown",
   "metadata": {},
   "source": [
    "At this point, we will not close the file yet, because we want to continue reading the file. If you read a line with the readline operation it will pass to the next line. So if you were to call this operation again, it would return the next line in the file, as shown."
   ]
  },
  {
   "cell_type": "code",
   "execution_count": null,
   "metadata": {},
   "outputs": [],
   "source": [
    "days_file.readline()"
   ]
  },
  {
   "cell_type": "markdown",
   "metadata": {},
   "source": [
    "Now let's try another option. The last operation, `<file>.readlines()` returns a list of the lines in the file, where each item of the list represents a single line."
   ]
  },
  {
   "cell_type": "code",
   "execution_count": null,
   "metadata": {},
   "outputs": [],
   "source": [
    "days_file = open(path,'r')\n",
    "days_file.readlines()"
   ]
  },
  {
   "cell_type": "markdown",
   "metadata": {},
   "source": [
    "Yet another option allows us to apply list comprehensions to read a file's content line by line into a list:"
   ]
  },
  {
   "cell_type": "code",
   "execution_count": null,
   "metadata": {},
   "outputs": [],
   "source": [
    "days_file = open(path,'r')\n",
    "[line for line in open(path,'r')]"
   ]
  },
  {
   "cell_type": "markdown",
   "metadata": {},
   "source": [
    "Again, keep in mind when you are reading from files, once a file has been read using one of the read operations, it cannot be read again. For example, if you were to first run `days_file.read()` followed by `days_file.readlines()` the second operation would return an empty string. Therefore, anytime you wish to read from a file you will have to first open a new file variable. Now that we have read from a file, let’s learn how to write to a new file.\n",
    "\n",
    "Python provides also some functions to control the position of the file pointer. We are not going to discuss these here, however, if you are interested, you can research the file object methods `.tell()` or `.seek()`.\n",
    "\n",
    "## Step 4 — Writing a File\n",
    "\n",
    "In this step, we are going to write a new file that includes the title *Days of the Week* followed by the days of the week. First, let’s create our `title` variable."
   ]
  },
  {
   "cell_type": "code",
   "execution_count": null,
   "metadata": {},
   "outputs": [],
   "source": [
    "title = 'Days of the Week\\n'"
   ]
  },
  {
   "cell_type": "markdown",
   "metadata": {},
   "source": [
    "We also need to store the days of the week in a string variable, which we’ll call `days`. To make it easier to follow, we include the code from the steps above. We open the file in read mode, read the file, and store the returned output from the read operation in our new variable `days`."
   ]
  },
  {
   "cell_type": "code",
   "execution_count": null,
   "metadata": {},
   "outputs": [],
   "source": [
    "path = '/user/jupyter-YourGithubUsername/days.txt'  # enter your GitHub username !!!\n",
    "days_file = open(path,'r')\n",
    "days = days_file.read()"
   ]
  },
  {
   "cell_type": "markdown",
   "metadata": {},
   "source": [
    "Now that we have variables for title and days of the week, we can begin writing to our new file. First, we need to specify the location of the file. Again, we will use the directory `/user/jupyter-YourGithubUsername`. We will have to specify the new file we wish to create. So, our path will actually be `/user/jupyter-YourGithubUsername/new_days.txt`. We provide our location information in the `new_path` variable. We then open our new file in write mode, using the `open()` function with the `'w'` mode specified."
   ]
  },
  {
   "cell_type": "code",
   "execution_count": null,
   "metadata": {},
   "outputs": [],
   "source": [
    "new_path = '/user/jupyter-YourGithubUsername/new_days.txt'  # enter your GitHub username !!!\n",
    "new_days = open(new_path,'w')"
   ]
  },
  {
   "cell_type": "markdown",
   "metadata": {},
   "source": [
    "Important to note, if `new_days.txt` already existed before opening the file its old contents would have been destroyed, so be careful when using the `'w'` mode.\n",
    "\n",
    "Once our new file is opened, we can put data into the file, using the write operation, `<file>.write()`. The write operation takes a single parameter, which must be a string, and writes that string to the file. If you want to start a new line in the file, you must explicitly provide the newline character. First, we write the title to the file followed by the days of the week. Let’s also add in some print statements of what we are writing out, which is often good practice for tracking your scripts’ progress."
   ]
  },
  {
   "cell_type": "code",
   "execution_count": null,
   "metadata": {
    "scrolled": true
   },
   "outputs": [],
   "source": [
    "new_days.write(title)\n",
    "print(title)\n",
    "\n",
    "new_days.write(days)\n",
    "print(days)"
   ]
  },
  {
   "cell_type": "markdown",
   "metadata": {},
   "source": [
    "In analogy to readlines, a list of strings can be written to a file at onces using the file object method `<file>.writelines().`\n",
    "\n",
    "Lastly, whenever we are finished with a file, we need to make sure to close it. We show this in our final step.\n",
    "\n",
    "\n",
    "## Step 5 — Closing a File\n",
    "\n",
    "Closing a file makes sure that the connection between the file on disk and the file variable is finished. Closing files also ensures that other programs are able to access them and keeps your data safe. So, always make sure to close your files. Now, let’s close all our files using the `<file>.close()` function."
   ]
  },
  {
   "cell_type": "code",
   "execution_count": null,
   "metadata": {},
   "outputs": [],
   "source": [
    "days_file.close()\n",
    "new_days.close()"
   ]
  },
  {
   "cell_type": "markdown",
   "metadata": {},
   "source": [
    "We’re now finished processing files in Python and can move on to looking over our code."
   ]
  },
  {
   "cell_type": "code",
   "execution_count": null,
   "metadata": {},
   "outputs": [],
   "source": [
    "path = '/user/jupyter-YourGithubUsername/days.txt'  # enter your GitHub username !!!\n",
    "days_file = open(path,'r')\n",
    "days = days_file.read()\n",
    "\n",
    "new_path = '/user/jupyter-YourGithubUsername/new_days.txt'  # enter your GitHub username !!!\n",
    "new_days = open(new_path,'w')\n",
    "\n",
    "title = 'Days of the Week\\n'\n",
    "new_days.write(title)\n",
    "print(title)\n",
    "\n",
    "new_days.write(days)\n",
    "print(days)\n",
    "\n",
    "days_file.close()\n",
    "new_days.close()"
   ]
  },
  {
   "cell_type": "markdown",
   "metadata": {},
   "source": [
    "With that we covered the bulit-in functions to handle textfiles in Python. For more sophisticated file operations, including renaming, deleting, moving files or folder, external module packages have to be used. We will get back to that later. "
   ]
  },
  {
   "cell_type": "markdown",
   "metadata": {},
   "source": [
    "## Creating a Python script for File I/O\n",
    "\n",
    "Now open a new textfile in your JupyterHub browser. This time name the file `files.py`. Then copy the entire code (that we have written to process textfiles) from the previous code cell into the file `files.py`. Save and close the file `files.py`.\n",
    "\n",
    "After saving your code, open up a terminal (which is like a Terminal on Apple Desktops or like a command-line-prompt on Windows Desktops), go to the path where you saved the python-script file `files.py` and run your Python script, like so:\n",
    "\n",
    "`python files.py`\n",
    "\n",
    "<div class=\"alert alert-info\">\n",
    "    \n",
    "**Note**\n",
    "\n",
    "For Navigating in the JupyterHub Terminal among folders use the following commands:\n",
    "\n",
    "* `pwd`    returns the current path\n",
    "* `ls`    lists the content of the current path\n",
    "* `cd dirXY` enters into the directory \"dirXY\"\n",
    "* `cd ..` moves one directory up in the folder hierarchy \n",
    "\n",
    "</div>"
   ]
  },
  {
   "cell_type": "markdown",
   "metadata": {},
   "source": [
    "Your output should look like this:\n",
    "\n",
    "<div class=\"alert alert-success\">\n",
    "    \n",
    "Days of the Week <br>\n",
    " <br>\n",
    "Monday <br> Tuesday <br> Wednesday <br> Thursday <br> Friday <br> Saturday <br> Sunday <br>\n",
    "\n",
    "</div>\n",
    "\n",
    "\n",
    "<div class=\"alert alert-info\">\n",
    "    \n",
    "**Note**\n",
    "\n",
    "Above the command `python` starts the Python interpreter in the JupyterHub terminal and passes the python script 'files.py' to be executed. This way of executing Python code, allows you can write and save Python code in a separate Python-script file and then run the script on the JupyterHub terminal.\n",
    "\n",
    "</div>\n",
    "\n",
    "\n"
   ]
  },
  {
   "cell_type": "markdown",
   "metadata": {},
   "source": [
    "Now, let’s double check our code fully worked by opening our new file (`new_days.txt`). If all went well, when we open our new file, it should look like this:\n",
    "\n",
    "<div class=\"alert alert-success\">\n",
    "    \n",
    "Days of the Week  <br>\n",
    "Monday <br> Tuesday <br> Wednesday <br> Thursday <br> Friday <br> Saturday <br> Sunday <br>\n",
    "\n",
    "</div>\n",
    "\n",
    "Your file will look the same or similarly — you have almost completed this tutorial!\n",
    "\n",
    "\n",
    "## Receiving User Input\n",
    "\n",
    "Another very useful tool in Python, not to actually handle files but to receive user input from the keyboard, is the function `input()` (note in Python2, this would be the function `raw_input()`).\n",
    "\n",
    "You can request user input in Jupyter Notebook or in a Python script like the one above. For that, Python 2 and 3 differ in reading user input:\n",
    "* `text = raw_input(\"prompt\")`  # Python 2\n",
    "* `text = input(\"prompt\")`  # Python 3\n",
    "\n",
    "Since, the Kernel on the JupyterHub is running Python 3, you have to use the function `input()`. If you are unsure, which Python version you are running on your computer, just execute the following command in your terminal or command window:\n",
    "\n",
    "`python --version`"
   ]
  },
  {
   "cell_type": "markdown",
   "metadata": {},
   "source": [
    "<div class=\"alert alert-warning\">\n",
    "    \n",
    "**Note**\n",
    "\n",
    "If you run the `input()` function in a Jupyter Notebook a prompt field opens. After entering text, you have to hit `<Enter>`. Do not execute the cell again, before hitting a plain `<Enter>`. If you execute the cell again (e.g. by hitting `<Shift>+<Enter>` or the `Run` butoon at the top), without actually filling the prompt field, the Kernel get's stuck in an infinite loop that you cannot interrupt through cell controls, since the original prompt is hidden. Therefore, once the prompt field is open, enter someithing into it before executing the cell again, then hit a plain `<Enter>` on your keyboard. However, if you get stuck in such an infinite loop, you can force the Kernel to stop the loop by clicking on the following menue item above: `Kernel` > `Interupt`.\n",
    "\n",
    "</div>\n"
   ]
  },
  {
   "cell_type": "markdown",
   "metadata": {},
   "source": [
    "Now, let's try to get some user input and assign it to a variable. For that, execute the cell below. The cell will prompt you to enter any string and it would display the same string on the screen. Enter your text and hit a plain `<Enter>`. Then execute the cell below, to see your result!"
   ]
  },
  {
   "cell_type": "code",
   "execution_count": 1,
   "metadata": {},
   "outputs": [
    {
     "name": "stdout",
     "output_type": "stream",
     "text": [
      "Write something, you like to see printed below!!!\n",
      "x\n"
     ]
    }
   ],
   "source": [
    "print('Write something, you like to see printed below!!!')\n",
    "yourText = input()\n"
   ]
  },
  {
   "cell_type": "code",
   "execution_count": 2,
   "metadata": {},
   "outputs": [
    {
     "name": "stdout",
     "output_type": "stream",
     "text": [
      "You entered:  x\n"
     ]
    }
   ],
   "source": [
    "print(\"You entered: \", yourText)"
   ]
  },
  {
   "cell_type": "markdown",
   "metadata": {},
   "source": [
    "Add the following code to the end of your Python script you generated in the exercise above. Then execute the script again and try the user input!"
   ]
  },
  {
   "cell_type": "code",
   "execution_count": 11,
   "metadata": {},
   "outputs": [
    {
     "name": "stdout",
     "output_type": "stream",
     "text": [
      "Which is your favorite day?!!!\n",
      "s\n",
      "\n",
      "Great choice, your favorite day : \n",
      "s\n",
      "\n"
     ]
    }
   ],
   "source": [
    "print('Which is your favorite day?!!!')\n",
    "yourText = input()\n",
    "print('')\n",
    "print('Great choice, your favorite day : ')\n",
    "print(yourText)\n",
    "print('')"
   ]
  },
  {
   "cell_type": "markdown",
   "metadata": {},
   "source": [
    "## Conclusions: File Objects\n",
    "\n",
    "File objects are the main interface to external files on your computer. With that files are also a core object type. There is no specific literal syntax for creating or reading files. Instead built-in functions are used for handling files. File objects are created  using the `open()` function. A summary of File I/O in Python, mentioning a few more useful methods and functions, can be accessed here: https://www.tutorialspoint.com/python/python_files_io.htm. \n",
    "Now you can open, read, write, and close textfiles in Python!\n",
    "\n",
    "You should also be able to read user input from the keyboard. And you can even write a small program (script) and execute it on the terminal of the JupyterHub. If you install Python on your own computer, this way you can run any Python script from the terminal (on Apple desktops) or from the command window (on Windows desktops). \n",
    "\n",
    "This will be very useful to you for using Python after this course. It will allow you to working with your own data in Python."
   ]
  }
 ],
 "metadata": {
  "kernelspec": {
   "display_name": "Python 3",
   "language": "python",
   "name": "python3"
  },
  "language_info": {
   "codemirror_mode": {
    "name": "ipython",
    "version": 3
   },
   "file_extension": ".py",
   "mimetype": "text/x-python",
   "name": "python",
   "nbconvert_exporter": "python",
   "pygments_lexer": "ipython3",
   "version": "3.6.8"
  }
 },
 "nbformat": 4,
 "nbformat_minor": 2
}
