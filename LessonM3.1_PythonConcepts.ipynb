{
 "cells": [
  {
   "cell_type": "markdown",
   "metadata": {},
   "source": [
    "[![Google Colab](https://colab.research.google.com/assets/colab-badge.svg)](https://colab.research.google.com/github/PyGIS222/Fall2019/blob/master/LessonM3.1_PythonConcepts.ipynb)"
   ]
  },
  {
   "cell_type": "markdown",
   "metadata": {
    "colab_type": "text",
    "id": "hMdD2uRMnyuP"
   },
   "source": [
    "# Notebook Lesson 2.2: Python Concepts\n",
    "\n",
    "After getting some first pracice in using Python, this lesson discusses major concepts of the programming language. Carefully study the content and use the chance to reflect Python concepts through the interactive examples.\n",
    "\n",
    "### Sources\n",
    "Parts of this lesson on major Python concepts are informed by the book [\"Learning Python\"](https://learning-python.com/about-lp5e.html) (Lutz, 2013).\n",
    "\n",
    "---\n"
   ]
  },
  {
   "cell_type": "markdown",
   "metadata": {
    "colab_type": "text",
    "id": "TOD6lVQ7NDMm"
   },
   "source": [
    "## Review: Pillars of Programming\n",
    "\n",
    "Python tools include those that reflec the traditional pillars of programming: \n",
    "\n",
    "| Number      | Pillar      \n",
    "| ----------- | ----------- |\n",
    "| 1           | Assignment   \n",
    "| 2           | Sequence    \n",
    "| 3           | Selection   \n",
    "| 4           | Repetition  \n",
    "\n",
    "But...\n",
    "- In Python we do things with stuff: we focus on objects and what we can do with them.\n",
    "- Data take the form of objects, which are most fundamental components in Python programming.\n",
    "\n",
    "Let's explain that further !\n"
   ]
  },
  {
   "cell_type": "markdown",
   "metadata": {},
   "source": [
    "## Python Conceptual Hierarchy\n",
    "\n",
    "Python programs consist of four major components that built a hierarchy:\n",
    "- Programs are composed of **modules**\n",
    "- Modules contain **statements**\n",
    "- Statements contain **expressions**\n",
    "- Expressions create and process **objects**\n",
    "\n",
    "At the bottom of the hierarchy stand Python *Objects*, which are data elements (e.g. variables, functions, ...). An *Expression* is a combination of one or more objects that the programming language interprets and computes to produce another object. They are embedded in statements. *Statements* code the larger logic of a program (e.g. iteration, assignment, selections, ...). And *Modules* are organization units at the highest-level. They package code for reuse.\n",
    "\n",
    "In the previous exercise, you have already used the *math* module. Such a module contain a vast amount of structured code statements). We will discuss higher hierarchy elements in the lessons of modules 4-5. Here we want to focus on the basic element: objects. \n"
   ]
  },
  {
   "cell_type": "markdown",
   "metadata": {},
   "source": [
    "### Core Object Types\n",
    "\n",
    "In Python, data takes the form of objects. \n",
    "\n",
    "In the previous exercise, you have been introduced to four basic object types: Integer Numbers, Floating point Numbers, Strings, and true/false values (boolean). A more complete list of important core object types is:\n",
    "\n",
    "|Object Type | Examples |\n",
    "|-|-|\n",
    "Numbers      | 54, 6.12, Decimal, Fraction\n",
    "Strings      | 'hello', \"this example\"\n",
    "Lists        | [2, 3, [4, 'five'], 6]\n",
    "Dictionaries | {'firstname': 'Tom', 'lastname': 'Miller'}\n",
    "Tuples       | (5, 'mouse', 'tree', 'A', 67)\n",
    "Files        | myfile = open('names', 'r')\n",
    "Sets               | set('abc'), {'a', 'b', 'c'}\n",
    "Other core types   | Booleans, types, *None*\n",
    "Program unit types | Functions, Modules, Classes\n",
    "\n",
    "Python gives these objects specific characteristics that we want to discuss in the next section. Objects are pieces of memory with values and sets of associated operations. Simple numbers (e.g, 12) or supported operations (addition, multiplication, ...) can be objects. In the last row of the table above, you can see that also a module is a Python object. Indeed, in Python everything is an object.\n",
    "In the upcoming course Module 3 (not to be confused with Python module), we will cover the details of the first eight of these object types. The types in the last row (program unit types) will be discussed in course Modules 4 and 5.\n",
    "\n",
    "Now let's get to the characteristics of Python objects."
   ]
  },
  {
   "cell_type": "markdown",
   "metadata": {},
   "source": [
    "## General Python Object Concepts\n",
    "\n",
    "Python implements three major concepts for it's objects:\n",
    "- Dynamically typed\n",
    "- Strongly typed\n",
    "- Mutable vs. Immutable"
   ]
  },
  {
   "cell_type": "markdown",
   "metadata": {},
   "source": [
    "### Dynamicaly Typed\n",
    "\n",
    "Python automatically figures out the type of a variable when you first assign it a value. There is no need to declare the type of the variable, as in other programming languages. \n",
    "\n",
    "The process of filling an object with data is called **assignment**. In the following example, we assign the object 'a' with the number '3'. Using the function type() we can check which object type 'a' was assigned with."
   ]
  },
  {
   "cell_type": "code",
   "execution_count": 50,
   "metadata": {},
   "outputs": [
    {
     "data": {
      "text/plain": [
       "int"
      ]
     },
     "execution_count": 50,
     "metadata": {},
     "output_type": "execute_result"
    }
   ],
   "source": [
    "a = 3      # Try to experiment with different content (integer, floating numbers, strings).\n",
    "           #     and use the function type() to how the object type changes.\n",
    "type(a)"
   ]
  },
  {
   "cell_type": "markdown",
   "metadata": {},
   "source": [
    "During an assignment, the Python interpreter is performing three steps: \n",
    "\n",
    "- **creating an object  >  creating a variable (name)  >  linking them**\n",
    "\n",
    "The important point is that Python makes a distinction between objects and variable names, such that:\n",
    "\n",
    "1. Variable **Names** are entries in a system table, with spaces for links to objects;\n",
    "2. **Objects** are pieces of allocated memory, with enough space to represent the values for which they stand; and\n",
    "3. **References** are automatically followed pointers from variables to objects.\n",
    "\n",
    "This concept is further illustrated by the following Figure."
   ]
  },
  {
   "cell_type": "markdown",
   "metadata": {},
   "source": [
    "<img src=\"Assignment.png\" alt=\"Assignment consists of three steps: creating an object, creating a variable and linking them.\" title=\"Based on Lutz (2013, Figure 6-1)\" width=\"400\" />\n",
    "\n",
    "Figure 1: *Names and objects after running the assignment a=3. Variable a becomes a reference to the object 3. Internally the variable is really a pointer to the object’s memory space created by running the literal expression 3. (Based on Lutz, 2013, Figure 6-1).*"
   ]
  },
  {
   "cell_type": "markdown",
   "metadata": {},
   "source": [
    "Now what does is mean in programming practice that types are associated with objects, not with variable names? This will become more clear from the following example:"
   ]
  },
  {
   "cell_type": "code",
   "execution_count": 29,
   "metadata": {},
   "outputs": [],
   "source": [
    "# What is the output of ... \n",
    "a = 3      # a points to object 3\n",
    "b = a      # b points now to same object\n",
    "a = 'hey'  # a points to object \"hey\""
   ]
  },
  {
   "cell_type": "markdown",
   "metadata": {},
   "source": [
    "After executing the code in the code cell above, what happend to the content of b? Enter 'print(b)' in the cell below to find out!"
   ]
  },
  {
   "cell_type": "code",
   "execution_count": 51,
   "metadata": {},
   "outputs": [],
   "source": [
    "           # enter 'print(b)'' in this cell to find out!"
   ]
  },
  {
   "cell_type": "markdown",
   "metadata": {},
   "source": [
    "Take a moment to reflect, why you get this result. Experiment with different examples."
   ]
  },
  {
   "cell_type": "markdown",
   "metadata": {},
   "source": [
    "### Strongly Typed\n",
    "\n",
    "Python is strongly typed, not weakly typed. That means that the type of a given object does not change. (You can however change a variable name's reference to a different object of different type, as we have done in the previous example). \n",
    "\n",
    "And, for a given object, you can only perform operations that are valid for this object’s type. Some type specific operations are given by numerous built-in tools, like *functions* and *methods*. \n",
    "\n",
    "In the previous lesson you have already used two *built-in functions*: type(), print(). These work on almost any object type. However, other built-in functions available in Python work only for specific types, e.g. for numbers or for strings. (You will get to know more built-in functions in upcoming lessons.)\n",
    "\n",
    "Specifically *methods* are a set of type associated operations. They will also be explained more precisely later. (A method is a function that takes a class instance as its first parameter, methods are members of classes.)"
   ]
  },
  {
   "cell_type": "markdown",
   "metadata": {},
   "source": [
    "### Mutable vs. Immutable\n",
    "\n",
    "Some Python objects can mutate. This means that their content can change. **Mutability** describes the possibility of in-place modification of an object by calling functions or methods that perform an operation on that object. Functions that cause a mutation (we will learn some examples at a later point) may not have any output, but they do change (\"mutate\") the input object. \n",
    "\n",
    "Objects that can be changed in-place are mutable. Objects that do not have this characteristic are called immutable. For example:\n",
    "- numbers, strings, and tuples are immutable\n",
    "- lists, dictionaries, and sets are mutable\n",
    "\n",
    "Here an example for how a list may be mutated:"
   ]
  },
  {
   "cell_type": "code",
   "execution_count": 20,
   "metadata": {},
   "outputs": [
    {
     "name": "stdout",
     "output_type": "stream",
     "text": [
      "[753, 'spam', 75.3]\n",
      "[753, 'spam', 75.3, 'NI']\n"
     ]
    }
   ],
   "source": [
    "# Example: add object at end of a list:\n",
    "L = [753, 'spam', 75.3]   # create list L\n",
    "print(L)                  # prints the original list to screen, first\n",
    "L.append('NI')            # adds string 'NI' to the list\n",
    "print(L)                  # prints the mutated list to screen"
   ]
  },
  {
   "cell_type": "markdown",
   "metadata": {},
   "source": [
    "Revise the content of this lesson, before moving on."
   ]
  }
 ],
 "metadata": {
  "colab": {
   "collapsed_sections": [],
   "name": "M3.1_PythonConcepts.ipynb",
   "provenance": [],
   "version": "0.3.2"
  },
  "kernelspec": {
   "display_name": "Python 3",
   "language": "python",
   "name": "python3"
  },
  "language_info": {
   "codemirror_mode": {
    "name": "ipython",
    "version": 3
   },
   "file_extension": ".py",
   "mimetype": "text/x-python",
   "name": "python",
   "nbconvert_exporter": "python",
   "pygments_lexer": "ipython3",
   "version": "3.7.3"
  }
 },
 "nbformat": 4,
 "nbformat_minor": 1
}
