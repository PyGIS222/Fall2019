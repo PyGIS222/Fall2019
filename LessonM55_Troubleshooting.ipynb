{
 "cells": [
  {
   "cell_type": "markdown",
   "metadata": {},
   "source": [
    "[![Google Colab](https://colab.research.google.com/assets/colab-badge.svg)](https://colab.research.google.com/github/PyGIS222/Fall2019/blob/master/LessonM55_Troubleshooting.ipynb)\n",
    "\n",
    "[![Binder](https://mybinder.org/badge_logo.svg)](https://mybinder.org/v2/gh/PyGIS222/Fall2019/master?filepath=LessonM55_Troubleshooting.ipynb)"
   ]
  },
  {
   "cell_type": "markdown",
   "metadata": {},
   "source": [
    "### Notebook Lesson 5.5\n",
    "\n",
    "# Troubleshooting your Python Code\n",
    "\n",
    "This Jupyter Notebook is part of Module 5 of the course GIS222 (Fall2019). This lesson discusses simple approaches to troubleshoot errors in your code. Carefully study the content of this Notebook and use the chance to reflect the material through the interactive examples.\n",
    "\n",
    "### Sources\n",
    "\n",
    "This notebook adapts the material of lesson 6 of the [Geo-Python 2018](https://geo-python.github.io/site/2018/lessons/L6/debugging-scripts.html), which is licensed under a Creative Commons Attribution-ShareAlike 4.0 International licence.\n",
    "\n",
    "---\n"
   ]
  },
  {
   "cell_type": "markdown",
   "metadata": {},
   "source": [
    "# A. Dealing with Errors\n",
    "\n",
    "## Interpreting error messages\n",
    "\n",
    "So far in the course we have encountered a number of different types of error messages in Python, but have not really discussed how to understand what the computer is trying to tell you when you get an error message. We’ll do that below. For most Python errors you will see and exception raised when the error is encountered, providing some insight into what went wrong and where to look to fix it.\n",
    "\n",
    "## Common errors and exceptions\n",
    "\n",
    "First, let’s have a look at a few different types of common Python exceptions that are displayed for different program errors.\n",
    "\n",
    "|Exception | Description|\n",
    "| :-: | :- |\n",
    "|`IndexError`| \tOccurs when you attempt to reference a value with an index outside the range of values.<br> If the list `dogs` has 5 values, `dogs[10]` will raise an `IndexError`.|\n",
    "|`NameError`| Occurs when you reference a variable that has not been defined. <br> If `myVar` has not been assigned a value, `yourVar = myVar` will raise a `NameError`.|\n",
    "|`SyntaxError`|\tOccurs when there is an error in your Python syntax. <br> `dogs ?= 3` will raise a `SyntaxError`.|\n",
    "|`IndentationError`| Occurs when text is not properly indented when indentation is expected. <br> No indentation beneath a `for` statement will raise an `IndentationError`.|\n",
    "|`TypeError`| Occurs when data of incompatible types are used in your script. <br> `'iceCream' / 10` will raise a `TypeError`.|\n",
    "\n",
    "There are certainly [other kinds of errors and exceptions in Python](https://docs.python.org/3/tutorial/errors.html), but this list comprises those you’re most likely to encounter. As you can see, knowing the name of each error can be helpful in trying to figure out what has gone wrong, and knowing what these common error types mean will save you time trying to fix your programs.\n",
    "\n",
    "## Reading error messages\n",
    "\n",
    "Let’s imagine you’ve written the script below called `wind_speed.py` to convert wind speeds from km/hr to m/s and you’re dying to figure out how windy it is in [Halifax, Nova Scotia, Canada](https://www.theweathernetwork.com/ca/weather/nova-scotia/halifax) where they report wind speeds in km/hr. Unfortunately, when you run your script you observe the following (run the cell below to receive the error message):"
   ]
  },
  {
   "cell_type": "code",
   "execution_count": 1,
   "metadata": {},
   "outputs": [
    {
     "ename": "SyntaxError",
     "evalue": "EOL while scanning string literal (<ipython-input-1-4c7574ecc855>, line 13)",
     "output_type": "error",
     "traceback": [
      "\u001b[0;36m  File \u001b[0;32m\"<ipython-input-1-4c7574ecc855>\"\u001b[0;36m, line \u001b[0;32m13\u001b[0m\n\u001b[0;31m    print('A wind speed of', windSpeedKm, 'km/hr is', windSpeedMs, 'm/s.)\u001b[0m\n\u001b[0m                                                                         ^\u001b[0m\n\u001b[0;31mSyntaxError\u001b[0m\u001b[0;31m:\u001b[0m EOL while scanning string literal\n"
     ]
    }
   ],
   "source": [
    "\"\"\"Converts wind speeds from km/hr to m/s.\n",
    "\n",
    "Usage:\n",
    "    ./wind_speed.py\n",
    "\n",
    "Author:\n",
    "    David Whipp - 10.10.2017\n",
    "\"\"\"\n",
    "\n",
    "windSpeedKm = 50\n",
    "windSpeedMs = windSpeedKm * 1000 / 3600\n",
    "\n",
    "print('A wind speed of', windSpeedKm, 'km/hr is', windSpeedMs, 'm/s.)"
   ]
  },
  {
   "cell_type": "markdown",
   "metadata": {},
   "source": [
    "Let’s break this example down and see what the error message says.\n",
    "\n",
    "<img src=\"./img/M55_SyntaxError.png\" width=\"800\" />\n",
    "\n",
    "Figure 1: *A SyntaxError, annotated*\n",
    "\n",
    "As you can see, there is quite a bit of useful information here. We have the name of the script, its location, and which line was a problem. It’s always good to double check that you actually are editing the correct script when looking for errors! We also have the type of error, a `SyntaxError` in this case, as well as where it occurred on the line, and a bit more information about its meaning. The location on the line won’t always be correct, but Python makes its best guess for where you should look to solve the problem. Clearly, this is handy information.\n",
    "\n",
    "Now, given that extra information on the error, do you have a better idea what is wrong in the code above? Yes, a quotation mark is missing after `'m/s` !\n",
    "\n",
    "Let’s consider another example, where you have fixed the `SyntaxError` above and now have made a function for calculating a wind speeds in m/s. When you run this script you encounter a new and bigger error message (run the cell below to see the error message):"
   ]
  },
  {
   "cell_type": "code",
   "execution_count": 4,
   "metadata": {},
   "outputs": [
    {
     "ename": "TypeError",
     "evalue": "unsupported operand type(s) for /: 'str' and 'int'",
     "output_type": "error",
     "traceback": [
      "\u001b[0;31m---------------------------------------------------------------------------\u001b[0m",
      "\u001b[0;31mTypeError\u001b[0m                                 Traceback (most recent call last)",
      "\u001b[0;32m<ipython-input-4-4b68e8e0f4a3>\u001b[0m in \u001b[0;36m<module>\u001b[0;34m\u001b[0m\n\u001b[1;32m     12\u001b[0m \u001b[0;34m\u001b[0m\u001b[0m\n\u001b[1;32m     13\u001b[0m \u001b[0mwindSpeedKm\u001b[0m \u001b[0;34m=\u001b[0m \u001b[0;34m'30'\u001b[0m\u001b[0;34m\u001b[0m\u001b[0;34m\u001b[0m\u001b[0m\n\u001b[0;32m---> 14\u001b[0;31m \u001b[0mwindSpeedMs\u001b[0m \u001b[0;34m=\u001b[0m \u001b[0mconvertWindSpeed\u001b[0m\u001b[0;34m(\u001b[0m\u001b[0mwindSpeedKm\u001b[0m\u001b[0;34m)\u001b[0m\u001b[0;34m\u001b[0m\u001b[0;34m\u001b[0m\u001b[0m\n\u001b[0m\u001b[1;32m     15\u001b[0m \u001b[0;34m\u001b[0m\u001b[0m\n\u001b[1;32m     16\u001b[0m \u001b[0mprint\u001b[0m\u001b[0;34m(\u001b[0m\u001b[0;34m'A wind speed of'\u001b[0m\u001b[0;34m,\u001b[0m \u001b[0mwindSpeedKm\u001b[0m\u001b[0;34m,\u001b[0m \u001b[0;34m'km/hr is'\u001b[0m\u001b[0;34m,\u001b[0m \u001b[0mwindSpeedMs\u001b[0m\u001b[0;34m,\u001b[0m \u001b[0;34m'm/s.'\u001b[0m\u001b[0;34m)\u001b[0m\u001b[0;34m\u001b[0m\u001b[0;34m\u001b[0m\u001b[0m\n",
      "\u001b[0;32m<ipython-input-4-4b68e8e0f4a3>\u001b[0m in \u001b[0;36mconvertWindSpeed\u001b[0;34m(speed)\u001b[0m\n\u001b[1;32m      9\u001b[0m \u001b[0;34m\u001b[0m\u001b[0m\n\u001b[1;32m     10\u001b[0m \u001b[0;32mdef\u001b[0m \u001b[0mconvertWindSpeed\u001b[0m\u001b[0;34m(\u001b[0m\u001b[0mspeed\u001b[0m\u001b[0;34m)\u001b[0m\u001b[0;34m:\u001b[0m\u001b[0;34m\u001b[0m\u001b[0;34m\u001b[0m\u001b[0m\n\u001b[0;32m---> 11\u001b[0;31m     \u001b[0;32mreturn\u001b[0m \u001b[0mspeed\u001b[0m \u001b[0;34m*\u001b[0m \u001b[0;36m1000\u001b[0m \u001b[0;34m/\u001b[0m \u001b[0;36m3600\u001b[0m\u001b[0;34m\u001b[0m\u001b[0;34m\u001b[0m\u001b[0m\n\u001b[0m\u001b[1;32m     12\u001b[0m \u001b[0;34m\u001b[0m\u001b[0m\n\u001b[1;32m     13\u001b[0m \u001b[0mwindSpeedKm\u001b[0m \u001b[0;34m=\u001b[0m \u001b[0;34m'30'\u001b[0m\u001b[0;34m\u001b[0m\u001b[0;34m\u001b[0m\u001b[0m\n",
      "\u001b[0;31mTypeError\u001b[0m: unsupported operand type(s) for /: 'str' and 'int'"
     ]
    }
   ],
   "source": [
    "\"\"\"Converts wind speeds from km/hr to m/s.\n",
    "\n",
    "Usage:\n",
    "    ./wind_speed.py\n",
    "\n",
    "Author:\n",
    "    David Whipp - 10.10.2017\n",
    "\"\"\"\n",
    "\n",
    "def convertWindSpeed(speed):\n",
    "    return speed * 1000 / 3600\n",
    "\n",
    "windSpeedKm = '30'\n",
    "windSpeedMs = convertWindSpeed(windSpeedKm)\n",
    "\n",
    "print('A wind speed of', windSpeedKm, 'km/hr is', windSpeedMs, 'm/s.')"
   ]
  },
  {
   "cell_type": "markdown",
   "metadata": {},
   "source": [
    "In this case we see a `TypeError` that is part of a traceback, where the problem in the code arises from something other than on the line where the code was run. In this case, we have a `TypeError` on line 11 where we try to divide a character string by a number, something Python cannot do. Hence, the `TypeError` indicating the data types are not compatible. That error, however, does not occur when the code is run until line 14 where the function is used. Thus, we see the traceback showing that not only does the error occur when the function is used on line 14, but also that the problem is in the function definition on line 11.\n",
    "\n",
    "The traceback above may look a bit scarier, but if you take your time and read through what is written there, you will again find that the information is helpful in finding the problem in your code. After all, the purpose of the error message is to help the user find a problem :)."
   ]
  },
  {
   "cell_type": "markdown",
   "metadata": {},
   "source": [
    "## Assertions\n",
    "\n",
    "*Assertions* are a way to assert, or ensure, that the values being used in your scripts are going to be suitable for what the code does. For instance, if you have the script above for converting wind speeds, you might want to ensure that the values for the wind speed in km/hr are not negative numbers. That could be done using assert statements, for example as it was added to the following script.\n",
    "\n",
    "If you run the script below with `windSpeedKm` set to be a negative number, then you get the following output (run the cell below to get the error message):"
   ]
  },
  {
   "cell_type": "code",
   "execution_count": 6,
   "metadata": {},
   "outputs": [
    {
     "ename": "AssertionError",
     "evalue": "Wind speed values must be positive or zero",
     "output_type": "error",
     "traceback": [
      "\u001b[0;31m---------------------------------------------------------------------------\u001b[0m",
      "\u001b[0;31mAssertionError\u001b[0m                            Traceback (most recent call last)",
      "\u001b[0;32m<ipython-input-6-2339b741a966>\u001b[0m in \u001b[0;36m<module>\u001b[0;34m\u001b[0m\n\u001b[1;32m     12\u001b[0m \u001b[0;34m\u001b[0m\u001b[0m\n\u001b[1;32m     13\u001b[0m \u001b[0mwindSpeedKm\u001b[0m \u001b[0;34m=\u001b[0m \u001b[0;34m-\u001b[0m\u001b[0;36m30\u001b[0m\u001b[0;34m\u001b[0m\u001b[0;34m\u001b[0m\u001b[0m\n\u001b[0;32m---> 14\u001b[0;31m \u001b[0;32massert\u001b[0m \u001b[0mwindSpeedKm\u001b[0m \u001b[0;34m>=\u001b[0m \u001b[0;36m0.0\u001b[0m\u001b[0;34m,\u001b[0m \u001b[0;34m'Wind speed values must be positive or zero'\u001b[0m\u001b[0;34m\u001b[0m\u001b[0;34m\u001b[0m\u001b[0m\n\u001b[0m\u001b[1;32m     15\u001b[0m \u001b[0mwindSpeedMs\u001b[0m \u001b[0;34m=\u001b[0m \u001b[0mconvertWindSpeed\u001b[0m\u001b[0;34m(\u001b[0m\u001b[0mwindSpeedKm\u001b[0m\u001b[0;34m)\u001b[0m\u001b[0;34m\u001b[0m\u001b[0;34m\u001b[0m\u001b[0m\n\u001b[1;32m     16\u001b[0m \u001b[0;34m\u001b[0m\u001b[0m\n",
      "\u001b[0;31mAssertionError\u001b[0m: Wind speed values must be positive or zero"
     ]
    }
   ],
   "source": [
    "\"\"\"Converts wind speeds from km/hr to m/s.\n",
    "\n",
    "Usage:\n",
    "    ./wind_speed.py\n",
    "\n",
    "Author:\n",
    "    David Whipp - 10.10.2017\n",
    "\"\"\"\n",
    "\n",
    "def convertWindSpeed(speed):\n",
    "    return speed * 1000 / 3600\n",
    "\n",
    "windSpeedKm = -30\n",
    "assert windSpeedKm >= 0.0, 'Wind speed values must be positive or zero'\n",
    "windSpeedMs = convertWindSpeed(windSpeedKm)\n",
    "\n",
    "print('A wind speed of', windSpeedKm, 'km/hr is', windSpeedMs, 'm/s.')"
   ]
  },
  {
   "cell_type": "markdown",
   "metadata": {},
   "source": [
    "This `AssertionError` is produced because of the `assert` statement we entered in the code above. If the condition listed after `assert` is `False`, the error message that follows will be printed to the screen. More generally, assertions take on the following form:\n",
    "\n",
    "```python\n",
    "assert <some Boolean test>, 'Error message to display'\n",
    "```"
   ]
  },
  {
   "cell_type": "markdown",
   "metadata": {},
   "source": [
    "So we start with the `assert` statement, then give a logical test for some condition. If the test is true, nothing happens and the code continues. If not, the code stops, and an `AssertionError` is displayed with the text written after the comma in the `assert` line.\n",
    "\n",
    "You might also think that it would be useful to check the type of `windSpeedKm` to make sure that you don’t get a `TypeError` as occurred in the previous section. It turns out that this is not really a good idea, and the philosophical idea is that the `TypeError` will show that you have incompatible data types, so why raise an `AssertionError` to do the same thing?"
   ]
  },
  {
   "cell_type": "markdown",
   "metadata": {},
   "source": [
    "## More information on dealing with errors\n",
    "\n",
    "You can find a bit more information about reading error messages on the [Software Carpentry page \"Errors and Exceptions\"](http://swcarpentry.github.io/python-novice-inflammation/07-errors/) and [Python webpages \"Errors and Exceptions\"](https://docs.python.org/3/tutorial/errors.html). More information about assertions can also be found on the [Software Carpentry page \"Defensive Programming\"](http://swcarpentry.github.io/python-novice-inflammation/08-defensive/)."
   ]
  },
  {
   "cell_type": "markdown",
   "metadata": {},
   "source": [
    "---\n",
    "# B. Debugging Python scripts\n",
    "\n",
    "Debugging your scripts can be time consuming, and probably already uses most of the time you devote to working on them. There is no way to avoid spending time fixing bugs, especially when you’re learning to program and simply may not yet know how to solve a given programming problem. That said, there are ways to be more effective when debugging, which can save you time and frustration. Below, we review some tips for debugging.\n",
    "\n",
    "## Test your code with known outputs\n",
    "\n",
    "One of the biggest challenges to debugging your code once you solve the syntax issues is knowing whether or not the code actually works like it should. In order to be able to assess this, we need to know the “answer” the code should produce. In many cases this means some form of calculating a known value using simplified data or test cases.\n",
    "\n",
    "### Testing with a simplified data file\n",
    "\n",
    "Let’s consider an example of calculating the maximum difference in daily temperatures in Helsinki using observations for the past 50 years. First off, we don’t know the answer in advance so we cannot simply work on the code until it gives the expected temperature difference. Secondly, we can expect that we should have more than 18,000 observations in our data file for the past 50 years, so it will be hard to confirm that we get the right answer, simply because of the size of the dataset. One thing that can be helpful here is to test your program using some small subset of the data. For instance, we could take the top 5 lines of data from the file, which might look like the following:\n",
    "\n",
    "```python\n",
    "STATION           LATITUDE   LONGITUDE  DATE     TMAX     TMIN     \n",
    "----------------- ---------- ---------- -------- -------- -------- \n",
    "GHCND:FIE00142080    60.3269    24.9603 19520101 39       34       \n",
    "GHCND:FIE00142080    60.3269    24.9603 19520102 37       34       \n",
    "GHCND:FIE00142080    60.3269    24.9603 19520103 36       -9999    \n",
    "GHCND:FIE00142080    60.3269    24.9603 19520104 30       25       \n",
    "GHCND:FIE00142080    60.3269    24.9603 19520105 30       25       \n",
    "```"
   ]
  },
  {
   "cell_type": "markdown",
   "metadata": {},
   "source": [
    "From this, we know two things:\n",
    "\n",
    "* We should expect the code to be able to handle no data values equal to -9999, and to not include days with no data values when calculating the maximum temperature difference (`TMAX` - `TMIN`).\n",
    "* The maximum temperature difference if we test our code with this data file should be 5°.\n",
    "\n",
    "In this case, we now know that if we can get our code to return the correct answer with the small test file, perhaps the same can be done for the full dataset. In other cases, we may actually know the expected answer, in which case debugging should be a bit easier."
   ]
  },
  {
   "cell_type": "markdown",
   "metadata": {},
   "source": [
    "## Make your code crash quickly and regularly\n",
    "\n",
    "This may sound silly, but it is a good thing when your code crashes the same way every time you run it. If you have different behaviors when you run your code several times without making changes to the code, it will be much more difficult to isolate the problem. What we ideally want in a code is to see behavior that is **consistent**.\n",
    "\n",
    "In addition, if you expect to debug your program efficiently, you can’t afford to wait 30 minutes every time you run it in order for it to crash. If your code crashes when processing a massive data file, you can consider testing with some smaller part of the file. Does the code still crash? If not, why not? Are there some parts of the code that seem to run just fine every time? If you can reduce the time needed for a crash, and isolate where in the code the problem lies (perhaps in memory if you’re dealing with really large datasets), you will save yourself time debugging.\n",
    "\n",
    "## Make small changes and track them\n",
    "\n",
    "Ideally, you save your scripts regularily and keep the older script-file versions, e.g. in a dated backup file. This is for two reasons. \n",
    "\n",
    "* First, by keeping track of the changes, you will have a better chance of isolating a problem if you find that suddenly your code doesn’t work. You can simply go back to a version of the code that worked and look at what has changed in the version that doesn’t work. \n",
    "\n",
    "* Secondly, if you make small changes to the code it is easier to see exactly what changed and where. When it comes to debugging, this is one of the keys to finding problems quickly.\n",
    "\n",
    "It is worth noting that often we don’t keep track and backup every single small change to our codes, but rather save the code when things are working as we expected. This means that when you debug, you might not keep track of every little change you make. This is fine, but it is important when you are debugging that you make small changes in one part of the code, then re-test. You should change one thing at a time, test the code, and make more changes if needed. Changing several things at once might be appealing, but it will make it harder to see exactly what is causing the problem because you can’t isolate the issue to a single line of the program.\n",
    "\n",
    "We haven't used in the course for tracking our code changes, but a perfect open-source service for software version control that is used by many big programming projects is **GitHub**. If you would like to know more about, read the following two articles providing an [explanation of GitHub](https://techcrunch.com/2012/07/14/what-exactly-is-github-anyway/) and an overview of the [capabilities of GitHub](https://www.howtogeek.com/180167/htg-explains-what-is-github-and-what-do-geeks-use-it-for/)."
   ]
  }
 ],
 "metadata": {
  "kernelspec": {
   "display_name": "Python 3",
   "language": "python",
   "name": "python3"
  },
  "language_info": {
   "codemirror_mode": {
    "name": "ipython",
    "version": 3
   },
   "file_extension": ".py",
   "mimetype": "text/x-python",
   "name": "python",
   "nbconvert_exporter": "python",
   "pygments_lexer": "ipython3",
   "version": "3.7.4"
  }
 },
 "nbformat": 4,
 "nbformat_minor": 2
}
