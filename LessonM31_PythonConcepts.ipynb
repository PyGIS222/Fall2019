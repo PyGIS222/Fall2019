{
 "cells": [
  {
   "cell_type": "markdown",
   "metadata": {},
   "source": [
    "[![Google Colab](https://colab.research.google.com/assets/colab-badge.svg)](https://colab.research.google.com/github/PyGIS222/Fall2019/blob/master/LessonM31_PythonConcepts.ipynb)\n",
    "\n",
    "[![Binder](https://mybinder.org/badge_logo.svg)](https://mybinder.org/v2/gh/PyGIS222/Fall2019/master?filepath=LessonM31_PythonConcepts.ipynb)"
   ]
  },
  {
   "cell_type": "markdown",
   "metadata": {
    "colab_type": "text",
    "id": "hMdD2uRMnyuP"
   },
   "source": [
    "### Notebook Lesson 3.1\n",
    "\n",
    "# Python Concepts\n",
    "\n",
    "This Jupyter Notebook is part of Module 3 of the course GIS222 (Fall2019).\n",
    "\n",
    "After getting some first practice in using Python at the end of the previous module, this lesson discusses major concepts of the programming languages for variable, which obtain a more general term: **objects**. Carefully study the content of this Notebook and use the chance to reflect the material through the interactive examples.\n",
    "\n",
    "<div class=\"alert alert-info\">\n",
    "\n",
    "**Note**\n",
    "\n",
    "There are Python cells in this notebook that *already* contain code. You just need to press **Shift**-**Enter** to run those cells. We're trying to avoid having you race to keep up typing in basic things for the lesson so you can focus on the main points :D. However, take the chance to experiment with the code cells to deepen your understanding of the topics.\n",
    "\n",
    "</div>\n",
    "\n",
    "### Sources\n",
    "Parts of this lesson on major Python concepts are informed by the book [\"Learning Python\"](https://learning-python.com/about-lp5e.html) (Lutz, 2013).\n",
    "\n",
    "---"
   ]
  },
  {
   "cell_type": "markdown",
   "metadata": {
    "colab_type": "text",
    "id": "TOD6lVQ7NDMm"
   },
   "source": [
    "## Brief Review: Pillars of Algorithms\n",
    "\n",
    "Python tools include those that reflec the traditional pillars of programming: \n",
    "\n",
    "Table 1: *Pillars of Algorithms*\n",
    "\n",
    "| Number      | Pillar      \n",
    "| :--------:  | :----------- |\n",
    "| 1           | Assignment   \n",
    "| 2           | Sequence    \n",
    "| 3           | Selection   \n",
    "| 4           | Repetition  \n",
    "\n",
    "To perform assignments in Python, you should learn all about the type of data containers that are available to hold information in Python and that can be assigned with data values. These data containers are called objects and play a central role in Python programming. They are most fundamental components in Python programming. **In Python we do things with stuff: we focus on objects and what we can do with them.**\n",
    "\n",
    "Indeed, in Python objects are actually more than just variable types and they intersect with all four pillars of the algorithms. Python is an object-oriented programming language, after all. It will become more clear along the way, once you progressed further in this course, that also squences, selections and repetitions can be part of Python objects. In Python terms, a programs consist of four major components that built a hierarchy:\n",
    "\n",
    "1. Programs are composed of **modules** (top of the hierarchy)\n",
    "2. Modules contain **statements**\n",
    "3. Statements contain **expressions**\n",
    "4. Expressions create and process **objects**  (bottom of the hierarchy)\n",
    "\n",
    "At the bottom of the hierarchy stand Python *objects*, which are data elements (e.g. variables, ...). An *expression* is a combination of one or more objects that the programming language interprets and computes to produce another object. They are embedded in statements. *Statements* code the larger logic of a program (e.g. iteration, assignment, selections, ...). And *modules* are organization units at the highest-level. They package code for reuse.\n",
    "\n",
    "To connect this herarchy to the pillars of algorithms, one can simplify this to:\n",
    "* Objects are holding data (i.e. they are variables).\n",
    "* Expressions perform operations on and between objects\n",
    "* Statements realize pillars of algorithms: assignment, sequences, selections and repetitions\n",
    "* Modules package entire algorithms (hence, various combinations of the four pillars of algorithms). \n",
    "\n",
    "This course module 3 focusses on objects and espressions available in Python, which is a prerequeisite for coding any kind of algorithm elements. We won't get completely around the other algorithmic concepts in this module. As you can see in the list above, Python realizes the pillars of algorithms through statements and even an assignment is technically a statement. However, to define and operate on Python objects, we will perform plenty of assignments. In addition, several assignments and object operations combined build also a sequence. We will also discuss built-in functions that come with each Python object. However, in this course module 3, our focus will stay completely on the objects and the operations (expressions) that we can perform with them. \n",
    "\n",
    "Regarding modules, you have already used the *math* module, in the previous exercise. Such a module is an external package, which contains a vast amount of structured code defining objects, performing expressions and statements. A module basically provides pre-programmed algorithms that are available to be integrated into any program. We will discuss higher hierarchy elements and the other pillars of algorithms in Python in course module 4. \n",
    "\n",
    "<div class=\"alert alert-success\">\n",
    "\n",
    "**Note**\n",
    "\n",
    "The discrimination and overlap between objects, expressions and statements might sound a bit abstract and it will take time until this can be fully understood. However, it is part of the logic of the Python programming language. These abstract concepts are discussed to make it possible for you to understand in detail how Python works and to write a Python code that uniquely defines and executes the purpose of your program.\n",
    "\n",
    "</div>"
   ]
  },
  {
   "cell_type": "markdown",
   "metadata": {},
   "source": [
    "## Python Conceptual Hierarchy\n",
    "\n",
    "\n"
   ]
  },
  {
   "cell_type": "markdown",
   "metadata": {},
   "source": [
    "## Core Object Types\n",
    "\n",
    "In Python, data takes the form of objects. These are either built-in objectes that python provides, ore objects we create using Python classes. Objectes are essentially just pieces of memory, with values and sets of associtated operations. Actually everything is an object in a Python script. Even simple numbers qualify, they have values (e.g, 12) and supported operations (addition, multiplication, ...) (Lutz, 2013).\n",
    "\n",
    "Because objects are so important in Python, we will focus the rest of this course module on built-in object types. A complete list of core object types available is listed below.\n",
    "\n",
    "Table 2: *Python Object Type Examples*\n",
    "\n",
    "|Object Type | Examples |\n",
    "|-:|:-|\n",
    "Numbers      | 54, 6.12, Decimal, Fraction\n",
    "Boolean      | *True*, *False*\n",
    "Strings      | 'hello', \"this example\"\n",
    "Lists        | [2, 3, [4, 'five'], 6]\n",
    "Dictionaries | {'firstname': 'Tom', 'lastname': 'Miller'}\n",
    "Tuples       | (5, 'mouse', 'tree', 'A', 67)\n",
    "Files        | myfile = open('names', 'r')\n",
    "Sets               | set('abc'), {'a', 'b', 'c'}\n",
    "Other core types   | types, *None*\n",
    "Program unit types | Functions, Modules, Classes\n",
    "\n",
    "In the previous exercise, you have already been introduced to the most basic object types: Integer Numbers, Floating point Numbers, Strings, and true/false values (boolean). In the last row of the table above, you can see that even external tools, modules, are objects in Python. Given the introduction above, this may sound confusing or even contradictory at this point. But remember Python is object-oriented and this apparent contradiction will resolve along the way. \n",
    "\n",
    "Python attributes each of these object types very specific characteristics, abilities, and in some cases, built-in functions. In the upcoming course module 3, we will cover the details of the first eight of these object types. The types in the last row (program unit types) will be discussed in course modules 4 and 5.\n",
    "\n",
    "But before we discuss specific object types, let's discuss some general concepts of Python objects."
   ]
  },
  {
   "cell_type": "markdown",
   "metadata": {},
   "source": [
    "## Concepts of Python Objects\n",
    "\n",
    "Python implements three major concepts for it's objects:\n",
    "- Dynamically typed\n",
    "- Strongly typed\n",
    "- Mutable vs. Immutable\n",
    "\n",
    "The concepts are described in the following Sections."
   ]
  },
  {
   "cell_type": "markdown",
   "metadata": {},
   "source": [
    "### Dynamicaly Typed\n",
    "\n",
    "   *(content of this cell sources from VanderPlas, 2016)*\n",
    "\n",
    "While a statically-typed language like C or Java requires each variable to be explicitly declared, a dynamically-typed language like Python skips this specification. For example, in C you might specify a particular operation as follows:\n",
    "\n",
    "```C\n",
    "/* C code */\n",
    "int result = 0;\n",
    "for(int i=0; i<100; i++){\n",
    "    result += i;\n",
    "}\n",
    "```\n",
    "\n",
    "While in Python the equivalent operation could be written this way:\n",
    "\n",
    "```python\n",
    "# Python code\n",
    "result = 0\n",
    "for i in range(100):\n",
    "    result += i\n",
    "```\n",
    "Notice the main difference: in C, the data types of each variable are explicitly declared, while in Python the types are dynamically inferred. This means, for example, that we can assign any kind of data to any variable:\n",
    "\n",
    "```python\n",
    "# Python code\n",
    "a = 4\n",
    "a = \"four\"\n",
    "```\n",
    "Here we've switched the contents of ``x`` from an integer to a string. The same thing in C would lead (depending on compiler settings) to a compilation error or other unintented consequences:\n",
    "\n",
    "```C\n",
    "/* C code */\n",
    "int x = 4;\n",
    "x = \"four\";  // FAILS\n",
    "```\n",
    "\n",
    "This sort of flexibility is one piece that makes Python and other dynamically-typed languages convenient and easy to use.\n",
    "Understanding *how* this works is an important piece of learning to analyze data efficiently and effectively with Python.\n",
    "But what this type-flexibility also points to is the fact that Python variables are more than just their value; they also contain extra information about the type of the value. "
   ]
  },
  {
   "cell_type": "markdown",
   "metadata": {},
   "source": [
    "#### Python automatically figures out the type of a variable \n",
    "\n",
    "... when you first assign it a value. There is no need to declare the type of the variable, as in other programming languages. \n",
    "\n",
    "The process of filling an object with data is called **assignment**. In the following example, we assign the object 'a' with the number '3'. Using the function type() we can check which object type 'a' was assigned with."
   ]
  },
  {
   "cell_type": "code",
   "execution_count": 1,
   "metadata": {},
   "outputs": [
    {
     "data": {
      "text/plain": [
       "int"
      ]
     },
     "execution_count": 1,
     "metadata": {},
     "output_type": "execute_result"
    }
   ],
   "source": [
    "a = 3      # Try to experiment with different content (integer, floating numbers, strings).\n",
    "           #     and use the function type() to how the object type changes.\n",
    "type(a)"
   ]
  },
  {
   "cell_type": "markdown",
   "metadata": {},
   "source": [
    "During an assignment, the Python interpreter is performing three steps: \n",
    "\n",
    "- **creating an object  >  creating a variable (name)  >  linking them**\n",
    "\n",
    "The important point is that Python makes a distinction between objects and variable names, such that:\n",
    "\n",
    "1. Variable **Names** are entries in a system table, with spaces for links to objects;\n",
    "2. **Objects** are pieces of allocated memory, with enough space to represent the values for which they stand; and\n",
    "3. **References** are automatically followed pointers from variables to objects.\n",
    "\n",
    "This concept is further illustrated by the following Figure."
   ]
  },
  {
   "cell_type": "markdown",
   "metadata": {},
   "source": [
    "<img src=\"M31_Image_VariableAssignment.png\" alt=\"Assignment consists of three steps: creating an object, creating a variable and linking them.\" title=\"Based on Lutz (2013, Figure 6-1)\" width=\"400\" />\n",
    "\n",
    "Figure 1: *Names and objects after running the assignment a=3. Variable a becomes a reference to the object 3. Internally the variable is really a pointer to the object’s memory space created by running the literal expression 3. (Based on Lutz, 2013, Figure 6-1).*"
   ]
  },
  {
   "cell_type": "markdown",
   "metadata": {},
   "source": [
    "Now what does is mean in programming practice that types are associated with objects, not with variable names? This will become more clear from the following example:"
   ]
  },
  {
   "cell_type": "code",
   "execution_count": 2,
   "metadata": {},
   "outputs": [],
   "source": [
    "# What is the output of ... \n",
    "a = 3      # a points to object 3\n",
    "b = a      # b points now to same object\n",
    "a = 'hey'  # a points to object \"hey\""
   ]
  },
  {
   "cell_type": "markdown",
   "metadata": {},
   "source": [
    "After executing the code in the code cell above, what happend to the content of b? Enter 'print(b)' in the cell below to find out!"
   ]
  },
  {
   "cell_type": "code",
   "execution_count": 3,
   "metadata": {},
   "outputs": [],
   "source": [
    "           # enter 'print(b)'' in this cell to find out!"
   ]
  },
  {
   "cell_type": "markdown",
   "metadata": {},
   "source": [
    "Take a moment to reflect, why you get this result. Experiment with different examples. Think about the difference between references and copies."
   ]
  },
  {
   "cell_type": "markdown",
   "metadata": {},
   "source": [
    "### Strongly Typed\n",
    "\n",
    "Python is strongly typed, not weakly typed. That means that the type of a given object does not change. (You can however change a variable name's reference to a different object of different type, as we have done in the previous example). \n",
    "\n",
    "Consequently, for a given object, you can only perform operations that are valid for this object’s type. In addition, Python provides certain built-in *functions* that may be only available for a certain object type. In the previous lesson you have already used two *built-in functions*: type(), print(). These work on almost any object type. However, other built-in functions available in Python work only for specific types, e.g. for numbers or for strings. These will be mentioned in respective upcoming notebook chapters."
   ]
  },
  {
   "cell_type": "markdown",
   "metadata": {},
   "source": [
    "### Mutable vs. Immutable\n",
    "\n",
    "Some Python objects can mutate. This means that their content can change. **Mutability** describes the possibility of in-place modification of an object by an operation on that object. Operations that cause a mutation may not have any output, but they do change (\"mutate\") the input object. \n",
    "\n",
    "Objects that can be changed in-place are mutable. Objects that do not have this characteristic are called immutable. We can classify:\n",
    "\n",
    "Table 3: *Mutability of Object Types*\n",
    "\n",
    "| Object Type          |  Mutable? |    \n",
    "| - | :- |\n",
    "| Numbers              | No        |   \n",
    "| Boolean              | No        |   \n",
    "| Strings              | No        |   \n",
    "| Lists                | Yes       |   \n",
    "| Dictionaries         | Yes       |   \n",
    "| Tuples               | No        |   \n",
    "| Files                | N/A       |   \n",
    "| Sets                 | Yes       |   \n",
    "| ```frozenset```      | No        |  \n",
    "\n",
    "We will learn details of these object types in the upcoming notebooks. Here a simple example for how a list may be mutated:"
   ]
  },
  {
   "cell_type": "code",
   "execution_count": 1,
   "metadata": {},
   "outputs": [
    {
     "name": "stdout",
     "output_type": "stream",
     "text": [
      "[753, 'spam', 75.3]\n",
      "[753, 'spam', 75.3, 'NI']\n"
     ]
    }
   ],
   "source": [
    "# Example: add object at end of a list:\n",
    "L = [753, 'spam', 75.3]   # create list L\n",
    "print(L)                  # prints the original list to screen, first\n",
    "L.append('NI')            # adds string 'NI' to the list\n",
    "print(L)                  # prints the mutated list to screen"
   ]
  },
  {
   "cell_type": "markdown",
   "metadata": {},
   "source": [
    "## Attributes and Methods in Python\n",
    "\n",
    "In Python, many objects and of those most external tools (modules) have built-in attributes and methods. These terms are deriving from the concept of object oriented programming, which is a central in Python. \n",
    "\n",
    "* *Attributes* are (variable) names that are attached to (class) objects.\n",
    "* A *Method* is a function that takes a class instance as its first parameter, methods are members of classes.\n",
    "\n",
    "We will discuss OOP concepts in the course module 5 and the terms will make much more sense by then. However, the terms may appear already before that, because some Python object types come along with built-in attributes and methods. So, for now, let's try to explain attributes and methods like this:\n",
    "\n",
    "* *Attributes* are built-in metadata of objects, that are available in the background and that can be requested from the interpreter, if they exist.\n",
    "* *Methods* are a set of type associated operations. They are basically built-in functions that come together with and are designed for an object type. These funcitons derivate new information from the object. \n",
    "\n",
    "An example for a string method is ```upper()```, which transforms a letter combination or a word into upper case:"
   ]
  },
  {
   "cell_type": "code",
   "execution_count": 5,
   "metadata": {},
   "outputs": [
    {
     "data": {
      "text/plain": [
       "'LIST'"
      ]
     },
     "execution_count": 5,
     "metadata": {},
     "output_type": "execute_result"
    }
   ],
   "source": [
    "a='list'\n",
    "a.upper()"
   ]
  },
  {
   "cell_type": "markdown",
   "metadata": {},
   "source": [
    "You will get to know more object type specific methods in the upcoming notebooks. By the way, some methods can perform in-place changes, hence, mutate an object, if it is mutable. However, this is not the case for strings (see Table 3).\n",
    "\n",
    "Revise the content of this lesson, before moving on."
   ]
  },
  {
   "cell_type": "code",
   "execution_count": null,
   "metadata": {},
   "outputs": [],
   "source": []
  }
 ],
 "metadata": {
  "kernelspec": {
   "display_name": "Python 3",
   "language": "python",
   "name": "python3"
  },
  "language_info": {
   "codemirror_mode": {
    "name": "ipython",
    "version": 3
   },
   "file_extension": ".py",
   "mimetype": "text/x-python",
   "name": "python",
   "nbconvert_exporter": "python",
   "pygments_lexer": "ipython3",
   "version": "3.7.4"
  }
 },
 "nbformat": 4,
 "nbformat_minor": 1
}
