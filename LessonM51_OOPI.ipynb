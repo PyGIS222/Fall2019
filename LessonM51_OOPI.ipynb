{
 "cells": [
  {
   "cell_type": "markdown",
   "metadata": {},
   "source": [
    "[![Google Colab](https://colab.research.google.com/assets/colab-badge.svg)](https://colab.research.google.com/github/PyGIS222/Fall2019/blob/master/LessonM51_OOPI.ipynb)\n",
    "\n",
    "[![Binder](https://mybinder.org/badge_logo.svg)](https://mybinder.org/v2/gh/PyGIS222/Fall2019/master?filepath=LessonM51_OOPI.ipynb)"
   ]
  },
  {
   "cell_type": "markdown",
   "metadata": {},
   "source": [
    "## Notebook Lesson 5.1\n",
    "\n",
    "# Object-Oriented Programming - Basics (I)\n",
    "\n",
    "<img src=\"./img/M51_shark.png\" width=\"500\" />\n",
    "\n",
    "This Jupyter Notebook is part of Module 5 of the course GIS222 (Fall2019). This lesson discusses object-oriented programming in Python. It also   explains the syntax of creating and using simple **classes**. \n",
    "\n",
    "### Sources\n",
    "\n",
    "This notebook implements parts of the lessons [Object-Oriented Programming in Python 3](https://www.digitalocean.com/community/tutorial_series/object-oriented-programming-in-python-3) of the [Digital Ocean Community](https://www.digitalocean.com/community), which is licensed under a Creative Commons Attribution-NonCommercial-ShareAlike 4.0 International License.\n",
    "\n",
    "---\n"
   ]
  },
  {
   "cell_type": "markdown",
   "metadata": {},
   "source": [
    "# A. How to Construct Classes and Define Objects\n",
    "\n",
    "\n",
    "\n",
    "## Introduction"
   ]
  },
  {
   "cell_type": "markdown",
   "metadata": {},
   "source": [
    "Python is an *object-oriented programming language*. Object-oriented programming (OOP) focuses on creating reusable patterns of code, in contrast to *procedural and structureal programming*, which focuses on explicit sequenced instructions. When working on complex programs in particular, object-oriented programming lets you reuse code and write code that is more readable, which in turn makes it more maintainable.\n",
    "\n",
    "One of the most important concepts in object-oriented programming is the distinction between classes and objects, which are defined as follows:\n",
    "\n",
    "* **Class** — A blueprint created by a programmer for an object. This defines a set of attributes and methods that will characterize any object that is instantiated from this class.\n",
    "* **Object** — An instance of a class. This is the realized version of the class, where the class is manifested in the program.\n",
    "\n",
    "These are used to create patterns (in the case of classes) and then make use of the patterns (in the case of objects). \n",
    "\n",
    "In this notebook you will learn about the basics of coding classes and define objects in Python. We’ll go through creating classes, instantiating objects, initializing attributes with the constructor method, and working with more than one object of the same class. "
   ]
  },
  {
   "cell_type": "markdown",
   "metadata": {},
   "source": [
    "## How To Construct Classes\n",
    "\n",
    "Classes are like a blueprint or a prototype that you can define to use to **create your own object types**. For example, the NumPy array is such a new object type, which was defined by the NumPy creators.\n",
    "\n",
    "Remember the statement overview table from course module 4 ([LessonM41_ExpressionsStatements.ipynb](../assignments_M4a/LessonM41_ExpressionsStatements.ipynb))? It contained just one but a very powerful Python statement related to **classes** in Python.\n",
    "\n",
    "Table 1: *Python class statement*\n",
    "\n",
    "| Statement | Role | Example |\n",
    "| :-        | :- | :- |\n",
    "| class     | Building objects | ```class Subclass(Superclass):```<br>&nbsp;&nbsp;&nbsp;&nbsp;&nbsp;```staticData = [ ]```<br>&nbsp;&nbsp;&nbsp;&nbsp;&nbsp;```def method(self): pass``` |\n",
    "\n",
    "The example in the table might look a bit complex and foreign to you at the moment. For now, let's imagine this with the following simplified structure: \n",
    "\n",
    "<img src=\"./img/M51_ClassesPython.png\" width=\"300\" />\n",
    "\n",
    "Figure 1: *A simplified class structure in Python*\n",
    "\n",
    "We define classes by using the **class** keyword, similar to how we define functions by using the def keyword. The class then receives a set of attributes and methods, which are attached to it and build it's structure. \n",
    "\n",
    "<img src=\"./img/M51_shark.png\" width=\"300\" />\n",
    "\n",
    "Figure 2: *Example a Shark class*\n",
    "\n",
    "Let's begin with a simple example and define a class called Shark that has two functions associated with it, one for swimming and one for being awesome:\n"
   ]
  },
  {
   "cell_type": "code",
   "execution_count": 1,
   "metadata": {},
   "outputs": [],
   "source": [
    "class Shark:\n",
    "    def swim(self):\n",
    "        print(\"The shark is swimming.\")\n",
    "\n",
    "    def be_awesome(self):\n",
    "        print(\"The shark is being awesome.\")"
   ]
  },
  {
   "cell_type": "markdown",
   "metadata": {},
   "source": [
    "Because these functions are indented under the class Shark, they are called methods. **Methods** are a special kind of function that are defined within a class. (Congruent to methods available for the object types: numbers, strings, lists, ...).\n",
    "\n",
    "The argument to these functions is the word **```self```**, which is a reference to objects that are made based on this class. To reference instances (or objects) of the class, ```self``` will always be the first parameter, but it need not be the only one. \n",
    "\n",
    "<div class=\"alert alert-info\">\n",
    "\n",
    "**Note**\n",
    "\n",
    "Remind yourself of the difference between object type, object and (variable) name: *Strings* is an **object type**. The assignment ```string1 = 'hello'``` creates an **object** ```'hello'``` of type *strings* that has the **name** ```string1```.\n",
    "\n",
    "</div>\n",
    "\n",
    "Defining this class did not create any ```Shark``` objects, only the pattern for a ```Shark``` object. We can define the object later. That is, if you run the program above at this stage nothing will be returned.\n",
    "\n",
    "\n",
    "<div class=\"alert alert-success\">\n",
    "\n",
    "**Creating the Shark class above provided us with a blueprint for an object.**\n",
    "The word `self` is a reference to objects that are made based on this class.\n",
    "\n",
    "</div>\n"
   ]
  },
  {
   "cell_type": "markdown",
   "metadata": {},
   "source": [
    "## Objects\n",
    "\n",
    "An object is an instance of a class. We can take the ```Shark``` class defined above, and use it to create an object or instance of it. \n",
    "\n",
    "We’ll make a ```Shark``` object called ```sammy```:"
   ]
  },
  {
   "cell_type": "code",
   "execution_count": 2,
   "metadata": {},
   "outputs": [],
   "source": [
    "sammy = Shark()"
   ]
  },
  {
   "cell_type": "markdown",
   "metadata": {},
   "source": [
    "Here, we initialized the object ```sammy``` as an instance (or object) of the class by setting it equal to ```Shark()```. \n",
    "\n",
    "<div class=\"alert alert-info\">\n",
    "\n",
    "**Note**\n",
    "\n",
    "When working with classes, the term **instance** is used for **objects** that are defined by a **class**.\n",
    "\n",
    "</div>\n",
    "\n",
    "Now, let’s use the two methods with the ```Shark``` object ```sammy```:"
   ]
  },
  {
   "cell_type": "code",
   "execution_count": 3,
   "metadata": {},
   "outputs": [],
   "source": [
    "sammy = Shark()"
   ]
  },
  {
   "cell_type": "code",
   "execution_count": 4,
   "metadata": {},
   "outputs": [
    {
     "name": "stdout",
     "output_type": "stream",
     "text": [
      "The shark is swimming.\n"
     ]
    }
   ],
   "source": [
    "sammy.swim()"
   ]
  },
  {
   "cell_type": "code",
   "execution_count": 5,
   "metadata": {},
   "outputs": [
    {
     "name": "stdout",
     "output_type": "stream",
     "text": [
      "The shark is being awesome.\n"
     ]
    }
   ],
   "source": [
    "sammy.be_awesome()"
   ]
  },
  {
   "cell_type": "markdown",
   "metadata": {},
   "source": [
    "The Shark object ```sammy``` is using the two methods ```swim()``` and ```be_awesome()```. We called these using the dot operator (```.```), which is used to reference an attribute of the object. In this case, the attribute is a method and it’s called with parentheses, like how you would also call with a function.\n",
    "\n",
    "Because the keyword ```self``` was a parameter of the methods as defined in the ```Shark``` class, the ```sammy``` object gets passed to the methods. The ```self``` parameter ensures that the methods have a way of referring to object attributes.\n",
    "\n",
    "When we call the methods ```swim()``` and ```be_awesome()```, however, nothing is passed inside the parentheses, the object ```sammy``` is being automatically passed with the dot operator.\n"
   ]
  },
  {
   "cell_type": "markdown",
   "metadata": {},
   "source": [
    "## The Constructor Method\n",
    "\n",
    "The **constructor method** is used to initialize data (for example attributes) attached to the class. It is run as soon as an object of a class is instantiated. Also known as the ```__init__``` method, it will be the first definition of a class and looks like this:"
   ]
  },
  {
   "cell_type": "code",
   "execution_count": 6,
   "metadata": {},
   "outputs": [],
   "source": [
    "class Shark:\n",
    "    def __init__(self):\n",
    "        print(\"This is the constructor method.\")"
   ]
  },
  {
   "cell_type": "markdown",
   "metadata": {},
   "source": [
    "If you added the above ```__init__``` method to the Shark class in the example above, it would ad to:"
   ]
  },
  {
   "cell_type": "code",
   "execution_count": 7,
   "metadata": {},
   "outputs": [],
   "source": [
    "class Shark:\n",
    "    def __init__(self):\n",
    "        print(\"This is the constructor method.\")    \n",
    "    \n",
    "    def swim(self):\n",
    "        print(\"The shark is swimming.\")\n",
    "\n",
    "    def be_awesome(self):\n",
    "        print(\"The shark is being awesome.\")"
   ]
  },
  {
   "cell_type": "markdown",
   "metadata": {},
   "source": [
    "Now, once you create an instance of this new ```Shark``` class. the code would output the following without your modifying anything within the ```sammy``` instantiation:\n",
    "\n",
    "```\n",
    "This is the constructor method.\n",
    "```\n",
    "\n",
    "Now try that, create a new instance (object) of the ```Shark``` class, by running the following cell:"
   ]
  },
  {
   "cell_type": "code",
   "execution_count": 8,
   "metadata": {},
   "outputs": [
    {
     "name": "stdout",
     "output_type": "stream",
     "text": [
      "This is the constructor method.\n"
     ]
    }
   ],
   "source": [
    "sammy = Shark()"
   ]
  },
  {
   "cell_type": "markdown",
   "metadata": {},
   "source": [
    "This is because the constructor method is automatically initialized. You should use this method to carry out any initializing you would like to do with your class objects. The **constructor method** is actually a representative of a larger class of methods called **operator overloading methods** that all have double underscores at the start and end of their names and that are inherited attibutes of classes (which we will discuss at a later point). \n",
    "\n",
    "The constructor method above only prints out a statement. But you can also use it to assign some data to the object instance, once it is created. \n",
    "\n",
    "Let’s create a new constructor method that uses a ```name``` variable to assign names to objects. We’ll pass ```name``` as a parameter and set ```self.name``` equal to name:"
   ]
  },
  {
   "cell_type": "code",
   "execution_count": 9,
   "metadata": {},
   "outputs": [],
   "source": [
    "class Shark:\n",
    "    def __init__(self, name):\n",
    "        self.name = name"
   ]
  },
  {
   "cell_type": "markdown",
   "metadata": {},
   "source": [
    "Next, we can modify the strings in our functions to reference the names, as below:"
   ]
  },
  {
   "cell_type": "code",
   "execution_count": 10,
   "metadata": {},
   "outputs": [],
   "source": [
    "class Shark:\n",
    "    def __init__(self, name):\n",
    "        self.name = name\n",
    "\n",
    "    def swim(self):\n",
    "        # Reference the name using the self keyword\n",
    "        print(self.name + \" is swimming.\")\n",
    "\n",
    "    def be_awesome(self):\n",
    "        # Reference the name using the self keyword\n",
    "        print(self.name + \" is being awesome.\")"
   ]
  },
  {
   "cell_type": "markdown",
   "metadata": {},
   "source": [
    "Finally, we can set the name of the Shark object ```sammy``` as equal to ```\"Sammy\"``` by passing it as a parameter of the Shark class:"
   ]
  },
  {
   "cell_type": "code",
   "execution_count": 11,
   "metadata": {},
   "outputs": [],
   "source": [
    "sammy = Shark(\"Sammy\")"
   ]
  },
  {
   "cell_type": "markdown",
   "metadata": {},
   "source": [
    "Now, if we call the functions inside the object class again, see what happens:"
   ]
  },
  {
   "cell_type": "code",
   "execution_count": 12,
   "metadata": {},
   "outputs": [
    {
     "name": "stdout",
     "output_type": "stream",
     "text": [
      "Sammy is swimming.\n",
      "Sammy is being awesome.\n"
     ]
    }
   ],
   "source": [
    "sammy.swim()\n",
    "sammy.be_awesome()"
   ]
  },
  {
   "cell_type": "markdown",
   "metadata": {},
   "source": [
    "We see that the name we passed to the object is being printed out. We defined the ```__init__``` method with the parameter name (along with the ```self``` keyword) and defined a variable within the method.\n",
    "\n",
    "Because the constructor method is automatically initialized, we do not need to explicitly call it, only pass the arguments in the parentheses following the class name when we create a new instance of the class.\n",
    "\n",
    "If we wanted to add another parameter, such as ```age```, we could do so by also passing it to the ```__init__``` method:"
   ]
  },
  {
   "cell_type": "code",
   "execution_count": 23,
   "metadata": {},
   "outputs": [],
   "source": [
    "class Shark:\n",
    "    def __init__(self, name, age):\n",
    "        self.name = name\n",
    "        self.age = age"
   ]
  },
  {
   "cell_type": "markdown",
   "metadata": {},
   "source": [
    "Then, when we create our object ```sammy```, we can (or actually have to) pass Sammy’s age in our statement:"
   ]
  },
  {
   "cell_type": "code",
   "execution_count": 24,
   "metadata": {},
   "outputs": [],
   "source": [
    "sammy = Shark(\"Sammy\", 5)"
   ]
  },
  {
   "cell_type": "markdown",
   "metadata": {},
   "source": [
    "To make use of ```age```, we would need to also **create a method in the class that calls for it**. An example is given below:"
   ]
  },
  {
   "cell_type": "markdown",
   "metadata": {},
   "source": [
    "At last, let's point out a detail: After creating an instance of a class, you could call the constructor method directly. To do that, you need to call the isntructor method for an instance (same as for any other method) and pass the expected constructor arguments:"
   ]
  },
  {
   "cell_type": "code",
   "execution_count": 28,
   "metadata": {},
   "outputs": [
    {
     "name": "stdout",
     "output_type": "stream",
     "text": [
      "Bert\n",
      "4\n"
     ]
    }
   ],
   "source": [
    "new_shark.__init__(\"Bert\", 4)\n",
    "print(new_shark.name)\n",
    "print(new_shark.age)"
   ]
  },
  {
   "cell_type": "markdown",
   "metadata": {},
   "source": [
    "In the example above, the constructor method is called directly for the instance `new_shark` of the class `Shark`. However, this simply overwrites content in the `new_shark` instance from `\"Sammy\"` of `age` 5 to `\"Bert\"` of `age` 4. "
   ]
  },
  {
   "cell_type": "markdown",
   "metadata": {},
   "source": [
    "<div class=\"alert alert-success\">\n",
    "\n",
    "The **constructor methods** allow us to initialize certain attributes of an object. It is a representative of a larger class of methods called **operator overloading methods**.\n",
    "\n",
    "The word `self` is a reference to objects that are made based on this class. Outside of the class definition, when referencing attributes and methods of a class object (instance), `self` has to be replaced by the object (instance) name.\n",
    "\n",
    "</div>"
   ]
  },
  {
   "cell_type": "markdown",
   "metadata": {},
   "source": [
    "## Working with More Than One Object\n",
    "\n",
    "Classes are useful because they allow us to create many similar objects based on the same blueprint. Here the version of the complete Shark blueprint, that we will continue to work with:"
   ]
  },
  {
   "cell_type": "code",
   "execution_count": 68,
   "metadata": {},
   "outputs": [],
   "source": [
    "class Shark:\n",
    "    def __init__(self, name):\n",
    "        self.name = name\n",
    "\n",
    "    def swim(self):\n",
    "        print(self.name + \" is swimming.\")\n",
    "\n",
    "    def be_awesome(self):\n",
    "        print(self.name + \" is being awesome.\")"
   ]
  },
  {
   "cell_type": "markdown",
   "metadata": {},
   "source": [
    "To get a sense for how to work with more than one objects of a class, let’s two Shark object:"
   ]
  },
  {
   "cell_type": "code",
   "execution_count": 69,
   "metadata": {},
   "outputs": [],
   "source": [
    "sammy = Shark(\"Sammy\")\n",
    "stevie = Shark(\"Stevie\")"
   ]
  },
  {
   "cell_type": "markdown",
   "metadata": {},
   "source": [
    "We have created a second ```Shark``` object called stevie and passed the name ```\"Stevie\"``` to it. Now, let's used ```be_awesome()``` method with ```sammy``` and the ```swim()``` method with ```stevie```."
   ]
  },
  {
   "cell_type": "code",
   "execution_count": 70,
   "metadata": {},
   "outputs": [
    {
     "name": "stdout",
     "output_type": "stream",
     "text": [
      "Sammy is being awesome.\n",
      "Stevie is swimming.\n"
     ]
    }
   ],
   "source": [
    "sammy.be_awesome()\n",
    "stevie.swim()"
   ]
  },
  {
   "cell_type": "markdown",
   "metadata": {},
   "source": [
    "The output shows that we are using two different objects, the sammy object and the stevie object, both of the Shark class. And, we can add many more objects to this class, as many as we need."
   ]
  },
  {
   "cell_type": "code",
   "execution_count": 71,
   "metadata": {},
   "outputs": [],
   "source": [
    "grace = Shark(\"Grace\")\n",
    "layla = Shark(\"Layla\")\n",
    "# ..."
   ]
  },
  {
   "cell_type": "markdown",
   "metadata": {},
   "source": [
    "<div class=\"alert alert-success\">\n",
    "\n",
    "**Classes make it possible to create more than one object following the same pattern without creating each one from scratch.**\n",
    "\n",
    "</div>"
   ]
  },
  {
   "cell_type": "markdown",
   "metadata": {},
   "source": [
    "## Conclusion for part A\n",
    "\n",
    "Object-oriented programming is an important concept to understand because it makes code recycling more straightforward, as objects created for one program can be used in another. Object-oriented programs also make for better program design since complex programs are difficult to write and require careful planning, and this in turn makes it less work to maintain the program over time. "
   ]
  },
  {
   "cell_type": "markdown",
   "metadata": {},
   "source": [
    "---\n",
    "# B. Understanding Class and Instance Variables\n",
    "\n",
    "## Introduction\n",
    "\n",
    "Object-oriented programming allows for variables to be used at the class level or the instance level. **Variables** are essentially symbols that stand in for a value you’re using in a program. There are two types of variables that we can define with classes:\n",
    "\n",
    "* **Class variables**\n",
    "* **Instance variables**\n",
    "\n",
    "At the class level, variables are referred to as class variables, whereas variables at the instance level are called instance variables.\n",
    "\n",
    "When we expect variables are going to be consistent across instances, or when we would like to initialize a variable, we can define that variable at the class level. When we anticipate the variables will change significantly across instances, we can define them at the instance level.\n",
    "\n",
    "One of the principles of software development is the **DRY** principle, which stands for **don’t repeat yourself**. This principle is geared towards limiting repetition within code, and object-oriented programming adheres to the DRY principle as it reduces redundancy.\n",
    "\n",
    "In this part of the lesson notebook will demonstrate the use of both class and instance variables in object-oriented programming within Python.\n",
    "\n",
    "<div class=\"alert alert-success\">\n",
    "\n",
    "There are two types of variables that we can define with classes: **class variables** and **instance variables**.\n",
    "\n",
    "</div>\n"
   ]
  },
  {
   "cell_type": "markdown",
   "metadata": {},
   "source": [
    "## Class Variables\n",
    "\n",
    "Class variables are defined within the class construction. Because they are owned by the class itself, class variables are shared by all instances of the class. They therefore will generally have the same value for every instance unless you are using the class variable to initialize a variable.\n",
    "\n",
    "Defined outside of all the methods, class variables are, by convention, typically placed right below the class header and before the constructor method and other methods.\n",
    "\n",
    "A class variable alone looks like this:"
   ]
  },
  {
   "cell_type": "code",
   "execution_count": 18,
   "metadata": {},
   "outputs": [],
   "source": [
    "class Shark:\n",
    "    animal_type = \"fish\""
   ]
  },
  {
   "cell_type": "markdown",
   "metadata": {},
   "source": [
    "Here, the variable ```animal_type``` is assigned the value ```\"fish\"```.\n",
    "\n",
    "We can now create an instance of the ```Shark``` class (we’ll call it ```new_shark```) and print the variable by using dot notation:"
   ]
  },
  {
   "cell_type": "code",
   "execution_count": 19,
   "metadata": {},
   "outputs": [],
   "source": [
    "new_shark = Shark()"
   ]
  },
  {
   "cell_type": "code",
   "execution_count": 20,
   "metadata": {},
   "outputs": [
    {
     "name": "stdout",
     "output_type": "stream",
     "text": [
      "fish\n"
     ]
    }
   ],
   "source": [
    "print(new_shark.animal_type)"
   ]
  },
  {
   "cell_type": "markdown",
   "metadata": {},
   "source": [
    "The code returns the value of the variable.\n",
    "\n",
    "Let’s add a few more class variables and print them out:"
   ]
  },
  {
   "cell_type": "code",
   "execution_count": 3,
   "metadata": {},
   "outputs": [],
   "source": [
    "class Shark:\n",
    "    animal_type = \"fish\"\n",
    "    location = \"ocean\"\n",
    "    length = 5"
   ]
  },
  {
   "cell_type": "code",
   "execution_count": 4,
   "metadata": {},
   "outputs": [],
   "source": [
    "new_shark = Shark()"
   ]
  },
  {
   "cell_type": "code",
   "execution_count": 5,
   "metadata": {},
   "outputs": [
    {
     "name": "stdout",
     "output_type": "stream",
     "text": [
      "fish\n",
      "ocean\n",
      "5\n"
     ]
    }
   ],
   "source": [
    "print(new_shark.animal_type)\n",
    "print(new_shark.location)\n",
    "print(new_shark.length)"
   ]
  },
  {
   "cell_type": "markdown",
   "metadata": {},
   "source": [
    "In addition, since class variables belong to the class, you can also receive their default content, by using the class name itself as reference. This way, you could access and change the class variable, before creating an instance:"
   ]
  },
  {
   "cell_type": "code",
   "execution_count": 6,
   "metadata": {},
   "outputs": [
    {
     "name": "stdout",
     "output_type": "stream",
     "text": [
      "fish\n"
     ]
    }
   ],
   "source": [
    "print(Shark.animal_type)"
   ]
  },
  {
   "cell_type": "code",
   "execution_count": 7,
   "metadata": {},
   "outputs": [],
   "source": [
    "Shark.animal_type = 'shark'"
   ]
  },
  {
   "cell_type": "code",
   "execution_count": 8,
   "metadata": {},
   "outputs": [
    {
     "name": "stdout",
     "output_type": "stream",
     "text": [
      "shark\n"
     ]
    }
   ],
   "source": [
    "print(Shark.animal_type)"
   ]
  },
  {
   "cell_type": "markdown",
   "metadata": {},
   "source": [
    "This way, we could rewrite the content of class attributes, before using the class.\n",
    "\n",
    "Just like with any other variable, class variables can consist of any data type available to us in Python. In the code above we have added strings and an integer. The instance of ```new_shark``` is able to access all the class variables and print them out when we run the code.\n",
    "\n",
    "Class variables allow us to define variables upon constructing the class. These variables and their associated values are then accessible to each instance of the class.\n",
    "\n",
    "\n",
    "<div class=\"alert alert-success\">\n",
    "\n",
    "**Class variables** are defined within the class construction: typically placed right below the class header and before the constructor method and other methods.\n",
    "They are owned by the class itself and they are shared by all instances of the class. \n",
    "\n",
    "</div>"
   ]
  },
  {
   "cell_type": "markdown",
   "metadata": {},
   "source": [
    "## Instance Variables\n",
    "\n",
    "Instance variables are owned by instances of the class. This means that for each object or instance of a class, the instance variables are different.\n",
    "\n",
    "Unlike class variables, instance variables are **defined within methods** and they are created when the method is called.\n",
    "\n",
    "In the ```Shark``` class example below, ```name``` and ```age``` are instance variables instance variables in the **constructor method** `__init__`:"
   ]
  },
  {
   "cell_type": "code",
   "execution_count": 9,
   "metadata": {},
   "outputs": [],
   "source": [
    "class Shark:\n",
    "    def __init__(self, name, age):\n",
    "        self.name = name\n",
    "        self.age = age"
   ]
  },
  {
   "cell_type": "markdown",
   "metadata": {},
   "source": [
    "When we create a ```Shark``` object (an instance of the class ```Shark```), we will have to define these variables. This is because the **constructor method is run immediately as an object of a class is instantiated** (or in other words: as an instance is created).\n",
    "\n",
    "Hence, during instance creation, we pass these variables as parameters within the constructor method (or for another method, once it is called, examples further below):"
   ]
  },
  {
   "cell_type": "code",
   "execution_count": 15,
   "metadata": {},
   "outputs": [],
   "source": [
    "new_shark = Shark(\"Sammy\", 5)"
   ]
  },
  {
   "cell_type": "markdown",
   "metadata": {},
   "source": [
    "As with class variables, we can similarly call to print instance variables:"
   ]
  },
  {
   "cell_type": "code",
   "execution_count": 16,
   "metadata": {},
   "outputs": [
    {
     "name": "stdout",
     "output_type": "stream",
     "text": [
      "Sammy\n",
      "5\n"
     ]
    }
   ],
   "source": [
    "print(new_shark.name)\n",
    "print(new_shark.age)"
   ]
  },
  {
   "cell_type": "markdown",
   "metadata": {},
   "source": [
    "The output we receive is made up of the values of the variables that we initialized for the object instance of ```new_shark```.\n",
    "\n",
    "Let’s create another object of the ```Shark``` class called ```stevie```:"
   ]
  },
  {
   "cell_type": "code",
   "execution_count": 34,
   "metadata": {},
   "outputs": [
    {
     "name": "stdout",
     "output_type": "stream",
     "text": [
      "Stevie\n",
      "8\n"
     ]
    }
   ],
   "source": [
    "stevie = Shark(\"Stevie\", 8)\n",
    "print(stevie.name)\n",
    "print(stevie.age)"
   ]
  },
  {
   "cell_type": "markdown",
   "metadata": {},
   "source": [
    "The stevie object, like the ```new_shark``` object passes the parameters specific for that instance of the ```Shark``` class to assign values to the instance variables.\n",
    "\n",
    "Instance variables, owned by objects of the class, allow for each object or instance to have different values assigned to those variables. "
   ]
  },
  {
   "cell_type": "markdown",
   "metadata": {},
   "source": [
    "\n",
    "\n",
    "\n",
    "<div class=\"alert alert-success\">\n",
    "\n",
    "**Instance variables** are owned by instances of the class. They are defined within methods. \n",
    "Instance variables of the constructor method have to be passed as parameters during instance creation.\n",
    "</div>"
   ]
  },
  {
   "cell_type": "markdown",
   "metadata": {},
   "source": [
    "## Working with Class and Instance Variables Together\n",
    "\n",
    "Class variables and instance variables will often be utilized at the same time, so let’s look at an example of this using the ```Shark``` class we created. The comments in the code below outline each step of the process and note, whether class or isntance variables are defined. \n",
    "\n",
    "Let's merge the previous examples to a new version of the ```Shark``` class and also add another method ```set_length```: "
   ]
  },
  {
   "cell_type": "code",
   "execution_count": 29,
   "metadata": {},
   "outputs": [],
   "source": [
    "class Shark:\n",
    "\n",
    "    # Class variables\n",
    "    animal_type = \"fish\"\n",
    "    location = \"Indian Ocean\"\n",
    "\n",
    "    # Constructor method with instance variables name and age\n",
    "    def __init__(self, name, age):\n",
    "        self.name = name\n",
    "        self.age = age\n",
    "\n",
    "    # Method with instance variable length in [meter]\n",
    "    def set_length(self, length):\n",
    "        print(\"This shark has a length of \" + str(length) + \" meter.\")"
   ]
  },
  {
   "cell_type": "markdown",
   "metadata": {},
   "source": [
    "Now let's use the ```Shark``` class and create some instances with it:"
   ]
  },
  {
   "cell_type": "code",
   "execution_count": 30,
   "metadata": {},
   "outputs": [
    {
     "name": "stdout",
     "output_type": "stream",
     "text": [
      "Sammy\n",
      "This shark's livingspace is: Indian Ocean\n",
      "Stevie\n",
      "This shark has a length of 5 meter.\n",
      "fish\n"
     ]
    }
   ],
   "source": [
    "# First object, set up instance variables of constructor method\n",
    "sammy = Shark(\"Sammy\", 5)\n",
    "\n",
    "# Print out instance variable name\n",
    "print(sammy.name)\n",
    "\n",
    "# Print out class variable location\n",
    "print(\"This shark's livingspace is: \" + sammy.location)\n",
    "\n",
    "# Second object\n",
    "stevie = Shark(\"Stevie\", 8)\n",
    "\n",
    "# Print out instance variable name\n",
    "print(stevie.name)\n",
    "\n",
    "# Use set_length method and pass length instance variable\n",
    "stevie.set_length(5)\n",
    "\n",
    "# Print out class variable animal_type\n",
    "print(stevie.animal_type)"
   ]
  },
  {
   "cell_type": "markdown",
   "metadata": {},
   "source": [
    "Here, we have made use of both class and instance variables in two objects of the `Shark` class, `sammy` and `stevie`. We have also set up instance variables in the constructor method `__init__`, which are passed during instance creation. And instance varaible in the method `set_length` are passed, when it is first called. \n",
    "\n",
    "\n",
    "<div class=\"alert alert-success\">\n",
    "Class variables and instance variables will often be utilized at the same time.\n",
    "</div>\n"
   ]
  },
  {
   "cell_type": "markdown",
   "metadata": {},
   "source": [
    "## Conclusion for part B\n",
    "\n",
    "In object-oriented programming, variables at the class level are referred to as class variables, whereas variables at the object level are called instance variables.\n",
    "\n",
    "This differentiation allows us to use class variables to initialize objects with a specific value assigned to variables, and use different variables for each object with instance variables.\n",
    "\n",
    "Making use of class- and instance-specific variables can ensure that our code adheres to the DRY principle to reduce repetition within code."
   ]
  }
 ],
 "metadata": {
  "kernelspec": {
   "display_name": "Python 3",
   "language": "python",
   "name": "python3"
  },
  "language_info": {
   "codemirror_mode": {
    "name": "ipython",
    "version": 3
   },
   "file_extension": ".py",
   "mimetype": "text/x-python",
   "name": "python",
   "nbconvert_exporter": "python",
   "pygments_lexer": "ipython3",
   "version": "3.7.4"
  }
 },
 "nbformat": 4,
 "nbformat_minor": 2
}
