{
 "cells": [
  {
   "cell_type": "markdown",
   "metadata": {},
   "source": [
    "[![Google Colab](https://colab.research.google.com/assets/colab-badge.svg)](https://colab.research.google.com/github/PyGIS222/Fall2019/blob/master/LessonM33_Lists.ipynb)\n",
    "\n",
    "[![Binder](https://mybinder.org/badge_logo.svg)](https://mybinder.org/v2/gh/PyGIS222/Fall2019/master?filepath=LessonM33_Lists.ipynb)"
   ]
  },
  {
   "cell_type": "markdown",
   "metadata": {},
   "source": [
    "### Notebook Lesson 3.3\n",
    "\n",
    "# Object Type: Lists\n",
    "\n",
    "This Jupyter Notebook is part of Module 3 of the course GIS222 (Fall2019).\n",
    "\n",
    "In this lesson we will revisit some data types and then learn how data can be stored in Python ***lists***, and deepen some concepts of objects in programming. Carefully study the content of this Notebook and use the chance to reflect the material through the interactive examples.\n",
    "\n",
    "<div class=\"alert alert-info\">\n",
    "\n",
    "**Note**\n",
    "\n",
    "For any cell in the notebook to run correctly, you have to run all previous Python code cells that define the respective variables. You just need to press **Shift**-**Enter** to run any cell, or click on the \"Run\" button in the tool bar at the top of the notebook. You can see if a cell has been executed, if a running number appears in the square brackets at the beginning of the cell. If those brackets are empty, the cell has not been executed. To start over, you can restart the Kernel (Menu item *Kernel* > *Restart*)\n",
    "\n",
    "</div>\n",
    "\n",
    "### Sources\n",
    "This Notebook is an adaption of Lesson 2 from the [Geo-Python](https://geo-python.github.io/site/2018/index.html), which is licensed under CC (Attribution-ShareAlike 4.0 International).\n",
    "\n",
    "---"
   ]
  },
  {
   "cell_type": "markdown",
   "metadata": {},
   "source": [
    "# Part A: Let's start with some data\n",
    "\n",
    "We saw a bit about variables and their values in the last lesson, and we continue here with some variables related to [Observation stations from the Finnland Meteorological Institute (FMI)](http://en.ilmatieteenlaitos.fi/observation-stations). For each station, a number of pieces of information are given, including the name of the station, an FMI station ID number (FMISID), its latitude, its longitude, and the station type. We can store this information and some additional information for a given station in Python as follows:"
   ]
  },
  {
   "cell_type": "code",
   "execution_count": 5,
   "metadata": {},
   "outputs": [],
   "source": [
    "stationName = 'Helsinki Kaivopuisto'"
   ]
  },
  {
   "cell_type": "code",
   "execution_count": 6,
   "metadata": {},
   "outputs": [],
   "source": [
    "stationID = 132310"
   ]
  },
  {
   "cell_type": "code",
   "execution_count": 7,
   "metadata": {},
   "outputs": [],
   "source": [
    "stationLat = 60.15"
   ]
  },
  {
   "cell_type": "code",
   "execution_count": 8,
   "metadata": {},
   "outputs": [],
   "source": [
    "stationLong = 24.96"
   ]
  },
  {
   "cell_type": "code",
   "execution_count": 9,
   "metadata": {},
   "outputs": [],
   "source": [
    "stationType = 'Mareographs'"
   ]
  },
  {
   "cell_type": "markdown",
   "metadata": {},
   "source": [
    "Here we have 5 values assigned to variables related to a single observation station. Each variable has a unique name and they can store different types of data: numbers and strings."
   ]
  },
  {
   "cell_type": "markdown",
   "metadata": {},
   "source": [
    "### Reminder: Data types and their compatibility\n",
    "\n",
    "We can explore the different types of data stored in variables using the `type()` function."
   ]
  },
  {
   "cell_type": "code",
   "execution_count": 10,
   "metadata": {},
   "outputs": [
    {
     "data": {
      "text/plain": [
       "str"
      ]
     },
     "execution_count": 10,
     "metadata": {},
     "output_type": "execute_result"
    }
   ],
   "source": [
    "type(stationName)"
   ]
  },
  {
   "cell_type": "code",
   "execution_count": 11,
   "metadata": {},
   "outputs": [
    {
     "data": {
      "text/plain": [
       "int"
      ]
     },
     "execution_count": 11,
     "metadata": {},
     "output_type": "execute_result"
    }
   ],
   "source": [
    "type(stationID)"
   ]
  },
  {
   "cell_type": "code",
   "execution_count": 12,
   "metadata": {},
   "outputs": [
    {
     "data": {
      "text/plain": [
       "float"
      ]
     },
     "execution_count": 12,
     "metadata": {},
     "output_type": "execute_result"
    }
   ],
   "source": [
    "type(stationLat)"
   ]
  },
  {
   "cell_type": "markdown",
   "metadata": {},
   "source": [
    "As expected, we see that the `stationName` is a character string, the `stationID` is an integer, and the `stationLat` is a floating point number."
   ]
  },
  {
   "cell_type": "markdown",
   "metadata": {},
   "source": [
    "<div class=\"alert alert-info\">\n",
    "\n",
    "**Note**\n",
    "\n",
    "We haven't mentioned it explicitly yet, but the variable names in this lesson use another popular variable format called *camelCase*.\n",
    "In camelCase the words in the variable name are not separated by underscores or any other character, but rather the first letter is capitalized for all words in the name other than the first one.\n",
    "\n",
    "</div>"
   ]
  },
  {
   "cell_type": "markdown",
   "metadata": {},
   "source": [
    "<div class=\"alert alert-info\">\n",
    "\n",
    "**Note**\n",
    "\n",
    "Remember, the data types are important because some are not compatible with one another.\n",
    "\n",
    "</div>"
   ]
  },
  {
   "cell_type": "code",
   "execution_count": 13,
   "metadata": {},
   "outputs": [
    {
     "ename": "TypeError",
     "evalue": "must be str, not int",
     "output_type": "error",
     "traceback": [
      "\u001b[0;31m---------------------------------------------------------------------------\u001b[0m",
      "\u001b[0;31mTypeError\u001b[0m                                 Traceback (most recent call last)",
      "\u001b[0;32m<ipython-input-13-a9cbfafbc479>\u001b[0m in \u001b[0;36m<module>\u001b[0;34m\u001b[0m\n\u001b[0;32m----> 1\u001b[0;31m \u001b[0mstationName\u001b[0m \u001b[0;34m+\u001b[0m \u001b[0mstationID\u001b[0m\u001b[0;34m\u001b[0m\u001b[0;34m\u001b[0m\u001b[0m\n\u001b[0m",
      "\u001b[0;31mTypeError\u001b[0m: must be str, not int"
     ]
    }
   ],
   "source": [
    "stationName + stationID"
   ]
  },
  {
   "cell_type": "markdown",
   "metadata": {},
   "source": [
    "Here we get a `TypeError` because Python does not know to combine a string of characters (`stationName`) with an integer value (`stationID`)."
   ]
  },
  {
   "cell_type": "markdown",
   "metadata": {},
   "source": [
    "### Converting data from one type to another\n",
    "\n",
    "It is not the case that things like the `stationName` and `stationID` cannot be combined at all, but in order to combine a character string with a number we need to perform a data type conversion to make them compatible. For example, we can could convert the `stationID` integer value into a character string using the `str()` function."
   ]
  },
  {
   "cell_type": "code",
   "execution_count": 14,
   "metadata": {},
   "outputs": [],
   "source": [
    "stationIDStr = str(stationID)"
   ]
  },
  {
   "cell_type": "code",
   "execution_count": 15,
   "metadata": {},
   "outputs": [
    {
     "data": {
      "text/plain": [
       "str"
      ]
     },
     "execution_count": 15,
     "metadata": {},
     "output_type": "execute_result"
    }
   ],
   "source": [
    "type(stationIDStr)"
   ]
  },
  {
   "cell_type": "code",
   "execution_count": 16,
   "metadata": {},
   "outputs": [
    {
     "name": "stdout",
     "output_type": "stream",
     "text": [
      "132310\n"
     ]
    }
   ],
   "source": [
    "print(stationIDStr)"
   ]
  },
  {
   "cell_type": "markdown",
   "metadata": {},
   "source": [
    "As you can see, `str()` converts a numerical value into a character string with the same numbers as before."
   ]
  },
  {
   "cell_type": "markdown",
   "metadata": {},
   "source": [
    "<div class=\"alert alert-info\">\n",
    "\n",
    "**Note**\n",
    "\n",
    "Similar to using `str()` to convert numbers to character strings, `int()` can be used to convert strings or floating point numbers to integers and `float()` can be used to convert strings or integers to floating point numbers.\n",
    "\n",
    "</div>"
   ]
  },
  {
   "cell_type": "markdown",
   "metadata": {},
   "source": [
    "### Combining text and numbers\n",
    "\n",
    "Although most mathematical operations operate on numerical values, a common way to combine character strings is using the addition operator `+`."
   ]
  },
  {
   "cell_type": "code",
   "execution_count": 17,
   "metadata": {},
   "outputs": [],
   "source": [
    "stationNameAndID = stationName + \": \" + str(stationID)"
   ]
  },
  {
   "cell_type": "code",
   "execution_count": 18,
   "metadata": {},
   "outputs": [
    {
     "name": "stdout",
     "output_type": "stream",
     "text": [
      "Helsinki Kaivopuisto: 132310\n"
     ]
    }
   ],
   "source": [
    "print(stationNameAndID)"
   ]
  },
  {
   "cell_type": "markdown",
   "metadata": {},
   "source": [
    "Note that here we are converting `stationID` to a character string using the `str()` function within the assignment to the variable `stationNameAndID`. Alternatively, we could have simply added `stationName` and `stationIDStr`."
   ]
  },
  {
   "cell_type": "markdown",
   "metadata": {},
   "source": [
    "# Part B: Lists and Indices\n",
    "\n",
    "Above we have seen a bit of data related to one of several FMI observation stations in the Helsinki area. Rather than having individual variables for each of those stations, we can store many related values in a *collection*. The simplest type of collection in Python is a **list**. And similar to strings, lists are also sequences. However, while strings are not mutable, lists are. Hence, the content of lists is accessible through indicees and can be altered and managed through them. Nowe, let's use lists for storing the FMI station data."
   ]
  },
  {
   "cell_type": "markdown",
   "metadata": {},
   "source": [
    "### Creating a list\n",
    "\n",
    "Let’s first create a list of selected stationName values."
   ]
  },
  {
   "cell_type": "code",
   "execution_count": 2,
   "metadata": {},
   "outputs": [],
   "source": [
    "stationNames = ['Helsinki Harmaja', 'Helsinki Kaisaniemi', 'Helsinki Kaivopuisto', 'Helsinki Kumpula']"
   ]
  },
  {
   "cell_type": "code",
   "execution_count": 3,
   "metadata": {},
   "outputs": [
    {
     "name": "stdout",
     "output_type": "stream",
     "text": [
      "['Helsinki Harmaja', 'Helsinki Kaisaniemi', 'Helsinki Kaivopuisto', 'Helsinki Kumpula']\n"
     ]
    }
   ],
   "source": [
    "print(stationNames)"
   ]
  },
  {
   "cell_type": "code",
   "execution_count": 21,
   "metadata": {},
   "outputs": [
    {
     "data": {
      "text/plain": [
       "list"
      ]
     },
     "execution_count": 21,
     "metadata": {},
     "output_type": "execute_result"
    }
   ],
   "source": [
    "type(stationNames)"
   ]
  },
  {
   "cell_type": "markdown",
   "metadata": {},
   "source": [
    "Here we have a list of 4 `stationName` values in a list called `stationNames`. As you can see, the `type()` function recognizes this as a list. Lists can be created using the square brackets (`[` and `]`), with commas separating the values in the list."
   ]
  },
  {
   "cell_type": "markdown",
   "metadata": {},
   "source": [
    "<div class=\"alert alert-info\">\n",
    "\n",
    "**Note**\n",
    "\n",
    "Similar to using `str()`, `int()` and `float()`, the function `list` can be used to convert strings, integers, floating point numbers or other data types into a list.\n",
    "\n",
    "</div>"
   ]
  },
  {
   "cell_type": "markdown",
   "metadata": {},
   "source": [
    "### Index values\n",
    "\n",
    "To access an individual value in the list we need to use an **index value**. An index value is a number that refers to a given position in the list. Let’s check out the first value in our list as an example:"
   ]
  },
  {
   "cell_type": "code",
   "execution_count": 22,
   "metadata": {},
   "outputs": [
    {
     "name": "stdout",
     "output_type": "stream",
     "text": [
      "Helsinki Kaisaniemi\n"
     ]
    }
   ],
   "source": [
    "print(stationNames[1])"
   ]
  },
  {
   "cell_type": "markdown",
   "metadata": {},
   "source": [
    "Wait, what? This is the second value in the list we’ve created, what is wrong? As it turns out, Python (and many other programming languages) start values stored in collections with the index value 0. Thus, to get the value for the first item in the list, we must use index 0."
   ]
  },
  {
   "cell_type": "code",
   "execution_count": 23,
   "metadata": {},
   "outputs": [
    {
     "name": "stdout",
     "output_type": "stream",
     "text": [
      "Helsinki Harmaja\n"
     ]
    }
   ],
   "source": [
    "print(stationNames[0])"
   ]
  },
  {
   "cell_type": "markdown",
   "metadata": {},
   "source": [
    "OK, that makes sense, but it may take some getting used to..."
   ]
  },
  {
   "cell_type": "markdown",
   "metadata": {},
   "source": [
    "### A useful analog - Bill the vending machine\n",
    "\n",
    "As it turns out, index values are extremely useful, very commonly used in many programming languages, yet often a point of confusion for new programmers. Thus, we need to have a trick for remembering what an index value is and how they are used. For this, we need to be introduced to Bill.\n",
    "\n",
    "<img src=\"M33_Image_BillTheVendingMachine.png\" alt=\"Illustrating indexing: Bill the vending machine.\" title=\"Bill the vending machine\" width=\"600\" />\n",
    "\n",
    "Figure 1: *Bill, the vending machine.*\n",
    "\n",
    "\n",
    "As you can see, Bill is a vending machine that contains 6 items. Like Python lists, the list of items available from Bill starts at 0 and increases in increments of 1.\n",
    "\n",
    "The way Bill works is that you insert your money, then select the location of the item you wish to receive. In an analogy to Python, we could say Bill is simply a list of food items and the buttons you push to get them are the index values. For example, if you would like to buy a taco from Bill, you would push button `3`. An equivalent operation in Python could simply be\n",
    "\n",
    "```python\n",
    "print(Bill[3])\n",
    "Taco\n",
    "```"
   ]
  },
  {
   "cell_type": "markdown",
   "metadata": {},
   "source": [
    "### Number of items in a list\n",
    "\n",
    "We can find the length of a list using the `len()` function."
   ]
  },
  {
   "cell_type": "code",
   "execution_count": 24,
   "metadata": {},
   "outputs": [
    {
     "data": {
      "text/plain": [
       "4"
      ]
     },
     "execution_count": 24,
     "metadata": {},
     "output_type": "execute_result"
    }
   ],
   "source": [
    "len(stationNames)"
   ]
  },
  {
   "cell_type": "markdown",
   "metadata": {},
   "source": [
    "Just as expected, there are 4 values in our list and `len(stationNames)` returns a value of `4`."
   ]
  },
  {
   "cell_type": "markdown",
   "metadata": {},
   "source": [
    "### Index value tips\n",
    "\n",
    "If we know the length of the list, we can now use it to find the value of the last item in the list, right?"
   ]
  },
  {
   "cell_type": "code",
   "execution_count": 25,
   "metadata": {},
   "outputs": [
    {
     "ename": "IndexError",
     "evalue": "list index out of range",
     "output_type": "error",
     "traceback": [
      "\u001b[0;31m---------------------------------------------------------------------------\u001b[0m",
      "\u001b[0;31mIndexError\u001b[0m                                Traceback (most recent call last)",
      "\u001b[0;32m<ipython-input-25-802825731e74>\u001b[0m in \u001b[0;36m<module>\u001b[0;34m\u001b[0m\n\u001b[0;32m----> 1\u001b[0;31m \u001b[0mprint\u001b[0m\u001b[0;34m(\u001b[0m\u001b[0mstationNames\u001b[0m\u001b[0;34m[\u001b[0m\u001b[0;36m4\u001b[0m\u001b[0;34m]\u001b[0m\u001b[0;34m)\u001b[0m\u001b[0;34m\u001b[0m\u001b[0;34m\u001b[0m\u001b[0m\n\u001b[0m",
      "\u001b[0;31mIndexError\u001b[0m: list index out of range"
     ]
    }
   ],
   "source": [
    "print(stationNames[4])"
   ]
  },
  {
   "cell_type": "markdown",
   "metadata": {},
   "source": [
    "What, an `IndexError`?!? That’s right, since our list starts with index 0 and has 4 values, the index of the last item in the list is `len(SampleIDs) - 1`. That isn’t ideal, but fortunately there’s a nice trick in Python to find the last item in a list."
   ]
  },
  {
   "cell_type": "code",
   "execution_count": 26,
   "metadata": {},
   "outputs": [
    {
     "name": "stdout",
     "output_type": "stream",
     "text": [
      "['Helsinki Harmaja', 'Helsinki Kaisaniemi', 'Helsinki Kaivopuisto', 'Helsinki Kumpula']\n"
     ]
    }
   ],
   "source": [
    "print(stationNames)"
   ]
  },
  {
   "cell_type": "code",
   "execution_count": 27,
   "metadata": {},
   "outputs": [
    {
     "name": "stdout",
     "output_type": "stream",
     "text": [
      "Helsinki Kumpula\n"
     ]
    }
   ],
   "source": [
    "print(stationNames[-1])"
   ]
  },
  {
   "cell_type": "code",
   "execution_count": 28,
   "metadata": {},
   "outputs": [
    {
     "name": "stdout",
     "output_type": "stream",
     "text": [
      "Helsinki Harmaja\n"
     ]
    }
   ],
   "source": [
    "print(stationNames[-4])"
   ]
  },
  {
   "cell_type": "markdown",
   "metadata": {},
   "source": [
    "Yes, in Python you can go backwards through lists by using negative index values. Index `-1` gives the last value in the list and index `-len(SampleIDs)` would give the first. Of course, you still need to keep the index values within their ranges."
   ]
  },
  {
   "cell_type": "code",
   "execution_count": 29,
   "metadata": {},
   "outputs": [
    {
     "ename": "IndexError",
     "evalue": "list index out of range",
     "output_type": "error",
     "traceback": [
      "\u001b[0;31m---------------------------------------------------------------------------\u001b[0m",
      "\u001b[0;31mIndexError\u001b[0m                                Traceback (most recent call last)",
      "\u001b[0;32m<ipython-input-29-b40ca6c3b597>\u001b[0m in \u001b[0;36m<module>\u001b[0;34m\u001b[0m\n\u001b[0;32m----> 1\u001b[0;31m \u001b[0mprint\u001b[0m\u001b[0;34m(\u001b[0m\u001b[0mstationNames\u001b[0m\u001b[0;34m[\u001b[0m\u001b[0;34m-\u001b[0m\u001b[0;36m5\u001b[0m\u001b[0;34m]\u001b[0m\u001b[0;34m)\u001b[0m\u001b[0;34m\u001b[0m\u001b[0;34m\u001b[0m\u001b[0m\n\u001b[0m",
      "\u001b[0;31mIndexError\u001b[0m: list index out of range"
     ]
    }
   ],
   "source": [
    "print(stationNames[-5])"
   ]
  },
  {
   "cell_type": "markdown",
   "metadata": {},
   "source": [
    "### Modifying list values\n",
    "\n",
    "Another nice feature of lists is that they are *mutable*, meaning that the values in a list that has been defined can be modified. Consider a list of the observation station types corresponding to the station names in the `stationNames` list."
   ]
  },
  {
   "cell_type": "code",
   "execution_count": 30,
   "metadata": {},
   "outputs": [
    {
     "name": "stdout",
     "output_type": "stream",
     "text": [
      "['Weather stations', 'Weather stations', 'Weather stations', 'Weather stations']\n"
     ]
    }
   ],
   "source": [
    "stationTypes = ['Weather stations', 'Weather stations', 'Weather stations', 'Weather stations']\n",
    "print(stationTypes)"
   ]
  },
  {
   "cell_type": "markdown",
   "metadata": {},
   "source": [
    "Now as we saw before, the station type for Helsinki Kaivopuisto should be ‘Mareographs’, not ‘Weather stations’. Fortunately, this is an easy fix. We simply replace the value at the corresponding location in the list with the correct one."
   ]
  },
  {
   "cell_type": "code",
   "execution_count": 31,
   "metadata": {},
   "outputs": [
    {
     "name": "stdout",
     "output_type": "stream",
     "text": [
      "['Weather stations', 'Weather stations', 'Mareographs', 'Weather stations']\n"
     ]
    }
   ],
   "source": [
    "stationTypes[2] = 'Mareographs'\n",
    "print(stationTypes)"
   ]
  },
  {
   "cell_type": "markdown",
   "metadata": {},
   "source": [
    "### Data types in lists\n",
    "\n",
    "Lists can also store more than one type of data. Let’s consider that in addition to having a list of each station name, FMISID, latitude, etc. we would like to have a list of all of the values for station ‘Helsinki Kaivopuisto’."
   ]
  },
  {
   "cell_type": "code",
   "execution_count": 32,
   "metadata": {},
   "outputs": [
    {
     "name": "stdout",
     "output_type": "stream",
     "text": [
      "['Helsinki Kaivopuisto', 132310, 60.15, 24.96, 'Mareographs']\n"
     ]
    }
   ],
   "source": [
    "stationHelKaivo = [stationName, stationID, stationLat, stationLong, stationType]\n",
    "print(stationHelKaivo)"
   ]
  },
  {
   "cell_type": "markdown",
   "metadata": {},
   "source": [
    "Here we have one list with 3 different types of data in it. We can confirm this using the `type()` function."
   ]
  },
  {
   "cell_type": "code",
   "execution_count": 33,
   "metadata": {},
   "outputs": [
    {
     "data": {
      "text/plain": [
       "list"
      ]
     },
     "execution_count": 33,
     "metadata": {},
     "output_type": "execute_result"
    }
   ],
   "source": [
    "type(stationHelKaivo)"
   ]
  },
  {
   "cell_type": "code",
   "execution_count": 34,
   "metadata": {},
   "outputs": [
    {
     "data": {
      "text/plain": [
       "str"
      ]
     },
     "execution_count": 34,
     "metadata": {},
     "output_type": "execute_result"
    }
   ],
   "source": [
    "type(stationHelKaivo[0])    # The station name"
   ]
  },
  {
   "cell_type": "code",
   "execution_count": 35,
   "metadata": {},
   "outputs": [
    {
     "data": {
      "text/plain": [
       "int"
      ]
     },
     "execution_count": 35,
     "metadata": {},
     "output_type": "execute_result"
    }
   ],
   "source": [
    "type(stationHelKaivo[1])    # The FMISID"
   ]
  },
  {
   "cell_type": "code",
   "execution_count": 36,
   "metadata": {},
   "outputs": [
    {
     "data": {
      "text/plain": [
       "float"
      ]
     },
     "execution_count": 36,
     "metadata": {},
     "output_type": "execute_result"
    }
   ],
   "source": [
    "type(stationHelKaivo[2])    # The station latitude"
   ]
  },
  {
   "cell_type": "markdown",
   "metadata": {},
   "source": [
    "### Adding and removing values from lists\n",
    "\n",
    "Finally, we can add and remove values from lists to change their lengths. Let’s consider that we no longer want to include the first value in the `stationNames` list."
   ]
  },
  {
   "cell_type": "code",
   "execution_count": 37,
   "metadata": {},
   "outputs": [
    {
     "name": "stdout",
     "output_type": "stream",
     "text": [
      "['Helsinki Harmaja', 'Helsinki Kaisaniemi', 'Helsinki Kaivopuisto', 'Helsinki Kumpula']\n"
     ]
    }
   ],
   "source": [
    "print(stationNames)"
   ]
  },
  {
   "cell_type": "code",
   "execution_count": 38,
   "metadata": {},
   "outputs": [],
   "source": [
    "del stationNames[0]"
   ]
  },
  {
   "cell_type": "code",
   "execution_count": 39,
   "metadata": {},
   "outputs": [
    {
     "name": "stdout",
     "output_type": "stream",
     "text": [
      "['Helsinki Kaisaniemi', 'Helsinki Kaivopuisto', 'Helsinki Kumpula']\n"
     ]
    }
   ],
   "source": [
    "print(stationNames)"
   ]
  },
  {
   "cell_type": "markdown",
   "metadata": {},
   "source": [
    "`del` allows values in lists to be removed. It can also be used to delete values from memory in Python. If we would instead like to add a few samples to the stationNames list, we can do so as follows."
   ]
  },
  {
   "cell_type": "code",
   "execution_count": 40,
   "metadata": {},
   "outputs": [],
   "source": [
    "stationNames.append('Helsinki lighthouse')\n",
    "stationNames.append('Helsinki Malmi airfield')"
   ]
  },
  {
   "cell_type": "code",
   "execution_count": 41,
   "metadata": {},
   "outputs": [
    {
     "name": "stdout",
     "output_type": "stream",
     "text": [
      "['Helsinki Kaisaniemi', 'Helsinki Kaivopuisto', 'Helsinki Kumpula', 'Helsinki lighthouse', 'Helsinki Malmi airfield']\n"
     ]
    }
   ],
   "source": [
    "print(stationNames)"
   ]
  },
  {
   "cell_type": "markdown",
   "metadata": {},
   "source": [
    "As you can see, we add values one at a time using `stationNames.append()`. `list.append()` is called a method in Python, which is a function that works for a given data type (a list in this case). We’ll see a bit more about these below."
   ]
  },
  {
   "cell_type": "markdown",
   "metadata": {},
   "source": [
    "### The concept of objects\n",
    "\n",
    "Python is one of a number of computer programming languages that are called ‘object-oriented languages’, and we will focus on this topic in the course module 5. It may take quite some time to understand what this means, but the simple explanation is that we can consider the variables that we define to be ‘objects’ that can contain both data known as **attributes** and a specific set of functions known as **methods**. The previous sentence could also take some time to understand by itself, but using an example the concept of ‘objects’ is much easier to understand."
   ]
  },
  {
   "cell_type": "markdown",
   "metadata": {},
   "source": [
    "### A (bad) example of methods\n",
    "\n",
    "Let’s consider our list `stationNames`. As we know, we already have data in the list `stationNames`, and we can modify that data using built-in methods such as `stationNames.append()`. In this case, the method `append()` is something that exists for lists, but not for other data types. It is intuitive that you might like to add (or append) things to a list, but perhaps it does not make sense to append to other data types."
   ]
  },
  {
   "cell_type": "code",
   "execution_count": 42,
   "metadata": {},
   "outputs": [],
   "source": [
    "stationNameLength = len(stationNames)"
   ]
  },
  {
   "cell_type": "code",
   "execution_count": 43,
   "metadata": {},
   "outputs": [
    {
     "name": "stdout",
     "output_type": "stream",
     "text": [
      "5\n"
     ]
    }
   ],
   "source": [
    "print(stationNameLength)"
   ]
  },
  {
   "cell_type": "code",
   "execution_count": 44,
   "metadata": {},
   "outputs": [
    {
     "data": {
      "text/plain": [
       "int"
      ]
     },
     "execution_count": 44,
     "metadata": {},
     "output_type": "execute_result"
    }
   ],
   "source": [
    "type(stationNameLength)"
   ]
  },
  {
   "cell_type": "code",
   "execution_count": 45,
   "metadata": {},
   "outputs": [
    {
     "ename": "AttributeError",
     "evalue": "'int' object has no attribute 'append'",
     "output_type": "error",
     "traceback": [
      "\u001b[0;31m---------------------------------------------------------------------------\u001b[0m",
      "\u001b[0;31mAttributeError\u001b[0m                            Traceback (most recent call last)",
      "\u001b[0;32m<ipython-input-45-4c1ef8aeb47c>\u001b[0m in \u001b[0;36m<module>\u001b[0;34m\u001b[0m\n\u001b[0;32m----> 1\u001b[0;31m \u001b[0mstationNameLength\u001b[0m\u001b[0;34m.\u001b[0m\u001b[0mappend\u001b[0m\u001b[0;34m(\u001b[0m\u001b[0;36m1\u001b[0m\u001b[0;34m)\u001b[0m\u001b[0;34m\u001b[0m\u001b[0;34m\u001b[0m\u001b[0m\n\u001b[0m",
      "\u001b[0;31mAttributeError\u001b[0m: 'int' object has no attribute 'append'"
     ]
    }
   ],
   "source": [
    "stationNameLength.append(1)"
   ]
  },
  {
   "cell_type": "markdown",
   "metadata": {},
   "source": [
    "Here we get an `AttributeError` because there is no method built in to the `int` data type to append to `int` data. While `append()` makes sense for `list` data, it is not sensible for `int` data, which is the reason no such method exists for `int` data."
   ]
  },
  {
   "cell_type": "markdown",
   "metadata": {},
   "source": [
    "### Some other useful list methods\n",
    "\n",
    "With lists we can do a number of useful things, such as count the number of times a value occurs in a list or where it occurs."
   ]
  },
  {
   "cell_type": "code",
   "execution_count": 46,
   "metadata": {},
   "outputs": [
    {
     "data": {
      "text/plain": [
       "1"
      ]
     },
     "execution_count": 46,
     "metadata": {},
     "output_type": "execute_result"
    }
   ],
   "source": [
    "stationNames.count('Helsinki Kumpula')    # The count method counts the number of occurences of a value"
   ]
  },
  {
   "cell_type": "code",
   "execution_count": 47,
   "metadata": {},
   "outputs": [
    {
     "data": {
      "text/plain": [
       "2"
      ]
     },
     "execution_count": 47,
     "metadata": {},
     "output_type": "execute_result"
    }
   ],
   "source": [
    "stationNames.index('Helsinki Kumpula')    # The index method gives the index value of an item in a list"
   ]
  },
  {
   "cell_type": "markdown",
   "metadata": {},
   "source": [
    "The good news here is that our selected station name is only in the list once. Should we need to modify it for some reason, we also now know where it is in the list (index `2`)."
   ]
  },
  {
   "cell_type": "markdown",
   "metadata": {},
   "source": [
    "### Reversing a list\n",
    "\n",
    "There are two other common methods for lists that we need to see. First, there is the `.reverse()` method, used to reverse the order of items in a list."
   ]
  },
  {
   "cell_type": "code",
   "execution_count": 12,
   "metadata": {},
   "outputs": [],
   "source": [
    "stationNames.reverse()"
   ]
  },
  {
   "cell_type": "code",
   "execution_count": 13,
   "metadata": {},
   "outputs": [
    {
     "name": "stdout",
     "output_type": "stream",
     "text": [
      "['Helsinki Harmaja', 'Helsinki Kaisaniemi', 'Helsinki Kaivopuisto', 'Helsinki Kumpula']\n"
     ]
    }
   ],
   "source": [
    "print(stationNames)"
   ]
  },
  {
   "cell_type": "markdown",
   "metadata": {},
   "source": [
    "Yay, it works!"
   ]
  },
  {
   "cell_type": "markdown",
   "metadata": {},
   "source": [
    "<div class=\"alert alert-warning\">\n",
    "\n",
    "**Caution**\n",
    "\n",
    "A common mistake when sorting lists is to do something like `stationNames = stationNames.reverse()`. **Do not do this!** Lists are mutable and the method `.reverse()` is mutating the list. Also, when reversing lists with `.reverse()` the `None` value is returned (this is why there is no screen ouput when running `stationNames.reverse()`). If you then assign the output of `stationNames.reverse()` to `stationNames` you will reverse the list, but then overwrite its contents with the returned value `None`. This means you’ve deleted the list contents (!).\n",
    "\n",
    "</div>"
   ]
  },
  {
   "cell_type": "markdown",
   "metadata": {},
   "source": [
    "In addition to the info in the warning box above, be aware that copying a list variable to a new variable name first might not save you of this mistake. It won't, because if you copy a list to a new variable name, you do not copy the object, just the reference to the object. See the example below think about the result:"
   ]
  },
  {
   "cell_type": "code",
   "execution_count": 15,
   "metadata": {},
   "outputs": [
    {
     "name": "stdout",
     "output_type": "stream",
     "text": [
      "['Helsinki Kumpula', 'Helsinki Kaivopuisto', 'Helsinki Kaisaniemi', 'Helsinki Harmaja']\n",
      "['Helsinki Kumpula', 'Helsinki Kaivopuisto', 'Helsinki Kaisaniemi', 'Helsinki Harmaja']\n"
     ]
    }
   ],
   "source": [
    "stationNames_copy = stationNames\n",
    "stationNames_copy.reverse()\n",
    "\n",
    "print(stationNames)\n",
    "print(stationNames_copy)"
   ]
  },
  {
   "cell_type": "markdown",
   "metadata": {},
   "source": [
    "Reversing the copy `stationNames_copy` of the list `stationNames`, reverses the object that both variable names refer to. Hence, both names return a reversed list. To make an actual duplicated copy of a variable, you have to generate a new object, not just a new variable name. This is specifically important for list, which have many methods that mutate the list object. To achieve that, you have to make a so-called explicit copy of the list, which works the following way:\n",
    "\n",
    "`newlist = oldlist[:]`.\n",
    "\n",
    "Now try this with the list `stationNames`, below."
   ]
  },
  {
   "cell_type": "code",
   "execution_count": 17,
   "metadata": {},
   "outputs": [
    {
     "name": "stdout",
     "output_type": "stream",
     "text": [
      "['Helsinki Kumpula', 'Helsinki Kaivopuisto', 'Helsinki Kaisaniemi', 'Helsinki Harmaja']\n",
      "['Helsinki Harmaja', 'Helsinki Kaisaniemi', 'Helsinki Kaivopuisto', 'Helsinki Kumpula']\n"
     ]
    }
   ],
   "source": [
    "stationNames_copy2 = stationNames[:]\n",
    "stationNames_copy2.reverse()\n",
    "\n",
    "print(stationNames)\n",
    "print(stationNames_copy2)"
   ]
  },
  {
   "cell_type": "markdown",
   "metadata": {},
   "source": [
    "Now both list objects are sorted in reverse."
   ]
  },
  {
   "cell_type": "markdown",
   "metadata": {},
   "source": [
    "### Sorting a list\n",
    "\n",
    "The `.sort()` method works the same way."
   ]
  },
  {
   "cell_type": "code",
   "execution_count": 50,
   "metadata": {},
   "outputs": [],
   "source": [
    "stationNames.sort()   # Notice no output here..."
   ]
  },
  {
   "cell_type": "code",
   "execution_count": 51,
   "metadata": {},
   "outputs": [
    {
     "name": "stdout",
     "output_type": "stream",
     "text": [
      "['Helsinki Kaisaniemi', 'Helsinki Kaivopuisto', 'Helsinki Kumpula', 'Helsinki Malmi airfield', 'Helsinki lighthouse']\n"
     ]
    }
   ],
   "source": [
    "print(stationNames)"
   ]
  },
  {
   "cell_type": "markdown",
   "metadata": {},
   "source": [
    "As you can see, the list has been sorted alphabetically using the `.sort()` method, but there is no screen output when this occurs. Again, the method `.sort()` mutates the list variable. And if you were to assign that output to `stationNames` the list would get sorted, but the contents would then be assigned `None`."
   ]
  },
  {
   "cell_type": "markdown",
   "metadata": {},
   "source": [
    "<div class=\"alert alert-info\">\n",
    "\n",
    "**Note**\n",
    "\n",
    "As you may have noticed, `Helsinki Malmi airfield` comes before `Helsinki lighthouse` in the sorted list. This is because alphabetical sorting in Python places capital letters before lowercase letters.\n",
    "\n",
    "</div>"
   ]
  },
  {
   "cell_type": "markdown",
   "metadata": {},
   "source": [
    "### Summary of important list methods\n",
    "Below a list of important list methods. Take the time to try these methods and practice their functionality.\n",
    "\n",
    "Table 1: *Important List Methods*\n",
    "\n",
    "| Method       | Description |\n",
    "|--------      |-------------|\n",
    "| `.append(x)`    | Add item x at the end of the list\n",
    "| `.remove(x)`    | Remove first item that is equal to x, from the list\n",
    "| `.count(x)`     | Return the number of items that is equal to x\n",
    "| `.index(x)`     | Return index of first item that is equal to x\n",
    "| `.reverse()`    | Reverse the order of items in a list\n",
    "| `.sort()`       | Sort items in a list in ascending order\n",
    "| `.pop([i])`     | Remove and return item at position i (last item if i is not provided)\n",
    "| `.insert(i, x)` | Insert item x at position i\n",
    "| `.zip()`        | Separates and joins lists of lists\n",
    "\n",
    "More examples and methods can be studied in this tutorial on list methods: https://www.digitalocean.com/community/tutorials/how-to-use-list-methods-in-python-3.\n",
    "\n",
    "In addition, you can perform any sequence operations that you have learned with strings, also with lists. A great summary of available list (sequence) operations and methods can be found here:\n",
    "https://www.tutorialspoint.com/python/python_lists.htm."
   ]
  },
  {
   "cell_type": "markdown",
   "metadata": {},
   "source": [
    "### Lists of lists\n",
    "A list can not just contain and mix numbers and strings, they can also contain lists themselves. For example, we could generate a list `databaseFIM`, which contains all the FMI information at once. Let's first complement the station ID numbers for all stations in the list and then build the database:"
   ]
  },
  {
   "cell_type": "code",
   "execution_count": 1,
   "metadata": {},
   "outputs": [
    {
     "ename": "NameError",
     "evalue": "name 'stationNames' is not defined",
     "output_type": "error",
     "traceback": [
      "\u001b[0;31m---------------------------------------------------------------------------\u001b[0m",
      "\u001b[0;31mNameError\u001b[0m                                 Traceback (most recent call last)",
      "\u001b[0;32m<ipython-input-1-afcbd8c97872>\u001b[0m in \u001b[0;36m<module>\u001b[0;34m\u001b[0m\n\u001b[1;32m      2\u001b[0m \u001b[0mstationLongs\u001b[0m \u001b[0;34m=\u001b[0m \u001b[0;34m[\u001b[0m \u001b[0;36m24.94\u001b[0m\u001b[0;34m,\u001b[0m \u001b[0;36m24.96\u001b[0m\u001b[0;34m,\u001b[0m \u001b[0;36m24.96\u001b[0m\u001b[0;34m,\u001b[0m \u001b[0;36m25.05\u001b[0m\u001b[0;34m,\u001b[0m \u001b[0;36m24.93\u001b[0m \u001b[0;34m]\u001b[0m\u001b[0;34m;\u001b[0m\u001b[0;34m\u001b[0m\u001b[0;34m\u001b[0m\u001b[0m\n\u001b[1;32m      3\u001b[0m \u001b[0mstationIDs\u001b[0m   \u001b[0;34m=\u001b[0m \u001b[0;34m[\u001b[0m\u001b[0;36m100971\u001b[0m\u001b[0;34m,\u001b[0m \u001b[0;36m132310\u001b[0m\u001b[0;34m,\u001b[0m \u001b[0;36m101004\u001b[0m\u001b[0;34m,\u001b[0m \u001b[0;36m101009\u001b[0m\u001b[0;34m,\u001b[0m \u001b[0;36m101003\u001b[0m\u001b[0;34m]\u001b[0m\u001b[0;34m;\u001b[0m\u001b[0;34m\u001b[0m\u001b[0;34m\u001b[0m\u001b[0m\n\u001b[0;32m----> 4\u001b[0;31m \u001b[0mdatabaseFIM\u001b[0m  \u001b[0;34m=\u001b[0m \u001b[0;34m[\u001b[0m\u001b[0mstationNames\u001b[0m\u001b[0;34m,\u001b[0m \u001b[0mstationIDs\u001b[0m\u001b[0;34m,\u001b[0m \u001b[0mstationTypes\u001b[0m\u001b[0;34m,\u001b[0m \u001b[0mstationLats\u001b[0m\u001b[0;34m,\u001b[0m \u001b[0mstationLongs\u001b[0m \u001b[0;34m]\u001b[0m\u001b[0;34m;\u001b[0m\u001b[0;34m\u001b[0m\u001b[0;34m\u001b[0m\u001b[0m\n\u001b[0m",
      "\u001b[0;31mNameError\u001b[0m: name 'stationNames' is not defined"
     ]
    }
   ],
   "source": [
    "stationLats  = [ 60.18, 60.15, 60.20, 60.25, 59.95 ];\n",
    "stationLongs = [ 24.94, 24.96, 24.96, 25.05, 24.93 ];           \n",
    "stationIDs   = [100971, 132310, 101004, 101009, 101003];\n",
    "databaseFIM  = [stationNames, stationIDs, stationTypes, stationLats, stationLongs ];"
   ]
  },
  {
   "cell_type": "markdown",
   "metadata": {},
   "source": [
    "However, simply printing such a nested list won't provide a very illustrative insight, since the lists in the list will just be print after each other:"
   ]
  },
  {
   "cell_type": "code",
   "execution_count": 2,
   "metadata": {},
   "outputs": [
    {
     "ename": "NameError",
     "evalue": "name 'databaseFIM' is not defined",
     "output_type": "error",
     "traceback": [
      "\u001b[0;31m---------------------------------------------------------------------------\u001b[0m",
      "\u001b[0;31mNameError\u001b[0m                                 Traceback (most recent call last)",
      "\u001b[0;32m<ipython-input-2-d8b4262dad44>\u001b[0m in \u001b[0;36m<module>\u001b[0;34m\u001b[0m\n\u001b[0;32m----> 1\u001b[0;31m \u001b[0mprint\u001b[0m\u001b[0;34m(\u001b[0m\u001b[0mdatabaseFIM\u001b[0m\u001b[0;34m)\u001b[0m\u001b[0;34m\u001b[0m\u001b[0;34m\u001b[0m\u001b[0m\n\u001b[0m",
      "\u001b[0;31mNameError\u001b[0m: name 'databaseFIM' is not defined"
     ]
    }
   ],
   "source": [
    "print(databaseFIM)"
   ]
  },
  {
   "cell_type": "markdown",
   "metadata": {},
   "source": [
    "For that, list comprehensions are a very useful coding strategy."
   ]
  },
  {
   "cell_type": "markdown",
   "metadata": {},
   "source": [
    "### List comprehensions\n",
    "\n",
    "List comprehensions allow item by item operation of a sequence. In addition, list Comprehension build a new list by running an expression on each item in a sequence, one at a time, from left to right.\n",
    "\n",
    "<img src=\"M33_Image_ListComprehension.png\" alt=\"Concept of List Comprehensions.\" title=\"List Comprehensions\" width=\"400\" />\n",
    "\n",
    "Figure 2: *Concept of List Comprehensions.*\n",
    "\n",
    "A list, or any other iterable object, provides an input sequence (in the example: `num`). Each items within the sequence is assigned to a variable (in the example: `x`). For that, the in keyword is used in a for loop, to iterate over the sequence. \n",
    "\n",
    "An additional optional predicate (in the example: `x>0`) can be used to set a conditions under which the  variables will proceed to be processed by the output expression (in the example: `x**2`). \n",
    "\n",
    "\n",
    "Using this concept, our FIM database can be print row by row:"
   ]
  },
  {
   "cell_type": "code",
   "execution_count": 57,
   "metadata": {},
   "outputs": [
    {
     "name": "stdout",
     "output_type": "stream",
     "text": [
      "['Helsinki Kaisaniemi', 'Helsinki Kaivopuisto', 'Helsinki Kumpula', 'Helsinki Malmi airfield', 'Helsinki lighthouse']\n",
      "[100971, 132310, 101004, 101009, 101003]\n",
      "['Weather stations', 'Weather stations', 'Mareographs', 'Weather stations']\n",
      "[60.18, 60.15, 60.2, 60.25, 59.95]\n",
      "[24.94, 24.96, 24.96, 25.05, 24.93]\n"
     ]
    }
   ],
   "source": [
    "for datarow in databaseFIM: print(datarow)"
   ]
  },
  {
   "cell_type": "markdown",
   "metadata": {},
   "source": [
    "To access one element of the nested list, indice references are attached together:"
   ]
  },
  {
   "cell_type": "code",
   "execution_count": 58,
   "metadata": {},
   "outputs": [
    {
     "data": {
      "text/plain": [
       "132310"
      ]
     },
     "execution_count": 58,
     "metadata": {},
     "output_type": "execute_result"
    }
   ],
   "source": [
    "databaseFIM[1][1]"
   ]
  },
  {
   "cell_type": "markdown",
   "metadata": {},
   "source": [
    "At this point, it is important to understand that the previous expression does not directly access the second item in the second row. It actually selects the second list in the variable and then the second item in that list.\n",
    "\n",
    "Knowing that, a column of the database (the entry of one selected station) is returned the following way:"
   ]
  },
  {
   "cell_type": "code",
   "execution_count": 59,
   "metadata": {},
   "outputs": [
    {
     "name": "stdout",
     "output_type": "stream",
     "text": [
      "Helsinki Kaivopuisto\n",
      "132310\n",
      "Weather stations\n",
      "60.15\n",
      "24.96\n"
     ]
    }
   ],
   "source": [
    "for datarow in databaseFIM: print(datarow[1])  "
   ]
  },
  {
   "cell_type": "markdown",
   "metadata": {},
   "source": [
    "Alternatively:"
   ]
  },
  {
   "cell_type": "code",
   "execution_count": 60,
   "metadata": {},
   "outputs": [
    {
     "data": {
      "text/plain": [
       "['Helsinki Kaivopuisto', 132310, 'Weather stations', 60.15, 24.96]"
      ]
     },
     "execution_count": 60,
     "metadata": {},
     "output_type": "execute_result"
    }
   ],
   "source": [
    "[datarow[1] for datarow in databaseFIM]"
   ]
  },
  {
   "cell_type": "markdown",
   "metadata": {},
   "source": [
    "Now, one might say, the database should have been structured the other way around (colums and rows inverted). And that might be a valid statement, depending on what are the further tasks to solve. The way lists are nested, should be chosen wisely by the programmer.\n",
    "\n",
    "### Another simpler example for list comprehensions: Printing a nested list like a matrix\n",
    "In the following example nested lists are used to build a 3x3 matrix. Then list comprehension is applied to print the matrix as well as selected items, rows and columns."
   ]
  },
  {
   "cell_type": "code",
   "execution_count": 61,
   "metadata": {},
   "outputs": [],
   "source": [
    "num = [[1, 2, 3], [4, 5, 6], [7, 8, 9]]"
   ]
  },
  {
   "cell_type": "markdown",
   "metadata": {},
   "source": [
    "The variable `num` is now a list of lists and it could be treated like a matrix. The sublist `num[0]` is a list (and so are `num[1]` and `num[2]`). To view the entire matrix:"
   ]
  },
  {
   "cell_type": "code",
   "execution_count": 62,
   "metadata": {},
   "outputs": [
    {
     "name": "stdout",
     "output_type": "stream",
     "text": [
      "[1, 2, 3]\n",
      "[4, 5, 6]\n",
      "[7, 8, 9]\n"
     ]
    }
   ],
   "source": [
    "for x in num: print(x)"
   ]
  },
  {
   "cell_type": "markdown",
   "metadata": {},
   "source": [
    "Also single matrix elements can be accessed:"
   ]
  },
  {
   "cell_type": "code",
   "execution_count": 63,
   "metadata": {},
   "outputs": [
    {
     "data": {
      "text/plain": [
       "5"
      ]
     },
     "execution_count": 63,
     "metadata": {},
     "output_type": "execute_result"
    }
   ],
   "source": [
    "num[1][1]"
   ]
  },
  {
   "cell_type": "markdown",
   "metadata": {},
   "source": [
    "To retrieve the second row, type:"
   ]
  },
  {
   "cell_type": "code",
   "execution_count": 64,
   "metadata": {},
   "outputs": [
    {
     "data": {
      "text/plain": [
       "[4, 5, 6]"
      ]
     },
     "execution_count": 64,
     "metadata": {},
     "output_type": "execute_result"
    }
   ],
   "source": [
    "num[1]"
   ]
  },
  {
   "cell_type": "markdown",
   "metadata": {},
   "source": [
    "How can you retrieve the second column? Try to code this in the following cell."
   ]
  },
  {
   "cell_type": "code",
   "execution_count": null,
   "metadata": {},
   "outputs": [],
   "source": []
  },
  {
   "cell_type": "markdown",
   "metadata": {},
   "source": [
    "And now, write a list comprehension that returns only the even numbers from 0 to 10. Tip: Investigate and use the built in command `range()`."
   ]
  },
  {
   "cell_type": "code",
   "execution_count": null,
   "metadata": {},
   "outputs": [],
   "source": []
  },
  {
   "cell_type": "markdown",
   "metadata": {},
   "source": [
    "If you like to further reflect list comprehensions, this page provides some useful examples to study them: https://www.digitalocean.com/community/tutorials/understanding-list-comprehensions-in-python-3"
   ]
  }
 ],
 "metadata": {
  "kernelspec": {
   "display_name": "Python 3",
   "language": "python",
   "name": "python3"
  },
  "language_info": {
   "codemirror_mode": {
    "name": "ipython",
    "version": 3
   },
   "file_extension": ".py",
   "mimetype": "text/x-python",
   "name": "python",
   "nbconvert_exporter": "python",
   "pygments_lexer": "ipython3",
   "version": "3.7.4"
  }
 },
 "nbformat": 4,
 "nbformat_minor": 2
}
