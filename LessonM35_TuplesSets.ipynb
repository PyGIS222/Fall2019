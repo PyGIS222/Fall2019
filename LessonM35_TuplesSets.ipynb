{
 "cells": [
  {
   "cell_type": "markdown",
   "metadata": {},
   "source": [
    "[![Google Colab](https://colab.research.google.com/assets/colab-badge.svg)](https://colab.research.google.com/github/PyGIS222/Fall2019/blob/master/LessonM35_TuplesSets.ipynb)\n",
    "\n",
    "[![Binder](https://mybinder.org/badge_logo.svg)](https://mybinder.org/v2/gh/PyGIS222/Fall2019/master?filepath=LessonM35_TuplesSets.ipynb)"
   ]
  },
  {
   "cell_type": "markdown",
   "metadata": {},
   "source": [
    "### Notebook Lesson 3.5\n",
    "\n",
    "# Object Types: Tuples and Sets\n",
    "\n",
    "This Jupyter Notebook is part of Module 3 of the course GIS222 (Fall2019).\n",
    "\n",
    "This lesson discusses the Python object types **Tuples** and **Sets**. Carefully study the content of this Notebook and use the chance to reflect the material through the interactive examples.\n",
    "\n",
    "### Sources\n",
    "Part A of this lesson was inspired by the page [Understanding Tuples in Python 3](https://www.digitalocean.com/community/tutorials/understanding-tuples-in-python-3) of the [Digital Ocean Community](https://www.digitalocean.com/community).\n",
    "\n",
    "---"
   ]
  },
  {
   "cell_type": "markdown",
   "metadata": {},
   "source": [
    "# Part A: Introduction"
   ]
  },
  {
   "cell_type": "markdown",
   "metadata": {},
   "source": [
    "Table 1 summarizes categories and literals of complex data containers in Python. That gives a first idea how *Tuples* and *Sets* distinguish from *Lists* and *Dictionaries*.\n",
    "\n",
    "Table 1. *Literals of Composite Complex Data Containers in Python*\n",
    "\n",
    "| Container      | Category   |  Denotation  |  Feature    |  Examples  | \n",
    "| ---------:    | :---------:|  :---------: | :---------: | :--------: |\n",
    "| **List**       | Sequence   | `( [ ] )`    | mutable     | `[‘a’, ‘b’, ‘c’]` |\n",
    "| **Dictionary** |  Mapping   | `{'key: value', ...}` | mutable | `{‘Alice’: ‘38’, ‘Beth’: ‘35’}` |\n",
    "| **Tuple**      | Sequence   | `( ( ) )`    | immutable   | `(‘a’, ‘b’, ‘c’)` |\n",
    "| **Set**        | Set        | `set()`   |  mutable   | `set(['a', 'c', 'e'])` |\n",
    "\n",
    "Tuples are immutable sequences, they are used for grouping data. Sets are mutable, but they are a completely new category, which derives from mathematical set theories. Below, both object types are introduced separately."
   ]
  },
  {
   "cell_type": "markdown",
   "metadata": {},
   "source": [
    "# Part B: Tuples\n",
    "\n",
    "\n",
    "A tuple is a data structure that is an immutable, or unchangeable, ordered sequence of elements. A tuple is similar to a list, except for their mutability. Because tuples are immutable, their values cannot be modified and they do not come with methods that would change these objects in place. \n",
    "\n",
    "A tuple in Python looks like this:"
   ]
  },
  {
   "cell_type": "code",
   "execution_count": 2,
   "metadata": {},
   "outputs": [],
   "source": [
    "coral = ('blue coral', 'staghorn coral', 'pillar coral', 'elkhorn coral')"
   ]
  },
  {
   "cell_type": "markdown",
   "metadata": {},
   "source": [
    "Tuples have values between parentheses `( )` separated by commas `,`. Each element or value that is inside of a tuple is called an item.\n",
    "\n",
    "Empty tuples will appear as `coral = ()`, but tuples with even one value must use a comma as in `coral = ('blue coral',)`. This is because, if a tuple sequence is assigned with only one number, the respective literal could not be distingisued from assigning an integer number:"
   ]
  },
  {
   "cell_type": "code",
   "execution_count": 161,
   "metadata": {},
   "outputs": [
    {
     "data": {
      "text/plain": [
       "(int, tuple)"
      ]
     },
     "execution_count": 161,
     "metadata": {},
     "output_type": "execute_result"
    }
   ],
   "source": [
    "a=(40)\n",
    "b=(40,)\n",
    "type(a), type(b)"
   ]
  },
  {
   "cell_type": "markdown",
   "metadata": {},
   "source": [
    "Now, if we `print()` the tuple above, we’ll receive the following output, with the tuple still typed by parentheses:"
   ]
  },
  {
   "cell_type": "code",
   "execution_count": 162,
   "metadata": {},
   "outputs": [
    {
     "name": "stdout",
     "output_type": "stream",
     "text": [
      "('blue coral', 'staghorn coral', 'pillar coral', 'elkhorn coral')\n"
     ]
    }
   ],
   "source": [
    "print(coral)"
   ]
  },
  {
   "cell_type": "markdown",
   "metadata": {},
   "source": [
    "When thinking about Python tuples and other data structures that are types of collections, it is useful to consider all the different collections you have on your computer: your assortment of files, your song playlists, your browser bookmarks, your emails, the collection of videos you can access on a streaming service, and more.\n",
    "\n",
    "Tuples are similar to lists, but their values can’t be modified. Because of this, when you use tuples in your code, you are conveying to others that you don’t intend for there to be changes to that sequence of values. Additionally, because the values do not change, your code can be optimized through the use of tuples in Python, as the code will be slightly faster for tuples than for lists.\n",
    "\n",
    "### Indexing Tuples\n",
    "\n",
    "As an ordered sequence of elements, each item in a tuple can be called individually, through indexing. This is done based on sequence operations and it done in congruence to lists. \n",
    "\n",
    "Each item corresponds to an index number, which is an integer value, starting with the index number `0`. Because each item in a Python tuple has a corresponding index number, we can call a discrete item of the tuple by referring to its index number:\n",
    "\n",
    "`coral[0]` calls the item `'blue coral'`       <br>\n",
    "`coral[1]` calls the item  `'staghorn coral'`  <br>\n",
    "`coral[2]` calls the item `'pillar coral'`     <br>\n",
    "`coral[3]` calls the item `'elkhorn coral'`\n",
    "\n",
    "If we call the tuple coral with an index number of any that is greater than `3`, it will be out of range as it will not be valid. Instead, an `IndexError` will be raised:"
   ]
  },
  {
   "cell_type": "code",
   "execution_count": 128,
   "metadata": {},
   "outputs": [
    {
     "ename": "IndexError",
     "evalue": "tuple index out of range",
     "output_type": "error",
     "traceback": [
      "\u001b[0;31m---------------------------------------------------------------------------\u001b[0m",
      "\u001b[0;31mIndexError\u001b[0m                                Traceback (most recent call last)",
      "\u001b[0;32m<ipython-input-128-28f37ae0c78b>\u001b[0m in \u001b[0;36m<module>\u001b[0;34m\u001b[0m\n\u001b[0;32m----> 1\u001b[0;31m \u001b[0mprint\u001b[0m\u001b[0;34m(\u001b[0m\u001b[0mcoral\u001b[0m\u001b[0;34m[\u001b[0m\u001b[0;36m22\u001b[0m\u001b[0;34m]\u001b[0m\u001b[0;34m)\u001b[0m\u001b[0;34m\u001b[0m\u001b[0;34m\u001b[0m\u001b[0m\n\u001b[0m",
      "\u001b[0;31mIndexError\u001b[0m: tuple index out of range"
     ]
    }
   ],
   "source": [
    "print(coral[22])"
   ]
  },
  {
   "cell_type": "markdown",
   "metadata": {},
   "source": [
    "In addition to positive index numbers, we can also access items from the tuple with a negative index number, by counting backwards from the end of the tuple, starting at `-1`. This is especially useful if we have a long tuple and we want to pinpoint an item towards the end of a tuple.\n",
    "\n",
    "For the same tuple coral, the negative index breakdown looks like this:\n",
    "\n",
    "\n",
    "`coral[-4]` calls the item `'blue coral'`       <br>\n",
    "`coral[-3]` calls the item  `'staghorn coral'`  <br>\n",
    "`coral[-2]` calls the item `'pillar coral'`     <br>\n",
    "`coral[-1]` calls the item `'elkhorn coral'`\n"
   ]
  },
  {
   "cell_type": "markdown",
   "metadata": {},
   "source": [
    "### Further Sequence Operations with Tuples\n",
    "\n",
    "Since tuples are sequences, most sequence operations that are relevant for lists are also relevant for tuples, as long as they do not mutate the sequence.\n",
    "\n",
    "#### Slicing\n",
    "\n",
    "Slices allow us to call multiple values by creating a range of index numbers separated by a colon `[x:y]`. To just print the middle items of coral, we can do so by creating a slice. Remember, the first index number is where the slice starts (inclusive), and the second index number is where the slice ends (exclusive), which is why the following example prints the items at position 1 and 2: "
   ]
  },
  {
   "cell_type": "code",
   "execution_count": 14,
   "metadata": {},
   "outputs": [
    {
     "name": "stdout",
     "output_type": "stream",
     "text": [
      "('staghorn coral', 'pillar coral')\n"
     ]
    }
   ],
   "source": [
    "print(coral[1:3])"
   ]
  },
  {
   "cell_type": "markdown",
   "metadata": {},
   "source": [
    "If we want to include either end of the list, we can omit one of the numbers in the tuple slicing syntax. And we can also use negative index numbers when slicing tuples, just like with positive index numbers:"
   ]
  },
  {
   "cell_type": "code",
   "execution_count": 17,
   "metadata": {},
   "outputs": [
    {
     "name": "stdout",
     "output_type": "stream",
     "text": [
      "('blue coral', 'staghorn coral', 'pillar coral')\n"
     ]
    }
   ],
   "source": [
    "print(coral[:-1])"
   ]
  },
  {
   "cell_type": "markdown",
   "metadata": {},
   "source": [
    "One last parameter that we can use with slicing of sequences, inclduing tuples, is called stride, which refers to how many items to move forward after the first item is retrieved from the tuple. So far, we have omitted the stride parameter, and Python defaults to the stride of 1, so that every item between two index numbers is retrieved.\n",
    "\n",
    "The syntax for this construction is `tuple[x:y:z]`, with z referring to stride. Let’s make a larger list, then slice it, and give the stride a value of 2. The example below prints only every second item from `1` (inclusive) until `11` (exclusive):"
   ]
  },
  {
   "cell_type": "code",
   "execution_count": 21,
   "metadata": {},
   "outputs": [
    {
     "name": "stdout",
     "output_type": "stream",
     "text": [
      "(1, 3, 5, 7, 9)\n"
     ]
    }
   ],
   "source": [
    "numbers = (0, 1, 2, 3, 4, 5, 6, 7, 8, 9, 10, 11, 12)\n",
    "print(numbers[1:11:2])"
   ]
  },
  {
   "cell_type": "markdown",
   "metadata": {},
   "source": [
    "We can omit the first two parameters and use stride alone as a parameter with the syntax `tuple[::z]`. Here an example to print every third tuple item:"
   ]
  },
  {
   "cell_type": "code",
   "execution_count": 22,
   "metadata": {},
   "outputs": [
    {
     "name": "stdout",
     "output_type": "stream",
     "text": [
      "(0, 3, 6, 9, 12)\n"
     ]
    }
   ],
   "source": [
    "print(numbers[::3])"
   ]
  },
  {
   "cell_type": "markdown",
   "metadata": {},
   "source": [
    "#### Concatenating and Multiplying Tuples\n",
    "\n",
    "Operators can be used to concatenate or multiply tuples. Concatenation is done with the `+` operator, and multiplication is done with the `*` operator. \n",
    "\n",
    "We can concatenate string items in a tuple with other strings using the `+` operator:"
   ]
  },
  {
   "cell_type": "code",
   "execution_count": 24,
   "metadata": {},
   "outputs": [
    {
     "name": "stdout",
     "output_type": "stream",
     "text": [
      "This reef is made up of staghorn coral\n"
     ]
    }
   ],
   "source": [
    "print('This reef is made up of ' + coral[1])"
   ]
  },
  {
   "cell_type": "markdown",
   "metadata": {},
   "source": [
    "We were able to concatenate the string item at index number `0` with the string `'This reef is made up of '`. We can also use the `+` operator to concatenate two or more tuples together."
   ]
  },
  {
   "cell_type": "code",
   "execution_count": 73,
   "metadata": {},
   "outputs": [
    {
     "name": "stdout",
     "output_type": "stream",
     "text": [
      "('blue coral', 'staghorn coral', 'pillar coral', 'elkhorn coral', 'wakame', 'alaria', 'deep-sea tangle', 'macrocystis')\n"
     ]
    }
   ],
   "source": [
    "coral = ('blue coral', 'staghorn coral', 'pillar coral', 'elkhorn coral')\n",
    "kelp = ('wakame', 'alaria', 'deep-sea tangle', 'macrocystis')\n",
    "coral_kelp = (coral + kelp)\n",
    "print(coral_kelp)"
   ]
  },
  {
   "cell_type": "markdown",
   "metadata": {},
   "source": [
    "Because the `+` operator can concatenate, it can be used to combine tuples to form a new tuple, though it cannot modify an existing tuple.\n",
    "\n",
    "The `*` operator can be used to multiply tuples. Perhaps you need to make copies of all the files in a directory onto a server or share a playlist with friends — in these cases you would need to multiply collections of data.\n",
    "\n",
    "Let’s multiply the `coral` tuple by `2` and the kelp tuple by `3`, and assign those to new tuples:"
   ]
  },
  {
   "cell_type": "code",
   "execution_count": 27,
   "metadata": {},
   "outputs": [],
   "source": [
    "multiplied_coral = coral * 2\n",
    "multiplied_kelp = kelp * 3"
   ]
  },
  {
   "cell_type": "code",
   "execution_count": 28,
   "metadata": {},
   "outputs": [
    {
     "name": "stdout",
     "output_type": "stream",
     "text": [
      "('blue coral', 'staghorn coral', 'pillar coral', 'elkhorn coral', 'blue coral', 'staghorn coral', 'pillar coral', 'elkhorn coral')\n"
     ]
    }
   ],
   "source": [
    "print(multiplied_coral)"
   ]
  },
  {
   "cell_type": "code",
   "execution_count": 29,
   "metadata": {},
   "outputs": [
    {
     "name": "stdout",
     "output_type": "stream",
     "text": [
      "('wakame', 'alaria', 'deep-sea tangle', 'macrocystis', 'wakame', 'alaria', 'deep-sea tangle', 'macrocystis', 'wakame', 'alaria', 'deep-sea tangle', 'macrocystis')\n"
     ]
    }
   ],
   "source": [
    "print(multiplied_kelp)"
   ]
  },
  {
   "cell_type": "markdown",
   "metadata": {},
   "source": [
    "By using the `*` operator we can replicate our tuples by the number of times we specify, creating new tuples based on the original data sequence.\n",
    "\n",
    "### How Tuples Differ from Lists\n",
    "\n",
    "The primary way in which tuples are different from lists is that they cannot be modified. This means that items cannot be added to or removed from tuples, and items cannot be replaced within tuples. (You can, however, concatenate two or more tuples to form a new tuple, as we have seen in the examples above.)\n",
    "\n",
    "Let’s consider our coral tuple. Say we want to replace the item 'blue coral' with a different item called 'black coral'. If we try to change that output the same way we do with a list, ..."
   ]
  },
  {
   "cell_type": "code",
   "execution_count": 64,
   "metadata": {},
   "outputs": [
    {
     "ename": "TypeError",
     "evalue": "'tuple' object does not support item assignment",
     "output_type": "error",
     "traceback": [
      "\u001b[0;31m---------------------------------------------------------------------------\u001b[0m",
      "\u001b[0;31mTypeError\u001b[0m                                 Traceback (most recent call last)",
      "\u001b[0;32m<ipython-input-64-53e7b67e7547>\u001b[0m in \u001b[0;36m<module>\u001b[0;34m\u001b[0m\n\u001b[0;32m----> 1\u001b[0;31m \u001b[0mcoral\u001b[0m\u001b[0;34m[\u001b[0m\u001b[0;36m0\u001b[0m\u001b[0;34m]\u001b[0m \u001b[0;34m=\u001b[0m \u001b[0;34m'black coral'\u001b[0m\u001b[0;34m\u001b[0m\u001b[0;34m\u001b[0m\u001b[0m\n\u001b[0m",
      "\u001b[0;31mTypeError\u001b[0m: 'tuple' object does not support item assignment"
     ]
    }
   ],
   "source": [
    "coral[0] = 'black coral'"
   ]
  },
  {
   "cell_type": "markdown",
   "metadata": {},
   "source": [
    "... we will receive a `TypeError`. This is because tuples cannot be modified.\n",
    "\n",
    "#### Literals & Type Conversion\n",
    "\n",
    "If we create a tuple and decide what we really need is a list, we can convert it to a list. To convert a tuple to a list, we can do so with `list()`. After that, the `coral` object type will be a list:"
   ]
  },
  {
   "cell_type": "code",
   "execution_count": 122,
   "metadata": {},
   "outputs": [
    {
     "data": {
      "text/plain": [
       "['blue coral', 'staghorn coral', 'pillar coral', 'elkhorn coral']"
      ]
     },
     "execution_count": 122,
     "metadata": {},
     "output_type": "execute_result"
    }
   ],
   "source": [
    "list(coral)"
   ]
  },
  {
   "cell_type": "markdown",
   "metadata": {},
   "source": [
    "We can see that the tuple was converted to a list because the parentheses changed to square brackets.\n",
    "\n",
    "Likewise, we can convert lists to tuples with tuple()."
   ]
  },
  {
   "cell_type": "code",
   "execution_count": 123,
   "metadata": {},
   "outputs": [
    {
     "data": {
      "text/plain": [
       "[15.6, 2.7, 3.9, 61.4, 32.9, 100.2, 55.3]"
      ]
     },
     "execution_count": 123,
     "metadata": {},
     "output_type": "execute_result"
    }
   ],
   "source": [
    "list(tuple(a_list))  # converting a list into a tuple, then back into a list"
   ]
  },
  {
   "cell_type": "markdown",
   "metadata": {},
   "source": [
    "#### Nesting\n",
    "Similarly to lists and dictionaries, tuples can be nested. For example a tuple can be nested in a tuple:"
   ]
  },
  {
   "cell_type": "code",
   "execution_count": 124,
   "metadata": {},
   "outputs": [
    {
     "name": "stdout",
     "output_type": "stream",
     "text": [
      "(1, 2, 3, (1, 2, 3))\n"
     ]
    }
   ],
   "source": [
    "at=(1,2,3,(1,2,3))\n",
    "print(at)"
   ]
  },
  {
   "cell_type": "markdown",
   "metadata": {},
   "source": [
    "#### Tuples as Keys in Dictionaries\n",
    "In contrast to lists, tuples can also be used as keys in dictionaries. The following cell creates a dictionary `dict1` with three entries, where the last contains a tuple as a key. Then the dictionary is print to screen. Study the example and how tuples can be used as key's:"
   ]
  },
  {
   "cell_type": "code",
   "execution_count": 125,
   "metadata": {},
   "outputs": [
    {
     "name": "stdout",
     "output_type": "stream",
     "text": [
      "5  :  number\n",
      "to  :  string\n",
      "(1, 'a')  :  tuple\n"
     ]
    }
   ],
   "source": [
    "dict1 = {5:\"number\",\"to\":\"string\",(1,\"a\"):\"tuple\"}\n",
    "for x in d1.keys(): print(x,' : ',d1[x])"
   ]
  },
  {
   "cell_type": "markdown",
   "metadata": {},
   "source": [
    "#### List comprehensions\n",
    "Tuples can be processed by list comprehensions. Now, let's use *list comprehensions*. Try to generate a new list that bases on the tuple `a_tuple` and returns the square of each item. What object type does the operation return, a tuple or a list? And why is that so?"
   ]
  },
  {
   "cell_type": "code",
   "execution_count": 126,
   "metadata": {},
   "outputs": [],
   "source": [
    "a_tuple = (15.6, 2.7, 3.9, 61.4, 32.9, 100.2, 55.3)"
   ]
  },
  {
   "cell_type": "code",
   "execution_count": 127,
   "metadata": {},
   "outputs": [],
   "source": [
    "             # add your list comprehension on a_tuple here"
   ]
  },
  {
   "cell_type": "markdown",
   "metadata": {},
   "source": [
    "### Tuple Built-in Functions & Methods\n",
    "\n",
    "There are a few built-in functions that work with tuples. In general, most built-in functions that work with sequences, do work with tuples. For sequence methods, however, only few of them work, because often methods alter a sequence and tuples are not mutable. Some examples are given in Table 2:\n",
    "\n",
    "Table 2: *Built-in Tuple Functions & Methods*\n",
    "\n",
    "| Built-in Functions & Methods | Description |\n",
    "| :-: | :-: |\n",
    "| len()               | Gives the total length of the tuple. |\n",
    "| min()               | Returns item from the tuple with min value. |\n",
    "| max()               | Returns item from the tuple with max value. |\n",
    "| sum()               | Add items. |\n",
    "returns reversed iterator of a sequence \n",
    "| tuple(seq)          | Converts a list into tuple. |\n",
    "| .index()       | Gives the total length of the tuple. |\n",
    "| .count()       | Gives the total length of the tuple. |\n",
    "\n",
    "Experiment executing these functions using the tuples `numbers`, `coral` and `kelp` in the following cells."
   ]
  },
  {
   "cell_type": "code",
   "execution_count": 163,
   "metadata": {},
   "outputs": [
    {
     "name": "stdout",
     "output_type": "stream",
     "text": [
      "(15.6, 2.7, 3.9, 61.4, 32.9, 100.2, 55.3)\n"
     ]
    }
   ],
   "source": [
    "a_list = [15.6, 2.7, 3.9, 61.4, 32.9, 100.2, 55.3]\n",
    "a_tuple = tuple(a_list)      # converts the a list into a tuple\n",
    "print(a_tuple)"
   ]
  },
  {
   "cell_type": "code",
   "execution_count": 153,
   "metadata": {},
   "outputs": [],
   "source": [
    "              # try the function len()"
   ]
  },
  {
   "cell_type": "code",
   "execution_count": 154,
   "metadata": {},
   "outputs": [],
   "source": [
    "              # try the function min()"
   ]
  },
  {
   "cell_type": "code",
   "execution_count": 155,
   "metadata": {},
   "outputs": [],
   "source": [
    "              # try the function max()"
   ]
  },
  {
   "cell_type": "code",
   "execution_count": 156,
   "metadata": {},
   "outputs": [
    {
     "data": {
      "text/plain": [
       "2"
      ]
     },
     "execution_count": 156,
     "metadata": {},
     "output_type": "execute_result"
    }
   ],
   "source": [
    "a_tuple.index(3.9) # try the method .index()"
   ]
  },
  {
   "cell_type": "code",
   "execution_count": 157,
   "metadata": {},
   "outputs": [],
   "source": [
    "              # try the method .count()"
   ]
  },
  {
   "cell_type": "markdown",
   "metadata": {},
   "source": [
    "### Tuple Summary\n",
    "\n",
    "Tuples are an ordered and immutable collection of arbitrary objects that has a fixed-length.\n",
    "The fact that the tuple data type is a sequenced data type that cannot be modified, offers optimization to your programs. Tuples are a somewhat faster type than lists for Python to process. When others collaborate with you on your code, your use of tuples will convey to them that you don’t intend for those sequences of values to be modified. Besides that, tuples might have advantages for certain data types. Due to their immutability, they can take over the rolse of a *constant* declaration. Most commonly they are used as dictionary keys (in contrast to lists), as keys must be immutable, too. This is helpful, when generating larger dictionaries and to use entire datasets as keys. \n",
    "\n",
    "Most sequence operations that work on strings and lists, work also on tuples: \n",
    "* Values/items are indexed by integers \n",
    "* Slicing, concatenating, repetition  \n",
    "* List comprehensions are applicable\n",
    "* Nesting\n",
    " \n",
    "The following page provides a comprehensive overview of tuple operands and functions:\n",
    "https://www.tutorialspoint.com/python3/python_tuples.htm    "
   ]
  },
  {
   "cell_type": "markdown",
   "metadata": {},
   "source": [
    "# Part C: Sets"
   ]
  },
  {
   "cell_type": "markdown",
   "metadata": {},
   "source": [
    "### Introduction\n",
    "\n",
    "As one of the most fundamental concepts in mathematics, set theory is a branch of mathematical logic that studies sets. Therein, a set is an \"*unordered collection of unique and immutable objects that supports operations corresponding to* ***mathematical set theory***\". \n",
    "\n",
    "<img src=\"M35_Image_SetExample.png\" alt=\"Illustrating Sets.\" title=\"A Set\" width=\"300\" />\n",
    "Figure 1: *A Set of Geometric Objects*\n",
    "\n",
    "For example, the graphic above shows a collection of geometric objects, with each being distinctly different from the other. Such an collection of distinct objects is considered as an object in its own right. The purpose of sets is to construct and manipulate unsorted collections of unique elements, in order to support mathematical applications or to analyze complex data structures. For the set in Figure 1, we might be interested in finding geometrical objects that have four corners and are of color green. For such an analysis set theory concept *Intersection* would help us (Figure 2). Major concepts in set theory are explained in Table 3.\n",
    "\n",
    "<img src=\"M35_Image_SetTheoryOperation.png\" alt=\"Illustrating Set Theory.\" title=\"Set Theory\" width=\"300\" />\n",
    "\n",
    "Figure 2: *A Venn Diagram Ilustrating the Intersection of two Sets.* [Source: Wikipedia](https://en.wikipedia.org/wiki/Set_theory) \n",
    "\n",
    "\n",
    "\n",
    "Table 3: *Set Theory Concepts* [Source: Wikipedia](https://en.wikipedia.org/wiki/Set_theory) \n",
    "\n",
    "| Set Theory Concept | Description |\n",
    "| :-: | :- |\n",
    "| Membership | Set theory begins with a fundamental binary relation between an object o and a set A. If o is a member (or element) of A, the notation o ∈ A is used. |\n",
    "| Subset / Superset | A derived binary relation between two sets is the subset relation, also called set inclusion. If all the members of set A are also members of set B, then A is a subset of B, denoted A ⊆ B. For example, {1, 2} is a subset of {1, 2, 3} , and so is {2} but {1, 4} is not. B is also called superset of A.|\n",
    "| Union | Union of the sets A and B, denoted A ∪ B, is the set of all objects that are a member of A, or B, or both. The union of {1, 2, 3} and {2, 3, 4} is the set {1, 2, 3, 4}. |\n",
    "| Intersection | Intersection of the sets A and B, denoted A ∩ B, is the set of all objects that are members of both A and B. The intersection of {1, 2, 3} and {2, 3, 4} is the set {2, 3}. |\n",
    "| Difference | Set difference of U and A, denoted U \\ A, is the set of all members of U that are not members of A. The set difference {1, 2, 3} \\ {2, 3, 4} is {1} , while, conversely, the set difference {2, 3, 4} \\ {1, 2, 3} is {4}.\n",
    "\n",
    "\n",
    "\n",
    "Sets can be derived from data lists. For example, a list of numbers may contain repeating entries. However, we can generate a set from a list, if we select each item only once from the original list:\n",
    "\n",
    "Table 4: *Example for a Set of a List of Numbers*\n",
    "\n",
    "| Type / Member | 1 | 2 | 3 | 4 | 5 | 6 |\n",
    "| -:            |:-:|:-:|:-:|:-:|:-:|:-:|\n",
    "|List:          | 0 | 7 | 2 | 7 | 0 | 4 |\n",
    "|Set:           | 7 | 0 | 4 | 2 | 1 |   |\n",
    "\n",
    "Table 5: *Example for a Set of a List of Animals (Strings)*\n",
    "\n",
    "| Type / Member | 1     | 2   |  3    |  4  |   5  |   6   |\n",
    "| -:            | :-:   | :-: | :-:   | :-: |  :-: |  :-  :|\n",
    "| List:         | dog   | cat | mouse | cat | duck | mouse |\n",
    "| Set:          | mouse | dog | cat   | duck|      |       |\n",
    "\n",
    "In geographical data analysis, the concepts of sets and set theory can help to find spatial objects that match two conditions, for example:\n",
    "* Combining two regions' animal species to get a collection\n",
    "* Receiving coordinates of certain buildings in a certain region\n",
    "* Finding a French style restaurant near a park\n",
    "\n",
    "### Sets in Python\n",
    "\n",
    "As the examples illustrate, sets are unordered, they contain no duplicates. Hence, they are neither maps nor sequences, but they present us with a completely separate category of objects. Consequently, Python provides an object type for *Sets*. \n",
    "\n",
    "To generate a set from any sequence, the literal `set()` is used:\n"
   ]
  },
  {
   "cell_type": "code",
   "execution_count": 168,
   "metadata": {},
   "outputs": [
    {
     "name": "stdout",
     "output_type": "stream",
     "text": [
      "{'e', 'd', 'c', 'b', 'a'}\n"
     ]
    }
   ],
   "source": [
    "x = set('abcde')\n",
    "print(x)"
   ]
  },
  {
   "cell_type": "code",
   "execution_count": 169,
   "metadata": {},
   "outputs": [
    {
     "data": {
      "text/plain": [
       "set"
      ]
     },
     "execution_count": 169,
     "metadata": {},
     "output_type": "execute_result"
    }
   ],
   "source": [
    "type(x)"
   ]
  },
  {
   "cell_type": "markdown",
   "metadata": {},
   "source": [
    "Note that sets contain immutable objects, but sets themselves are mutable. Therefore, sets can embed tuples and strings (which are immutable), but once sets are created, they cannot contain any lists or dictionaries (because they are mutable). However, lists can be used to create a set, exactly like illustrated by the examples of Table 4 and 5, above."
   ]
  },
  {
   "cell_type": "code",
   "execution_count": 278,
   "metadata": {},
   "outputs": [
    {
     "name": "stdout",
     "output_type": "stream",
     "text": [
      "{0, 2, 4, 7}\n"
     ]
    }
   ],
   "source": [
    "numberList = [0, 7, 2, 7, 0, 4]\n",
    "numberSet = set(numberList)\n",
    "print(numberSet)"
   ]
  },
  {
   "cell_type": "code",
   "execution_count": 279,
   "metadata": {},
   "outputs": [
    {
     "name": "stdout",
     "output_type": "stream",
     "text": [
      "{'mouse', 'dog', 'cat', 'duck'}\n"
     ]
    }
   ],
   "source": [
    "AnimalList = ['dog', 'cat', 'mouse', 'cat', 'duck', 'mouse']\n",
    "AnimalSet = set(AnimalList)\n",
    "print(AnimalSet)"
   ]
  },
  {
   "cell_type": "markdown",
   "metadata": {},
   "source": [
    "### Set Theory Concepts in Python\n",
    "\n",
    "The following literals are used to perform set theory concepts:"
   ]
  },
  {
   "cell_type": "code",
   "execution_count": 274,
   "metadata": {},
   "outputs": [],
   "source": [
    "x = set('abcde')\n",
    "y = set('bdxyz')"
   ]
  },
  {
   "cell_type": "code",
   "execution_count": 192,
   "metadata": {},
   "outputs": [
    {
     "data": {
      "text/plain": [
       "True"
      ]
     },
     "execution_count": 192,
     "metadata": {},
     "output_type": "execute_result"
    }
   ],
   "source": [
    "'e' in x        # Membership of 'e' in set x      "
   ]
  },
  {
   "cell_type": "code",
   "execution_count": 193,
   "metadata": {},
   "outputs": [
    {
     "data": {
      "text/plain": [
       "False"
      ]
     },
     "execution_count": 193,
     "metadata": {},
     "output_type": "execute_result"
    }
   ],
   "source": [
    "x < y           # Subset: is x subset of y"
   ]
  },
  {
   "cell_type": "code",
   "execution_count": 255,
   "metadata": {},
   "outputs": [
    {
     "data": {
      "text/plain": [
       "False"
      ]
     },
     "execution_count": 255,
     "metadata": {},
     "output_type": "execute_result"
    }
   ],
   "source": [
    "x > y           # Superset: is x superset of y"
   ]
  },
  {
   "cell_type": "code",
   "execution_count": 194,
   "metadata": {},
   "outputs": [
    {
     "data": {
      "text/plain": [
       "{'a', 'b', 'c', 'd', 'e', 'x', 'y', 'z'}"
      ]
     },
     "execution_count": 194,
     "metadata": {},
     "output_type": "execute_result"
    }
   ],
   "source": [
    "x | y           # Union of x and y"
   ]
  },
  {
   "cell_type": "code",
   "execution_count": 195,
   "metadata": {},
   "outputs": [
    {
     "data": {
      "text/plain": [
       "{'b', 'd'}"
      ]
     },
     "execution_count": 195,
     "metadata": {},
     "output_type": "execute_result"
    }
   ],
   "source": [
    "x & y           # Intersection of x and y"
   ]
  },
  {
   "cell_type": "code",
   "execution_count": 196,
   "metadata": {},
   "outputs": [
    {
     "data": {
      "text/plain": [
       "{'a', 'c', 'e'}"
      ]
     },
     "execution_count": 196,
     "metadata": {},
     "output_type": "execute_result"
    }
   ],
   "source": [
    "x - y           # Difference of x and y"
   ]
  },
  {
   "cell_type": "markdown",
   "metadata": {},
   "source": [
    "Now let's make a bit sense of these concepts and use our geographical examples for a restaurant search. We have a list of restaurants in our town, some larger restaurant chains have two branches:"
   ]
  },
  {
   "cell_type": "code",
   "execution_count": 266,
   "metadata": {},
   "outputs": [],
   "source": [
    "restaurantsInOurTown = [\n",
    "    'La Madeleine',\n",
    "    'Pont Blanc',\n",
    "    'Olive Garden',\n",
    "    'Pommes de Terre',\n",
    "    'Jean\"s''LaBoca', \n",
    "    'Pont Blanc', \n",
    "    'La Madeleine', \n",
    "    'Berliner Kueche', \n",
    "    'La Madeleine',\n",
    "    'Olive Garden']"
   ]
  },
  {
   "cell_type": "markdown",
   "metadata": {},
   "source": [
    "Additional information is given in the form of two set. Once contains all french style restaurants:"
   ]
  },
  {
   "cell_type": "code",
   "execution_count": 267,
   "metadata": {},
   "outputs": [],
   "source": [
    "setFrench = set(['La Madeleine','Pont Blanc','Jean\"s'])"
   ]
  },
  {
   "cell_type": "markdown",
   "metadata": {},
   "source": [
    "The other one contains all restaurants near a park:"
   ]
  },
  {
   "cell_type": "code",
   "execution_count": 239,
   "metadata": {},
   "outputs": [],
   "source": [
    "setPark = set(['LaBoca', 'Pont Blanc', 'La Madeleine', 'Berliner Kueche', 'Olive Garden'])"
   ]
  },
  {
   "cell_type": "markdown",
   "metadata": {},
   "source": [
    "Each of the set theory concepts can solve a different search question:"
   ]
  },
  {
   "cell_type": "code",
   "execution_count": 260,
   "metadata": {},
   "outputs": [
    {
     "data": {
      "text/plain": [
       "True"
      ]
     },
     "execution_count": 260,
     "metadata": {},
     "output_type": "execute_result"
    }
   ],
   "source": [
    "'La Madeleine' in setPark  # Is the restaurant 'Madeleine' located near a park?"
   ]
  },
  {
   "cell_type": "code",
   "execution_count": 261,
   "metadata": {},
   "outputs": [
    {
     "data": {
      "text/plain": [
       "False"
      ]
     },
     "execution_count": 261,
     "metadata": {},
     "output_type": "execute_result"
    }
   ],
   "source": [
    "setFrench < setPark        # Are french restaurants a category of park restaurants?"
   ]
  },
  {
   "cell_type": "code",
   "execution_count": 262,
   "metadata": {},
   "outputs": [
    {
     "data": {
      "text/plain": [
       "False"
      ]
     },
     "execution_count": 262,
     "metadata": {},
     "output_type": "execute_result"
    }
   ],
   "source": [
    "setFrench > setPark       # Are park restaurants a category of french restaurants?"
   ]
  },
  {
   "cell_type": "code",
   "execution_count": 263,
   "metadata": {},
   "outputs": [
    {
     "data": {
      "text/plain": [
       "{'Berliner Kueche',\n",
       " 'Jean\"s',\n",
       " 'La Madeleine',\n",
       " 'LaBoca',\n",
       " 'Olive Garden',\n",
       " 'Pont Blanc'}"
      ]
     },
     "execution_count": 263,
     "metadata": {},
     "output_type": "execute_result"
    }
   ],
   "source": [
    "setFrench | setPark        # We are just hungry, any restaurant is fine!"
   ]
  },
  {
   "cell_type": "code",
   "execution_count": 264,
   "metadata": {},
   "outputs": [
    {
     "data": {
      "text/plain": [
       "{'La Madeleine', 'Pont Blanc'}"
      ]
     },
     "execution_count": 264,
     "metadata": {},
     "output_type": "execute_result"
    }
   ],
   "source": [
    "setFrench & setPark        # Find a french restaurant near a park!"
   ]
  },
  {
   "cell_type": "code",
   "execution_count": 265,
   "metadata": {},
   "outputs": [
    {
     "data": {
      "text/plain": [
       "{'Berliner Kueche', 'LaBoca', 'Olive Garden'}"
      ]
     },
     "execution_count": 265,
     "metadata": {},
     "output_type": "execute_result"
    }
   ],
   "source": [
    "setPark - setFrench       # Find a restaurant that is near a park but not french style!"
   ]
  },
  {
   "cell_type": "markdown",
   "metadata": {},
   "source": [
    "### Sets and List Comprehensions\n",
    "\n",
    "List comprehensions are applicable for sets."
   ]
  },
  {
   "cell_type": "code",
   "execution_count": 284,
   "metadata": {},
   "outputs": [
    {
     "data": {
      "text/plain": [
       "['ee', 'dd', 'cc', 'bb', 'aa']"
      ]
     },
     "execution_count": 284,
     "metadata": {},
     "output_type": "execute_result"
    }
   ],
   "source": [
    "[e*2 for e in x]"
   ]
  },
  {
   "cell_type": "markdown",
   "metadata": {},
   "source": [
    "### Set Methods\n",
    "\n",
    "Find a list of built-in set methods. Study the list and experiment with the methods in the cells below.\n",
    "\n",
    "Table 6: *Set Operations and Methods*\n",
    "\n",
    "| Operation | Equivalent | Result |\n",
    "| :- | :-: | :- |\n",
    "|`len(s)`            |           | Number of elements in set s (cardinality) |\n",
    "|`.issubset(t)`      |  `s <= t` | Test whether every element in s is in t   |\n",
    "|`.issuperset(t)`    | `s >= t`  | Test whether every element in t is in s   |\n",
    "|`.union(t)`         |`s | t`    | New set with elements from both s and t   |\n",
    "|`.intersection(t)`  | `s & t`   | New set with elements common to s and t   |\n",
    "|`.difference(t)`    | `s - t`   | New set with elements in s but not in t   |\n",
    "|`.symmetric_difference(t)` |`s ^ t` | New set with elements in either s or t but not both |\n",
    "|`.copy()`    | | New set with a shallow copy of s   |\n",
    "|`.add(x)`    | | Add element x to set s   |\n",
    "|`.remove(x)` | | Remove x from set s   |\n",
    "|`.pop(x)`    | | Remove and return element from s   |\n",
    "|`.clear()`   | | Remove all elements from set s   |"
   ]
  },
  {
   "cell_type": "code",
   "execution_count": null,
   "metadata": {},
   "outputs": [],
   "source": []
  },
  {
   "cell_type": "code",
   "execution_count": null,
   "metadata": {},
   "outputs": [],
   "source": []
  },
  {
   "cell_type": "code",
   "execution_count": null,
   "metadata": {},
   "outputs": [],
   "source": []
  },
  {
   "cell_type": "code",
   "execution_count": null,
   "metadata": {},
   "outputs": [],
   "source": []
  },
  {
   "cell_type": "markdown",
   "metadata": {},
   "source": [
    "### `frozensets()`\n",
    "\n",
    "Frozenset is a class with the characteristics of a set, but once its elements have been assigned, they cannot be changed. Tuples can be seen as immutable lists, while frozensets can be seen as immutable sets.\n",
    "\n",
    "Sets are mutable and unhashable, which means we cannot use them as dictionary keys. Frozensets are hashable and we can use them as dictionary keys.\n",
    "\n",
    "To create frozensets, we use the `frozenset()` method. Let us create two frozensets, X and Y:"
   ]
  },
  {
   "cell_type": "code",
   "execution_count": 285,
   "metadata": {},
   "outputs": [
    {
     "name": "stdout",
     "output_type": "stream",
     "text": [
      "frozenset({'y', 'd', 'b', 'z', 'x'})\n"
     ]
    }
   ],
   "source": [
    "z = frozenset('bdxyz')\n",
    "print(z)"
   ]
  },
  {
   "cell_type": "markdown",
   "metadata": {},
   "source": [
    "The frozensets support the use of Python set methods like `copy()`, `difference()`, `symmetric_difference()`, `isdisjoint()`, `issubset()`, `intersection()`, `issuperset()`, and `union()`."
   ]
  }
 ],
 "metadata": {
  "kernelspec": {
   "display_name": "Python 3",
   "language": "python",
   "name": "python3"
  },
  "language_info": {
   "codemirror_mode": {
    "name": "ipython",
    "version": 3
   },
   "file_extension": ".py",
   "mimetype": "text/x-python",
   "name": "python",
   "nbconvert_exporter": "python",
   "pygments_lexer": "ipython3",
   "version": "3.6.9"
  }
 },
 "nbformat": 4,
 "nbformat_minor": 2
}
