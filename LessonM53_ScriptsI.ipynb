{
 "cells": [
  {
   "cell_type": "markdown",
   "metadata": {},
   "source": [
    "[![Google Colab](https://colab.research.google.com/assets/colab-badge.svg)](https://colab.research.google.com/github/PyGIS222/Fall2019/blob/master/LessonM53_ScriptsI.ipynb)\n",
    "\n",
    "[![Binder](https://mybinder.org/badge_logo.svg)](https://mybinder.org/v2/gh/PyGIS222/Fall2019/master?filepath=LessonM53_ScriptsI.ipynb)"
   ]
  },
  {
   "cell_type": "markdown",
   "metadata": {},
   "source": [
    "## Notebook Lesson 5.3\n",
    "\n",
    "# Writing Python Scripts, Programs and Modules\n",
    "\n",
    "This Jupyter Notebook is part of Module 5 of the course GIS222 (Fall2019). Carefully study the content of this Notebook and use the chance to reflect the material through the interactive examples.\n",
    "\n",
    "### Sources\n",
    "\n",
    "Part A of this notebook adapts the material of lesson 4 of the [Geo-Python 2018](https://geo-python.github.io/site/2018/notebooks/L4/functions.html#Calling-functions-from-a-script-file), which is licensed under a Creative Commons Attribution-ShareAlike 4.0 International licence. For part B, parts of the lessons [How to Define Functions in Python 3](hhttps://www.digitalocean.com/community/tutorials/how-to-define-functions-in-python-3) of the [Digital Ocean Community](https://www.digitalocean.com/community), which is licensed under a Creative Commons Attribution-NonCommercial-ShareAlike 4.0 International License.\n",
    "\n",
    "---\n"
   ]
  },
  {
   "cell_type": "markdown",
   "metadata": {},
   "source": [
    "# Purpose of this exercise\n",
    "\n",
    "You have already created a simple Python script during course module 3, when working on the Jupyter Notebook `Lesson36_Files.ipynb`. However, that time we haven't provided any further explanation, what scripts are for and why it is useful to put code into scripts. We would like to add this now. We will discuss how to write complete Python **scripts**, which are nothing else than either **Python programs** and/or **module** files. Along the way, we will also discuss how write our own **module** files. \n",
    "\n",
    "The two parts A and B of this notebook will guide you step-by-step through the process of writing an entire script. At the end of part B, you will have written a file `temp_converter.py` and saved it in the folder `assignments_M5a`. And you will be able to import this script as module or execute it as program. To allow for the best learning effect, start working on this by yourself. But we are also providing our version of the script file, as it should be at the end of this lesson. You can find it in the file `./data/temp_converter_SOLUTION.py`. You may use this solution to get some context at the beginning or to peak, debug or get inspired during this lesson.\n",
    "\n",
    "# A. An Introduction to Script Files\n",
    "### (And how to use them as modules)\n",
    "\n",
    "Up until this point, we have been keeping all of our Python code and Markdown comments in a single Jupyter notebook document (except for that one brief example when working on files). This is great, but there are some cases, like when you have long Python code blocks or a set of functions used in many notebooks, in which you may want to have Python code in a separate document to make sure your Jupyter notebook is easy to read.\n",
    "An alternative to typing in all of the commands you would like to run is to list them in a Python *script file*.\n",
    "\n",
    "### The general concept of a .py script file\n",
    "\n",
    "A Python script file is simply a file containing a list of the commands you would like to run, normally with one command per line, and formatted in the same way as if you were to type them in a Jupyter Notebook, or into an interpreter prompt (e.g. on the terminal of this JupyterHub or command line of your computer, after running the command `python`).\n",
    "Python script files traditionally use the `.py` file extension in their names. \n",
    "As such, we can quite easily create a basic script file and test things out.\n"
   ]
  },
  {
   "cell_type": "markdown",
   "metadata": {},
   "source": [
    "### Getting started: Creating the .py file\n",
    "\n",
    "First, we need to create a new text file by clicking on **File** -> **New** -> **Text File** in the JupyterHub menu bar. The following image shows where to find this option on the JupyterHub website. \n",
    "\n",
    "<img src=\"./img/M53_createNewTextFile.png\" width=\"400\" />\n",
    "\n",
    "Figure 1: *Creating a new text file on the JupyterHub (In the screenshot examples, we create the file in the assignment_M2 folder, just to have a better overview. You would perform this in the assignments_M5a folder).*\n",
    "\n",
    "This will create a new tab in your webbrowser, which opens the file. This should look something like in the screenshot below, a blank slate.\n",
    "\n",
    "<img src=\"./img/M53_newTextFile_editor.png\" width=\"400\" />\n",
    "\n",
    "Figure 2: *Our new text file opened in a new browser tab.*\n",
    "\n",
    "If you would go back to the previous tab of you webbrowser, which shows the file content of the folder from where you have created the text file, you could see the new textfile `untitled.txt` listed there:\n",
    "\n",
    "<img src=\"./img/M53_newTextFile_fileBrowser.png\" width=\"400\" />\n",
    "\n",
    "Figure 3: *Our new text file in the JupyterHub file browser.*\n",
    "\n",
    "After creating the file, you could also move it to another folder, if neccessary. For that click on the checkbox to the left to check the file. Then a `Move` option will show up in the toolbar.\n",
    "\n",
    "### Enter some content into the text file\n",
    "\n",
    "Start by copying and pasting the text below into your new text file editor panel.\n",
    "\n",
    "```python\n",
    "def celsiusToFahr(tempCelsius):\n",
    "    return 9/5 * tempCelsius + 32\n",
    "```\n",
    "\n",
    "After doing that it should look like this:\n",
    "\n",
    "<img src=\"./img/M53_editTextFile.png\" width=\"400\" />\n",
    "\n",
    "Figure 4: *Our new text file containing some code.*"
   ]
  },
  {
   "cell_type": "markdown",
   "metadata": {},
   "source": [
    "### Saving a text file as a Python file\n",
    "\n",
    "As it turns out, Python scripts are just regular text files with a certain file extension to identify them as source code for Python.\n",
    "In order for our new text file to be detected as a Python source file in the JupyterHub we need to rename it to have a `.py` file extension.\n",
    "You can rename the file by double clicking on file name \"untitled.txt\" listed right next to the \"jupyter\" logo. This opens a prompt window, which allows you to rename the file. Save it with the name \"temp_converter.py\".\n",
    "\n",
    "<img src=\"./img/M53_renameTextFile.png\" width=\"400\" />\n",
    "\n",
    "Figure 5: *Renaming our text file will automatically activate highlighed Python syntax.*\n",
    "\n",
    "\n",
    "<div class=\"alert alert-info\">\n",
    "\n",
    "**Note**\n",
    "\n",
    "Be sure you change the `.txt` file extension to `.py`.\n",
    "\n",
    "</div>\n",
    "\n",
    "If all goes well, you should now see the Python syntax highlighted in different colors in the JupyterHub text editor.\n",
    "\n",
    "<div class=\"alert alert-info\">\n",
    "\n",
    "**Note**\n",
    "\n",
    "Be sure to save your `temp_converter.py` file after making your changes.\n",
    "\n",
    "</div>\n",
    "\n",
    "We'll return later to some best practices for writing script files, but for now let's continue to discuss, how to use the functions saved in the Python file we just created."
   ]
  },
  {
   "cell_type": "markdown",
   "metadata": {},
   "source": [
    "## Saving and loading functions\n",
    "\n",
    "Functions such as the ones we just saved in the `.py` file can also be saved in a script files and then called from Jupyter notebooks.\n",
    "In fact, quite often it is useful to create a dedicated function library for functions that you use frequently, when doing data analysis, for example.\n",
    "Basically this is done by listing useful functions in a single `.py` file, which you can then import and use them whenever needed.\n",
    "\n",
    "### Saving functions in a script file\n",
    "\n",
    "Basically, we've just seen how to save some functions to a script file.\n",
    "Let's now add some other functions to our script. For that, we will be using functions you were working on during course module 4 to convert temperature values into different temperature units.\n",
    "Simply copy and paste the code below to the bottom of your `temp_converter.py` file. Make sure to leave at least one blank line between the functions.\n",
    "\n",
    "```python\n",
    "def kelvinsToCelsius(tempKelvins):\n",
    "    return tempKelvins - 273.15\n",
    "```\n",
    "\n",
    "```python\n",
    "def kelvinsToFahrenheit(tempKelvins):\n",
    "    tempCelsius = kelvinsToCelsius(tempKelvins)\n",
    "    tempFahr = celsiusToFahr(tempCelsius)\n",
    "    return tempFahr\n",
    "```\n",
    "\n",
    "Don't forget to save your changes!"
   ]
  },
  {
   "cell_type": "markdown",
   "metadata": {},
   "source": [
    "## Calling functions from a script file\n",
    "\n",
    "Now that we have saved our temperature conversion functions into a script file we can start using them.\n",
    "\n",
    "### Making sure we're in the right working directory\n",
    "\n",
    "Make sure you have saved your `temp_converter.py` file in the same location as this Jupyter notebook (`LessonM53_ScriptsI.ipynb`), which is the folder `assignments_M5a`. \n",
    "\n",
    "To find out, what the working directory of this notebook actually is, use an IPython magic command called `%pwd`:"
   ]
  },
  {
   "cell_type": "code",
   "execution_count": 55,
   "metadata": {},
   "outputs": [
    {
     "data": {
      "text/plain": [
       "'/Users/swerth/Dropbox (ASU)/MyDropbox/Computer/nbgrader/GIS222F2019/source/assignments_M5a'"
      ]
     },
     "execution_count": 55,
     "metadata": {},
     "output_type": "execute_result"
    }
   ],
   "source": [
    "%pwd"
   ]
  },
  {
   "cell_type": "markdown",
   "metadata": {},
   "source": [
    "This is the working directory of this notebook, and ideally also the directory where your `temp_converter.py` file is located.\n",
    "\n",
    "To check that, we can list the content of the current working directory using an IPython magic command called `%ls`."
   ]
  },
  {
   "cell_type": "code",
   "execution_count": 56,
   "metadata": {},
   "outputs": [
    {
     "name": "stdout",
     "output_type": "stream",
     "text": [
      "LessonM51_OOPI.ipynb                 Problems_UsingBuildingClasses.ipynb\r\n",
      "LessonM52_OOPII.ipynb                Problems_UsingSimpleClasses.ipynb\r\n",
      "LessonM53_ScriptsI.ipynb             \u001b[34m__pycache__\u001b[m\u001b[m/\r\n",
      "LessonM54_ScriptsII.ipynb            gis222Module.py\r\n",
      "LessonM55_Troubleshooting.ipynb      \u001b[34mimg\u001b[m\u001b[m/\r\n",
      "Problems_Scripts.ipynb               temp_converter.py\r\n"
     ]
    }
   ],
   "source": [
    "%ls"
   ]
  },
  {
   "cell_type": "markdown",
   "metadata": {},
   "source": [
    "Your output from `%ls` probably looks different than that our example below, but don't worry.\n",
    "`%ls` allows us to see the files located in the directory where we are currently working.\n",
    "\n",
    "You might (partially) see something like this:\n",
    "\n",
    "```bash\n",
    "LessonM51_OOPI.ipynb     LessonM52_OOPII.ipynb  img/\n",
    "Problems_Scripts.ipynb   Untitled.ipynb         temp_converter.py\n",
    "```\n",
    "\n",
    "for example."
   ]
  },
  {
   "cell_type": "markdown",
   "metadata": {},
   "source": [
    "### Changing the working directory\n",
    "\n",
    "Hopefully you've seen some output from `%ls` like that above. If the output contains the file `temp_converter.py`, that means it locates in the working directory of this notebook (which should be the same folder where the notebook is located). \n",
    "\n",
    "**In this case, you are all good and you can move on to the next section (\"Importing our script functions\").**\n",
    "\n",
    "If that is not the case, you could move the file `temp_converter.py` to the working directory.\n",
    "\n",
    "Otherwise, if you like to keep the file `temp_converter.py` somewhere else, you would need to do one more thing to be able to start working with the file `temp_converter.py`. In that case, you need to change the working directory of this notebook to be the one where the `temp_converter.py` exists. For that you can use the magic command `%cd` to change into the directory where you've saved your `temp_converter.py` file:\n",
    "\n",
    "```ipython\n",
    "%cd pathToScriptFile\n",
    "```\n",
    "\n",
    "<div class=\"alert alert-info\">\n",
    "\n",
    "**Folder navigation from this Jupyter notebook**\n",
    "\n",
    "Your home directory on the JupyterHub is ***/home/jupyter-YourGithubUsername*** . Replace *YourGithubUsername* with your GitHub username. For examply, if you GitHub username would be *sammy*, your home directory would be */home/jupyter-sammy*.\n",
    "\n",
    "This notebook is located in the folder \n",
    "\n",
    "`/home/jupyter-YourGithubUsername/assignments_M5b`\n",
    "\n",
    "To get from this folder to your home directory\n",
    "\n",
    "`/home/jupyter-YourGithubUsername`\n",
    "\n",
    "you would have to use magic command `%cd` in either of the following ways:\n",
    "\n",
    "* `cd ..`\n",
    "* `cd /home/jupyter-YourGithubUsername`\n",
    "\n",
    "And to get from this folder to the folder of, for example, assignments_M3a\n",
    "\n",
    "`/home/jupyter-YourGithubUsername/assignments_M3a`\n",
    "\n",
    "you would have to use magic command `%cd` in either of the following ways:\n",
    "\n",
    "* `cd ../assignments_M3a`\n",
    "* `cd /home/jupyter-YourGithubUsername/assignments_M3a`\n",
    "\n",
    "</div>\n",
    "\n",
    "\n",
    "If all has gone well you should now see `temp_converter.py` among the files when you type `%ls` in a Jupyter notebook cell.\n",
    "Try that out below."
   ]
  },
  {
   "cell_type": "code",
   "execution_count": 57,
   "metadata": {},
   "outputs": [
    {
     "name": "stdout",
     "output_type": "stream",
     "text": [
      "LessonM51_OOPI.ipynb                 Problems_UsingBuildingClasses.ipynb\r\n",
      "LessonM52_OOPII.ipynb                Problems_UsingSimpleClasses.ipynb\r\n",
      "LessonM53_ScriptsI.ipynb             \u001b[34m__pycache__\u001b[m\u001b[m/\r\n",
      "LessonM54_ScriptsII.ipynb            gis222Module.py\r\n",
      "LessonM55_Troubleshooting.ipynb      \u001b[34mimg\u001b[m\u001b[m/\r\n",
      "Problems_Scripts.ipynb               temp_converter.py\r\n"
     ]
    }
   ],
   "source": [
    "%ls"
   ]
  },
  {
   "cell_type": "markdown",
   "metadata": {},
   "source": [
    "Now you can continue to the next section."
   ]
  },
  {
   "cell_type": "markdown",
   "metadata": {},
   "source": [
    "### Importing all functions from a script\n",
    "\n",
    "Let's now import the entire script `temp_converter.py` and all of its functions at once. We can do that with the `import` statement."
   ]
  },
  {
   "cell_type": "code",
   "execution_count": 58,
   "metadata": {},
   "outputs": [],
   "source": [
    "import temp_converter as tc"
   ]
  },
  {
   "cell_type": "markdown",
   "metadata": {},
   "source": [
    "Great, that is it. Now let's test, if we can also use the functions defined inside the script."
   ]
  },
  {
   "cell_type": "markdown",
   "metadata": {},
   "source": [
    "### Using our script functions\n",
    "\n",
    "Let's use the function `celsiusToFahr()` with an input of 0 degree Celcius, so that we can see whether it is working. We have to reference the function with the acronym, that we used to import the script file: `tc`:"
   ]
  },
  {
   "cell_type": "code",
   "execution_count": 59,
   "metadata": {},
   "outputs": [
    {
     "name": "stdout",
     "output_type": "stream",
     "text": [
      "The freezing point of water in Fahrenheit is: 32.0\n"
     ]
    }
   ],
   "source": [
    "print(\"The freezing point of water in Fahrenheit is:\", tc.celsiusToFahr(0))"
   ]
  },
  {
   "cell_type": "markdown",
   "metadata": {},
   "source": [
    "You should get following output:\n",
    "\n",
    "<img src=\"./img/M53_UsingFunction.png\" width=\"500\" />\n",
    "\n",
    "Figure 6: *Testing our imported functions from the Jupyter Notebook.*\n",
    "\n",
    "If you get that, test also the other functions:"
   ]
  },
  {
   "cell_type": "code",
   "execution_count": 60,
   "metadata": {},
   "outputs": [
    {
     "name": "stdout",
     "output_type": "stream",
     "text": [
      "Absolute zero in Celsius is: -273.15\n"
     ]
    }
   ],
   "source": [
    "print('Absolute zero in Celsius is:', tc.kelvinsToCelsius(tempKelvins=0))"
   ]
  },
  {
   "cell_type": "code",
   "execution_count": 61,
   "metadata": {},
   "outputs": [
    {
     "name": "stdout",
     "output_type": "stream",
     "text": [
      "Absolute zero in Fahrenheit is: -459.66999999999996\n"
     ]
    }
   ],
   "source": [
    "print('Absolute zero in Fahrenheit is:', tc.kelvinsToFahrenheit(tempKelvins=0))"
   ]
  },
  {
   "cell_type": "markdown",
   "metadata": {},
   "source": [
    "You may have already realized, that you have now successfully written your first own module in Python!!! Since modules are nothing else than Python script files that package code, our script file `tempCalculator()` is also a module that packages code. And we have just imported that package and used its content, just like for modules like Math or NumPy."
   ]
  },
  {
   "cell_type": "markdown",
   "metadata": {},
   "source": [
    "### Fill your script with more content: Using the tempCalculator\n",
    "\n",
    "Remember, when we were working on these functions in the course module 4? We also wrote another function `tempCalculator()`. Copy the code of this function from the cell below and paste it to the bottom of your script file `temp_converter.py`. Then save the file!"
   ]
  },
  {
   "cell_type": "code",
   "execution_count": 3,
   "metadata": {},
   "outputs": [],
   "source": [
    "def tempCalculator(tempK, convertTo):\n",
    "    \"\"\"\n",
    "    Function for converting temperature in Kelvins to Celsius or Fahrenheit.\n",
    "\n",
    "    Parameters\n",
    "    ----------\n",
    "    tempK: <numerical>\n",
    "        Temperature in Kelvins\n",
    "    convertTo: <str>\n",
    "        Target temperature that can be either Celsius ('C') or Fahrenheit ('F'). Supported values: 'C' | 'F'\n",
    "\n",
    "    Returns\n",
    "    -------\n",
    "    <float>\n",
    "        Converted temperature.\n",
    "    \"\"\"\n",
    "\n",
    "    # Check if user wants the temperature in Celsius\n",
    "    if convertTo == \"C\":\n",
    "        # Convert the value to Celsius using the dedicated function for the task that we imported from another script\n",
    "        convertedTemp = kelvinsToCelsius(tempKelvins=tempK)\n",
    "    elif convertTo == \"F\":\n",
    "        # Convert the value to Fahrenheit using the dedicated function for the task that we imported from another script\n",
    "        convertedTemp = kelvinsToFahrenheit(tempKelvins=tempK)\n",
    "    # Return the result\n",
    "    return convertedTemp"
   ]
  },
  {
   "cell_type": "markdown",
   "metadata": {},
   "source": [
    "Now, again import your script like a module:"
   ]
  },
  {
   "cell_type": "code",
   "execution_count": 4,
   "metadata": {},
   "outputs": [
    {
     "ename": "ModuleNotFoundError",
     "evalue": "No module named 'temp_converter'",
     "output_type": "error",
     "traceback": [
      "\u001b[0;31m---------------------------------------------------------------------------\u001b[0m",
      "\u001b[0;31mModuleNotFoundError\u001b[0m                       Traceback (most recent call last)",
      "\u001b[0;32m<ipython-input-4-1b44a3f00072>\u001b[0m in \u001b[0;36m<module>\u001b[0;34m\u001b[0m\n\u001b[0;32m----> 1\u001b[0;31m \u001b[0;32mimport\u001b[0m \u001b[0mtemp_converter\u001b[0m \u001b[0;32mas\u001b[0m \u001b[0mtc\u001b[0m\u001b[0;34m\u001b[0m\u001b[0;34m\u001b[0m\u001b[0m\n\u001b[0m",
      "\u001b[0;31mModuleNotFoundError\u001b[0m: No module named 'temp_converter'"
     ]
    }
   ],
   "source": [
    "import temp_converter as tc"
   ]
  },
  {
   "cell_type": "markdown",
   "metadata": {},
   "source": [
    "<div class=\"alert alert-warning\">\n",
    "\n",
    "**Attention**\n",
    "\n",
    "Reloading modules from within a Jupyter notebook is a bit of a pain.\n",
    "The easiest option is to restart the Python kernel by going to **Kernel** -> **Restart kernel...**.\n",
    "Note that this will delete all variables currently stored in memory in the Jupyter notebook you're using, so you may need to re-run some cells.\n",
    "\n",
    "</div>"
   ]
  },
  {
   "cell_type": "markdown",
   "metadata": {},
   "source": [
    "We had also written a docstring into the tempCalculator. Let's request it again:"
   ]
  },
  {
   "cell_type": "code",
   "execution_count": 64,
   "metadata": {},
   "outputs": [
    {
     "name": "stdout",
     "output_type": "stream",
     "text": [
      "Help on function tempCalculator in module temp_converter:\n",
      "\n",
      "tempCalculator(tempK, convertTo)\n",
      "    Function for converting temperature in Kelvins to Celsius or Fahrenheit.\n",
      "    \n",
      "    Parameters\n",
      "    ----------\n",
      "    tempK: <numerical>\n",
      "        Temperature in Kelvins\n",
      "    convertTo: <str>\n",
      "        Target temperature that can be either Celsius ('C') or Fahrenheit ('F'). Supported values: 'C' | 'F'\n",
      "    \n",
      "    Returns\n",
      "    -------\n",
      "    <float>\n",
      "        Converted temperature.\n",
      "\n"
     ]
    }
   ],
   "source": [
    "help(tc.tempCalculator)"
   ]
  },
  {
   "cell_type": "markdown",
   "metadata": {},
   "source": [
    "Now, let's use the tempCalculator."
   ]
  },
  {
   "cell_type": "code",
   "execution_count": 65,
   "metadata": {},
   "outputs": [
    {
     "name": "stdout",
     "output_type": "stream",
     "text": [
      "Temperature 30 in Kelvins is -243.14999999999998 in Celsius\n"
     ]
    }
   ],
   "source": [
    "tempKelvin = 30\n",
    "temperatureC = tc.tempCalculator(tempK=tempKelvin, convertTo=\"C\")\n",
    "print(\"Temperature\", tempKelvin, \"in Kelvins is\", temperatureC, \"in Celsius\")"
   ]
  },
  {
   "cell_type": "markdown",
   "metadata": {},
   "source": [
    "## Executing a script file from a JupyterNotebook\n",
    "\n",
    "Instead of importing the script file as module to our notebook environment, we can also execute the entire script in the notebook, as we would do from the command line or terminal of our computer (and as we have done in the lesson on files). For that, you would execute the script using the command:\n",
    "\n",
    "```bash\n",
    "python temp_converter.py\n",
    "```\n",
    "\n",
    "But here we want to do this a bit differently and save the step of opening the terminal. Indeed, we can also execute the script file directly from this notebook (given we are in the correct working directory), by applying the IPython magic command `%run`. Try this below:"
   ]
  },
  {
   "cell_type": "code",
   "execution_count": 5,
   "metadata": {},
   "outputs": [
    {
     "name": "stderr",
     "output_type": "stream",
     "text": [
      "ERROR:root:File `'temp_converter.py'` not found.\n"
     ]
    }
   ],
   "source": [
    "%run temp_converter.py"
   ]
  },
  {
   "cell_type": "markdown",
   "metadata": {},
   "source": [
    "Now, we won't get anything returned at this point, because the script file only defines functions but it does not call any functions. So let's extend our script file to a complete program, that also performs some data processing with the functions it defines. \n",
    "\n",
    "For that, we can almost use the code lines from above using the `tempConverter()`. However, we have to make a small adjustment. If we call the functions inside the `tempConverter()` script, we do not need to import the script as module, as the functions are already right there. Therefore, we also do not need to reference the functions with any module name or acronym, like we had to do above after importing the script file as module. Inside the script file, the functions can simply be addressed by there name therein.\n",
    "\n",
    "Given that, copy the following code to the bottom of your script file `temp_converter.py`:\n",
    "\n",
    "```python\n",
    "tempKelvin = 30\n",
    "temperatureC = tempCalculator(tempK=tempKelvin, convertTo=\"C\")\n",
    "print(\"Temperature\", tempKelvin, \"in Kelvins is\", temperatureC, \"in Celsius\")\n",
    "```"
   ]
  },
  {
   "cell_type": "markdown",
   "metadata": {},
   "source": [
    "After adding that to your script file and saving it, execute the script again:"
   ]
  },
  {
   "cell_type": "code",
   "execution_count": 6,
   "metadata": {},
   "outputs": [
    {
     "name": "stderr",
     "output_type": "stream",
     "text": [
      "ERROR:root:File `'temp_converter.py'` not found.\n"
     ]
    }
   ],
   "source": [
    "%run temp_converter.py"
   ]
  },
  {
   "cell_type": "markdown",
   "metadata": {},
   "source": [
    "This should work and return you the result of the sequence we added. \n",
    "\n",
    "However, this also creates a little problem. If we would want to use the script file `temp_converter.py` again as module, this sequence would be exectuted, each time we import the module. \n",
    "\n",
    "It is not unusual, to have a script file should be used sometimes as module and sometimes as program. So, we would have to make two versions of the script (one with a sequence calling the functions and one without). But, that does not really sound DRY friendly! To avoid that, Python provides us with a solution. Now, to make use of that solution, it will be helpful to add a `main()` function to the script file. How to do that, will be covered in part B of this notebook. "
   ]
  },
  {
   "cell_type": "markdown",
   "metadata": {},
   "source": [
    "---    \n",
    "# B. Using `main()` as a Function\n",
    "\n",
    "Many programming languages (like C++ and Java) require a `main()` function in the script file in order to execute. \n",
    "In Python, it is not required to include such a `main()` function, since you can call a function from your script file and it will run (as we have done in the examples above). However, including such a function can structure our Python programs in a logical way that puts the most important components of the program into one function. It can also make our programs easier for non-Python programmers to read. \n",
    "\n",
    "So let's do that now for our script file `temp_converter.py`, that we have created above. We’ll keep our four temperature functions (`celsiusToFahr()`, `kelvinsToCelsius()`, `kelvinsToFahrenheit()` and `tempCalculator()`). Below that, we will add a `main()` function.\n",
    "\n",
    "Within the `main()` function, let’s include a `print()` statement to indicate at what point the `main()` function is called during the script execution. Also, we **move** the just added code sequence inside the `main()` function. Finally, at the bottom of your script file you should now have the following:\n",
    "\n",
    "```python\n",
    "def main():\n",
    "    print(\"This is the main function.\")\n",
    "    tempKelvin = 30\n",
    "    temperatureC = tempCalculator(tempK=tempKelvin, convertTo=\"C\")\n",
    "    print(\"Temperature\", tempKelvin, \"in Kelvins is\", temperatureC, \"in Celsius\")\n",
    "\n",
    "```"
   ]
  },
  {
   "cell_type": "markdown",
   "metadata": {},
   "source": [
    "And further, below defining the `main()` in the script file, we’ll call the `main()` function. Also copy and paste the following code to the bottom of your script file `temp_converter.py` (leave not intent for the `main()` function call). Make sure to save the file afterwards.\n",
    "\n",
    "```python\n",
    "main()\n",
    "```\n",
    "\n",
    "All together, the bottom of your script (below the function `tempConverter()` should look like this:\n",
    "\n",
    "```python\n",
    "def main():\n",
    "    print(\"This is the main function.\")\n",
    "    tempKelvin = 30\n",
    "    temperatureC = tempCalculator(tempK=tempKelvin, convertTo=\"C\")\n",
    "    print(\"Temperature\", tempKelvin, \"in Kelvins is\", temperatureC, \"in Celsius\")\n",
    "    \n",
    "main()\n",
    "```"
   ]
  },
  {
   "cell_type": "markdown",
   "metadata": {},
   "source": [
    "Make sure to save the script file, then you can execute it as program here in the notebbok, using the magic command. Let's see what we get: "
   ]
  },
  {
   "cell_type": "code",
   "execution_count": 7,
   "metadata": {},
   "outputs": [
    {
     "name": "stderr",
     "output_type": "stream",
     "text": [
      "ERROR:root:File `'temp_converter.py'` not found.\n"
     ]
    }
   ],
   "source": [
    "%run temp_converter.py"
   ]
  },
  {
   "cell_type": "markdown",
   "metadata": {},
   "source": [
    "Because we called the `tempCalculator()` function within `main()` and then only called `main()` to run, the result of the temperature conversion printed only once. These results print **after the string that told us we were in the main function**.\n",
    "\n",
    "Now, let's add something else:\n",
    "\n",
    "In Python, '__main__' is the name of the scope where top-level code will execute. When a program is run from standard input, like a script, or from an interactive prompt, its __name__ is set equal to '__main__'.\n",
    "\n",
    "Because of this, there is a convention to use the following construction at the bottom of a script file:\n",
    "\n",
    "```python\n",
    "if __name__ == '__main__':\n",
    "    # Code to run when this is the main program here\n",
    "    # ...\n",
    "```"
   ]
  },
  {
   "cell_type": "markdown",
   "metadata": {},
   "source": [
    "This construction at the bottom of script files lets them be used, either:\n",
    "\n",
    "* as the main program and **run** what follows the `if __main__...` statement, or\n",
    "* as a module and **not run** what follows the `if __main__...` statement.\n",
    "\n",
    "If you’re using your program file as a module, the code in the `if __main__...` statement will not be executed. (However, any code that is not in this statement will be executes upon its import as a module). \n",
    "\n",
    "This all may sound a bit cryptic at the moment, so let’s test it out to see what happens. Let's expand on our `temp_converter.py` script a bit more to incorporate such an `if __main__...` statement. \n",
    "\n",
    "We’ll add the `if __name__ == '__main__':` construction at the bottom of the file. For our purposes, since we have put all the functions we would like to run in a `main()` function, we’ll call the `main()` function following this the `if __main__...` statement, like this:\n",
    "\n",
    "```python\n",
    "if __name__ == '__main__':\n",
    "    # Code to run when this is the main program:\n",
    "    main()\n",
    "```\n",
    "\n",
    "To make sure, nothing is mixed up: Check that your file has the same content as the code cell below. We are providing the entire file content, as it should be by now, and we add a very brief header at the top: "
   ]
  },
  {
   "cell_type": "code",
   "execution_count": 69,
   "metadata": {},
   "outputs": [
    {
     "name": "stdout",
     "output_type": "stream",
     "text": [
      "This is the main function.\n",
      "Temperature 30 in Kelvins is -243.14999999999998 in Celsius\n"
     ]
    }
   ],
   "source": [
    "# Program temp_converter.py\n",
    "\n",
    "def celsiusToFahr(tempCelsius):\n",
    "    return 9/5 * tempCelsius + 32\n",
    "\n",
    "def kelvinsToCelsius(tempKelvins):\n",
    "    return tempKelvins - 273.15\n",
    "\n",
    "def kelvinsToFahrenheit(tempKelvins):\n",
    "    tempCelsius = kelvinsToCelsius(tempKelvins)\n",
    "    tempFahr = celsiusToFahr(tempCelsius)\n",
    "    return tempFahr\n",
    "\n",
    "def tempCalculator(tempK, convertTo):\n",
    "    \"\"\"\n",
    "    Function for converting temperature in Kelvins to Celsius or Fahrenheit.\n",
    "\n",
    "    Parameters\n",
    "    ----------\n",
    "    tempK: <numerical>\n",
    "        Temperature in Kelvins\n",
    "    convertTo: <str>\n",
    "        Target temperature that can be either Celsius ('C') or Fahrenheit ('F'). Supported values: 'C' | 'F'\n",
    "\n",
    "    Returns\n",
    "    -------\n",
    "    <float>\n",
    "        Converted temperature.\n",
    "    \"\"\"\n",
    "\n",
    "    # Check if user wants the temperature in Celsius\n",
    "    if convertTo == \"C\":\n",
    "        # Convert the value to Celsius using the dedicated function for the task that we imported from another script\n",
    "        convertedTemp = kelvinsToCelsius(tempKelvins=tempK)\n",
    "    elif convertTo == \"F\":\n",
    "        # Convert the value to Fahrenheit using the dedicated function for the task that we imported from another script\n",
    "        convertedTemp = kelvinsToFahrenheit(tempKelvins=tempK)\n",
    "    # Return the result\n",
    "    return convertedTemp\n",
    "\n",
    "\n",
    "def main():\n",
    "    print(\"This is the main function.\")\n",
    "    tempKelvin = 30\n",
    "    temperatureC = tempCalculator(tempK=tempKelvin, convertTo=\"C\")\n",
    "    print(\"Temperature\", tempKelvin, \"in Kelvins is\", temperatureC, \"in Celsius\")\n",
    "\n",
    "if __name__ == '__main__':\n",
    "    # Code to run when this is the main program here\n",
    "    main()"
   ]
  },
  {
   "cell_type": "markdown",
   "metadata": {},
   "source": [
    "Now, take some time to add some comments throughout the script file, to document the content and possibly to visually structure it. \n",
    "\n",
    "After that, let's again run the script, which is a complete program by now:"
   ]
  },
  {
   "cell_type": "code",
   "execution_count": 70,
   "metadata": {},
   "outputs": [
    {
     "name": "stdout",
     "output_type": "stream",
     "text": [
      "This is the main function.\n",
      "Temperature 30 in Kelvins is -243.14999999999998 in Celsius\n"
     ]
    }
   ],
   "source": [
    "%run temp_converter.py"
   ]
  },
  {
   "cell_type": "markdown",
   "metadata": {},
   "source": [
    "You should get the same output as we had before.\n",
    "\n",
    "But now, the script can also be used in a **modular way** without modification (or without duplicating it into another format). That means, we can again import the file as module, either from **any other program file**, where we might need it, or right here. Let's import the script again as module using the acronym `tc` for import: "
   ]
  },
  {
   "cell_type": "code",
   "execution_count": 8,
   "metadata": {},
   "outputs": [
    {
     "ename": "ModuleNotFoundError",
     "evalue": "No module named 'temp_converter'",
     "output_type": "error",
     "traceback": [
      "\u001b[0;31m---------------------------------------------------------------------------\u001b[0m",
      "\u001b[0;31mModuleNotFoundError\u001b[0m                       Traceback (most recent call last)",
      "\u001b[0;32m<ipython-input-8-1b44a3f00072>\u001b[0m in \u001b[0;36m<module>\u001b[0;34m\u001b[0m\n\u001b[0;32m----> 1\u001b[0;31m \u001b[0;32mimport\u001b[0m \u001b[0mtemp_converter\u001b[0m \u001b[0;32mas\u001b[0m \u001b[0mtc\u001b[0m\u001b[0;34m\u001b[0m\u001b[0;34m\u001b[0m\u001b[0m\n\u001b[0m",
      "\u001b[0;31mModuleNotFoundError\u001b[0m: No module named 'temp_converter'"
     ]
    }
   ],
   "source": [
    "import temp_converter as tc"
   ]
  },
  {
   "cell_type": "markdown",
   "metadata": {},
   "source": [
    "Now, you can see, that importing the module, does not execute the code witin the `if __main__...` statement. We can now use the functions imported with the module as usual:"
   ]
  },
  {
   "cell_type": "code",
   "execution_count": 9,
   "metadata": {},
   "outputs": [
    {
     "ename": "NameError",
     "evalue": "name 'tc' is not defined",
     "output_type": "error",
     "traceback": [
      "\u001b[0;31m---------------------------------------------------------------------------\u001b[0m",
      "\u001b[0;31mNameError\u001b[0m                                 Traceback (most recent call last)",
      "\u001b[0;32m<ipython-input-9-7ab66addee60>\u001b[0m in \u001b[0;36m<module>\u001b[0;34m\u001b[0m\n\u001b[1;32m      1\u001b[0m \u001b[0mtempKelvin\u001b[0m \u001b[0;34m=\u001b[0m \u001b[0;36m30\u001b[0m\u001b[0;34m\u001b[0m\u001b[0;34m\u001b[0m\u001b[0m\n\u001b[0;32m----> 2\u001b[0;31m \u001b[0mtemperatureC\u001b[0m \u001b[0;34m=\u001b[0m \u001b[0mtc\u001b[0m\u001b[0;34m.\u001b[0m\u001b[0mtempCalculator\u001b[0m\u001b[0;34m(\u001b[0m\u001b[0mtempK\u001b[0m\u001b[0;34m=\u001b[0m\u001b[0mtempKelvin\u001b[0m\u001b[0;34m,\u001b[0m \u001b[0mconvertTo\u001b[0m\u001b[0;34m=\u001b[0m\u001b[0;34m\"C\"\u001b[0m\u001b[0;34m)\u001b[0m\u001b[0;34m\u001b[0m\u001b[0;34m\u001b[0m\u001b[0m\n\u001b[0m\u001b[1;32m      3\u001b[0m \u001b[0mprint\u001b[0m\u001b[0;34m(\u001b[0m\u001b[0;34m\"Temperature\"\u001b[0m\u001b[0;34m,\u001b[0m \u001b[0mtempKelvin\u001b[0m\u001b[0;34m,\u001b[0m \u001b[0;34m\"in Kelvins is\"\u001b[0m\u001b[0;34m,\u001b[0m \u001b[0mtemperatureC\u001b[0m\u001b[0;34m,\u001b[0m \u001b[0;34m\"in Celsius\"\u001b[0m\u001b[0;34m)\u001b[0m\u001b[0;34m\u001b[0m\u001b[0;34m\u001b[0m\u001b[0m\n",
      "\u001b[0;31mNameError\u001b[0m: name 'tc' is not defined"
     ]
    }
   ],
   "source": [
    "tempKelvin = 30\n",
    "temperatureC = tc.tempCalculator(tempK=tempKelvin, convertTo=\"C\")\n",
    "print(\"Temperature\", tempKelvin, \"in Kelvins is\", temperatureC, \"in Celsius\")"
   ]
  },
  {
   "cell_type": "markdown",
   "metadata": {},
   "source": [
    "If needed, however, you could also call the main function as part of the module `temp_converter` (which is sourcing from our script file `temp_converter.py`)."
   ]
  },
  {
   "cell_type": "code",
   "execution_count": 11,
   "metadata": {},
   "outputs": [
    {
     "name": "stdout",
     "output_type": "stream",
     "text": [
      "This is the main function.\n",
      "Temperature 30 in Kelvins is -243.14999999999998 in Celsius\n"
     ]
    }
   ],
   "source": [
    "tc.main()"
   ]
  },
  {
   "cell_type": "markdown",
   "metadata": {},
   "source": [
    "In our example, calling the `main()` function from the module `temp_converter` gives you the same output as executing the respective script file, since the `main()` function is exactly what is exectuted in the latter case.\n",
    "\n",
    "To conclude, using `main()` as a function and the `if __main__...` statement at the bottom of your script files can organize your code in a logical way. The script (program) is now is more organized, making it more readable and modular.\n",
    "\n",
    "If you like to read more about the background of the `if __main__...` statement, visit the [related Python documentation pages](https://docs.python.org/3.7/library/__main__.html) or this [discussion board of stackoverflow.com](https://stackoverflow.com/questions/419163/what-does-if-name-main-do#419185) may be very helpful."
   ]
  },
  {
   "cell_type": "markdown",
   "metadata": {},
   "source": [
    "Note: If you do not want to declare a `main()` function in your program `temp_converter.py`, you could also directly add the content of the `main()` function into the `if __main__...` statement. In this case, the module would not contain a `main()` function, and it is after all, optional to include write it. However, you will very regularily find content inside the `if __main__...` statement in Python programs."
   ]
  },
  {
   "cell_type": "markdown",
   "metadata": {},
   "source": [
    "# Conlusion\n",
    "\n",
    "Writing a Python module is the same as writing any other Python .py script file or program file. This notebook covered how to write definitions within a module and how to use those definitions in the form a Python program file. It also described how a program file can be organized and how it can be used in a modular way without modification. \n",
    "\n",
    "<div class=\"alert alert-success\">\n",
    "\n",
    "**What is the difference between script, modules and programs in Python?**\n",
    "\n",
    "The term **script** is used to describe any file containing code. For Python, a script file can be any `.py` file containing Python code. With that, a Python **module** is a script file that packages a number of objects, which may be variables, functions and also **classes**. A **program** is a script that contains more or less complex algorithms and typcially reads user input (from file, keyboard or any other device) and it results in output. A module mostly does not. Both programs and modules may also import other modules, define global variables and contain a `main()` function. However, objects defined in a program can be imported as a module without modifictaions, if the program is structured correctly.\n",
    "\n",
    "Although these terms are not used the same way by everyone, and cannot be discriminated fully from each other, this definition may help to differentiate the purpose of different `.py` files. \n",
    "\n",
    "</div>"
   ]
  },
  {
   "cell_type": "code",
   "execution_count": null,
   "metadata": {},
   "outputs": [],
   "source": []
  }
 ],
 "metadata": {
  "kernelspec": {
   "display_name": "Python 3",
   "language": "python",
   "name": "python3"
  },
  "language_info": {
   "codemirror_mode": {
    "name": "ipython",
    "version": 3
   },
   "file_extension": ".py",
   "mimetype": "text/x-python",
   "name": "python",
   "nbconvert_exporter": "python",
   "pygments_lexer": "ipython3",
   "version": "3.7.4"
  }
 },
 "nbformat": 4,
 "nbformat_minor": 2
}
