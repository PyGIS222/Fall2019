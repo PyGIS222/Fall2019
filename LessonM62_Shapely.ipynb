{
 "cells": [
  {
   "cell_type": "markdown",
   "metadata": {},
   "source": [
    "[![Google Colab](https://colab.research.google.com/assets/colab-badge.svg)](https://colab.research.google.com/github/PyGIS222/Fall2019/blob/master/LessonM62_Shapely.ipynb)\n",
    "\n",
    "(Note for Google Colab: Not all packages used in this notebook are available by default on Google Colab. Google Colab provides an install option, however, this has to be repeated each time you start a new session on their servers.)"
   ]
  },
  {
   "cell_type": "markdown",
   "metadata": {},
   "source": [
    "## Notebook Lesson 6.2\n",
    "\n",
    "# Module Shapely\n",
    "\n",
    "This Jupyter Notebook is part of Module 6 of the course GIS222 (Fall2019). This lesson is preparing you for the final project of the course. Carefully study the content of this Notebook and use the chance to reflect the material through the interactive examples.\n",
    "\n",
    "### Introduction\n",
    "\n",
    "The purpose of this notebook is to introduce some content of the Python module **Shapely**, which is necessary for the final project.\n",
    "\n",
    "### Sources\n",
    "Documentation pages of the module [Shapely](https://shapely.readthedocs.io/en/stable/index.html) and the [Python-GIS page about Shapely](https://automating-gis-processes.github.io/CSC18/lessons/L4/point-in-polygon.html).\n",
    "\n",
    "---\n"
   ]
  },
  {
   "cell_type": "markdown",
   "metadata": {},
   "source": [
    "# Selecting Points Inside a Boundary: Shapely\n",
    "\n",
    "In previous lesson parts, we have been loading imagery like a shaded relief, plot them and sliced them. Later, we will be doing something like this with science data and in those cases also calculate some map statistics. However, so far we have always been using a certain bounding box for our maps. In a more realistic scenario, we would be interested to retrieve data content for a certain geographical or political area, like an ocean region (like the Atlatnic), a river basin, a country or a state.\n",
    "\n",
    "Such boundaries are not lat/lon blocks, but defined by more complex polygons and we cannot simply slice them out of the arrays. To be able to select unregularly shaped region from a data array, we will peak into a module, which provides us with tools to perform exactly that: selecting raster data within a region. As you will see later, this is a very typical GIS problem, which reduces to the problem of finding out whether a **point falls inside a polygon**. But while this is an easy gasp if we can visually look at the data in a map, here we would like to code this in Python!\n",
    "\n",
    "Below a brief insight into the module shapely. This will also be an outlook for GIS322, where this module will be discussed in more detail, as it provides basic procedures for a lot of GIS applications.\n",
    "\n",
    "<img src=\"./img/M62_Shapely.png\" width=\"400\" />\n",
    "\n",
    "Figure 1: *Fundamental geometric objects that can be used in Python with Shapely module*\n",
    "\n",
    "\n",
    "## Creating Points and Lines using Shapely\n",
    "\n",
    "The most fundamental geometric objects are Points, Lines and Polygons which are the basic ingredients when working with spatial data in vector format. Python has a specific module called Shapely, which can be used to create and work with planar geometric objects. There are many useful functionalities that you can do with Shapely such as:\n",
    "\n",
    "* Create a Line or Polygon from a Collection of Point geometries\n",
    "* Calculate areas/length/bounds etc. of input geometries\n",
    "* Make geometric operations based on the input geometries such as Union, Difference, Distance etc.\n",
    "* Make spatial queries between geometries such Intersects, Touches, Crosses, Within etc.\n",
    "\n",
    "Geometric Objects consist of coordinate tuples where:\n",
    "\n",
    "* Point-objects represent a single point in space. Points can be either two-dimensional (x, y) or three dimensional (x, y, z).\n",
    "* LineString-objects (i.e. a line) represent a sequence of points joined together to form a line. Hence, a line consist of a list of at least two coordinate tuples\n",
    "* Polygon objects represents a filled area that consists of a list of at least three coordinate tuples that forms the outerior ring and a (possible) list of hole polygons.\n",
    "\n",
    "Here we will look only into selected parts of the module: **Points and Polygons** and related functions `within()` and `contain()`, which are necessary to perform the final project.\n",
    "\n",
    "### Point\n",
    "\n",
    "During module 5, we were writing our own Point class. Something similar, a Point class, is provided by the shapely package but with many more methods and attributes.\n",
    "\n",
    "Creating a shapely Point is easy, you pass x and y coordinates into a Point()-object:"
   ]
  },
  {
   "cell_type": "code",
   "execution_count": 27,
   "metadata": {},
   "outputs": [],
   "source": [
    "# Import geometric object Point from shapely module\n",
    "from shapely.geometry import Point, Polygon"
   ]
  },
  {
   "cell_type": "code",
   "execution_count": 28,
   "metadata": {},
   "outputs": [],
   "source": [
    "# Create Point geometric object(s) with coordinates\n",
    "point1 = Point(2.2, 4.2)\n",
    "point2 = Point(7.2, -25.1)\n",
    "point3 = Point(9.26, -2.456)"
   ]
  },
  {
   "cell_type": "markdown",
   "metadata": {},
   "source": [
    "Let’s see what the variables look like"
   ]
  },
  {
   "cell_type": "code",
   "execution_count": 29,
   "metadata": {},
   "outputs": [
    {
     "name": "stdout",
     "output_type": "stream",
     "text": [
      "POINT (2.2 4.2)\n"
     ]
    }
   ],
   "source": [
    "# printing point 1 to screen\n",
    "print(point1)"
   ]
  },
  {
   "cell_type": "code",
   "execution_count": 30,
   "metadata": {},
   "outputs": [
    {
     "name": "stdout",
     "output_type": "stream",
     "text": [
      "<class 'shapely.geometry.point.Point'>\n"
     ]
    }
   ],
   "source": [
    "# What is the type of the point?\n",
    "print(type(point1))"
   ]
  },
  {
   "cell_type": "markdown",
   "metadata": {},
   "source": [
    "We can see that the type of the point is shapely’s Point which is represented in a specific format that is based on GEOS C++ library that is one of the standard libraries in GIS."
   ]
  },
  {
   "cell_type": "markdown",
   "metadata": {},
   "source": [
    "### Point attributes and functions\n",
    "\n",
    "The point-object has some built-in attributes that can be accessed and also some useful functionalities. One of the most useful ones are the ability to extract the coordinates of a Point and calculate the Euclidian distance between points.\n",
    "\n",
    "Extracting the coordinates of a Point can be done in a couple of different ways:"
   ]
  },
  {
   "cell_type": "code",
   "execution_count": 31,
   "metadata": {},
   "outputs": [
    {
     "data": {
      "text/plain": [
       "shapely.coords.CoordinateSequence"
      ]
     },
     "execution_count": 31,
     "metadata": {},
     "output_type": "execute_result"
    }
   ],
   "source": [
    "# Get the coordinates\n",
    "point_coords = point1.coords \n",
    "\n",
    "# What is the type of this?\n",
    "type(point_coords) "
   ]
  },
  {
   "cell_type": "markdown",
   "metadata": {},
   "source": [
    "Ok, we can see that the output is a Shapely CoordinateSequence. Let’s see how we can get out the actual coordinates:"
   ]
  },
  {
   "cell_type": "code",
   "execution_count": 32,
   "metadata": {},
   "outputs": [],
   "source": [
    "# Get x and y coordinates\n",
    "xy = point_coords.xy\n",
    "\n",
    "# Get only x coordinates of Point1\n",
    "x = point1.x\n",
    "\n",
    "# Whatabout y coordinate?\n",
    "y = point1.y"
   ]
  },
  {
   "cell_type": "markdown",
   "metadata": {},
   "source": [
    "What is inside?"
   ]
  },
  {
   "cell_type": "code",
   "execution_count": 33,
   "metadata": {},
   "outputs": [
    {
     "name": "stdout",
     "output_type": "stream",
     "text": [
      "(array('d', [2.2]), array('d', [4.2]))\n"
     ]
    }
   ],
   "source": [
    "# printing received coordinates of the point\n",
    "print(xy)"
   ]
  },
  {
   "cell_type": "code",
   "execution_count": 34,
   "metadata": {},
   "outputs": [
    {
     "name": "stdout",
     "output_type": "stream",
     "text": [
      "2.2\n"
     ]
    }
   ],
   "source": [
    "# printing received x coordinate of the point\n",
    "print(x)"
   ]
  },
  {
   "cell_type": "code",
   "execution_count": 35,
   "metadata": {},
   "outputs": [
    {
     "name": "stdout",
     "output_type": "stream",
     "text": [
      "4.2\n"
     ]
    }
   ],
   "source": [
    "# printing received y coordinate of the point\n",
    "print(y)"
   ]
  },
  {
   "cell_type": "markdown",
   "metadata": {},
   "source": [
    "So we can see that the our xy variable contains a tuple where x and y are stored inside of numpy arrays. However, our x and y variables are plain decimal numbers.\n",
    "\n",
    "It is also possible to calculate the distance between points which can be useful in many applications. The returned distance is based on the projection of the points (degrees in WGS84, meters in UTM)."
   ]
  },
  {
   "cell_type": "code",
   "execution_count": 36,
   "metadata": {},
   "outputs": [
    {
     "name": "stdout",
     "output_type": "stream",
     "text": [
      "Distance between the points is 29.72 decimal degrees\n"
     ]
    }
   ],
   "source": [
    "# Calculate the distance between point1 and point2\n",
    "point_dist = point1.distance(point2)\n",
    "print(\"Distance between the points is {0:.2f} decimal degrees\".format(point_dist))"
   ]
  },
  {
   "cell_type": "markdown",
   "metadata": {},
   "source": [
    "## Polygon\n",
    "\n",
    "Creating a shapely-object Polygon continues the same logic of how Point was created but Polygon objects only accept coordinate-tuples as input. A shapely Polygon needs at least three coordinate-tuples:"
   ]
  },
  {
   "cell_type": "code",
   "execution_count": 37,
   "metadata": {},
   "outputs": [],
   "source": [
    "# Create a Polygon from the coordinates\n",
    "poly = Polygon([(2.2, 4.2), (7.2, -25.1), (9.26, -2.456)])\n",
    "\n",
    "# We can also use our previously created Point objects (same outcome)\n",
    "# --> notice that Polygon object requires x,y coordinates as input\n",
    "poly2 = Polygon([[p.x, p.y] for p in [point1, point2, point3]])\n",
    "\n",
    "# Geometry type can be accessed as a String\n",
    "poly_type = poly.geom_type\n",
    "\n",
    "# Using the Python's type function gives the type in a different format\n",
    "poly_type2 = type(poly)"
   ]
  },
  {
   "cell_type": "markdown",
   "metadata": {},
   "source": [
    "Let's see how our Polygon looks like:"
   ]
  },
  {
   "cell_type": "code",
   "execution_count": 38,
   "metadata": {},
   "outputs": [
    {
     "name": "stdout",
     "output_type": "stream",
     "text": [
      "POLYGON ((2.2 4.2, 7.2 -25.1, 9.26 -2.456, 2.2 4.2))\n",
      "POLYGON ((2.2 4.2, 7.2 -25.1, 9.26 -2.456, 2.2 4.2))\n",
      "Geometry type as text: Polygon\n",
      "Geometry how Python shows it: <class 'shapely.geometry.polygon.Polygon'>\n"
     ]
    }
   ],
   "source": [
    "# printing out both polygons\n",
    "print(poly)\n",
    "print(poly2)\n",
    "\n",
    "# printing the polygon type as text and how Python shows is\n",
    "print(\"Geometry type as text:\", poly_type)\n",
    "print(\"Geometry how Python shows it:\", poly_type2)"
   ]
  },
  {
   "cell_type": "markdown",
   "metadata": {},
   "source": [
    "### Polygon attributes and functions\n",
    "\n",
    "We can again access different attributes that are really useful such as area, centroid, bounding box, exterior, and exterior-length of the Polygon. Here some examples:"
   ]
  },
  {
   "cell_type": "code",
   "execution_count": 39,
   "metadata": {},
   "outputs": [],
   "source": [
    "# Define a polygon that circumferes a mercator projected global map\n",
    "world = Polygon([(-180, 90), (-180, -90), (180, -90), (180, 90)])\n",
    "\n",
    "# Get the centroid of the Polygon\n",
    "world_centroid = world.centroid\n",
    "\n",
    "# Get the area of the Polygon\n",
    "world_area = world.area\n",
    "\n",
    "# Get the bounds of the Polygon (i.e. bounding box)\n",
    "world_bbox = world.bounds\n",
    "\n",
    "# Get the exterior of the Polygon\n",
    "world_ext = world\n",
    "\n",
    "# Get the length of the exterior\n",
    "world_ext_length = world_ext.length"
   ]
  },
  {
   "cell_type": "code",
   "execution_count": 40,
   "metadata": {},
   "outputs": [
    {
     "name": "stdout",
     "output_type": "stream",
     "text": [
      "Poly centroid:  POINT (-0 -0)\n",
      "Poly Area:  64800.0\n",
      "Poly Bounding Box:  (-180.0, -90.0, 180.0, 90.0)\n",
      "Poly Exterior:  POLYGON ((-180 90, -180 -90, 180 -90, 180 90, -180 90))\n",
      "Poly Exterior Length:  1080.0\n"
     ]
    }
   ],
   "source": [
    "print(\"Poly centroid: \", world_centroid)\n",
    "print(\"Poly Area: \", world_area)\n",
    "print(\"Poly Bounding Box: \", world_bbox)\n",
    "print(\"Poly Exterior: \", world_ext)\n",
    "print(\"Poly Exterior Length: \", world_ext_length)"
   ]
  },
  {
   "cell_type": "markdown",
   "metadata": {},
   "source": [
    "Shapely also provides the option of creating lines. But we will stop at this point and postpone further content on shapely objects to GIS322. "
   ]
  },
  {
   "cell_type": "markdown",
   "metadata": {},
   "source": [
    "## Point in Polygon & Intersect\n",
    "\n",
    "Finding out if a certain **point is located inside or outside of an area is a fundamental geospatial operation** that is often used, for example, **to select data based on location**. Such spatial queries are one of the typical first steps of the workflow when doing spatial analysis. \n",
    "\n",
    "Computationally, detecting if a point is inside a polygon is most commonly done using a specific formula called Ray Casting algorithm. Luckily, we do not need to create such a function ourselves for conducting the **Point in Polygon (PIP)** query. Instead, we can take advantage of Shapely’s binary predicates that can evaluate the topolocical relationships between geographical objects, such as the PIP as we’re interested here.\n",
    "\n",
    "There are basically two ways of conducting PIP in Shapely:\n",
    "\n",
    "* using a function called .within() that checks if a point is within a polygon\n",
    "* using a function called .contains() that checks if a polygon contains a point\n",
    "\n",
    "Let’s first again create a Polygon using a list of coordinate-tuples and a couple of Point objects:"
   ]
  },
  {
   "cell_type": "code",
   "execution_count": 41,
   "metadata": {},
   "outputs": [],
   "source": [
    "# Create Point objects\n",
    "p1 = Point(24.952242, 60.1696017)\n",
    "p2 = Point(24.976567, 60.1612500)\n",
    "\n",
    "# Create a Polygon\n",
    "coords = [(24.950899, 60.169158), (24.953492, 60.169158), (24.953510, 60.170104), (24.950958, 60.169990)]\n",
    "poly = Polygon(coords)"
   ]
  },
  {
   "cell_type": "markdown",
   "metadata": {},
   "source": [
    "Let's check what we have:"
   ]
  },
  {
   "cell_type": "code",
   "execution_count": 42,
   "metadata": {},
   "outputs": [
    {
     "name": "stdout",
     "output_type": "stream",
     "text": [
      "POINT (24.952242 60.1696017)\n"
     ]
    }
   ],
   "source": [
    "print(p1)"
   ]
  },
  {
   "cell_type": "code",
   "execution_count": 43,
   "metadata": {},
   "outputs": [
    {
     "name": "stdout",
     "output_type": "stream",
     "text": [
      "POINT (24.976567 60.16125)\n"
     ]
    }
   ],
   "source": [
    "print(p2)"
   ]
  },
  {
   "cell_type": "code",
   "execution_count": 44,
   "metadata": {},
   "outputs": [
    {
     "name": "stdout",
     "output_type": "stream",
     "text": [
      "POLYGON ((24.950899 60.169158, 24.953492 60.169158, 24.95351 60.170104, 24.950958 60.16999, 24.950899 60.169158))\n"
     ]
    }
   ],
   "source": [
    "print(poly)"
   ]
  },
  {
   "cell_type": "markdown",
   "metadata": {},
   "source": [
    "Now, let’s check if those points are `within()` the polygon"
   ]
  },
  {
   "cell_type": "code",
   "execution_count": 45,
   "metadata": {},
   "outputs": [
    {
     "data": {
      "text/plain": [
       "True"
      ]
     },
     "execution_count": 45,
     "metadata": {},
     "output_type": "execute_result"
    }
   ],
   "source": [
    "# Check if p1 is within the polygon using the within function\n",
    "p1.within(poly)"
   ]
  },
  {
   "cell_type": "code",
   "execution_count": 46,
   "metadata": {},
   "outputs": [
    {
     "data": {
      "text/plain": [
       "False"
      ]
     },
     "execution_count": 46,
     "metadata": {},
     "output_type": "execute_result"
    }
   ],
   "source": [
    "# Check if p2 is within the polygon\n",
    "p2.within(poly)"
   ]
  },
  {
   "cell_type": "markdown",
   "metadata": {},
   "source": [
    "We can see that the first point seems to be inside that polygon and the other one doesn’t.\n",
    "\n",
    "In fact, the first point is close to the center of the polygon as we can see:"
   ]
  },
  {
   "cell_type": "code",
   "execution_count": 47,
   "metadata": {},
   "outputs": [
    {
     "name": "stdout",
     "output_type": "stream",
     "text": [
      "POINT (24.952242 60.1696017)\n",
      "POINT (24.95224242849236 60.16960179038188)\n"
     ]
    }
   ],
   "source": [
    "# Our point\n",
    "print(p1)\n",
    "\n",
    "# The centroid\n",
    "print(poly.centroid)"
   ]
  },
  {
   "cell_type": "markdown",
   "metadata": {},
   "source": [
    "It is also possible to do PIP other way around, i.e. to check if polygon contains a point:"
   ]
  },
  {
   "cell_type": "code",
   "execution_count": 48,
   "metadata": {},
   "outputs": [
    {
     "data": {
      "text/plain": [
       "True"
      ]
     },
     "execution_count": 48,
     "metadata": {},
     "output_type": "execute_result"
    }
   ],
   "source": [
    "# Does polygon contain p1?\n",
    "poly.contains(p1)"
   ]
  },
  {
   "cell_type": "code",
   "execution_count": 49,
   "metadata": {},
   "outputs": [
    {
     "data": {
      "text/plain": [
       "False"
      ]
     },
     "execution_count": 49,
     "metadata": {},
     "output_type": "execute_result"
    }
   ],
   "source": [
    "# Does polygon contain p2?\n",
    "poly.contains(p2)"
   ]
  },
  {
   "cell_type": "markdown",
   "metadata": {},
   "source": [
    "Both ways of checking the spatial relationship results in the same outcome. But which one should you use then? Well, it depends:\n",
    "\n",
    "If you have **many points and just one polygon** and you try to find out which one of them is inside the polygon:\n",
    "    \n",
    "* You need to iterate over the points and check, one at a time, if it is `within()` the polygon specified\n",
    "\n",
    "If you have **many polygons and just one point** and you want to find out which polygon contains the point\n",
    "\n",
    "* You iterate over the polygons until you find a polygon that `contains()` the point specified (assuming there are no overlapping polygons).\n",
    "\n",
    "### Conclusion\n",
    "\n",
    "The module shapely provides us with data object types for points and polygons (and more). It also comes with function to perform a Point in Polygon (PIP) analysis.\n",
    "This is definitely not all to know about the module shapely, but the most important functions to move on to analyze our sea surface temperatures for the atlantic ocean only!"
   ]
  }
 ],
 "metadata": {
  "kernelspec": {
   "display_name": "Python 3",
   "language": "python",
   "name": "python3"
  },
  "language_info": {
   "codemirror_mode": {
    "name": "ipython",
    "version": 3
   },
   "file_extension": ".py",
   "mimetype": "text/x-python",
   "name": "python",
   "nbconvert_exporter": "python",
   "pygments_lexer": "ipython3",
   "version": "3.7.4"
  }
 },
 "nbformat": 4,
 "nbformat_minor": 2
}
