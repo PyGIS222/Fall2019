{
  "nbformat": 4,
  "nbformat_minor": 0,
  "metadata": {
    "colab": {
      "name": "M2_TastePython_Python2.ipynb",
      "version": "0.3.2",
      "provenance": [],
      "collapsed_sections": []
    },
    "kernelspec": {
      "name": "python2",
      "display_name": "Python 2"
    }
  },
  "cells": [
    {
      "cell_type": "markdown",
      "metadata": {
        "id": "fB4VzjZxNDMJ",
        "colab_type": "text"
      },
      "source": [
        "[![Google Colab](https://colab.research.google.com/assets/colab-badge.svg)](https://colab.research.google.com/github/PyGIS222/Fall2019/blob/master/M2_TastePython_Python2.ipynb)\n",
        "\n",
        "[![Binder](https://mybinder.org/badge_logo.svg)](https://mybinder.org/v2/gh/PyGIS222/Fall2019/master?filepath=M2_TastePython_Python2.ipynb)"
      ]
    },
    {
      "cell_type": "markdown",
      "metadata": {
        "id": "hMdD2uRMnyuP",
        "colab_type": "text"
      },
      "source": [
        "# Module 2: A taste of Python\n",
        "\n",
        "We will start this Python lesson by learning about major concepts of the programming language Python. We will illustrate some of those concepts through basic operations that you can test in this document using interactive Python coding cells.\n",
        "\n",
        "### Sources\n",
        "Parts of this lesson on major concepts are informed from the book [\"Learning Python\"](https://learning-python.com/about-lp5e.html) (Lutz, 2013). The parts on Python's basic operations is inspired by the lesson [\"A taste of Python\"](https://geo-python.github.io/2018/notebooks/L1/a-taste-of-python.html)  from the [Geo-Python](hhttps://geo-python.github.io/2018/index.html) website.\n",
        "\n",
        "### About the interactive content of this document\n",
        "This is a Jupyter Notebook to assess your understanding of the basic concepts of programming in Python. The content of this document is divided into cells, which can contain Markdown-formatted text, Python code, or raw text. You can execute the cells containing Python code by clicking on the play button at the beginning of the cell or by pressing **Shift-Enter**. You can also experiment and alter the code in the cells. Try this out in the examples below."
      ]
    },
    {
      "cell_type": "markdown",
      "metadata": {
        "id": "5u5KaRUDNDMY",
        "colab_type": "text"
      },
      "source": [
        "## Getting started\n",
        "\n",
        "Presumably if you have made it this far, you have already opened this Jupyter Notebook using this course's JupyterHub or on your own computer.\n",
        "If not, you can launch [Jupyter Lab](http://jupyterlab.readthedocs.io/en/stable/) by clicking on either of the launch buttons at the top of this document."
      ]
    },
    {
      "cell_type": "markdown",
      "metadata": {
        "id": "hqKROFoIpJnG",
        "colab_type": "text"
      },
      "source": [
        "# 2.1 Major Python Concepts"
      ]
    },
    {
      "cell_type": "markdown",
      "metadata": {
        "id": "ONpJlf0ipXF5",
        "colab_type": "text"
      },
      "source": [
        "# 2.2 Basic Python Operations"
      ]
    },
    {
      "cell_type": "markdown",
      "metadata": {
        "id": "TOD6lVQ7NDMm",
        "colab_type": "text"
      },
      "source": [
        "## Variables, arithmetic and modules\n",
        "\n",
        "We will start our Python lesson by learning a bit of the basic operations you can perform using Python.\n",
        "\n",
        "### Simple Python math\n",
        "\n",
        "Python can be used as a simple calculator. Remember, you can press **Shift-Enter** to execute the code in the cells below. Try it out and see what you get."
      ]
    },
    {
      "cell_type": "code",
      "metadata": {
        "id": "6VkjlCdINDMo",
        "colab_type": "code",
        "outputId": "de266937-a02e-4124-96f2-14ae0757f6b4",
        "colab": {
          "base_uri": "https://localhost:8080/",
          "height": 34
        }
      },
      "source": [
        "1 + 1"
      ],
      "execution_count": 0,
      "outputs": [
        {
          "output_type": "execute_result",
          "data": {
            "text/plain": [
              "2"
            ]
          },
          "metadata": {
            "tags": []
          },
          "execution_count": 1
        }
      ]
    },
    {
      "cell_type": "code",
      "metadata": {
        "id": "MTcloHJ5NDM_",
        "colab_type": "code",
        "outputId": "2a661b8d-cd8f-4e84-f693-267e2bf86056",
        "colab": {
          "base_uri": "https://localhost:8080/",
          "height": 34
        }
      },
      "source": [
        "5 * 7"
      ],
      "execution_count": 0,
      "outputs": [
        {
          "output_type": "execute_result",
          "data": {
            "text/plain": [
              "35"
            ]
          },
          "metadata": {
            "tags": []
          },
          "execution_count": 4
        }
      ]
    },
    {
      "cell_type": "markdown",
      "metadata": {
        "id": "caZn_LxVNDNM",
        "colab_type": "text"
      },
      "source": [
        "If you want to edit and re-run some code, simply make changes to the cell and press **Shift-Enter** to execute the revised code."
      ]
    },
    {
      "cell_type": "markdown",
      "metadata": {
        "id": "Tl35_klCNDNP",
        "colab_type": "text"
      },
      "source": [
        "### Functions\n",
        "\n",
        "You can use Python for more advanced math by using functions. Functions are pieces of code that perform a single action such as printing information to the screen (e.g., the print() function). Functions exist for a huge number of operations in Python."
      ]
    },
    {
      "cell_type": "code",
      "metadata": {
        "id": "wUkxVc3uNDNT",
        "colab_type": "code",
        "outputId": "a705bdae-e4c3-483b-d6df-5d1e4e426856",
        "colab": {
          "base_uri": "https://localhost:8080/",
          "height": 165
        }
      },
      "source": [
        "sin(3)"
      ],
      "execution_count": 0,
      "outputs": [
        {
          "output_type": "error",
          "ename": "NameError",
          "evalue": "ignored",
          "traceback": [
            "\u001b[0;31m---------------------------------------------------------------------------\u001b[0m",
            "\u001b[0;31mNameError\u001b[0m                                 Traceback (most recent call last)",
            "\u001b[0;32m<ipython-input-5-2b5fc2868c51>\u001b[0m in \u001b[0;36m<module>\u001b[0;34m()\u001b[0m\n\u001b[0;32m----> 1\u001b[0;31m \u001b[0msin\u001b[0m\u001b[0;34m(\u001b[0m\u001b[0;36m3\u001b[0m\u001b[0;34m)\u001b[0m\u001b[0;34m\u001b[0m\u001b[0;34m\u001b[0m\u001b[0m\n\u001b[0m",
            "\u001b[0;31mNameError\u001b[0m: name 'sin' is not defined"
          ]
        }
      ]
    },
    {
      "cell_type": "code",
      "metadata": {
        "id": "ZX5_86FGNDNd",
        "colab_type": "code",
        "outputId": "226fc84f-b28a-4224-cec8-635e4e8ece14",
        "colab": {}
      },
      "source": [
        "sqrt(4)"
      ],
      "execution_count": 0,
      "outputs": [
        {
          "output_type": "error",
          "ename": "NameError",
          "evalue": "name 'sqrt' is not defined",
          "traceback": [
            "\u001b[0;31m---------------------------------------------------------------------------\u001b[0m",
            "\u001b[0;31mNameError\u001b[0m                                 Traceback (most recent call last)",
            "\u001b[0;32m<ipython-input-4-317e033d29d5>\u001b[0m in \u001b[0;36m<module>\u001b[0;34m()\u001b[0m\n\u001b[0;32m----> 1\u001b[0;31m \u001b[0msqrt\u001b[0m\u001b[0;34m(\u001b[0m\u001b[0;36m4\u001b[0m\u001b[0;34m)\u001b[0m\u001b[0;34m\u001b[0m\u001b[0m\n\u001b[0m",
            "\u001b[0;31mNameError\u001b[0m: name 'sqrt' is not defined"
          ]
        }
      ]
    },
    {
      "cell_type": "markdown",
      "metadata": {
        "id": "QKc2nVctNDNr",
        "colab_type": "text"
      },
      "source": [
        "Wait, what? Python can’t calculate square roots or do basic trigonometry? Of course it can, but we need one more step."
      ]
    },
    {
      "cell_type": "markdown",
      "metadata": {
        "id": "LmLjoCcSNDNt",
        "colab_type": "text"
      },
      "source": [
        "### Math operations\n",
        "\n",
        "The list of basic arithmetic operations that can be done by default in Python is in the table below.\n",
        "\n",
        "| Operation      | Symbol | Example syntax | Returned value |\n",
        "| -------------- | ------ | -------------- | -------------- |\n",
        "| Addition       | `+`    | `2 + 2`        | `4`            |\n",
        "| Subtraction    | `-`    | `4 - 2`        | `2`            |\n",
        "| Multiplication | `*`    | `2 * 3`        | `6`            | \n",
        "| Division       | `/`    | `4 / 2`        | `2`            |\n",
        "| Exponentiation | `**`   | `2**3`         | `8`            |\n",
        "\n",
        "For anything more advanced, we need to load a *module*."
      ]
    },
    {
      "cell_type": "code",
      "metadata": {
        "id": "mkIlPYUaNDNy",
        "colab_type": "code",
        "colab": {}
      },
      "source": [
        "import math"
      ],
      "execution_count": 0,
      "outputs": []
    },
    {
      "cell_type": "code",
      "metadata": {
        "id": "GVc8MJMnNDN9",
        "colab_type": "code",
        "outputId": "0b88dbe0-149f-4f3b-9a8b-4e4c17fc7605",
        "colab": {}
      },
      "source": [
        "math.sin(3)"
      ],
      "execution_count": 0,
      "outputs": [
        {
          "output_type": "execute_result",
          "data": {
            "text/plain": [
              "0.1411200080598672"
            ]
          },
          "metadata": {
            "tags": []
          },
          "execution_count": 6
        }
      ]
    },
    {
      "cell_type": "code",
      "metadata": {
        "id": "PQ-vvbBnNDOV",
        "colab_type": "code",
        "outputId": "c9d60b4d-31c5-4bee-f082-18e949e3c942",
        "colab": {}
      },
      "source": [
        "math.sqrt(4)"
      ],
      "execution_count": 0,
      "outputs": [
        {
          "output_type": "execute_result",
          "data": {
            "text/plain": [
              "2.0"
            ]
          },
          "metadata": {
            "tags": []
          },
          "execution_count": 7
        }
      ]
    },
    {
      "cell_type": "markdown",
      "metadata": {
        "id": "pdYcRLgJNDOk",
        "colab_type": "text"
      },
      "source": [
        "We can see a few interesting things above:\n",
        "\n",
        "1. A *module*, also known as a *library*, is a group of code items such as functions that are related to one another.\n",
        "Modules are loaded using ``import``.\n",
        "Functions that are part of the module ``modulename`` could then be used by typing ``modulename.functionname()``.\n",
        "For example, ``sin()`` is a function that is part of the ``math`` module, and used by typing ``math.sin()`` with some number between the parentheses.\n",
        "\n",
        "2. Within a given Jupyter Notebook the variables you define earlier in the notebook will be available for use in the cells that follow as long as you have already executed the cells.\n",
        "\n",
        "3. Modules may also contain constants such as ``math.pi``."
      ]
    },
    {
      "cell_type": "code",
      "metadata": {
        "id": "_a04QUzONDOl",
        "colab_type": "code",
        "outputId": "46c02be6-e142-4838-e09c-922269bf4b14",
        "colab": {}
      },
      "source": [
        "math.pi"
      ],
      "execution_count": 0,
      "outputs": [
        {
          "output_type": "execute_result",
          "data": {
            "text/plain": [
              "3.141592653589793"
            ]
          },
          "metadata": {
            "tags": []
          },
          "execution_count": 8
        }
      ]
    },
    {
      "cell_type": "code",
      "metadata": {
        "id": "brAZyzs1NDOx",
        "colab_type": "code",
        "outputId": "bebef9e5-5d39-48f4-d26c-7df36ec3db96",
        "colab": {}
      },
      "source": [
        "math.sin(math.pi) "
      ],
      "execution_count": 0,
      "outputs": [
        {
          "output_type": "execute_result",
          "data": {
            "text/plain": [
              "1.2246467991473532e-16"
            ]
          },
          "metadata": {
            "tags": []
          },
          "execution_count": 9
        }
      ]
    },
    {
      "cell_type": "markdown",
      "metadata": {
        "id": "XcUceU6ANDO_",
        "colab_type": "text"
      },
      "source": [
        "### Combining functions\n",
        "\n",
        "Functions can also be combined"
      ]
    },
    {
      "cell_type": "code",
      "metadata": {
        "id": "DWhqVvxqNDPC",
        "colab_type": "code",
        "outputId": "8d0727bb-21d6-4f64-d333-94ce6de19ac9",
        "colab": {}
      },
      "source": [
        "print(math.sqrt(4))"
      ],
      "execution_count": 0,
      "outputs": [
        {
          "output_type": "stream",
          "text": [
            "2.0\n"
          ],
          "name": "stdout"
        }
      ]
    },
    {
      "cell_type": "code",
      "metadata": {
        "id": "5P7zZWpjNDPN",
        "colab_type": "code",
        "outputId": "e3b878a4-0d0c-43d9-e4d5-c5226149eac3",
        "colab": {}
      },
      "source": [
        "print('The square root of 4 is',math.sqrt(4))"
      ],
      "execution_count": 0,
      "outputs": [
        {
          "output_type": "stream",
          "text": [
            "The square root of 4 is 2.0\n"
          ],
          "name": "stdout"
        }
      ]
    },
    {
      "cell_type": "markdown",
      "metadata": {
        "id": "wnyQiEfqNDPe",
        "colab_type": "text"
      },
      "source": [
        "### Variables\n",
        "\n",
        "*Variables* can be used to store values calculated in expressions and used for other calculations."
      ]
    },
    {
      "cell_type": "code",
      "metadata": {
        "id": "WHP4E2HXNDPt",
        "colab_type": "code",
        "outputId": "6bc226ef-148c-4923-df1d-1870de68fcf7",
        "colab": {
          "base_uri": "https://localhost:8080/",
          "height": 34
        }
      },
      "source": [
        "temp_celsius = 10.0\n",
        "print(temp_celsius)"
      ],
      "execution_count": 0,
      "outputs": [
        {
          "output_type": "stream",
          "text": [
            "10.0\n"
          ],
          "name": "stdout"
        }
      ]
    },
    {
      "cell_type": "code",
      "metadata": {
        "id": "gFVhjJIjNDP_",
        "colab_type": "code",
        "outputId": "80137660-71b6-40f6-e74c-dd5af3e91bbd",
        "colab": {}
      },
      "source": [
        "print('Temperature in Fahrenheit:', 9/5 * temp_celsius + 32)"
      ],
      "execution_count": 0,
      "outputs": [
        {
          "output_type": "stream",
          "text": [
            "Temperature in Fahrenheit: 50.0\n"
          ],
          "name": "stdout"
        }
      ]
    },
    {
      "cell_type": "markdown",
      "metadata": {
        "id": "Ob3AQDGgNDQS",
        "colab_type": "text"
      },
      "source": [
        "Above, we also see one common format for good variable naming, separation of words by underscores `_` (e.g., `temp_celsius`). This is called *pothole_case_naming*. We’ll see another below."
      ]
    },
    {
      "cell_type": "markdown",
      "metadata": {
        "id": "Jpb2cwtKNDQU",
        "colab_type": "text"
      },
      "source": [
        "#### Check your understanding\n",
        "\n",
        "Use the empty Python cell below to define a variable and print its value to the screen using the `print()` function.\n",
        "The variable value can be anything you like, and you can even consider defining several variables and printing them out together.\n",
        "Consider using pothole_case_naming for your variable name."
      ]
    },
    {
      "cell_type": "code",
      "metadata": {
        "id": "pivvw06NNDQY",
        "colab_type": "code",
        "outputId": "c325990c-3692-4e01-974f-5c2870e615a1",
        "colab": {
          "base_uri": "https://localhost:8080/",
          "height": 34
        }
      },
      "source": [
        "# Place your code on the line(s) below. Note that lines starting with \"#\" are ignored in Python.\n",
        "a=1\n",
        "print(a)\n"
      ],
      "execution_count": 0,
      "outputs": [
        {
          "output_type": "stream",
          "text": [
            "1\n"
          ],
          "name": "stdout"
        }
      ]
    },
    {
      "cell_type": "markdown",
      "metadata": {
        "id": "YeNY9-GYNDQi",
        "colab_type": "text"
      },
      "source": [
        "### Updating variables\n",
        "\n",
        "Values stored in variables can also be updated."
      ]
    },
    {
      "cell_type": "code",
      "metadata": {
        "id": "2co5QJyZNDQj",
        "colab_type": "code",
        "colab": {}
      },
      "source": [
        "temp_celsius = 15.0"
      ],
      "execution_count": 0,
      "outputs": []
    },
    {
      "cell_type": "code",
      "metadata": {
        "id": "owudHkwVNDQy",
        "colab_type": "code",
        "outputId": "65d678db-f4d3-49da-9e96-54c5173ff090",
        "colab": {
          "base_uri": "https://localhost:8080/",
          "height": 34
        }
      },
      "source": [
        "print('temperature in Celsius is now:', temp_celsius)"
      ],
      "execution_count": 0,
      "outputs": [
        {
          "output_type": "stream",
          "text": [
            "temperature in Celsius is now: 15.0\n"
          ],
          "name": "stdout"
        }
      ]
    },
    {
      "cell_type": "markdown",
      "metadata": {
        "id": "0ljNUGAqNDQ3",
        "colab_type": "text"
      },
      "source": [
        "<div class=\"alert alert-warning\">\n",
        "\n",
        "**Warning**\n",
        "\n",
        "If you try to run some code that accesses a variable that has not yet been defined you will get a `NameError` message.\n",
        "\n",
        "</div>"
      ]
    },
    {
      "cell_type": "code",
      "metadata": {
        "id": "_1MuGZDWNDQ6",
        "colab_type": "code",
        "outputId": "0a71a769-4aff-4e75-a57c-41e3ba187bfc",
        "colab": {}
      },
      "source": [
        "print('Temperature in Celsius:', 5/9 * (tempFahrenheit - 32))"
      ],
      "execution_count": 0,
      "outputs": [
        {
          "output_type": "error",
          "ename": "NameError",
          "evalue": "name 'tempFahrenheit' is not defined",
          "traceback": [
            "\u001b[0;31m---------------------------------------------------------------------------\u001b[0m",
            "\u001b[0;31mNameError\u001b[0m                                 Traceback (most recent call last)",
            "\u001b[0;32m<ipython-input-16-2067e78f4444>\u001b[0m in \u001b[0;36m<module>\u001b[0;34m()\u001b[0m\n\u001b[0;32m----> 1\u001b[0;31m \u001b[0mprint\u001b[0m\u001b[0;34m(\u001b[0m\u001b[0;34m'Temperature in Celsius:'\u001b[0m\u001b[0;34m,\u001b[0m \u001b[0;36m5\u001b[0m\u001b[0;34m/\u001b[0m\u001b[0;36m9\u001b[0m \u001b[0;34m*\u001b[0m \u001b[0;34m(\u001b[0m\u001b[0mtempFahrenheit\u001b[0m \u001b[0;34m-\u001b[0m \u001b[0;36m32\u001b[0m\u001b[0;34m)\u001b[0m\u001b[0;34m)\u001b[0m\u001b[0;34m\u001b[0m\u001b[0m\n\u001b[0m",
            "\u001b[0;31mNameError\u001b[0m: name 'tempFahrenheit' is not defined"
          ]
        }
      ]
    },
    {
      "cell_type": "markdown",
      "metadata": {
        "id": "WqYc9TiTNDRC",
        "colab_type": "text"
      },
      "source": [
        "<div class=\"alert alert-info\">\n",
        "\n",
        "**Note**\n",
        "\n",
        "One of the cool things here is that if we define the undefined variable in a later cell and execute that cell, we can return to the earlier one and the code should now work. That was a bit of a complicated sentence, so let's test this all out. First, execute the Python code in the cell below. Then, return to the cell above this text and run it again. See how the error message has gone away? `tempFahrenheit` has now been defined and thus the cell above no longer generates a `NameError` when the code is executed.\n",
        "\n",
        "Also, the number beside the cell, for example `In [2]`, tells you the order in which the Python cells have been executed. This way you can see a history of the commands you've executed\n",
        "</div>"
      ]
    },
    {
      "cell_type": "code",
      "metadata": {
        "id": "_aLd_ISkNDRD",
        "colab_type": "code",
        "colab": {}
      },
      "source": [
        "tempFahrenheit = 9/5 * temp_celsius + 32"
      ],
      "execution_count": 0,
      "outputs": []
    },
    {
      "cell_type": "code",
      "metadata": {
        "id": "rGssjoORNDRJ",
        "colab_type": "code",
        "outputId": "c421eb61-76e8-4718-efa7-ffbedb946374",
        "colab": {}
      },
      "source": [
        "print('temperature in Celsius:', temp_celsius, 'and in Fahrenheit:', tempFahrenheit)"
      ],
      "execution_count": 0,
      "outputs": [
        {
          "output_type": "stream",
          "text": [
            "temperature in Celsius: 15.0 and in Fahrenheit: 59.0\n"
          ],
          "name": "stdout"
        }
      ]
    },
    {
      "cell_type": "markdown",
      "metadata": {
        "id": "TxgDzG_ENDRU",
        "colab_type": "text"
      },
      "source": [
        "### Variable values\n",
        "\n",
        "Changing the value of a variable does not affect other variable values."
      ]
    },
    {
      "cell_type": "code",
      "metadata": {
        "id": "B_ZzFpH7NDRV",
        "colab_type": "code",
        "outputId": "6f188fe0-de7c-4b61-bb56-9170525d4d00",
        "colab": {}
      },
      "source": [
        "temp_celsius = 20.0\n",
        "print('temperature in Celsius is now:', temp_celsius, 'and temperature in Fahrenheit is still:', tempFahrenheit)"
      ],
      "execution_count": 0,
      "outputs": [
        {
          "output_type": "stream",
          "text": [
            "temperature in Celsius is now: 20.0 and temperature in Fahrenheit is still: 59.0\n"
          ],
          "name": "stdout"
        }
      ]
    },
    {
      "cell_type": "markdown",
      "metadata": {
        "id": "TacFGUIRNDRg",
        "colab_type": "text"
      },
      "source": [
        "### Data types\n",
        "\n",
        "There are 4 basic *data types* in Python as shown in the table below.\n",
        "\n",
        "| Data type name | Data type            | Example    |\n",
        "| -------------- | -------------------- | ---------- |\n",
        "| `int`          | Whole integer values | `4`        |\n",
        "| `float`        | Decimal values       | `3.1415`   |\n",
        "| `str`          | Character strings    | `'Hot'`    |\n",
        "| `bool`         | True/false values    | `True`     |\n",
        "\n",
        "The data type can be found using the `type()` function.\n",
        "As you will see, the data types are important because some are not compatible with one another."
      ]
    },
    {
      "cell_type": "code",
      "metadata": {
        "id": "HMzIVomJNDRj",
        "colab_type": "code",
        "outputId": "df802f5d-77b7-4ad1-e787-c3ccd1fbe70d",
        "colab": {}
      },
      "source": [
        "weatherForecast = 'Hot'\n",
        "type(weatherForecast)"
      ],
      "execution_count": 0,
      "outputs": [
        {
          "output_type": "execute_result",
          "data": {
            "text/plain": [
              "str"
            ]
          },
          "metadata": {
            "tags": []
          },
          "execution_count": 20
        }
      ]
    },
    {
      "cell_type": "code",
      "metadata": {
        "id": "eYQk7--sNDRx",
        "colab_type": "code",
        "outputId": "40910125-c6b9-4c72-b2cb-c7923bdd003c",
        "colab": {}
      },
      "source": [
        "type(tempFahrenheit)\n",
        "tempFahrenheit = tempFahrenheit + 5.0 * weatherForecast"
      ],
      "execution_count": 0,
      "outputs": [
        {
          "output_type": "error",
          "ename": "TypeError",
          "evalue": "can't multiply sequence by non-int of type 'float'",
          "traceback": [
            "\u001b[0;31m---------------------------------------------------------------------------\u001b[0m",
            "\u001b[0;31mTypeError\u001b[0m                                 Traceback (most recent call last)",
            "\u001b[0;32m<ipython-input-21-41e07022ce91>\u001b[0m in \u001b[0;36m<module>\u001b[0;34m()\u001b[0m\n\u001b[1;32m      1\u001b[0m \u001b[0mtype\u001b[0m\u001b[0;34m(\u001b[0m\u001b[0mtempFahrenheit\u001b[0m\u001b[0;34m)\u001b[0m\u001b[0;34m\u001b[0m\u001b[0m\n\u001b[0;32m----> 2\u001b[0;31m \u001b[0mtempFahrenheit\u001b[0m \u001b[0;34m=\u001b[0m \u001b[0mtempFahrenheit\u001b[0m \u001b[0;34m+\u001b[0m \u001b[0;36m5.0\u001b[0m \u001b[0;34m*\u001b[0m \u001b[0mweatherForecast\u001b[0m\u001b[0;34m\u001b[0m\u001b[0m\n\u001b[0m",
            "\u001b[0;31mTypeError\u001b[0m: can't multiply sequence by non-int of type 'float'"
          ]
        }
      ]
    },
    {
      "cell_type": "markdown",
      "metadata": {
        "id": "3jp_ohXoNDR1",
        "colab_type": "text"
      },
      "source": [
        "In this case we get at `TypeError` because we are trying to execute a math operation with data types that are not compatible. There is no way in Python to multpily numbers with a character string."
      ]
    },
    {
      "cell_type": "markdown",
      "metadata": {
        "id": "n0KtPBAdNDR3",
        "colab_type": "text"
      },
      "source": [
        "#### Check your understanding\n",
        "\n",
        "Use the empty Python cell below to store a value in a variable that is the result of dividing an `int` value by a `float` or vice versa.\n",
        "For example, `4 / 2.0`.\n",
        "After you store the value in the variable, check its type using the `type()` function.\n",
        "Did you get what you expected?\n",
        "What happens when you divide two `int` values?"
      ]
    },
    {
      "cell_type": "code",
      "metadata": {
        "id": "No0Cv_NlNDR4",
        "colab_type": "code",
        "colab": {}
      },
      "source": [
        "# Place your code on the line(s) below.\n",
        "\n"
      ],
      "execution_count": 0,
      "outputs": []
    }
  ]
}