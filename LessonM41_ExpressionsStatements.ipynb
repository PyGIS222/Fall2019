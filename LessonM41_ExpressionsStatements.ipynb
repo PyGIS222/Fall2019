{
 "cells": [
  {
   "cell_type": "markdown",
   "metadata": {},
   "source": [
    "[![Google Colab](https://colab.research.google.com/assets/colab-badge.svg)](https://colab.research.google.com/github/PyGIS222/Fall2019/blob/master/LessonM41_ExpressionsStatements.ipynb)\n",
    "\n",
    "[![Binder](https://mybinder.org/badge_logo.svg)](https://mybinder.org/v2/gh/PyGIS222/Fall2019/master?filepath=LessonM41_ExpressionsStatements.ipynb)"
   ]
  },
  {
   "cell_type": "markdown",
   "metadata": {},
   "source": [
    "### Notebook Lesson 4.1\n",
    "\n",
    "# Expressions and Statements\n",
    "\n",
    "This Jupyter Notebook is part of Module 4 of the course GIS222 (Fall2019).\n",
    "\n",
    "This lesson discusses the difference between **Expressions** and **Statements**. We will also learn details about different statements for coding **selections**, **iterations** and other **repetitions** (loops). Carefully study the content of this Notebook and use the chance to reflect the material through the interactive examples.\n",
    "\n",
    "### Sources\n",
    "Beginning of this lesson is informed by Lutz (2013). Sections about conditions and for-loops are adapted from Lessons 3 of the [Geo-Python 2018](https://geo-python.github.io/site/2018/lessons/L3/overview.html). The section about while-loops was inspired by the page [How To Construct While Loops in Python 3](https://www.digitalocean.com/community/tutorials/how-to-construct-while-loops-in-python-3). And the section about break, continue and pass statements by the page [How To Use Break, Continue, and Pass Statements when Working with Loops in Python 3](https://www.digitalocean.com/community/tutorials/how-to-use-break-continue-and-pass-statements-when-working-with-loops-in-python-3). Both are from the [Digital Ocean Community](https://www.digitalocean.com/community). The online sources are licensed under a Creative Commons Attribution-ShareAlike 4.0 International licence (Geo-Python) and under a   Creative Commons Attribution-NonCommercial-ShareAlike 4.0 International License (Digital Ocean Community).\n",
    "\n",
    "\n",
    "---\n"
   ]
  },
  {
   "cell_type": "markdown",
   "metadata": {},
   "source": [
    "# Brief Review: Python's Conceptual Hierarchy\n",
    "\n",
    "Take a moment, to revise what we have discussed about Python's conceptual hierarchy!\n",
    "\n",
    "<div class=\"alert alert-success\">\n",
    "\n",
    "**Review**\n",
    "\n",
    "In Python terms, a programs consist of four major components that built a hierarchy:\n",
    "\n",
    "1. Programs are composed of **modules** (top of the hierarchy)\n",
    "2. Modules contain **statements**\n",
    "3. Statements contain **expressions**\n",
    "4. Expressions create and process **objects**  (bottom of the hierarchy)\n",
    "\n",
    "At the bottom of the hierarchy stand Python *objects*, which are data elements (e.g. variables, ...). An *expression* is a combination of one or more objects that the programming language interprets and computes to produce another object. They are embedded in statements. *Statements* code the larger logic of a program (e.g. iteration, assignment, selections, ...). And *modules* are organization units at the highest-level. They package code for reuse.\n",
    "\n",
    "To connect this herarchy to the pillars of algorithms, one can simplify this to:\n",
    "* Objects are holding data (i.e. they are variables).\n",
    "* Expressions perform operations between objects (e.g. an operation)\n",
    "* Statements realize assignments, sequences, selections and repetitions\n",
    "* Modules package entire algorithms (hence, various combinations of the four pillars of algorithms). \n",
    "\n",
    "</div>\n",
    "\n",
    "Various kind of object types were discussed in course module 3. The section below, summarizes expressions. This course module 4 focusses on statements in Python. With those together you will be able to write an entire Python program, and one that may contain all four pillars of algorithms: assignments, sequences, selections and repetitions."
   ]
  },
  {
   "cell_type": "markdown",
   "metadata": {
    "nbgrader": {
     "grade": false,
     "grade_id": "cell-A",
     "locked": true,
     "schema_version": 3,
     "solution": false
    }
   },
   "source": [
    "# A. Expressions\n",
    "\n",
    "An expression is a combination of one or more objects that the programming language interprets and computes to produce another object. Objects are combined with operators to compute new values in objects. We have already discussed plenty of expression operators during the last module. Below a summary of expression operators for object types in Python.\n",
    "\n",
    "Table 2: *Python expression operators and precedence. (Lutz, 2013, Table 5-2).*\n",
    "\n",
    "<img src=\"./img/M41_ExpressionOperator.png\" title=\"Python expression operators and precedence. (Lutz 2013, Table 5-2)\" width=\"400\" />\n",
    "\n",
    "Keep in mind that many of these expression operators are useful for several object types. However, they might have different meaning. The table above summarizes that perfectly. For example, the plus operator `+` performs addition of numbers, but it concatenates strings and lists."
   ]
  },
  {
   "cell_type": "code",
   "execution_count": 1,
   "metadata": {},
   "outputs": [
    {
     "name": "stdout",
     "output_type": "stream",
     "text": [
      "[1, 2, 3, 4]\n"
     ]
    }
   ],
   "source": [
    "a = [1,2]\n",
    "b = [3,4]\n",
    "print(a+b) "
   ]
  },
  {
   "cell_type": "markdown",
   "metadata": {},
   "source": [
    "Or anaother example, the minus operator `-` performs substractions for numbers and differences for sets:"
   ]
  },
  {
   "cell_type": "code",
   "execution_count": 2,
   "metadata": {},
   "outputs": [
    {
     "name": "stdout",
     "output_type": "stream",
     "text": [
      "{1, 2}\n"
     ]
    }
   ],
   "source": [
    "c = set(a)\n",
    "d = set(b)\n",
    "print(c-d)"
   ]
  },
  {
   "cell_type": "markdown",
   "metadata": {},
   "source": [
    "And the star operator `*` performs multiplication for numbers but it repeats string and lists:"
   ]
  },
  {
   "cell_type": "code",
   "execution_count": 3,
   "metadata": {},
   "outputs": [
    {
     "name": "stdout",
     "output_type": "stream",
     "text": [
      "[1, 2, 1, 2, 1, 2]\n"
     ]
    }
   ],
   "source": [
    "print(a*3)"
   ]
  },
  {
   "cell_type": "markdown",
   "metadata": {},
   "source": [
    "Note that repeat operation does not work on lists. Performing an expression that is not valid for a certain object type will return a `TypeError`. To try it out by uncommenting and running the following cell."
   ]
  },
  {
   "cell_type": "code",
   "execution_count": 4,
   "metadata": {},
   "outputs": [],
   "source": [
    "# print(c*3) # Yields a 'TypeError'"
   ]
  },
  {
   "cell_type": "markdown",
   "metadata": {},
   "source": [
    "To write an algorithm in Python that solves a GIS problem, expressions provide us with a lot of operations to perform on object types. In addition, several expressions in a row build a sequence of steps in a sequential algorithm. However, we cannot yet perform selections or repetitions with Python. For that, we will have to go one step up in Python's conceptual hierarchy! In the next section, we will define and discuss statements in Python."
   ]
  },
  {
   "cell_type": "markdown",
   "metadata": {},
   "source": [
    "# B. Statements\n",
    "\n",
    "In simple terms, *statements* are the things that you write to tell Python what your program should do. If programs \"*do things with stuff*\", then statements are the way you specify what sort of things a program does. In this sense, Python is a preocedural, statement-based language. By combining statements, you specify a precedure that Python performs to satisfy a program's goal. (Lutz, 2013)\n",
    "\n",
    "In the conceptual hierarchy of Python, we have defined that statements contain expressions. At their base, programs written in the Python language are composed of statements and expressions. Expressions process objects and are abedded in statements. Statements code the larger logic of a program's operation. They perform actions, repeat tasks, make choices, and so on. Statements use and direct expressions to process the objects we studied in the preious module. Moreover, statements are where objects spring into existence (e.g. in expressions within assignment statements), and some statements create enirely new kinds of objects (functions, classes, and so on). At the top hierarcy, statements always exist in modules (i.e. program packages), which themselves are managed with statements. (Lutz, 2013) \n",
    "\n",
    "Table 3 summarizes available statements in Python and gives examples and literal syntax for them. Each has its own purpose and syntax. As you will see, some have common sytax patterns and some statement roles overlap. As mentioned above, the first and major statement is an assignment. One reason for this distinction from expressions is that an assignment in Python realizes not just the creation of an object, but also of its reference to a variable name. In previous lessons, we have already used the statements in row two and three of the table: calling functions and methods as well as printing objects to the display. We have also deleted references before (last row of Table 3). In this notebook we will discuss selecting actions, iterations and loops together with related statements for controlling loops (rows four to nine in Table 3). Statements lower in the table have to do with larger program units: functions, modules, classes and exceptions. These will be discussed during later notebook lessons of this course module. \n",
    "\n",
    "Table 3: *Python Statements. (Lutz, 2013, Table 10-1).*\n",
    "\n",
    "<img src=\"./img/M41_Statements.png\" title=\"Python Statements.Lutz (2013, Table 10-1)\" width=\"400\" />\n",
    "\n",
    "In the rest of this notebook we will first discuss selecting actions with `if/elif/else` statements and after that statements related to loops.\n",
    "\n",
    "\n",
    "<div class=\"alert alert-info\">\n",
    "\n",
    "**Note**\n",
    "\n",
    "Besides expressions and statements, another important element in the code of any software are comments. In between code you can create lines, that are ignored by the interpreter, if preceded by a `#`. Multiple lines can be commented by leading and trailing triple `'` or `\"` of the text block. You have seen plenty of examples in previous lesson and assignment notebooks. Make use of this option, when you write code, either to help other's to read it, or for yourself to later remember the meaning of the respective code line or block. A simplistic example:\n",
    "\n",
    "```python\n",
    "''' here we are adding\n",
    "    two numbers to a third '''\n",
    "a = 10  # this is the number of something\n",
    "b = 3   # this is the amount of another thing.\n",
    "c = a + b # adding them up\n",
    "```\n",
    "\n",
    "In the code block example above, the first two lines as well as the text after the assignments of a, b and c will be completely ignored by the interpreter.\n",
    "</div> "
   ]
  },
  {
   "cell_type": "markdown",
   "metadata": {},
   "source": [
    "## B.1. Making Selections with Conditional Statements\n",
    "\n",
    "Conditional statements can change the code behaviour based on meeting certain conditions.\n",
    "\n",
    "<div class=\"alert alert-success\">\n",
    "    \n",
    "You can also watch a video tutorial of this Notebook Section B.1. on the YouYube channel *Geo-Python*:  <a href=\"https://youtu.be/_mGDXqMbs3A\">Geo-Python 2018 Lesson - Conditional Statements</a>\n",
    "\n",
    "</div> "
   ]
  },
  {
   "cell_type": "markdown",
   "metadata": {},
   "source": [
    "### A simple conditional statement\n",
    "\n",
    "Let’s take a simple example."
   ]
  },
  {
   "cell_type": "code",
   "execution_count": 5,
   "metadata": {},
   "outputs": [
    {
     "name": "stdout",
     "output_type": "stream",
     "text": [
      "it is not hot\n"
     ]
    }
   ],
   "source": [
    "temperature = 17\n",
    "\n",
    "if temperature > 25:\n",
    "    print('it is hot')\n",
    "else:\n",
    "    print('it is not hot')"
   ]
  },
  {
   "cell_type": "markdown",
   "metadata": {},
   "source": [
    "What did we do here?\n",
    "First, we used the **`if`** and **`else`** statements to determine what parts of the code to execute.\n",
    "Note that both lines containing `if` or `else` end with a **`:`** and the text beneath is **indented**. As we have discussed in course module 3, without indentation this code would not work!\n",
    "\n",
    "What do these tests do?\n",
    "The `if` test checks to see whether the variable value for `temperature` is greater than 25.\n",
    "If so, `'it is hot'` would be written to the screen.\n",
    "Since 17 is smaller than 25, the code beneath the else is executed.\n",
    "The `else` statement code will run whenever the `if` test is false."
   ]
  },
  {
   "cell_type": "markdown",
   "metadata": {},
   "source": [
    "### A familiar conditional scenario\n",
    "\n",
    "As it turns out, we all use logic similar to `if` and `else` conditional statements daily.\n",
    "Imagine you’re getting ready to leave your home for the day and want to decide what to wear.\n",
    "You might look outside to check the weather conditions.\n",
    "If it is raining, you will wear a rain jacket.\n",
    "Otherwise, you will not.\n",
    "In Python we could say:\n",
    "\n",
    "```python\n",
    "weather = 'Rain'\n",
    "\n",
    "if weather == 'Rain':\n",
    "    print('Wear a raincoat')\n",
    "else:\n",
    "    print('No raincoat needed')\n",
    "\n",
    "Wear a raincoat\n",
    "```\n",
    "Note here that we use the `==` to test if a value is exactly equal to another."
   ]
  },
  {
   "cell_type": "markdown",
   "metadata": {},
   "source": [
    "### `else` is not required\n",
    "\n",
    "The combination of if and else is very common, but both are not strictly required."
   ]
  },
  {
   "cell_type": "code",
   "execution_count": 6,
   "metadata": {},
   "outputs": [],
   "source": [
    "temperature = 13"
   ]
  },
  {
   "cell_type": "code",
   "execution_count": 7,
   "metadata": {},
   "outputs": [],
   "source": [
    "if temperature > 25:\n",
    "    print('13 is greater than 25')"
   ]
  },
  {
   "cell_type": "markdown",
   "metadata": {},
   "source": [
    "Note that here we use only the `if` statement, and because 13 is not greater than 25, nothing is printed to the screen."
   ]
  },
  {
   "cell_type": "markdown",
   "metadata": {},
   "source": [
    "### Introducing a second test\n",
    "\n",
    "We can also have a second test for an if statment by using the `elif` (else-if) statement."
   ]
  },
  {
   "cell_type": "code",
   "execution_count": 8,
   "metadata": {},
   "outputs": [],
   "source": [
    "temperature = -3"
   ]
  },
  {
   "cell_type": "code",
   "execution_count": 9,
   "metadata": {},
   "outputs": [
    {
     "name": "stdout",
     "output_type": "stream",
     "text": [
      "-3 is below freezing\n"
     ]
    }
   ],
   "source": [
    "if temperature > 0:\n",
    "     print(temperature, 'is above freezing')\n",
    "elif temperature == 0:\n",
    "     print(temperature, 'is freezing')\n",
    "else:\n",
    "     print(temperature, 'is below freezing')"
   ]
  },
  {
   "cell_type": "markdown",
   "metadata": {},
   "source": [
    "Makes sense, right? Note here that we again use the == to test if a value is exactly equal to another. The complete list of these comparison operators is given in the table below. These belong also to the expression operators in Python (see Table 2 in section A of this notebook).\n",
    "\n",
    "Table 4. *Expression Operators for Comparisons.*\n",
    "\n",
    "| Operator | Meaning                  |\n",
    "| -------- | ------------------------ |\n",
    "| <        | Less than                |\n",
    "| <=       | Less than or equal to    |\n",
    "| ==       | Equal to                 |\n",
    "| >=       | Greater than or equal to |\n",
    "| >        | Greater than             |\n",
    "| !=       | Not equal to             |"
   ]
  },
  {
   "cell_type": "markdown",
   "metadata": {},
   "source": [
    "<hr>\n",
    "\n",
    "### Question pause 1\n",
    "\n",
    "Time to check your understanding.\n",
    "Let's assume that yesterday it was 14°C, it is 10°C outside today, and tomorrow it will be 13°C.\n",
    "The following code compares these temperatures and prints something to the screen based on the comparison.\n",
    "\n",
    "```python\n",
    "yesterday = 14\n",
    "today = 10\n",
    "tomorrow = 13\n",
    "\n",
    "if yesterday <= today:\n",
    "    print('A')\n",
    "elif today != tomorrow:\n",
    "    print('B')\n",
    "elif yesterday > tomorrow:\n",
    "    print('C')\n",
    "elif today == today:\n",
    "    print('D')\n",
    "```\n",
    "\n",
    "Which of the letters `A`, `B`, `C`, and `D` would be printed to the screen? Think about it and try to find the answer by yourself, before testing the code in the code cell below. \n",
    "\n",
    "Experiment with the code. Use it to write a conditional statements, which - given a temperature value - returns a schreen output whether it was colder, same or warmer as today.\n",
    "\n",
    "Note that the code in the exampl above contains three `elif` statements. Indeed, you can add as many else-if statements as you need, before concluding the selection block (with or without an `else`)."
   ]
  },
  {
   "cell_type": "code",
   "execution_count": 10,
   "metadata": {},
   "outputs": [],
   "source": [
    "# enter the code here and experiment with it\n",
    "\n",
    "\n",
    "\n",
    "\n"
   ]
  },
  {
   "cell_type": "markdown",
   "metadata": {},
   "source": [
    "<div class=\"alert alert-info\">\n",
    "    \n",
    "**Note** \n",
    "\n",
    "The question pauses are for your practise. They will not be graded. Use the course's **module 4 forum** in canvas, to ask questions or discuss your solutions with your peers or the instructors.\n",
    "\n",
    "</div> "
   ]
  },
  {
   "cell_type": "markdown",
   "metadata": {},
   "source": [
    "### Combining conditions\n",
    "\n",
    "We can also use `and` and `or` to have multiple conditions."
   ]
  },
  {
   "cell_type": "code",
   "execution_count": 11,
   "metadata": {},
   "outputs": [
    {
     "name": "stdout",
     "output_type": "stream",
     "text": [
      "At least one part is not true\n"
     ]
    }
   ],
   "source": [
    "if (1 > 0) and (-1 > 0):\n",
    "     print('Both parts are true')\n",
    "else:\n",
    "     print('At least one part is not true')"
   ]
  },
  {
   "cell_type": "code",
   "execution_count": 12,
   "metadata": {},
   "outputs": [
    {
     "name": "stdout",
     "output_type": "stream",
     "text": [
      "At least one test is true\n"
     ]
    }
   ],
   "source": [
    "if (1 < 0) or (-1 < 0):\n",
    "    print('At least one test is true')"
   ]
  },
  {
   "cell_type": "markdown",
   "metadata": {},
   "source": [
    "These are just simple examples, but concepts that can be quite handy."
   ]
  },
  {
   "cell_type": "markdown",
   "metadata": {},
   "source": [
    "### Another familiar conditional scenario\n",
    "\n",
    "Again, making decisions based on multiple conditions is something we regularly do.\n",
    "Imagine that we consider not only the rain, but also whether or not it is windy.\n",
    "If it is windy and raining, we’ll just stay home.\n",
    "Otherwise, we need appropriate clothing to go out.\n",
    "We can again handle this kind of decision with Python.\n",
    "\n",
    "```python\n",
    "weather = 'Rain'\n",
    "wind = 'Windy'\n",
    "\n",
    "if (weather == 'Rain') and (wind == 'Windy'):\n",
    "     print('Just stay home')\n",
    "elif weather == 'Rain':\n",
    "     print('Wear a raincoat')\n",
    "else:\n",
    "     print('No raincoat needed')\n",
    "\n",
    "Just stay home\n",
    "```\n",
    "\n",
    "As you can see, we better just stay home if it is windy and raining.\n",
    "\n",
    "Note, that the second condition tests only for `weather` being `'Rain'`, not for `wind` being not `'Windy'`. This is not neccessary, because it is already fulfilled, if the first `if` condition was rejected although `weather` is `'Rain'`. The interpreter always tests the conditions from top to bottom and interupts the selection, after the first one is fulfilled.\n",
    "\n",
    "### Ternary `if` Statements\n",
    "\n",
    "Back to the first example:\n",
    "\n",
    "```python\n",
    "if temperature > 25:\n",
    "    print('it is hot')\n",
    "else:\n",
    "    print('it is not hot')\n",
    "```\n",
    "\n",
    "For such a simple selection action is relatively common and it convolutes the code and does not improve code readability (one of Pythons core philosophies) having this on four lines. Therefore, Python provides a short version of a simple `if`-`else` seleciton action. See below:"
   ]
  },
  {
   "cell_type": "code",
   "execution_count": 1,
   "metadata": {},
   "outputs": [
    {
     "name": "stdout",
     "output_type": "stream",
     "text": [
      "it is not hot\n"
     ]
    }
   ],
   "source": [
    "temperature = 17\n",
    "\n",
    "print('it is hot') if temperature > 25 else print('it is not hot')"
   ]
  },
  {
   "cell_type": "markdown",
   "metadata": {},
   "source": [
    "It becomes even more clear, how much a ternary `if`-Statement shortens the code, if the purpose is a simple assignment.  Let's assume you do want to assign a variable `A` with 0, if another variable `B` is below 40. And you want to assign `A` with 1 otherwise (hence, if `B` is equal or above 40). The long code for that is:\n",
    "\n",
    "```python\n",
    "if B < 40:\n",
    "    A = 0 \n",
    "else:\n",
    "    A = 1\n",
    "```\n",
    "\n",
    "Now the short version for that is:\n",
    "\n",
    "```python\n",
    "A = 0 if (B < 40) else 1\n",
    "```\n",
    "\n",
    "Let's try an example:"
   ]
  },
  {
   "cell_type": "code",
   "execution_count": 3,
   "metadata": {},
   "outputs": [
    {
     "name": "stdout",
     "output_type": "stream",
     "text": [
      "1\n"
     ]
    }
   ],
   "source": [
    "B = 50\n",
    "A = 0 if (B < 40) else 1\n",
    "print(A)"
   ]
  },
  {
   "cell_type": "markdown",
   "metadata": {},
   "source": [
    "Note that this is a fuse of an assignment and a selection action. The code after else does not contain the syntax of a second separate assignment `A = 1`, using the `=` operator. Instead, after else, only the alternative value for `A` is added.\n",
    "\n",
    "### Nested Selection Actions\n",
    "\n",
    "Conditional statements can also be nested. For example, the weather-wind example above could also be coded in the following way:"
   ]
  },
  {
   "cell_type": "code",
   "execution_count": 4,
   "metadata": {},
   "outputs": [
    {
     "name": "stdout",
     "output_type": "stream",
     "text": [
      "All clear, go out!\n"
     ]
    }
   ],
   "source": [
    "weather = 'Sun'\n",
    "wind = 'noWindy'\n",
    "\n",
    "if (weather == 'Rain'): \n",
    "    if (wind == 'Windy'):\n",
    "        print('Just stay home')\n",
    "    else:\n",
    "        print('Wear a raincoat')\n",
    "else:\n",
    "    if (wind == 'Windy'):\n",
    "        print('No raincoat needed')\n",
    "    else:\n",
    "        print('All clear, go out!')\n",
    "     \n",
    "     "
   ]
  },
  {
   "cell_type": "markdown",
   "metadata": {},
   "source": [
    "Check more examples and even complexer nested conditional statements at the following website: https://www.digitalocean.com/community/tutorials/how-to-write-conditional-statements-in-python-3-2.\n",
    "\n",
    "Practice writing conditional statements based on the examples of this notebook and external pages."
   ]
  },
  {
   "cell_type": "markdown",
   "metadata": {},
   "source": [
    "## B.2. Coding Repetition through Iterations and Loops\n",
    "\n",
    "Loops allow parts of code to be repeated some number of times. In Python, we can write repetitions as iterations or loops. But before we get to that, let's look at an example to emphasize on the purpose of repetitions."
   ]
  },
  {
   "cell_type": "markdown",
   "metadata": {},
   "source": [
    "### B.2.1. A (bad) example\n",
    "\n",
    "Let’s consider an example. Suppose we want to take a word and print out each letter of the word separately. We could do the following:"
   ]
  },
  {
   "cell_type": "code",
   "execution_count": 16,
   "metadata": {},
   "outputs": [],
   "source": [
    "word = 'snow'"
   ]
  },
  {
   "cell_type": "code",
   "execution_count": 17,
   "metadata": {},
   "outputs": [
    {
     "name": "stdout",
     "output_type": "stream",
     "text": [
      "s\n"
     ]
    }
   ],
   "source": [
    "print(word[0])"
   ]
  },
  {
   "cell_type": "code",
   "execution_count": 18,
   "metadata": {},
   "outputs": [
    {
     "name": "stdout",
     "output_type": "stream",
     "text": [
      "n\n"
     ]
    }
   ],
   "source": [
    "print(word[1])"
   ]
  },
  {
   "cell_type": "code",
   "execution_count": 19,
   "metadata": {},
   "outputs": [
    {
     "name": "stdout",
     "output_type": "stream",
     "text": [
      "o\n"
     ]
    }
   ],
   "source": [
    "print(word[2])"
   ]
  },
  {
   "cell_type": "code",
   "execution_count": 20,
   "metadata": {},
   "outputs": [
    {
     "name": "stdout",
     "output_type": "stream",
     "text": [
      "w\n"
     ]
    }
   ],
   "source": [
    "print(word[3])"
   ]
  },
  {
   "cell_type": "markdown",
   "metadata": {},
   "source": [
    "But this is a bad idea. Why? Well there are two reasons.\n",
    "First, it does not scale nicely for long strings, and will take forever to type in.\n",
    "Second, it won’t work if the word is not 4 characters long."
   ]
  },
  {
   "cell_type": "code",
   "execution_count": 21,
   "metadata": {},
   "outputs": [],
   "source": [
    "word = 'ice'"
   ]
  },
  {
   "cell_type": "code",
   "execution_count": 22,
   "metadata": {},
   "outputs": [
    {
     "name": "stdout",
     "output_type": "stream",
     "text": [
      "i\n",
      "c\n",
      "e\n"
     ]
    },
    {
     "ename": "IndexError",
     "evalue": "string index out of range",
     "output_type": "error",
     "traceback": [
      "\u001b[0;31m---------------------------------------------------------------------------\u001b[0m",
      "\u001b[0;31mIndexError\u001b[0m                                Traceback (most recent call last)",
      "\u001b[0;32m<ipython-input-22-e7131ac5c666>\u001b[0m in \u001b[0;36m<module>\u001b[0;34m\u001b[0m\n\u001b[1;32m      2\u001b[0m \u001b[0mprint\u001b[0m\u001b[0;34m(\u001b[0m\u001b[0mword\u001b[0m\u001b[0;34m[\u001b[0m\u001b[0;36m1\u001b[0m\u001b[0;34m]\u001b[0m\u001b[0;34m)\u001b[0m\u001b[0;34m\u001b[0m\u001b[0;34m\u001b[0m\u001b[0m\n\u001b[1;32m      3\u001b[0m \u001b[0mprint\u001b[0m\u001b[0;34m(\u001b[0m\u001b[0mword\u001b[0m\u001b[0;34m[\u001b[0m\u001b[0;36m2\u001b[0m\u001b[0;34m]\u001b[0m\u001b[0;34m)\u001b[0m\u001b[0;34m\u001b[0m\u001b[0;34m\u001b[0m\u001b[0m\n\u001b[0;32m----> 4\u001b[0;31m \u001b[0mprint\u001b[0m\u001b[0;34m(\u001b[0m\u001b[0mword\u001b[0m\u001b[0;34m[\u001b[0m\u001b[0;36m3\u001b[0m\u001b[0;34m]\u001b[0m\u001b[0;34m)\u001b[0m\u001b[0;34m\u001b[0m\u001b[0;34m\u001b[0m\u001b[0m\n\u001b[0m",
      "\u001b[0;31mIndexError\u001b[0m: string index out of range"
     ]
    }
   ],
   "source": [
    "print(word[0])\n",
    "print(word[1])\n",
    "print(word[2])\n",
    "print(word[3])"
   ]
  },
  {
   "cell_type": "markdown",
   "metadata": {},
   "source": [
    "If you try to run the code cell above, you will receive an `IndexError`, because in the last code line\n",
    "```python \n",
    "print(word[3])```\n",
    "the index for the string is larger than the last index of the string `word`."
   ]
  },
  {
   "cell_type": "markdown",
   "metadata": {},
   "source": [
    "###  B.2.2. Introducing `for` Statements\n",
    "\n",
    "<div class=\"alert alert-info\">\n",
    "    \n",
    "You can also watch a video tutorial on this section on for statements on the YouYube channel *Geo-Python*:  <a href=\"https://youtu.be/dv-9j1yAjl4\">Geo-Python 2018 Lesson - Definite Loops</a>. Ignore components at the end relevant only the class at the time of recordings.\n",
    "\n",
    "</div> \n",
    "\n",
    "We could do a much better job by using a `for` loop."
   ]
  },
  {
   "cell_type": "code",
   "execution_count": null,
   "metadata": {},
   "outputs": [],
   "source": [
    "word = 'snow'"
   ]
  },
  {
   "cell_type": "code",
   "execution_count": null,
   "metadata": {},
   "outputs": [],
   "source": [
    "for char in word:\n",
    "    print(char)"
   ]
  },
  {
   "cell_type": "markdown",
   "metadata": {},
   "source": [
    "Not only is this shorter, but it is also more flexible.\n",
    "Try out a different word such as `freezing fog`."
   ]
  },
  {
   "cell_type": "code",
   "execution_count": null,
   "metadata": {},
   "outputs": [],
   "source": [
    "# Try the code for a different word such as freezing fog\n",
    "\n",
    "\n"
   ]
  },
  {
   "cell_type": "markdown",
   "metadata": {},
   "source": [
    "Still works, right?!"
   ]
  },
  {
   "cell_type": "markdown",
   "metadata": {},
   "source": [
    "<div class=\"alert alert-warning\">\n",
    "\n",
    "#### Format of `for` Loops\n",
    "\n",
    "for-loops in Python have the general form below.\n",
    "\n",
    "```python\n",
    "for variable in collection:\n",
    "        do things using variable\n",
    "```\n",
    "\n",
    "The *variable* can be any name you like, and the statement of the for loop must end with a **colon**. The *collection* can be any sequential object, like a string, a list or keys of a dictionary given as a list.\n",
    "The code that should be executed as part of the loop must be indented beneath the for-loop statement, and the typical **indentation** is 4 spaces. \n",
    "There is no additional special word needed to end the block of the for-loop, you simply change the indentation back to normal.\n",
    "for-loops are useful to repeat some part of the code a *definite* number of times. They are also called **definite loops** or **iterations**.\n",
    "\n",
    "</div>"
   ]
  },
  {
   "cell_type": "markdown",
   "metadata": {},
   "source": [
    "#### Your daily for loop\n",
    "\n",
    "Like many other programming concepts, the idea of iterating or looping through actions is something that is already perhaps more familiar to you than you think.\n",
    "Consider your actions during a given day.\n",
    "Many people have certain routines they follow each day, such as waking up, taking a shower, eating breakfast and brushing their teeth.\n",
    "In Python code, we might represent such actions as follows:\n",
    "\n",
    "```python\n",
    "for day in my_life:\n",
    "    wake_up()\n",
    "    take_shower()\n",
    "    eat_breakfast()\n",
    "    brush_teeth()\n",
    "    ...\n",
    "```\n",
    "            \n",
    "Note that `my_life` would be a list of the days of your life, and the actions you take are represented as functions, such as `wake_up()`.\n",
    "Furthermore, by following this kind of list of repeating actions we're able to start the day effectively even before the first cup of coffee :)."
   ]
  },
  {
   "cell_type": "markdown",
   "metadata": {},
   "source": [
    "#### Another for loop example\n",
    "\n",
    "Let's consider another example."
   ]
  },
  {
   "cell_type": "code",
   "execution_count": null,
   "metadata": {},
   "outputs": [],
   "source": [
    "length = 0\n",
    "for letter in 'blizzard':\n",
    "    length = length + 1"
   ]
  },
  {
   "cell_type": "code",
   "execution_count": null,
   "metadata": {},
   "outputs": [],
   "source": [
    "print('There are', length, 'letters')"
   ]
  },
  {
   "cell_type": "markdown",
   "metadata": {},
   "source": [
    "Can you follow what happens in this loop?\n",
    "\n",
    "#### for loop variables\n",
    "\n",
    "Note that the variable used in the loop, `letter` in the case above is just a normal variable and still exists after the loop has completed with the final value given to letter."
   ]
  },
  {
   "cell_type": "code",
   "execution_count": null,
   "metadata": {},
   "outputs": [],
   "source": [
    "letter = 'x'\n",
    "for letter in 'sleet':\n",
    "    print(letter)"
   ]
  },
  {
   "cell_type": "code",
   "execution_count": null,
   "metadata": {},
   "outputs": [],
   "source": [
    "print('After the loop, letter is', letter)"
   ]
  },
  {
   "cell_type": "markdown",
   "metadata": {},
   "source": [
    "#### for loops and lists\n",
    "\n",
    "A loop can be used to **iterate** over any list of values in Python.\n",
    "So far we have considered only character strings, but we could also write a loop that performs a calculation a specified number of times. This is also called an **iteration**."
   ]
  },
  {
   "cell_type": "code",
   "execution_count": null,
   "metadata": {},
   "outputs": [],
   "source": [
    "for value in range(5):\n",
    "    print(value)"
   ]
  },
  {
   "cell_type": "markdown",
   "metadata": {},
   "source": [
    "What happens here?\n",
    "Well, in this case, we use a special function called `range()` to give us a list of 5 numbers `[0, 1, 2, 3, 4]` and then print each number in the list to the screen.\n",
    "When given a integer (whole number) as an argument, `range()` will produce a list of numbers with a length equal to the specified `number`.\n",
    "The list starts at `0` and ends with `number - 1`. \n",
    "\n",
    "Try another example below. This time print a list from 0 to 10."
   ]
  },
  {
   "cell_type": "code",
   "execution_count": null,
   "metadata": {},
   "outputs": [],
   "source": [
    "# create a list from 0 to 10\n",
    "\n"
   ]
  },
  {
   "cell_type": "markdown",
   "metadata": {},
   "source": [
    "<hr>\n",
    "\n",
    "#### Question pause 2\n",
    "\n",
    "The program below will print numbers to the screen using the `range()` function.\n",
    "\n",
    "```python\n",
    "for i in range(...):\n",
    "    print(i)\n",
    "```\n",
    "\n",
    "Using the documentation that is produced when you run `help(range)`, what values would you replace the `...` in the parentheses of the `range()` function with to have the following output printed to the screen?\n",
    "\n",
    "```python\n",
    "2\n",
    "5\n",
    "8\n",
    "```"
   ]
  },
  {
   "cell_type": "code",
   "execution_count": 2,
   "metadata": {},
   "outputs": [],
   "source": [
    "# request your help here\n",
    "\n",
    "\n"
   ]
  },
  {
   "cell_type": "markdown",
   "metadata": {},
   "source": [
    "<hr>"
   ]
  },
  {
   "cell_type": "markdown",
   "metadata": {},
   "source": [
    "\n",
    "\n",
    "#### Calculating values in for loops\n",
    "\n",
    "Often when you use ``for`` loops, you are looping over the values in a list and either calculating a new value or modifying the existing values.\n",
    "Let's consider an example."
   ]
  },
  {
   "cell_type": "code",
   "execution_count": null,
   "metadata": {},
   "outputs": [],
   "source": [
    "mylist = [0.0, 1.0, 2.0, 3.0, 4.0, 5.0]"
   ]
  },
  {
   "cell_type": "code",
   "execution_count": null,
   "metadata": {},
   "outputs": [],
   "source": [
    "print(mylist)"
   ]
  },
  {
   "cell_type": "code",
   "execution_count": null,
   "metadata": {},
   "outputs": [],
   "source": [
    "for i in range(6):\n",
    "    mylist[i] = mylist[i] + i\n",
    "print(mylist)"
   ]
  },
  {
   "cell_type": "markdown",
   "metadata": {},
   "source": [
    "So, what happened?\n",
    "We first create a list of 6 numbers.\n",
    "Then, we loop over 6 values using the `range()` function and add each value to the existing location in `mylist`.\n",
    "What would happen if we ran this for loop a second time?\n",
    "\n",
    "Try another example below. This time create an iteration for `i` ranging from 0 to 9 and for each `i` print out its squared value (`i * i`)."
   ]
  },
  {
   "cell_type": "code",
   "execution_count": null,
   "metadata": {},
   "outputs": [],
   "source": [
    "# create an iteration for i = 0 to 9, print out square of i\n",
    "\n"
   ]
  },
  {
   "cell_type": "markdown",
   "metadata": {},
   "source": [
    "#### Looping over the length of lists\n",
    "\n",
    "One of the drawbacks in the example above is that we need to know the length of the list before running that `for` loop example.\n",
    "However, we already know how to find the length of a list using the `len()` function, and we can take advantage of this knowledge to make our `for` loop more flexible."
   ]
  },
  {
   "cell_type": "code",
   "execution_count": null,
   "metadata": {},
   "outputs": [],
   "source": [
    "for i in range(len(mylist)):\n",
    "    mylist[i] = mylist[i] + i\n",
    "print(mylist)"
   ]
  },
  {
   "cell_type": "markdown",
   "metadata": {},
   "source": [
    "We've done exactly what we had done in the previous example, but replaced the known length of the list `6` with use of the `len()` function to provide the list length.\n",
    "Now if we add or remove values in `mylist`, our code will still work as expected."
   ]
  },
  {
   "cell_type": "code",
   "execution_count": null,
   "metadata": {},
   "outputs": [],
   "source": [
    "mylist.append(18.0)"
   ]
  },
  {
   "cell_type": "code",
   "execution_count": null,
   "metadata": {},
   "outputs": [],
   "source": [
    "mylist.append(21.0)"
   ]
  },
  {
   "cell_type": "code",
   "execution_count": null,
   "metadata": {},
   "outputs": [],
   "source": [
    "print(mylist)"
   ]
  },
  {
   "cell_type": "code",
   "execution_count": null,
   "metadata": {},
   "outputs": [],
   "source": [
    "for i in range(len(mylist)):\n",
    "    mylist[i] = mylist[i] + i\n",
    "print(mylist)"
   ]
  },
  {
   "cell_type": "markdown",
   "metadata": {},
   "source": [
    "Using the `len()` function with `range()` to perform calcluations using list or array values is an *extremely* common operation in Python.\n",
    "\n",
    "\n",
    "<hr>\n",
    "\n",
    "#### Question pause 3\n",
    "\n",
    "What output would the following program produce?\n",
    "\n",
    "```python\n",
    "word = 'ice pellets'\n",
    "for i in range(len(word)):\n",
    "    print(word[i])\n",
    "```\n",
    "\n",
    "Think about the answer. You can also create a new code cell below (with the plus button at the top) and experiment with the code.\n",
    "\n",
    "<hr>\n",
    "\n",
    "#### Question pause 4\n",
    "\n",
    "Mean Value of a Sample - Definite Loops\n",
    "\n",
    "You have given a data sample $x_1 ... x_n$ with $n$ elements contained in a list of the name `sampleList`. Write code for calculating the mean (or average) M of the sample, given through the following equation:\n",
    "\n",
    "$M = \\frac{\\sum x_i}{n} = \\frac{sum(x_i)}{n} $\n",
    "\n",
    "You have already formulated the pseudo code for this problem. Now you should program the mean calculation **using a definite loop (for-loop)** in Python programming language. For that, complete the function `sampleMean()` in the code cell below, so that it saves the mean of the given sample in a variable of the name `meanSam`. \n",
    "\n",
    "**Hint 1**: The number of elements $n$ in the sample is the size of the sample, which can be calculated with the function `len()`.\n",
    "\n",
    "**Hint 2 & Note**: the purpose of this practise is to learn about definite loops, therefore, despite there being shorter ways to code this in Python, we ask you to perform the summation needed for this task with for-loops.\n",
    "\n",
    "**Hint 3**: If you want to add some value to an already existing variable, you can perform this in one assignment:\n",
    "```python\n",
    "variable = variable + value\n",
    "\n",
    "\n"
   ]
  },
  {
   "cell_type": "code",
   "execution_count": 11,
   "metadata": {},
   "outputs": [],
   "source": [
    "# Enter your code below\n",
    "\n",
    "\n",
    "\n"
   ]
  },
  {
   "cell_type": "markdown",
   "metadata": {},
   "source": [
    "<hr>\n",
    "\n",
    "Study more about `for` Statements here: https://www.digitalocean.com/community/tutorials/how-to-construct-for-loops-in-python-3."
   ]
  },
  {
   "cell_type": "markdown",
   "metadata": {},
   "source": [
    "###  B.2.3. Introducing `while` Statements\n",
    "\n",
    "A `while` loop implements the repeated execution of code based on a given Boolean condition `True` or `False`. The code that is in a `while` block will execute as long as the `while` statement evaluates to True.\n",
    "\n",
    "You can think of the `while` loop as a repeating conditional statement. After an `if` statement, the program continues to execute code, but in a `while` loop, the program jumps back to the start of the `while` statement until the condition is `False`.\n",
    "\n",
    "As opposed to `for` loops that execute a certain number of times, `while `loops are conditionally based, so you don’t need to know how many times to repeat the code going in.\n",
    "\n",
    "The construction of `while` loops in  Python is explained in the yellow box below."
   ]
  },
  {
   "cell_type": "markdown",
   "metadata": {},
   "source": [
    "<div class=\"alert alert-warning\">\n",
    "\n",
    "#### Format of `while` Loops\n",
    "\n",
    "while loops in Python have the general form below.\n",
    "\n",
    "```python\n",
    "while condition is True:\n",
    "        do things wiith stuff\n",
    "```\n",
    "\n",
    "The *condition* contains an expression returning either *True* or *False*. The *do things with stuff* will continue to be executed as long as the condition that is being assessed is true. If the condition becomes false, the loop will be interrupted after executing the while-block until the end. There is no additional special word needed to end the block of the while-loob, you simply change the indentation back to normal.\n",
    "while-loops are useful to repeat some part of the code an *indefinite* number of times. They are also called **indefinite loops**.\n",
    "\n",
    "</div>\n",
    "\n",
    "Let’s create a small program that executes a `while` loop. In this program, we’ll ask for the user to input a password. While going through this loop, there are two possible outcomes:\n",
    "\n",
    "* If the password is correct, the while loop will exit.\n",
    "* If the password is not correct, the while loop will continue to execute.\n",
    "\n",
    "We begin by initializing the variable password as an empty string. The empty string will be used to take input from the user within the while loop. \n",
    "\n",
    "```python\n",
    "password = ''\n",
    "```\n",
    "\n",
    "Then, we’ll construct the while statement along with its condition:\n",
    "\n",
    "```python\n",
    "while password != 'password':\n",
    "```\n",
    "\n",
    "Here, the `while` is followed by the variable `password`. We are looking to see if the variable `password` is set to the string `password` (based on the user input later), but you can choose whichever string you’d like.\n",
    "\n",
    "This means that if the user inputs the string `password`, then the loop will stop and the program will continue to execute any code outside of the loop. However, if the string that the user inputs is not equal to the string password, the loop will continue.\n",
    "\n",
    "Then, we’ll add the block of code that does something within the while loop:\n",
    "\n",
    "```python\n",
    "    print('What is the password?')\n",
    "    password = input()\n",
    "```\n",
    "\n",
    "And now, we will put everything together. Execute the code cell below and enter a wrong password. (Remember to hit enter after entering the password, and do not exectute the cell again, before you are done with the password loop. Otherwise the cell will become inaccessible.) Try to enter a few wrong passwords, until you enter the correct string `'password'`. Then adjust the password to a new string and try the code again. Keep in mind that strings are case sensitive unless you also use a string function to convert the string to all lower-case (for example) before checking."
   ]
  },
  {
   "cell_type": "code",
   "execution_count": null,
   "metadata": {},
   "outputs": [],
   "source": [
    "password = ''\n",
    "\n",
    "while password != 'password':\n",
    "    print('What is the password?')\n",
    "    password = input()\n",
    "    "
   ]
  },
  {
   "cell_type": "markdown",
   "metadata": {},
   "source": [
    "Inside of the `while` loop, the program runs a print statement that prompts for the password. Then the variable `password` is set to the user’s input with the input() function.\n",
    "\n",
    "The program will check to see if the variable `password` is assigned to the string `'password'`, and if it is, the while loop will end. Let’s give the program another line of code for when that happens:"
   ]
  },
  {
   "cell_type": "code",
   "execution_count": 24,
   "metadata": {},
   "outputs": [
    {
     "name": "stdout",
     "output_type": "stream",
     "text": [
      "What is the password?\n",
      "password\n",
      "Yes, the password is password. You may enter.\n"
     ]
    }
   ],
   "source": [
    "password = ''\n",
    "\n",
    "while password != 'password':\n",
    "    print('What is the password?')\n",
    "    password = input()\n",
    "\n",
    "print('Yes, the password is ' + password + '. You may enter.')\n"
   ]
  },
  {
   "cell_type": "markdown",
   "metadata": {},
   "source": [
    "The last `print()` statement is outside of the while loop, so when the user enters password as the password, they will see the final print statement outside of the loop.\n",
    "\n",
    "However, if the user never enters the word password, they will never get to the last `print()` statement and will be stuck in an infinite loop. \n",
    "\n",
    "An **infinite loop** occurs when a program keeps executing within one loop, never leaving it. To exit out of infinite loops in a Jupyter Notebook, you have to interrupt the Kernel (square button at the top or in the Menue: Kernel > Interrupt). If you write a script and execute it from the command line or terminal, press `CTRL + C` (on Windows computers) or `Command + C` (on Apple computers)."
   ]
  },
  {
   "cell_type": "markdown",
   "metadata": {},
   "source": [
    "<hr>\n",
    "\n",
    "#### Question pause 5\n",
    "\n",
    "Use a while loop, to read strings from user input into a list. The user input should halt, as soon as the user enters stop. Then print out the list to the screen."
   ]
  },
  {
   "cell_type": "code",
   "execution_count": 12,
   "metadata": {},
   "outputs": [],
   "source": [
    "# Enter your code below\n",
    "\n",
    "\n"
   ]
  },
  {
   "cell_type": "markdown",
   "metadata": {},
   "source": [
    "<hr>"
   ]
  },
  {
   "cell_type": "markdown",
   "metadata": {},
   "source": [
    "#### Question pause 6\n",
    "How can you use an indifinite loop to print out the letters of a given string, until we reach a z or the end of the string. You should write your code, so it works for any string, however, below we have given an example to start with. (Note: if you create and run an infinite loop by mistake, simply interrupt the Kernel by hitting the stop button at the top.)\n"
   ]
  },
  {
   "cell_type": "code",
   "execution_count": 13,
   "metadata": {},
   "outputs": [],
   "source": [
    "# Enter your code below, use any string\n",
    "ourString = \"Let's go to the zoo, tomorrow!\"\n",
    "\n"
   ]
  },
  {
   "cell_type": "markdown",
   "metadata": {},
   "source": [
    "<hr>"
   ]
  },
  {
   "cell_type": "markdown",
   "metadata": {},
   "source": [
    "###  B.2.4. How to use `break`, `continue` and `pass` Statements\n",
    "\n",
    "Using **for-loops** and **while-loops** in Python allow you to automate and repeat tasks in an efficient manner.\n",
    "\n",
    "But sometimes, an external factor may influence the way your program runs. When this occurs, you may want your program to exit a loop completely, skip part of a loop before continuing, or ignore that external factor. You can do these actions with `break`, `continue`, and `pass` statements. \n",
    "\n",
    "These statements can be applied in for- as well as while loops, however, below we will provide examples based on for-loops.\n",
    "\n",
    "#### Break Steatement\n",
    "In Python, the `break` statement provides you with the opportunity to exit out of a loop when an external condition is triggered. You’ll put the break statement within the block of code under your loop statement, usually after a conditional `if` statement.\n",
    "\n",
    "Let’s look at an example that uses the `break` statement in a for-iteration from 0 to 5:"
   ]
  },
  {
   "cell_type": "code",
   "execution_count": 44,
   "metadata": {},
   "outputs": [
    {
     "name": "stdout",
     "output_type": "stream",
     "text": [
      "Iteration at ... 0\n",
      "Iteration at ... 1\n",
      "Iteration at ... 2\n",
      "3\n"
     ]
    }
   ],
   "source": [
    "for number in range(6):\n",
    "    if number == 3:\n",
    "        break    # break here\n",
    "    print('Iteration at ...', number)\n",
    "print(number)"
   ]
  },
  {
   "cell_type": "markdown",
   "metadata": {},
   "source": [
    "The break statement causes the code to break out of the loop, as soon as the iteration reaches the number 3. \n",
    "\n",
    "The break statement causes a program to break *immediately* out of a loop."
   ]
  },
  {
   "cell_type": "markdown",
   "metadata": {},
   "source": [
    "#### Continue Steatement\n",
    "\n",
    "The `continue` statement gives you the option to skip over the part of a loop where an external condition is triggered, but to go on to complete the rest of the loop. That is, the current iteration of the loop will be disrupted, but the program will return to the top of the loop. \n",
    "\n",
    "The `continue` statement will be within the block of code under the loop statement, usually after a conditional `if` statement.\n",
    "\n",
    "Using a similar example as in the Break Statement section above, we’ll use a continue statement rather than a break statement:"
   ]
  },
  {
   "cell_type": "code",
   "execution_count": 42,
   "metadata": {},
   "outputs": [
    {
     "name": "stdout",
     "output_type": "stream",
     "text": [
      "Iteration at ... 0\n",
      "Iteration at ... 1\n",
      "Iteration at ... 2\n",
      "Iteration at ... 4\n",
      "Iteration at ... 5\n",
      "5\n"
     ]
    }
   ],
   "source": [
    "for number in range(6):\n",
    "    if number == 3:\n",
    "        continue    # continue here\n",
    "    print('Iteration at ...', number)\n",
    "print(number)"
   ]
  },
  {
   "cell_type": "markdown",
   "metadata": {},
   "source": [
    "The difference in using the `continue` statement rather than a break statement is that our code will continue despite the disruption when the variable number is evaluated as equivalent to 3. Looking at the output in more detail, you will realize that the number is 3 never occurs in the output, but the loop continues after that point to print lines for the iterations 4 and 5 before leaving the loop. \n",
    "\n",
    "You can use the `continue` statement to avoid deeply nested conditional code, or to optimize a loop by eliminating frequently occurring cases that you would like to reject.\n",
    "\n",
    "The `continue` statement causes a program to skip certain factors that come up within a loop, but then continue through the rest of the loop."
   ]
  },
  {
   "cell_type": "markdown",
   "metadata": {},
   "source": [
    "#### Pass Statement\n",
    "\n",
    "\n",
    "When an external condition is triggered, the `pass` statement allows you to handle the condition without the loop being impacted in any way; all of the code will continue to be read unless a `break` or other statement occurs.\n",
    "\n",
    "As with the other statements, the `pass` statement will be within the block of code under the loop statement, typically after a conditional `if` statement.\n",
    "\n",
    "Using the same code block as above, let’s replace the `break` or `continue` statement with a pass statement:\n"
   ]
  },
  {
   "cell_type": "code",
   "execution_count": 43,
   "metadata": {},
   "outputs": [
    {
     "name": "stdout",
     "output_type": "stream",
     "text": [
      "Iteration at ... 0\n",
      "Iteration at ... 1\n",
      "Iteration at ... 2\n",
      "Iteration at ... 3\n",
      "Iteration at ... 4\n",
      "Iteration at ... 5\n",
      "5\n"
     ]
    }
   ],
   "source": [
    "for number in range(6):\n",
    "    if number == 3:\n",
    "        pass    # continue here\n",
    "    print('Iteration at ...', number)\n",
    "print(number)"
   ]
  },
  {
   "cell_type": "markdown",
   "metadata": {},
   "source": [
    "The pass statement occurring after the `if` conditional statement is telling the program to continue to run the loop and ignore the fact that the variable number evaluates as equivalent to 3 during one of its iterations.\n",
    "\n",
    "By using the pass statement in this program, we notice that the program runs exactly as it would if there were no conditional statement in the program. The `pass` statement tells the program to disregard that condition and continue to run the program as usual.\n",
    "\n",
    "The pass statement can create minimal classes, or act as a placeholder when working on new code and thinking on an algorithmic level before hammering out details.\n",
    "\n",
    "## B.3. Loops: Conclusion\n",
    "\n",
    "A for-loop can be used to iterate over any list of values in Python to performs a calculation a specified number of times. While loops continue to loop through a block of code provided that the condition set in the while statement is True. \n",
    "\n",
    "for-loops are useful to repeat some part of the code a *definite* number of times. while-loops are useful to repeat some part of the code an *indefinite* number of times.\n",
    "\n",
    "The `break`, `continue` and `pass` statements in Python will allow you to use `for` loops and `while` loops more effectively in your code. \n",
    "\n",
    "Find more complex examples for `break`, `continue` and `pass` statements at the following page: https://www.tutorialspoint.com/python/python_loop_control.htm"
   ]
  },
  {
   "cell_type": "markdown",
   "metadata": {},
   "source": [
    "**After finishing reading this notebook, read the partial Chapter 10 of Lutz (2013) \"Introducing Python Statements\", which is provided as the next item on canvas.**"
   ]
  },
  {
   "cell_type": "markdown",
   "metadata": {},
   "source": [
    "---\n",
    "# Solutions for Question Pauses\n",
    "\n",
    "\n",
    "<div class=\"alert alert-danger\">\n",
    "\n",
    "\n",
    "### Try to code these by yourself, before you peak, as it will increase your learning experience!<br>\n",
    "\n",
    "\n",
    "</div>\n",
    "\n",
    "### Question Pause 2"
   ]
  },
  {
   "cell_type": "code",
   "execution_count": 2,
   "metadata": {},
   "outputs": [
    {
     "name": "stdout",
     "output_type": "stream",
     "text": [
      "2\n",
      "5\n",
      "8\n"
     ]
    }
   ],
   "source": [
    "for i in range(2,9,3):\n",
    "    print(i)"
   ]
  },
  {
   "cell_type": "markdown",
   "metadata": {},
   "source": [
    "### Question Pause 4"
   ]
  },
  {
   "cell_type": "code",
   "execution_count": 32,
   "metadata": {},
   "outputs": [
    {
     "name": "stdout",
     "output_type": "stream",
     "text": [
      "The sample mean is: 72.275\n"
     ]
    }
   ],
   "source": [
    "\n",
    "sampleList = [10.1,2.2,303,44.7,17.5,93.6,62.9,44.2]  # example sample\n",
    "n = len(sampleList)      # determine size of the sample\n",
    "meanSam = 0              # make sure to set the sum to zero before starting to add values\n",
    "\n",
    "for i in range(0,n):     # iterate over all items in the sample list to ...\n",
    "    meanSam = meanSam + sampleList[i]  # ... add all sample elements together\n",
    "meanSam = meanSam / n    # divide by size of the sample\n",
    "print('The sample mean is:', meanSam) # print out the results\n",
    "\n",
    "# Below a test of my result based on the \n",
    "# much shorter code version of average calculation with lists\n",
    "assert meanSam == sum(sampleList)/len(sampleList) \n"
   ]
  },
  {
   "cell_type": "markdown",
   "metadata": {},
   "source": [
    "### Question Pause 5"
   ]
  },
  {
   "cell_type": "code",
   "execution_count": 29,
   "metadata": {},
   "outputs": [
    {
     "name": "stdout",
     "output_type": "stream",
     "text": [
      "s\n",
      "stop\n",
      "You entered: \n",
      "['s', 'stop']\n"
     ]
    }
   ],
   "source": [
    "\n",
    "inputList = []      # start with an empty list\n",
    "myCondition = True  # initialize your condition for the while loop with true\n",
    "\n",
    "while myCondition:  \n",
    "    inputList.append(input())  # append user input to the list\n",
    "    if inputList[-1] == 'stop': # check if last user input was 'stop' ...\n",
    "        break                  # ... if yes, stop the while loop\n",
    "    \n",
    "print('You entered: ')         \n",
    "print(inputList)               # print out the complete list of user input\n"
   ]
  },
  {
   "cell_type": "markdown",
   "metadata": {},
   "source": [
    "### Question Pause 6"
   ]
  },
  {
   "cell_type": "code",
   "execution_count": 30,
   "metadata": {},
   "outputs": [
    {
     "name": "stdout",
     "output_type": "stream",
     "text": [
      "L\n",
      "e\n",
      "t\n",
      "'\n",
      "s\n",
      " \n",
      "g\n",
      "o\n",
      " \n",
      "t\n",
      "o\n",
      " \n",
      "t\n",
      "h\n",
      "e\n",
      " \n"
     ]
    }
   ],
   "source": [
    "ourString = \"Let's go to the zoo, tomorrow!\"\n",
    "\n",
    "counter = 0    # set string counter to zero\n",
    "# while loop with two conditions: current list string is not z AND counter is not at the end of the string\n",
    "while (ourString[counter] != 'z') and (counter < len(ourString)) is True:\n",
    "    print(ourString[counter])\n",
    "    counter = counter + 1   # raise string counter by 1"
   ]
  }
 ],
 "metadata": {
  "kernelspec": {
   "display_name": "Python 3",
   "language": "python",
   "name": "python3"
  },
  "language_info": {
   "codemirror_mode": {
    "name": "ipython",
    "version": 3
   },
   "file_extension": ".py",
   "mimetype": "text/x-python",
   "name": "python",
   "nbconvert_exporter": "python",
   "pygments_lexer": "ipython3",
   "version": "3.7.4"
  }
 },
 "nbformat": 4,
 "nbformat_minor": 2
}
