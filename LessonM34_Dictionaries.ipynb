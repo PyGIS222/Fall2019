{
 "cells": [
  {
   "cell_type": "markdown",
   "metadata": {},
   "source": [
    "[![Google Colab](https://colab.research.google.com/assets/colab-badge.svg)](https://colab.research.google.com/github/PyGIS222/Fall2019/blob/master/LessonM34_Dictionaries.ipynb)\n",
    "\n",
    "[![Binder](https://mybinder.org/badge_logo.svg)](https://mybinder.org/v2/gh/PyGIS222/Fall2019/master?filepath=LessonM34_Dictionaries.ipynb)"
   ]
  },
  {
   "cell_type": "markdown",
   "metadata": {},
   "source": [
    "### Notebook Lesson 3.4\n",
    "\n",
    "# Object Type: Dictionaries\n",
    "\n",
    "This Jupyter Notebook is part of Module 3 of the course GIS222 (Fall2019).\n",
    "\n",
    "This lesson discusses the Python object type **Dictionaries**. Carefully study the content of this Notebook and use the chance to reflect the material through the interactive examples.\n",
    "\n",
    "### Sources\n",
    "This lesson is an adaption of the lesson [Understanding Dictionaries in Python 3](https://www.digitalocean.com/community/tutorials/understanding-dictionaries-in-python-3) of the [Digital Ocean Community](https://www.digitalocean.com/community).\n",
    "\n",
    "---"
   ]
  },
  {
   "cell_type": "markdown",
   "metadata": {},
   "source": [
    "## Part A: Introduction"
   ]
  },
  {
   "cell_type": "markdown",
   "metadata": {},
   "source": [
    "Table 1 provides a comprehensive overview of Python object classifications. The table gives information about their mutability and their category. The sequential character of strings and lists was emphasized in the last notebooks. Now we want to look at another type of objects in Python that provides the most flexibility: *Dictionaries*. Tuples, Sets and Files will be discussed in the upcoming notebooks.\n",
    "\n",
    "Table 1. *Object Cassifications* (Lutz, 2013)\n",
    "\n",
    "| Object Type       | Category  |  Mutable? |    \n",
    "| :---------:       | :-------: | :-------: |\n",
    "| Numbers (all)     | Numeric   | No        |   \n",
    "| Strings           | Sequence  | No        |   \n",
    "| Lists             | Sequence  | Yes       |   \n",
    "| Dictionaries      | Mapping   | Yes       |   \n",
    "| Files             | Extention | N/A       |   \n",
    "| Tuples            | Sequence  | No        |   \n",
    "| Sets              | Set       | Yes       |   \n",
    "| `frozenset`       | Set       | No        |   "
   ]
  },
  {
   "cell_type": "markdown",
   "metadata": {},
   "source": [
    "The dictionary is Python’s built-in *mapping* type. Dictionaries map *keys* to *values* and these key-value pairs provide a useful way to store data in Python. Since dictionaries are mutable, they allow **mutable data mapping**. \n",
    "\n",
    "<div class=\"alert alert-info\">\n",
    "\n",
    "**Note**\n",
    "Dictionaries are an unordered collection of arbritrary objects (no sequences) of variable length. They are similar to lists, but provide more general data access, since accessing the content is not limited to index numbers and it can be achieved by other types of indices. \n",
    "</div>\n",
    "\n",
    "Dictionaries are typically used to hold data that are related, such as the information contained in an ID or a user profile. They are constructed with curly braces on either side `{` `}`.\n",
    "\n",
    "A simple example for a dictionary looks like this:"
   ]
  },
  {
   "cell_type": "code",
   "execution_count": 1,
   "metadata": {},
   "outputs": [
    {
     "data": {
      "text/plain": [
       "dict"
      ]
     },
     "execution_count": 1,
     "metadata": {},
     "output_type": "execute_result"
    }
   ],
   "source": [
    "sammy = {'username': 'sammy-shark', 'online': True, 'followers': 987}\n",
    "type(sammy)"
   ]
  },
  {
   "cell_type": "markdown",
   "metadata": {},
   "source": [
    "In addition to the curly braces, there are also colons (`:`) throughout the dictionary.\n",
    "\n",
    "The words to the left of the colons are the keys. *Keys* can be made up of any immutable data type. The keys in the dictionary above are: \n",
    "\n",
    "*    `'username'`\n",
    "*    `'online'`\n",
    "*    `'followers'`\n",
    "\n",
    "Keys have to be of immutable object type, like numbers or strings. Each of the keys in the above example are string values.\n",
    "\n",
    "The words to the right of the colons are the values. Values can be comprised of any data type. The values in the dictionary above are:\n",
    "\n",
    "*    `'sammy-shark'`\n",
    "*    `True`\n",
    "*    `987`\n",
    "\n",
    "Each of these values is either a string, Boolean, or integer. \n",
    "\n",
    "Let’s print out the dictionary `sammy`:"
   ]
  },
  {
   "cell_type": "code",
   "execution_count": 39,
   "metadata": {},
   "outputs": [
    {
     "name": "stdout",
     "output_type": "stream",
     "text": [
      "{'username': 'sammy-shark', 'online': False, 'followers': 987}\n"
     ]
    }
   ],
   "source": [
    "print(sammy)"
   ]
  },
  {
   "cell_type": "markdown",
   "metadata": {},
   "source": [
    "Looking at the output, the order of the key-value pairs may have shifted. In Python version 3.5 and earlier, the dictionary data type is unordered. However, in Python version 3.6 and later, the dictionary data type remains ordered. Regardless of whether the dictionary is ordered or not, the key-value pairs will remain intact, enabling us to access data based on their relational meaning. "
   ]
  },
  {
   "cell_type": "markdown",
   "metadata": {},
   "source": [
    "# Part B: Accessing Dictionary Elements\n",
    "\n",
    "We can call the values of a dictionary by referencing the related keys.\n",
    "\n",
    "### Accessing Data Items with Keys\n",
    "\n",
    "Because dictionaries offer key-value pairs for storing data, they can be important elements in your Python program.\n",
    "\n",
    "If we want to isolate Sammy’s username, we can do so by calling `sammy['username']`. Let’s print that out:\n"
   ]
  },
  {
   "cell_type": "code",
   "execution_count": 3,
   "metadata": {},
   "outputs": [
    {
     "name": "stdout",
     "output_type": "stream",
     "text": [
      "sammy-shark\n"
     ]
    }
   ],
   "source": [
    "print(sammy['username'])"
   ]
  },
  {
   "cell_type": "markdown",
   "metadata": {},
   "source": [
    "Dictionaries behave like a database in that instead of calling an integer to get a particular index value as you would with a list, you assign a value to a key and can call that key to get its related value. \n",
    "\n",
    "By invoking the key `'username'` we receive the value of that key, which is `'sammy-shark'`.\n",
    "\n",
    "The remaining values in the `sammy` dictionary can similarly be called using the same format:\n",
    "\n"
   ]
  },
  {
   "cell_type": "code",
   "execution_count": 4,
   "metadata": {},
   "outputs": [
    {
     "data": {
      "text/plain": [
       "987"
      ]
     },
     "execution_count": 4,
     "metadata": {},
     "output_type": "execute_result"
    }
   ],
   "source": [
    "sammy['followers']"
   ]
  },
  {
   "cell_type": "code",
   "execution_count": 5,
   "metadata": {},
   "outputs": [
    {
     "data": {
      "text/plain": [
       "True"
      ]
     },
     "execution_count": 5,
     "metadata": {},
     "output_type": "execute_result"
    }
   ],
   "source": [
    "sammy['online']"
   ]
  },
  {
   "cell_type": "markdown",
   "metadata": {},
   "source": [
    "By making use of dictionaries’ key-value pairs, we can reference keys to retrieve values.\n",
    "\n",
    "### Using Methods to Access Elements\n",
    "\n",
    "In addition to using keys to access values, we can also work with some built-in methods is a placeholder for the name of a dictionary):\n",
    "\n",
    "*    `.keys()` isolates keys\n",
    "*    `.values()` isolates values\n",
    "*    `.items()` returns items in a list format of `(key, value)` tuple pairs\n",
    "\n",
    "To return the keys, we would use the `.keys()` method. In our example, that would use the variable name and be `sammy.keys()`. Let’s pass that to a `print()` method and look at the output:"
   ]
  },
  {
   "cell_type": "code",
   "execution_count": 6,
   "metadata": {},
   "outputs": [
    {
     "name": "stdout",
     "output_type": "stream",
     "text": [
      "dict_keys(['username', 'online', 'followers'])\n"
     ]
    }
   ],
   "source": [
    "print(sammy.keys())"
   ]
  },
  {
   "cell_type": "code",
   "execution_count": 7,
   "metadata": {},
   "outputs": [
    {
     "data": {
      "text/plain": [
       "dict_keys"
      ]
     },
     "execution_count": 7,
     "metadata": {},
     "output_type": "execute_result"
    }
   ],
   "source": [
    "type(sammy.keys())"
   ]
  },
  {
   "cell_type": "markdown",
   "metadata": {},
   "source": [
    "We receive output that places the keys within an iterable view object of the `dict_keys` class. The keys are then printed within a list format.\n",
    "\n",
    "This method can be used to query across dictionaries. For example, we could take a look at the common keys shared between two dictionary data structures:"
   ]
  },
  {
   "cell_type": "code",
   "execution_count": 1,
   "metadata": {},
   "outputs": [],
   "source": [
    "sammy = {'username': 'sammy-shark', 'online': True, 'followers': 987}\n",
    "jesse = {'username': 'JOctopus', 'online': False, 'points': 723}"
   ]
  },
  {
   "cell_type": "markdown",
   "metadata": {},
   "source": [
    "The dictionary `sammy` and the dictionary `jesse` are each a user profile dictionary. \n",
    "\n",
    "Their profiles have different keys, however, because Sammy has a social profile with associated followers, and Jesse has a gaming profile with associated points. The two keys they have in common are `username` and `online` status, which we can find when we run this small program:"
   ]
  },
  {
   "cell_type": "code",
   "execution_count": 9,
   "metadata": {},
   "outputs": [
    {
     "name": "stdout",
     "output_type": "stream",
     "text": [
      "sammy-shark JOctopus\n",
      "True False\n"
     ]
    }
   ],
   "source": [
    "for common_key in sammy.keys() & jesse.keys():\n",
    "    print(sammy[common_key], jesse[common_key])"
   ]
  },
  {
   "cell_type": "markdown",
   "metadata": {},
   "source": [
    "We could certainly improve on the program to make the output more user-readable, but this illustrates that the method `.keys()` can be used to check across various dictionaries to see what they share in common or not. This is especially useful for large dictionaries.\n",
    "\n",
    "Similarly, we can use the `.values()` method to query the values in the `sammy` dictionary, which would be constructed as `sammy.values()`. Let’s print those out:"
   ]
  },
  {
   "cell_type": "code",
   "execution_count": 10,
   "metadata": {},
   "outputs": [
    {
     "name": "stdout",
     "output_type": "stream",
     "text": [
      "dict_values(['sammy-shark', True, 987])\n"
     ]
    }
   ],
   "source": [
    "sammy = {'username': 'sammy-shark', 'online': True, 'followers': 987}\n",
    "print(sammy.values())"
   ]
  },
  {
   "cell_type": "markdown",
   "metadata": {},
   "source": [
    "Both the methods `keys()` and `values()` return unsorted lists of the keys and values present in the `sammy` dictionary with the view objects of `dict_keys` and `dict_values` respectively.\n",
    "\n",
    "If we are interested in all of the items in a dictionary, we can access them with the `items()` method:"
   ]
  },
  {
   "cell_type": "code",
   "execution_count": 11,
   "metadata": {},
   "outputs": [
    {
     "name": "stdout",
     "output_type": "stream",
     "text": [
      "dict_items([('username', 'sammy-shark'), ('online', True), ('followers', 987)])\n"
     ]
    }
   ],
   "source": [
    "print(sammy.items())"
   ]
  },
  {
   "cell_type": "markdown",
   "metadata": {},
   "source": [
    "The returned format of this is a list made up of `(key, value)` tuple pairs with the `dict_items` view object. We will discuss tuples in the next notebook lesson."
   ]
  },
  {
   "cell_type": "markdown",
   "metadata": {},
   "source": [
    "We can iterate over the returned list format with a `for` loop. For example, we can print out both at the same time keys and values of a given dictionary, and then make it more human-readable by adding a string:"
   ]
  },
  {
   "cell_type": "code",
   "execution_count": 12,
   "metadata": {},
   "outputs": [
    {
     "name": "stdout",
     "output_type": "stream",
     "text": [
      "username is the key for the value sammy-shark\n",
      "online is the key for the value True\n",
      "followers is the key for the value 987\n"
     ]
    }
   ],
   "source": [
    "for key, value in sammy.items():\n",
    "    print(key, 'is the key for the value', value)"
   ]
  },
  {
   "cell_type": "markdown",
   "metadata": {},
   "source": [
    "The `for` loop above iterated over the items within the sammy dictionary and printed out the keys and values line by line, with information to make it easier to understand by humans.\n",
    "\n",
    "We can use built-in methods to access items, values, and keys from dictionary data structures."
   ]
  },
  {
   "cell_type": "markdown",
   "metadata": {},
   "source": [
    "# Part C: Modifying Dictionaries\n",
    "\n",
    "Dictionaries are a mutable data structure, so you are able to modify them. In this section, we’ll go over adding and deleting dictionary elements.\n",
    "\n",
    "### Adding and Changing Dictionary Elements\n",
    "\n",
    "Without using a method or function, you can add key-value pairs to dictionaries by using the following syntax:\n",
    "\n",
    "`dict[key] = value`.\n",
    "\n",
    "We’ll look at how this works in practice by adding a key-value pair to a dictionary called `usernames`:"
   ]
  },
  {
   "cell_type": "code",
   "execution_count": 13,
   "metadata": {},
   "outputs": [],
   "source": [
    "usernames = {'Sammy': 'sammy-shark', 'Jamie': 'mantisshrimp54'}"
   ]
  },
  {
   "cell_type": "code",
   "execution_count": 14,
   "metadata": {},
   "outputs": [],
   "source": [
    "usernames['Drew'] = 'squidly'"
   ]
  },
  {
   "cell_type": "code",
   "execution_count": 15,
   "metadata": {},
   "outputs": [
    {
     "name": "stdout",
     "output_type": "stream",
     "text": [
      "{'Sammy': 'sammy-shark', 'Jamie': 'mantisshrimp54', 'Drew': 'squidly'}\n"
     ]
    }
   ],
   "source": [
    "print(usernames)"
   ]
  },
  {
   "cell_type": "markdown",
   "metadata": {},
   "source": [
    "We see now that the dictionary has been updated with the `'Drew': 'squidly'` key-value pair. Because dictionaries may be unordered, this pair may occur anywhere in the dictionary output. If we use the `usernames` dictionary later in our program file, it will include the additional key-value pair.\n",
    "\n",
    "Additionally, this syntax can be used for modifying the value assigned to a key. In this case, we’ll reference an existing key and pass a different value to it.\n",
    "\n",
    "Let’s consider a dictionary `drew` that is one of the users on a given network. We’ll say that this user got a bump in followers today, so we need to update the integer value passed to the `'followers'` key. We’ll use the `print()` function to check that the dictionary was modified."
   ]
  },
  {
   "cell_type": "code",
   "execution_count": 16,
   "metadata": {},
   "outputs": [],
   "source": [
    "drew = {'username': 'squidly', 'online': True, 'followers': 305}"
   ]
  },
  {
   "cell_type": "code",
   "execution_count": 17,
   "metadata": {},
   "outputs": [],
   "source": [
    "drew['followers'] = 342"
   ]
  },
  {
   "cell_type": "code",
   "execution_count": 18,
   "metadata": {},
   "outputs": [
    {
     "name": "stdout",
     "output_type": "stream",
     "text": [
      "{'username': 'squidly', 'online': True, 'followers': 342}\n"
     ]
    }
   ],
   "source": [
    "print(drew)"
   ]
  },
  {
   "cell_type": "markdown",
   "metadata": {},
   "source": [
    "In the output, we see that the number of followers jumped from the integer value of 305 to 342.\n",
    "\n",
    "We can also add and modify dictionaries by using the `.update()` method. This varies from the `append()` method available in lists.\n",
    "\n",
    "In the `jesse` dictionary below, let’s add the key `'followers'` and give it an integer value with `jesse.update()`. Following that, let’s `print()` the updated dictionary."
   ]
  },
  {
   "cell_type": "code",
   "execution_count": 20,
   "metadata": {},
   "outputs": [],
   "source": [
    "jesse = {'username': 'JOctopus', 'online': False, 'points': 723}"
   ]
  },
  {
   "cell_type": "code",
   "execution_count": 21,
   "metadata": {},
   "outputs": [],
   "source": [
    "jesse.update({'followers': 481})"
   ]
  },
  {
   "cell_type": "code",
   "execution_count": 22,
   "metadata": {},
   "outputs": [
    {
     "name": "stdout",
     "output_type": "stream",
     "text": [
      "{'username': 'JOctopus', 'online': False, 'points': 723, 'followers': 481}\n"
     ]
    }
   ],
   "source": [
    "print(jesse)"
   ]
  },
  {
   "cell_type": "markdown",
   "metadata": {},
   "source": [
    "From the output, we can see that we successfully added the `'followers': 481` key-value pair to the dictionary `jesse`.\n",
    "\n",
    "We can also use the `.update()` method to modify an existing key-value pair by replacing a given value for a specific key.\n",
    "\n",
    "Let’s change the online status of Sammy from `True` to `False` in the sammy dictionary:"
   ]
  },
  {
   "cell_type": "code",
   "execution_count": 23,
   "metadata": {},
   "outputs": [],
   "source": [
    "sammy = {'username': 'sammy-shark', 'online': True, 'followers': 987}"
   ]
  },
  {
   "cell_type": "code",
   "execution_count": 24,
   "metadata": {},
   "outputs": [],
   "source": [
    "sammy.update({'online': False})"
   ]
  },
  {
   "cell_type": "code",
   "execution_count": 25,
   "metadata": {},
   "outputs": [
    {
     "name": "stdout",
     "output_type": "stream",
     "text": [
      "{'username': 'sammy-shark', 'online': False, 'followers': 987}\n"
     ]
    }
   ],
   "source": [
    "print(sammy)"
   ]
  },
  {
   "cell_type": "markdown",
   "metadata": {},
   "source": [
    "The line `sammy.update({'online': False})` references the existing key `'online'` and modifies its Boolean value from `True` to `False`. When we call to `print()` the dictionary, we see the update take place in the output.\n",
    "\n",
    "To add items to dictionaries or modify values, we can use wither the `dict[key] = value` syntax or the method `.update()`.\n",
    "\n",
    "### Deleting Dictionary Elements\n",
    "\n",
    "Just as you can add key-value pairs and change values within the dictionary data type, you can also delete items within a dictionary.\n",
    "\n",
    "To remove a key-value pair from a dictionary, we’ll use the following syntax:\n",
    "\n",
    "`del dict[key]`\n",
    "\n",
    "Let’s take the `jesse` dictionary that represents one of the users. We’ll say that Jesse is no longer using the online platform for playing games, so we’ll remove the item associated with the `'points'` key. Then, we’ll print the dictionary out to confirm that the item was deleted:"
   ]
  },
  {
   "cell_type": "code",
   "execution_count": 58,
   "metadata": {},
   "outputs": [],
   "source": [
    "jesse = {'username': 'JOctopus', 'online': False, 'points': 723, 'followers': 481}"
   ]
  },
  {
   "cell_type": "code",
   "execution_count": 59,
   "metadata": {},
   "outputs": [],
   "source": [
    "del jesse['points']"
   ]
  },
  {
   "cell_type": "code",
   "execution_count": 60,
   "metadata": {},
   "outputs": [
    {
     "name": "stdout",
     "output_type": "stream",
     "text": [
      "{'username': 'JOctopus', 'online': False, 'followers': 481}\n"
     ]
    }
   ],
   "source": [
    "print(jesse)"
   ]
  },
  {
   "cell_type": "markdown",
   "metadata": {},
   "source": [
    "The line `del jesse['points']` removes the key-value pair `'points': 723` from the jesse dictionary.\n",
    "\n",
    "If we would like to clear a dictionary of all of its values, we can do so with the `.clear()` method. This will keep a given dictionary in case we need to use it later in the program, but it will no longer contain any items.\n",
    "\n",
    "Let’s remove all the items within the `jesse` dictionary:"
   ]
  },
  {
   "cell_type": "code",
   "execution_count": 1,
   "metadata": {},
   "outputs": [],
   "source": [
    "jesse = {'username': 'JOctopus', 'online': False, 'points': 723, 'followers': 481}"
   ]
  },
  {
   "cell_type": "code",
   "execution_count": 2,
   "metadata": {},
   "outputs": [],
   "source": [
    "jesse.clear()"
   ]
  },
  {
   "cell_type": "code",
   "execution_count": 33,
   "metadata": {},
   "outputs": [
    {
     "name": "stdout",
     "output_type": "stream",
     "text": [
      "{}\n"
     ]
    }
   ],
   "source": [
    "print(jesse)"
   ]
  },
  {
   "cell_type": "markdown",
   "metadata": {},
   "source": [
    "The output shows that we now have an empty dictionary devoid of key-value pairs.\n",
    "\n",
    "If we no longer need a specific dictionary, we can use `del` to get rid of it entirely:"
   ]
  },
  {
   "cell_type": "code",
   "execution_count": 35,
   "metadata": {},
   "outputs": [],
   "source": [
    "del jesse"
   ]
  },
  {
   "cell_type": "markdown",
   "metadata": {},
   "source": [
    "When we run a call to `print()` after deleting the jesse dictionary, we’ll receive the `NameError`:"
   ]
  },
  {
   "cell_type": "code",
   "execution_count": 38,
   "metadata": {},
   "outputs": [
    {
     "ename": "NameError",
     "evalue": "name 'jesse' is not defined",
     "output_type": "error",
     "traceback": [
      "\u001b[0;31m---------------------------------------------------------------------------\u001b[0m",
      "\u001b[0;31mNameError\u001b[0m                                 Traceback (most recent call last)",
      "\u001b[0;32m<ipython-input-38-62818698324f>\u001b[0m in \u001b[0;36m<module>\u001b[0;34m\u001b[0m\n\u001b[0;32m----> 1\u001b[0;31m \u001b[0mprint\u001b[0m\u001b[0;34m(\u001b[0m\u001b[0mjesse\u001b[0m\u001b[0;34m)\u001b[0m\u001b[0;34m\u001b[0m\u001b[0;34m\u001b[0m\u001b[0m\n\u001b[0m",
      "\u001b[0;31mNameError\u001b[0m: name 'jesse' is not defined"
     ]
    }
   ],
   "source": [
    "print(jesse)"
   ]
  },
  {
   "cell_type": "markdown",
   "metadata": {},
   "source": [
    "Because dictionaries are mutable data types, they can be added to, modified, and have items removed and cleared.\n",
    "\n",
    "### Nested Dictionaries and Lists\n",
    "\n",
    "A for-loop on a dictionary in the syntax of *list comprehensions* iterates over its keys by default. This returns the keys saved in a list object (in contrast to the `keys()` method). The keys will appear in an arbitrary order.\n",
    "\n"
   ]
  },
  {
   "cell_type": "code",
   "execution_count": 91,
   "metadata": {},
   "outputs": [
    {
     "data": {
      "text/plain": [
       "['username', 'online', 'points', 'followers']"
      ]
     },
     "execution_count": 91,
     "metadata": {},
     "output_type": "execute_result"
    }
   ],
   "source": [
    "[ key for key in jesse ]"
   ]
  },
  {
   "cell_type": "markdown",
   "metadata": {},
   "source": [
    "In addition to that, lists and dictionaries can be combined, i.e. nested in order to design various useful data structures. For example, instead of saving the user information of `sammy`, `jesse` and `drew` in three different dictionaries, ..."
   ]
  },
  {
   "cell_type": "code",
   "execution_count": 61,
   "metadata": {},
   "outputs": [],
   "source": [
    "sammy = {'username': 'sammy-shark', 'online': True,  'points': 120, 'followers': 987}\n",
    "jesse = {'username': 'JOctopus'   , 'online': False, 'points': 723, 'followers': 481}\n",
    "drew  = {'username': 'squidly'    , 'online': False, 'points': 652, 'followers': 532}"
   ]
  },
  {
   "cell_type": "markdown",
   "metadata": {},
   "source": [
    "... we coul simply feed the data into a nested dictionary - a dictionary of dictionaries:"
   ]
  },
  {
   "cell_type": "code",
   "execution_count": null,
   "metadata": {},
   "outputs": [],
   "source": [
    "AppUsers_dictDict = {\n",
    "    'sammy': {'username': 'sammy-shark', 'online': True,  'points': 120, 'followers': 987},\n",
    "    'jesse': {'username': 'JOctopus'   , 'online': False, 'points': 723, 'followers': 481},\n",
    "    'drew' : {'username': 'squidly'    , 'online': False, 'points': 652, 'followers': 532}\n",
    "}"
   ]
  },
  {
   "cell_type": "markdown",
   "metadata": {},
   "source": [
    "... or we coul generate a dictionary nesting information in lists:"
   ]
  },
  {
   "cell_type": "code",
   "execution_count": 92,
   "metadata": {},
   "outputs": [],
   "source": [
    "AppUsers_dictList = {\n",
    "    'names'    : ['sammy', 'jesse', 'drew' ] ,\n",
    "    'usernames': ['sammy-shark', 'JOctopus', 'squidly' ] ,\n",
    "    'online'   : [True,  False, False] ,\n",
    "    'points'   : [120,   723,   652  ] ,\n",
    "    'followers': [987,   481,   532  ]\n",
    "}"
   ]
  },
  {
   "cell_type": "markdown",
   "metadata": {},
   "source": [
    "... alternatively, dictionaries in a list:"
   ]
  },
  {
   "cell_type": "code",
   "execution_count": 93,
   "metadata": {},
   "outputs": [],
   "source": [
    "AppUsers_listDict = [\n",
    "    {'name': 'sammy', 'username': 'sammy-shark', 'online': True,  'points': 120, 'followers': 987},\n",
    "    {'name': 'jesse', 'username': 'JOctopus'   , 'online': False, 'points': 723, 'followers': 481},\n",
    "    {'name': 'drew' , 'username': 'squidly'    , 'online': False, 'points': 652, 'followers': 532}\n",
    "]"
   ]
  },
  {
   "cell_type": "markdown",
   "metadata": {},
   "source": [
    "To access the individual elements of such nested objects, the syntax has to follow the hierarchy of the nested elements. For example, referencing a nested list-dictionary combination is has to be achieved through a combination of dictionary keys and list indexes. \n",
    "\n",
    "Let's retrieve the username of jesse from the three nested objects. Elements in nested dictionaries can be referenced through keys of the various nesting levels:\n",
    "\n",
    "`dictname[‘keyLevel1’][‘keyLevel2’][...]`\n",
    "\n",
    "For the example `AppUsers_dictDict`, the respective literal is:"
   ]
  },
  {
   "cell_type": "code",
   "execution_count": 106,
   "metadata": {},
   "outputs": [
    {
     "data": {
      "text/plain": [
       "'JOctopus'"
      ]
     },
     "execution_count": 106,
     "metadata": {},
     "output_type": "execute_result"
    }
   ],
   "source": [
    "AppUsers_dictDict['jesse']['username']"
   ]
  },
  {
   "cell_type": "markdown",
   "metadata": {},
   "source": [
    "If lists and dictionaries were combined, keys and indexes have to be combined respectively:\n",
    "\n",
    "`dictname[‘key’][indexnumber]` or `dictname[indexnumber][‘key’]`\n",
    "\n",
    "For the examples `AppUsers_dictList` and `AppUsers_listDict` above:"
   ]
  },
  {
   "cell_type": "code",
   "execution_count": 107,
   "metadata": {},
   "outputs": [
    {
     "data": {
      "text/plain": [
       "'JOctopus'"
      ]
     },
     "execution_count": 107,
     "metadata": {},
     "output_type": "execute_result"
    }
   ],
   "source": [
    "AppUsers_dictList['usernames'][1]"
   ]
  },
  {
   "cell_type": "code",
   "execution_count": 108,
   "metadata": {},
   "outputs": [
    {
     "data": {
      "text/plain": [
       "'JOctopus'"
      ]
     },
     "execution_count": 108,
     "metadata": {},
     "output_type": "execute_result"
    }
   ],
   "source": [
    "AppUsers_listDict[1]['username']"
   ]
  },
  {
   "cell_type": "markdown",
   "metadata": {},
   "source": [
    "# Summary\n",
    "\n",
    "Dictionaries are made up of key-value pairs and provide a way to store data without relying on indexing. This allows us to retrieve values based on their meaning and relation to other data types. \n",
    "\n",
    "* Elements in dictionaries are directly accessible by keys.\n",
    "* Keys have to be of immutable object type, like numbers or strings.\n",
    "* Lists are mutable, they can't be used as keys, but they can be used as nested values.\n",
    "* A list comprehension performed on a dictionary iterates over its keys by default. The keys will appear in an arbitrary order.\n",
    "\n",
    "Most common specific operations (methods) are: `pop`, `keys`, `values`, `items`, `get`. A comprehensive overview of built-in dictionary operations, functions and methods is provided here: https://www.tutorialspoint.com/python/python_dictionary.htm\n"
   ]
  }
 ],
 "metadata": {
  "kernelspec": {
   "display_name": "Python 3",
   "language": "python",
   "name": "python3"
  },
  "language_info": {
   "codemirror_mode": {
    "name": "ipython",
    "version": 3
   },
   "file_extension": ".py",
   "mimetype": "text/x-python",
   "name": "python",
   "nbconvert_exporter": "python",
   "pygments_lexer": "ipython3",
   "version": "3.6.9"
  }
 },
 "nbformat": 4,
 "nbformat_minor": 2
}
