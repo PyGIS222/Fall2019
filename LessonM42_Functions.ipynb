{
 "cells": [
  {
   "cell_type": "markdown",
   "metadata": {},
   "source": [
    "[![Google Colab](https://colab.research.google.com/assets/colab-badge.svg)](https://colab.research.google.com/github/PyGIS222/Fall2019/blob/master/LessonM42_Functions.ipynb)\n",
    "\n",
    "[![Binder](https://mybinder.org/badge_logo.svg)](https://mybinder.org/v2/gh/PyGIS222/Fall2019/master?filepath=LessonM42_Functions.ipynb)"
   ]
  },
  {
   "cell_type": "markdown",
   "metadata": {},
   "source": [
    "### Notebook Lesson 4.2\n",
    "\n",
    "# Functions, Exceptions & Scopes\n",
    "\n",
    "This Jupyter Notebook is part of Module 4 of the course GIS222 (Fall2019).\n",
    "\n",
    "This lesson discusses the syntax of Python **Functions** and introduces the concept of **Scopes** and **Exceptions** in Python. Carefully study the content of this Notebook and use the chance to reflect the material through the interactive examples.\n",
    "\n",
    "### Sources\n",
    "\n",
    "This lesson is inspired by Lessons 4 of the [Geo-Python 2018](https://geo-python.github.io/site/2018/lessons/L4/overview.html), which is licensed under a Creative Commons Attribution-ShareAlike 4.0 International licence. Content on Scopes and Exception Handling were inspired by Lutz (2013).\n",
    "\n",
    "---\n"
   ]
  },
  {
   "cell_type": "markdown",
   "metadata": {},
   "source": [
    "# A. Functions\n",
    "\n",
    "<div class=\"alert alert-info\">\n",
    "    \n",
    "You can also watch a video tutorial of this section on the YouYube channel *Geo-Python*:  <a href=\"https://youtu.be/HSj0IkZtCoM\">Geo-Python 2018 Lesson - Functions</a>\n",
    "\n",
    "</div> \n",
    "\n",
    "\n",
    "## A.1 What is a function?\n",
    "\n",
    "A function is a block of organized, reusable code that can make your scripts more effective, easier to read, and simple to manage.\n",
    "You can think functions as little self-contained programs that can perform a specific task which you can use repeatedly in your code. **Functions are housing smaller algorithms, which are used repeatedly in a program.** One of the basic principles in good programming is \"do not to repeat yourself\".\n",
    "In other words, you should avoid having duplicate lines of code in your scripts.\n",
    "Functions are a good way to avoid such situations and they can save you a lot of time and effort as you don't need to tell the computer repeatedly what to do every time it does a common task, such as converting temperatures from Fahrenheit to Celsius.\n",
    "During the course we have already used some functions such as the `print()` command which is actually a built-in function in Python. \n",
    "\n",
    "Also, in the coding assignments, you have already complemented functions. We had these prepared, so you and we can repeatedly test your code for different input. Now, we will discuss how you can code and use any kind of functions all by yourself."
   ]
  },
  {
   "cell_type": "markdown",
   "metadata": {},
   "source": [
    "### Anatomy of a function\n",
    "\n",
    "Let's consider the task from an earlier lesson when we converted temperatures from Fahrenheit to Celsius. Just this time let's code it the other way around: from Celsius to Fahrenheit.\n",
    "Such an operation is a fairly common task when dealing with temperature data.\n",
    "Thus we might need to repeat such calculations quite frequently when analysing or comparing weather or climate data between the US and Europe, for example.\n",
    "\n",
    "#### Our first function (aww...)\n",
    "\n",
    "Let's define our first function called `celsiusToFahr`."
   ]
  },
  {
   "cell_type": "code",
   "execution_count": 2,
   "metadata": {},
   "outputs": [],
   "source": [
    "def celsiusToFahr(tempCelsius):\n",
    "    return 9/5 * tempCelsius + 32"
   ]
  },
  {
   "cell_type": "markdown",
   "metadata": {},
   "source": [
    "![Anatomy of a function.](img/Function_anatomy-400.png)\n",
    "\n",
    "The function definition opens with the keyword **`def`** followed by the name of the function and a list of parameter names in parentheses.\n",
    "The body of the function — the statements that are executed when it runs — is indented below the definition line. In the example above, the body consist only of one line, but it can be many more.\n",
    "\n",
    "When we call the function, the values we pass to it are assigned to the corresponding **parameter variables** so that we can use them inside the function (e.g., the variable `tempCelsius` in this function example).\n",
    "Inside the function, we use a **`return`** statement to define the value that should be given back when the function is used, or called)."
   ]
  },
  {
   "cell_type": "markdown",
   "metadata": {},
   "source": [
    "### Calling functions\n",
    "\n",
    "#### Using our new function\n",
    "\n",
    "Now let's try using our function.\n",
    "Calling our self-defined function is no different from calling any other function such as `print()`.\n",
    "You need to call it with its name and send your value to the required parameter(s) inside the parentheses."
   ]
  },
  {
   "cell_type": "code",
   "execution_count": 3,
   "metadata": {},
   "outputs": [],
   "source": [
    "freezingPoint =  celsiusToFahr(0)"
   ]
  },
  {
   "cell_type": "code",
   "execution_count": 4,
   "metadata": {},
   "outputs": [
    {
     "name": "stdout",
     "output_type": "stream",
     "text": [
      "The freezing point of water in Fahrenheit is: 32.0\n"
     ]
    }
   ],
   "source": [
    "print('The freezing point of water in Fahrenheit is:', freezingPoint)"
   ]
  },
  {
   "cell_type": "code",
   "execution_count": 5,
   "metadata": {},
   "outputs": [
    {
     "name": "stdout",
     "output_type": "stream",
     "text": [
      "The boiling point of water in Fahrenheit is: 212.0\n"
     ]
    }
   ],
   "source": [
    "print('The boiling point of water in Fahrenheit is:', celsiusToFahr(100))"
   ]
  },
  {
   "cell_type": "markdown",
   "metadata": {},
   "source": [
    "As you can see, the function `celsiusToFahr()` allows you to calculate the Fahrenheit value for any given temperature in Celsius. You just have to pass the Celsius value as parameter to the function, then it returns the Fahrenheit value. In the example above, the function is processed for a value of 0 degree Celcius and the return value of the function is assigned to a new variable `freezingPoint`, using just one line of code. \n",
    "\n",
    "This comes in very handy, especially if more complexe functions are used repeatedly in a program. Instead of copying the same code over and over into the program, you just have to add this one line, whenever it is needed. And if your function has a bug, you have to correct the bug in only one version of the coded algorithm, the one defined in the function."
   ]
  },
  {
   "cell_type": "markdown",
   "metadata": {},
   "source": [
    "#### Let's make another function\n",
    "\n",
    "Now that we know how to create a function to convert Celsius to Fahrenheit, let’s create another function called `kelvinsToCelsius`."
   ]
  },
  {
   "cell_type": "code",
   "execution_count": 6,
   "metadata": {},
   "outputs": [],
   "source": [
    "def kelvinsToCelsius(tempKelvins):\n",
    "    return tempKelvins - 273.15"
   ]
  },
  {
   "cell_type": "markdown",
   "metadata": {},
   "source": [
    "#### Using our second function\n",
    "\n",
    "Let's use it in the same way as the earlier one."
   ]
  },
  {
   "cell_type": "code",
   "execution_count": 7,
   "metadata": {},
   "outputs": [],
   "source": [
    "absoluteZero = kelvinsToCelsius(tempKelvins=0)"
   ]
  },
  {
   "cell_type": "code",
   "execution_count": 8,
   "metadata": {},
   "outputs": [
    {
     "name": "stdout",
     "output_type": "stream",
     "text": [
      "Absolute zero in Celsius is: -273.15\n"
     ]
    }
   ],
   "source": [
    "print('Absolute zero in Celsius is:', absoluteZero)"
   ]
  },
  {
   "cell_type": "markdown",
   "metadata": {},
   "source": [
    "<hr>\n",
    "\n",
    "### \"Check your Understanding\"\n",
    "\n",
    "Let's see how things are going so far with functions. The Python cell below, please:\n",
    "\n",
    "- Create a new function called `hello` with 2 parameters\n",
    "    - Parameter 1 should be called `name` and you should assign some text to this parameter this when using the function\n",
    "    - Parameter 2 should be called `age` and you should provide a number value for this parameter when using the function\n",
    "\n",
    "When using your function, the value that is returned should be a character string stating the `name` and `age` that were provided, which you can assign to a variable called `output`.\n",
    "Printing out `output` should produce something like the following:\n",
    "\n",
    "```python\n",
    "print(output)\n",
    "'Hello, my name is Dave. I am 38 years old.'\n",
    "```\n",
    "\n",
    "You can find the solution to this task at the end of this notebook. But try it first on your own before peaking. That will give you the best learning outcome for yourself."
   ]
  },
  {
   "cell_type": "code",
   "execution_count": 9,
   "metadata": {},
   "outputs": [],
   "source": [
    "# Add your function here!\n",
    "\n",
    "\n",
    "\n",
    "\n",
    "\n",
    "\n"
   ]
  },
  {
   "cell_type": "markdown",
   "metadata": {},
   "source": [
    "<hr>"
   ]
  },
  {
   "cell_type": "markdown",
   "metadata": {},
   "source": [
    "#### Functions within a function (Yo dawg...)\n",
    "\n",
    "What about converting Kelvins to Fahrenheit?\n",
    "We could write out a new formula for it, but we don’t need to.\n",
    "Instead, we can do the conversion using the two functions we have already created and calling those from the function we are now creating."
   ]
  },
  {
   "cell_type": "code",
   "execution_count": 10,
   "metadata": {},
   "outputs": [],
   "source": [
    "def kelvinsToFahrenheit(tempKelvins):\n",
    "    tempCelsius = kelvinsToCelsius(tempKelvins)\n",
    "    tempFahr = celsiusToFahr(tempCelsius)\n",
    "    return tempFahr"
   ]
  },
  {
   "cell_type": "markdown",
   "metadata": {},
   "source": [
    "#### Using our combined functions\n",
    "\n",
    "Now let's use the function."
   ]
  },
  {
   "cell_type": "code",
   "execution_count": 11,
   "metadata": {},
   "outputs": [],
   "source": [
    "absoluteZeroF = kelvinsToFahrenheit(tempKelvins=0)"
   ]
  },
  {
   "cell_type": "code",
   "execution_count": 12,
   "metadata": {},
   "outputs": [
    {
     "name": "stdout",
     "output_type": "stream",
     "text": [
      "Absolute zero in Fahrenheit is: -459.66999999999996\n"
     ]
    }
   ],
   "source": [
    "print('Absolute zero in Fahrenheit is:', absoluteZeroF)"
   ]
  },
  {
   "cell_type": "markdown",
   "metadata": {},
   "source": [
    "### Functions with default values\n",
    "\n",
    "A function can also be defined with a default value for a parameter. This might be useful if some parameter are given standard values that should only be changed in some occations, e.g. during code testing, etc.\n",
    "An default value has to be coded inside the `def` statement. Let's define an alternative version of the function `kelvinsToCelsius`, which prints a feedback string, when it is called. The caller may or may not change this feedback string, depending if he passes an parameter (argument) for that."
   ]
  },
  {
   "cell_type": "code",
   "execution_count": 13,
   "metadata": {},
   "outputs": [],
   "source": [
    "def kelvinsToCelsius_alt(tempKelvins,feedback='Calculating Kelvins to Celsius'):\n",
    "    print(feedback)\n",
    "    return tempKelvins - 273.15"
   ]
  },
  {
   "cell_type": "code",
   "execution_count": 14,
   "metadata": {},
   "outputs": [
    {
     "name": "stdout",
     "output_type": "stream",
     "text": [
      "Calculating Kelvins to Celsius\n"
     ]
    },
    {
     "data": {
      "text/plain": [
       "-273.15"
      ]
     },
     "execution_count": 14,
     "metadata": {},
     "output_type": "execute_result"
    }
   ],
   "source": [
    "kelvinsToCelsius_alt(0)"
   ]
  },
  {
   "cell_type": "code",
   "execution_count": 15,
   "metadata": {},
   "outputs": [
    {
     "name": "stdout",
     "output_type": "stream",
     "text": [
      "I like to print something else!\n"
     ]
    },
    {
     "data": {
      "text/plain": [
       "-273.15"
      ]
     },
     "execution_count": 15,
     "metadata": {},
     "output_type": "execute_result"
    }
   ],
   "source": [
    "kelvinsToCelsius_alt(0,'I like to print something else!')"
   ]
  },
  {
   "cell_type": "markdown",
   "metadata": {},
   "source": [
    "### Where are functions defined?\n",
    "\n",
    "Once we have defined functions, we can use them anywhere. In the main code, in another function, inside conditional statements or inside loops! But, now you may ask, where do we actually define functions. \n",
    "Of course, in a sequence of code, you have to define a function before using it. So in a Jupyter Notebook, a function has to be entered in code lines that come before it is used the first time. And if the function is defined in a cell above, that cell has to be executed, before running the cell where the function is used the first time. This is just the same as for the assignment of a variable, if you want to use a variable in a calculation, it has to be assigned beforehand. \n",
    "\n",
    "Another place where functions are defined is in Python scripts, hence, in separate files ending with `.py`. We have already written a simple Python script at the end of the last course module, during the Jupyter Notebook on file I/O (input/output). However, we will postpone the details of this topic to the course module 5.\n",
    "\n",
    "For now, let's write a more complex function, that contains more than just one line of code."
   ]
  },
  {
   "cell_type": "markdown",
   "metadata": {},
   "source": [
    "## A.2. Temperature calculator - *writing advanced functions*\n",
    "\n",
    "So far our functions have had only one parameter, but it is also possible to define a function with multiple parameters.\n",
    "Let's now make a simple `tempCalculator` function that accepts temperatures in Kelvins and returns either Celsius or Fahrenheit.\n",
    "The new function will have two parameters:\n",
    "\n",
    "- `tempK` = The parameter for passing temperature in Kelvin\n",
    "- `convertTo` = The parameter that determines whether to output should be in Celsius or in Fahrenheit (using letters `C` or `F` accordingly)\n",
    "\n",
    "### Defining the supporting function\n",
    "\n",
    "Let's first copy the three functions we already defined above (just in case the Kernel got interrupted after running the cells above). These were:\n",
    "\n",
    "``` python\n",
    "#1 to convert temperature values from Kelvin to Celcius and \n",
    "def kelvinsToCelsius(tempKelvins):\n",
    "    return tempKelvins - 273.15\n",
    "\n",
    "```\n",
    "\n",
    "``` python\n",
    "#2 to convert temperature values from Celcius to Fahrenheit.\n",
    "def celsiusToFahr(tempCelsius):\n",
    "    return 9/5 * tempCelsius + 32\n",
    "\n",
    "```\n",
    "\n",
    "``` python\n",
    "#3 to convert temperature values from Kelvin to Fahrenheit\n",
    "def kelvinsToFahrenheit(tempKelvins):\n",
    "    tempCelsius = kelvinsToCelsius(tempKelvins)\n",
    "    tempFahr = celsiusToFahr(tempCelsius)\n",
    "    return tempFahr\n",
    "```"
   ]
  },
  {
   "cell_type": "markdown",
   "metadata": {},
   "source": [
    "### Defining the function\n",
    "\n",
    "Now, let's start defining our function for the **Temperature Calculator** by giving it a name and setting the two parameters.\n",
    "\n",
    "```python\n",
    "def tempCalculator(tempK, convertTo):\n",
    "```"
   ]
  },
  {
   "cell_type": "markdown",
   "metadata": {},
   "source": [
    "### Adding some conditional statements\n",
    "\n",
    "Next, we need to add conditional statements that check whether the output temperature is wanted in Celsius or Fahrenheit, and then call corresponding function that we defined above. This would be coded in the following way:\n",
    "\n",
    "```python\n",
    "def tempCalculator(tempK, convertTo):\n",
    "    # Check if user wants the temperature in Celsius\n",
    "    if convertTo == \"C\":\n",
    "        # Convert the value to Celsius \n",
    "        # using the dedicated function for the task \n",
    "        # that we defined above\n",
    "        convertedTemp = kelvinsToCelsius(tempKelvins=tempK)\n",
    "    elif convertTo == \"F\":\n",
    "        # Convert the value to Fahrenheit \n",
    "        # using the dedicated function for the task \n",
    "        # that we defined above\n",
    "        convertedTemp = kelvinsToFahrenheit(tempKelvins=tempK)\n",
    "```"
   ]
  },
  {
   "cell_type": "markdown",
   "metadata": {},
   "source": [
    "### Returning the result\n",
    "\n",
    "At the bottom, we need to add a **return statement** so that our function sends back the value that we are interested in.\n",
    "\n",
    "```python\n",
    "def tempCalculator(tempK, convertTo):\n",
    "    \n",
    "    # Check if user wants the temperature in Celsius\n",
    "    # ...\n",
    "    # ...\n",
    "    # ...\n",
    "    \n",
    "    # Return the result\n",
    "    return convertedTemp\n",
    "```"
   ]
  },
  {
   "cell_type": "markdown",
   "metadata": {},
   "source": [
    "### Adding a docstring & combining everything\n",
    "\n",
    "Lastly, as we want to be good programmers, we add a short docstring at the beginning of our function that tells what the function does, how the parameters work and which object types are expected.\n",
    "\n",
    "Now let's add all of that together into the next code cell. Then execute (run) the code cell to define the function:"
   ]
  },
  {
   "cell_type": "code",
   "execution_count": 16,
   "metadata": {},
   "outputs": [],
   "source": [
    "# 1 to convert temperature values from Kelvin to Celcius and \n",
    "def kelvinsToCelsius(tempKelvins):\n",
    "    return tempKelvins - 273.15\n",
    "\n",
    "# 2 to convert temperature values from Celcius to Fahrenheit.\n",
    "def celsiusToFahr(tempCelsius):\n",
    "    return 9/5 * tempCelsius + 32\n",
    "\n",
    "# 3 to convert temperature values from Kelvin to Fahrenheit\n",
    "def kelvinsToFahrenheit(tempKelvins):\n",
    "    tempCelsius = kelvinsToCelsius(tempKelvins)\n",
    "    tempFahr = celsiusToFahr(tempCelsius)\n",
    "    return tempFahr\n",
    "\n",
    "# 4 Temperature Calculator\n",
    "#   to convert temperature values from Kelvin to either Celcius or Fahrenheit\n",
    "def tempCalculator(tempK, convertTo):\n",
    "    \"\"\"\n",
    "    Function for converting temperature in Kelvins to Celsius or Fahrenheit.\n",
    "\n",
    "    Parameters\n",
    "    ----------\n",
    "    tempK: <numerical>\n",
    "        Temperature in Kelvins\n",
    "    convertTo: <str>\n",
    "        Target temperature that can be either Celsius ('C') or Fahrenheit ('F'). Supported values: 'C' | 'F'\n",
    "\n",
    "    Returns\n",
    "    -------\n",
    "    <float>\n",
    "        Converted temperature.\n",
    "    \"\"\"\n",
    "\n",
    "    # Check if user wants the temperature in Celsius\n",
    "    if convertTo == \"C\":\n",
    "        # Convert the value to Celsius \n",
    "        # using the dedicated function for the task \n",
    "        # that we defined above\n",
    "        convertedTemp = kelvinsToCelsius(tempK)\n",
    "    elif convertTo == \"F\":\n",
    "        # Convert the value to Fahrenheit \n",
    "        # using the dedicated function for the task \n",
    "        # that we defined above\n",
    "        convertedTemp = kelvinsToFahrenheit(tempK)\n",
    "    # Return the result\n",
    "    return convertedTemp"
   ]
  },
  {
   "cell_type": "markdown",
   "metadata": {},
   "source": [
    "### Testing the new function\n",
    "\n",
    "That's it! Now we have a temperature calculator available that has a simple control for the user where s/he can change the output by using the `convertTo` parameter.\n",
    "\n",
    "As we added the short docstring in the beginning of the function we can use the `help()` function in Python to find out how our function should be used. Try running `help(tempCalculator)` in the cell below."
   ]
  },
  {
   "cell_type": "code",
   "execution_count": 17,
   "metadata": {},
   "outputs": [],
   "source": [
    "# Request the docstring for the function tempCalculator using help()\n",
    "\n"
   ]
  },
  {
   "cell_type": "markdown",
   "metadata": {},
   "source": [
    "### Using the tempCalculator\n",
    "\n",
    "Let's use it."
   ]
  },
  {
   "cell_type": "code",
   "execution_count": 18,
   "metadata": {},
   "outputs": [],
   "source": [
    "tempKelvin = 300\n",
    "convertTempTo = \"K\"   # \"C\" or \"F\""
   ]
  },
  {
   "cell_type": "code",
   "execution_count": 19,
   "metadata": {},
   "outputs": [],
   "source": [
    "temperatureC = tempCalculator(tempK=tempKelvin, convertTo=\"C\")"
   ]
  },
  {
   "cell_type": "code",
   "execution_count": 20,
   "metadata": {},
   "outputs": [
    {
     "name": "stdout",
     "output_type": "stream",
     "text": [
      "Temperature 300 in Kelvins is 26.9 in Celsius\n"
     ]
    }
   ],
   "source": [
    "print(\"Temperature {} in Kelvins is {:.1f} in Celsius\".format(tempKelvin,temperatureC))"
   ]
  },
  {
   "cell_type": "code",
   "execution_count": 21,
   "metadata": {},
   "outputs": [],
   "source": [
    "temperatureK = tempCalculator(tempK=tempKelvin, convertTo=\"F\")"
   ]
  },
  {
   "cell_type": "markdown",
   "metadata": {},
   "source": [
    "<div class=\"alert alert-warning\">\n",
    "\n",
    "**Format of Functions**\n",
    "\n",
    "Definition of functions in Python is performed in the following way.\n",
    "\n",
    "```python\n",
    "def functionName(arg1, arg2, arg3=‘default’, ...):\n",
    "\tstatements\n",
    "\treturn variable\n",
    "```\n",
    "\n",
    "Calling of a respective functions in Python is done the following:\n",
    "\n",
    "```python\n",
    "varResult = functionName(arg1, arg2):\n",
    "```\n",
    "\n",
    "The `def` statement initiates the definition of a function. It creates a function object and assigns it to a name, in our example this is the name `functionName`. Similar as for variables, the function name is referenced to the function object (and it can be renamed!). Statements inside a function executed and evaluated only when the function is called. \n",
    "\n",
    "The **passing of parameter (arguments) is optional** and it can contain any number of arguments. Arguments are passed within parenthesis and assigned by position (i.e., when being called). Arguments can receive a default value, if the passing of their value is supposed to be optional during function calling. In the function above, the third argument is set to a default string value 'default'.\n",
    "\n",
    "A function may, but does not have to be, concluded with a return, which sends a result object back to the caller. In the example above this result is saved in a variable of the name `varResult`.\n",
    "If a function has no return statement or no return value, it returns a `None` object.\n",
    "\n",
    "</div>"
   ]
  },
  {
   "cell_type": "markdown",
   "metadata": {},
   "source": [
    "Very well! Now you know most about how to write functions. Visit the Digital Ocean page on the topic, if you need more examples: https://www.digitalocean.com/community/tutorials/how-to-define-functions-in-python-3.\n",
    "\n",
    "Also, there are two more topics related to Python functions that we haven't mentioned yet: Scopes and Exception Handling. The canvas page **Functions, Scopes & Exceptions** of this course's module 4 provides related reading material. Study the linked chapters from Lutz (2013) on *Scopes* and on *Exception Basics*. The cells below provide further examples, that can be studied in parallel or after reading these chapters."
   ]
  },
  {
   "cell_type": "markdown",
   "metadata": {},
   "source": [
    "# B. Scopes and Namespaces\n",
    "\n",
    "Read the chapter *Scopes* from Lutz (2013), available on canvas' reading list. It introduces the concept of scopes and namespaces in Python. \n",
    "\n",
    "## B.1. Scopes\n",
    "\n",
    "When using variables within a program, it is important to keep **variable scope** in mind. A variable’s scope refers to the particular places it is accessible within the code of a given program. This is to say that not all variables are accessible from all parts of a given program — some variables will be global and some will be local.\n",
    "\n",
    "Global variables exist outside of functions. Local variables exist within functions. Let's look at an example (from [Digital Ocean](https://www.digitalocean.com/community/tutorials/how-to-use-variables-in-python-3#global-and-local-variables)):"
   ]
  },
  {
   "cell_type": "code",
   "execution_count": 22,
   "metadata": {},
   "outputs": [
    {
     "name": "stdout",
     "output_type": "stream",
     "text": [
      "10\n",
      "7\n",
      "5\n"
     ]
    }
   ],
   "source": [
    "num1 = 5 #Global variable\n",
    "\n",
    "def my_function():\n",
    "    num1 = 10 #Use the same variable name num1\n",
    "    num2 = 7 #Assign local variable\n",
    "\n",
    "    print(num1) #Print local variable num1\n",
    "    print(num2) #Print local variable num2\n",
    "\n",
    "#Call my_function()\n",
    "my_function()\n",
    "\n",
    "#Print global variable num1\n",
    "print(num1)\n"
   ]
  },
  {
   "cell_type": "markdown",
   "metadata": {},
   "source": [
    "Because the local variable of `num1` is assigned locally within a function, when we call that function we see `num1` as equal to the local value of 10. When we print out the global value of `num1` after calling my_function(), we see that the global variable `num1` is still equal to the value of 5. \n",
    "\n",
    "### The `global` Statement\n",
    "However, it is possible to assign global variables within a function by using Python’s global statement:"
   ]
  },
  {
   "cell_type": "code",
   "execution_count": 23,
   "metadata": {},
   "outputs": [
    {
     "name": "stdout",
     "output_type": "stream",
     "text": [
      "Sammy\n"
     ]
    }
   ],
   "source": [
    "def new_shark():\n",
    "    #Assign variable as global\n",
    "    global shark\n",
    "    shark = \"Sammy\"\n",
    "\n",
    "#Call new_shark() function\n",
    "new_shark()\n",
    "\n",
    "#Print global variable shark\n",
    "print(shark)"
   ]
  },
  {
   "cell_type": "markdown",
   "metadata": {},
   "source": [
    "Even though the variable `shark` was assigned locally within the `new_shark()` function, it is accessible outside of the function because of the `global` statement used before the assignment of the variable within the function. Due to that `global` statement, when we call `print(shark)` outside of the function we don’t receive an error. Though you *can* assign a global variable within a function, you likely will not need to do this often, and should err on the side of readable code.\n",
    "\n",
    "Something else to keep in mind is that if you reference a variable within a function, without also assigning it a value, that variable is implicitly global. In order to have a local variable, you must assign a value to it within the body of the function.\n",
    "\n",
    "When working with variables, it is important to decide whether it is more appropriate to use a global or local variable. Usually it is best to keep variables local, but when you are using the same variable throughout several functions, you may want to initialize a global variable. If you are working with the variable only within one function or one class, you’ll probably want to use a local variable instead. "
   ]
  },
  {
   "cell_type": "markdown",
   "metadata": {},
   "source": [
    "## B. 2 Namespaces\n",
    "\n",
    "As defined in Lutz (2013), a *namespace* is a place where varialbes live. The places are defined by scopes and the term scope refers to a namespace. To get to know the content of your current namespace (in this Jupyter Notebook, or on a terminal/command window in your current python instance), you can run the function `dir()`."
   ]
  },
  {
   "cell_type": "code",
   "execution_count": 24,
   "metadata": {},
   "outputs": [
    {
     "data": {
      "text/plain": [
       "['In',\n",
       " 'Out',\n",
       " '_',\n",
       " '_14',\n",
       " '_15',\n",
       " '__',\n",
       " '___',\n",
       " '__builtin__',\n",
       " '__builtins__',\n",
       " '__doc__',\n",
       " '__loader__',\n",
       " '__name__',\n",
       " '__package__',\n",
       " '__spec__',\n",
       " '_dh',\n",
       " '_i',\n",
       " '_i1',\n",
       " '_i10',\n",
       " '_i11',\n",
       " '_i12',\n",
       " '_i13',\n",
       " '_i14',\n",
       " '_i15',\n",
       " '_i16',\n",
       " '_i17',\n",
       " '_i18',\n",
       " '_i19',\n",
       " '_i2',\n",
       " '_i20',\n",
       " '_i21',\n",
       " '_i22',\n",
       " '_i23',\n",
       " '_i24',\n",
       " '_i3',\n",
       " '_i4',\n",
       " '_i5',\n",
       " '_i6',\n",
       " '_i7',\n",
       " '_i8',\n",
       " '_i9',\n",
       " '_ih',\n",
       " '_ii',\n",
       " '_iii',\n",
       " '_oh',\n",
       " 'absoluteZero',\n",
       " 'absoluteZeroF',\n",
       " 'celsiusToFahr',\n",
       " 'convertTempTo',\n",
       " 'exit',\n",
       " 'freezingPoint',\n",
       " 'get_ipython',\n",
       " 'kelvinsToCelsius',\n",
       " 'kelvinsToCelsius_alt',\n",
       " 'kelvinsToFahrenheit',\n",
       " 'my_function',\n",
       " 'new_shark',\n",
       " 'num1',\n",
       " 'quit',\n",
       " 'shark',\n",
       " 'tempCalculator',\n",
       " 'tempKelvin',\n",
       " 'temperatureC',\n",
       " 'temperatureK']"
      ]
     },
     "execution_count": 24,
     "metadata": {},
     "output_type": "execute_result"
    }
   ],
   "source": [
    "dir()"
   ]
  },
  {
   "cell_type": "markdown",
   "metadata": {},
   "source": [
    "You should recocnize some of the names above, they are the variables that were assigned above. Some other names with trailing and/or leading underscores are attributes of the current namespace. It is not neccessary to understand the meaning of all of those names, but the concept of scopes and namespaces is very important to programming Python.\n",
    "\n",
    "<div class=\"alert alert-info\">\n",
    "\n",
    "**Note**\n",
    "\n",
    "`dir()` is a powerful built-in function in Python, which returns list of the attributes and methods of any object (e.g., functions, modules, strings, lists, dictionaries etc.) In professional terms, the function `dir()` provides you with the **namespace** of an object.\n",
    "If you run the function without passing any argument, you will receive names in the current namespace, hence, all previously assigned variables, other built-in attributes).\n",
    "Passing the name of a function to `dir()`, allows you to look up the namespace of that function.\n",
    "\n",
    "</div>"
   ]
  },
  {
   "cell_type": "markdown",
   "metadata": {},
   "source": [
    "# C. Exception Handling\n",
    "\n",
    "Python provides two very important features to handle any unexpected error in your Python programs and to add debugging capabilities in them:\n",
    "\n",
    "* Assertions\n",
    "* Exception Handling\n",
    "\n",
    "Assertions were mentioned and used in previous notebook assignments. If you need to revise that go to the following Python page of [tutorialspoint](https://www.tutorialspoint.com/python/assertions_in_python.htm). \n",
    "\n",
    "An exception is an event, which occurs during the execution of a program that disrupts the normal flow of the program's instructions. In general, when a Python script encounters a situation that it cannot cope with, it raises an exception. For example, if you try to execute a list method on an integer variable, you receive an `AttributeError`:"
   ]
  },
  {
   "cell_type": "code",
   "execution_count": 243,
   "metadata": {},
   "outputs": [
    {
     "ename": "AttributeError",
     "evalue": "'int' object has no attribute 'sort'",
     "output_type": "error",
     "traceback": [
      "\u001b[0;31m---------------------------------------------------------------------------\u001b[0m",
      "\u001b[0;31mAttributeError\u001b[0m                            Traceback (most recent call last)",
      "\u001b[0;32m<ipython-input-243-659d5654c3a6>\u001b[0m in \u001b[0;36m<module>\u001b[0;34m\u001b[0m\n\u001b[1;32m      1\u001b[0m \u001b[0ma\u001b[0m \u001b[0;34m=\u001b[0m \u001b[0;36m10\u001b[0m\u001b[0;34m\u001b[0m\u001b[0;34m\u001b[0m\u001b[0m\n\u001b[0;32m----> 2\u001b[0;31m \u001b[0ma\u001b[0m\u001b[0;34m.\u001b[0m\u001b[0msort\u001b[0m\u001b[0;34m(\u001b[0m\u001b[0;34m)\u001b[0m\u001b[0;34m\u001b[0m\u001b[0;34m\u001b[0m\u001b[0m\n\u001b[0m",
      "\u001b[0;31mAttributeError\u001b[0m: 'int' object has no attribute 'sort'"
     ]
    }
   ],
   "source": [
    "a = 10\n",
    "a.sort()"
   ]
  },
  {
   "cell_type": "markdown",
   "metadata": {},
   "source": [
    "The error indicates that something is wrong with the code and that the code cannot be executed by interpreter. Exceptions, like the `AttributeError` are raised when interpreter detects errors during execution. Other examples are `TypeError`, `IndexError` or the very generic `SyntaxError`:"
   ]
  },
  {
   "cell_type": "code",
   "execution_count": 245,
   "metadata": {},
   "outputs": [
    {
     "ename": "SyntaxError",
     "evalue": "Missing parentheses in call to 'print'. Did you mean print('Hello World!')? (<ipython-input-245-749b072d7804>, line 1)",
     "output_type": "error",
     "traceback": [
      "\u001b[0;36m  File \u001b[0;32m\"<ipython-input-245-749b072d7804>\"\u001b[0;36m, line \u001b[0;32m1\u001b[0m\n\u001b[0;31m    print 'Hello World!'\u001b[0m\n\u001b[0m                       ^\u001b[0m\n\u001b[0;31mSyntaxError\u001b[0m\u001b[0;31m:\u001b[0m Missing parentheses in call to 'print'. Did you mean print('Hello World!')?\n"
     ]
    }
   ],
   "source": [
    "print 'Hello World!'"
   ]
  },
  {
   "cell_type": "markdown",
   "metadata": {},
   "source": [
    "An exception is a Python object that represents an error. \n",
    "\n",
    "| Name | Reason for the exception being raised |\n",
    "| :-: | :- |\n",
    "Exception | A built-in base class for all exceptions.\n",
    "AttributeError | Attempt to access an undefined object attribute\n",
    "IOError | Attempt to open a nonexistent file\n",
    "IndexError | Request for a nonexistent index of a sequence, e.g., list\n",
    "KeyError | Request for a nonexistent dictionary key\n",
    "NameError | Attempt to access an undeclared variable\n",
    "SyntaxError | Code is ill-formed\n",
    "TypeError | Pass function an argument with wrong type object \n",
    "ValueError | Pass function an argument with correct type object but with an inappropriate value\n",
    "ZeroDivionError | division (/) or modulo(%) by a numeric zero\n",
    "\n",
    "\n",
    "Here is a more comprehensive list of standard Exceptions available in Python: [Standard Exceptions](https://www.tutorialspoint.com/python/standard_exceptions.htm).\n",
    "\n",
    "While these exceptions are very informative for debugging your code, you might want to catch some possible exceptions, by handling their occurance and to allow your program to continue. When a Python script or Python code in a Jupyter Notebook cell raises an exception, it must either handle the exception immediately otherwise it terminates and quits. Exception handling is specifically useful to ensure the correct execution of functions, which is why the topic is added here. Exceptions can also be used to handle errors in loops, e.g. if user input error or file reading errors have to be handled (e.g. a non-existing file)."
   ]
  },
  {
   "cell_type": "markdown",
   "metadata": {},
   "source": [
    "<div class=\"alert alert-warning\">\n",
    "    \n",
    "**Format of Exceptions*\n",
    "\n",
    "Here is simple syntax of a try....except...else...finally block:\n",
    "\n",
    "``` Python\n",
    "try:                               # Exception handler\n",
    "   you 'try' to do something here  # May trigger except\n",
    "except Exception1                  # Exception catcher\n",
    "   in case there is an Exception1, do something here\n",
    "[except Exception2 [, Exception3 [, ExceptionN]]:\n",
    "   in case there is any Exception from the list do something here ]\n",
    "[except:\n",
    "   for any other Exception do something here ]  # all other exceptions\n",
    "\n",
    "# then nothing, else or finally\n",
    "[else:\n",
    "   in case is no exception do something here]\n",
    "[finally:\n",
    "   no matter what, always do something here]\n",
    "```\n",
    "\n",
    "A single try statement can have multiple except statements. This is useful when the try block contains statements that may throw different types of exceptions. But at most one except clause will be executed. Or, you can also use the same except statement to handle multiple exceptions at once. Or you can use an except statement without a name, to catch all other exceptions. The try statement can be followed by an else or a finally clause, both are optional. **You cannot use else clause as well along with a finally clause.** An else block has to be positioned after all the except clauses. An else clause will be executed if the try clause doesn't raise an exception. Finally clauses are called clean-up or termination clauses, because they must be executed under all circumstances, i.e. a \"finally\" clause is always executed regardless if an exception occurred in a try block or not. \n",
    "\n",
    "</div>"
   ]
  },
  {
   "cell_type": "markdown",
   "metadata": {},
   "source": [
    "For studying exception basics in more depth read the chapter *Exception Basics* from Lutz (2013), which is available on canvas' reading list. After reading the chapter you can execute and study a few examples below.\n",
    "\n",
    "### C.1. Examples for Exception Handling\n",
    "\n",
    "#### Simple example\n",
    "\n",
    "The simplest way to handle exceptions is with a \"try-except\" block: "
   ]
  },
  {
   "cell_type": "code",
   "execution_count": 134,
   "metadata": {},
   "outputs": [
    {
     "name": "stdout",
     "output_type": "stream",
     "text": [
      "Can not divide by zero\n"
     ]
    }
   ],
   "source": [
    "(x,y) = (5,0)\n",
    "try:\n",
    "    z = x/y\n",
    "except ZeroDivisionError:\n",
    "    print(\"Can not divide by zero\")"
   ]
  },
  {
   "cell_type": "markdown",
   "metadata": {},
   "source": [
    "#### Handling non-existing files\n",
    "\n",
    "The following code tries to read a file of the name *testfile.txt*, which does not exist in this folder. See what happens:"
   ]
  },
  {
   "cell_type": "code",
   "execution_count": 121,
   "metadata": {},
   "outputs": [
    {
     "name": "stdout",
     "output_type": "stream",
     "text": [
      "Error: can't find file or read data\n"
     ]
    }
   ],
   "source": [
    "try:\n",
    "    fh = open(\"testfile.txt\", \"r\")\n",
    "    print(\"File could be opened, now writing data ...\")\n",
    "except IOError:\n",
    "    print(\"Error: can\\'t find file or read data\")\n",
    "else:\n",
    "    print(\"Written content in the file successfully\")"
   ]
  },
  {
   "cell_type": "markdown",
   "metadata": {},
   "source": [
    "The example tries to open a file where you do not have write permission, so it raises the  exception `IOerror`. Alternatively, a `try/finally` block can be used like this."
   ]
  },
  {
   "cell_type": "code",
   "execution_count": 122,
   "metadata": {},
   "outputs": [
    {
     "name": "stdout",
     "output_type": "stream",
     "text": [
      "Error: can't find file or read data\n",
      "Going to close the file, even if it was never opened.\n"
     ]
    }
   ],
   "source": [
    "try:\n",
    "    tfile = open(\"testfile.txt\", \"r\")\n",
    "    print(\"File could be opened, now reading data ...\")\n",
    "except IOError:\n",
    "    print(\"Error: can\\'t find file or read data\")\n",
    "finally:\n",
    "    print(\"Going to close the file, even if it was never opened.\")\n",
    "    tfile.close()"
   ]
  },
  {
   "cell_type": "markdown",
   "metadata": {},
   "source": [
    "Now, go to the JupyterHub filebrowser and create a new textfile with the name *testfile.txt*. You can leave it empty. Again execute the cells above and study how the output changes."
   ]
  },
  {
   "cell_type": "markdown",
   "metadata": {},
   "source": [
    "#### Handling wrong user input in a loop\n",
    "\n",
    "Execute the code below. Make a few letter entries into the prompt, before actually entering an integer number. What happened? How does this work?"
   ]
  },
  {
   "cell_type": "code",
   "execution_count": 246,
   "metadata": {},
   "outputs": [
    {
     "name": "stdout",
     "output_type": "stream",
     "text": [
      "Please enter an integer: 4\n",
      "Great, you successfully entered an integer!\n"
     ]
    }
   ],
   "source": [
    "while True:\n",
    "    try:\n",
    "        n = input(\"Please enter an integer: \")\n",
    "        n = int(n)\n",
    "        break\n",
    "    except ValueError:\n",
    "        print(\"No valid integer! Please try again ...\")\n",
    "print(\"Great, you successfully entered an integer!\")"
   ]
  },
  {
   "cell_type": "markdown",
   "metadata": {},
   "source": [
    "#### Embed an assertion into an exception handler\n",
    "\n",
    "The assert statement below would raise an `AssertionError` that interrutpts your code, except if it is handled:"
   ]
  },
  {
   "cell_type": "code",
   "execution_count": 249,
   "metadata": {},
   "outputs": [
    {
     "name": "stdout",
     "output_type": "stream",
     "text": [
      "Exception caught\n"
     ]
    }
   ],
   "source": [
    "try:\n",
    "    assert 1==2\n",
    "except:\n",
    "    print(\"Exception caught\")"
   ]
  },
  {
   "cell_type": "markdown",
   "metadata": {},
   "source": [
    "#### Raising an Exception to Interrupt a function\n",
    "You can raise exceptions in several ways by using the raise statement. The general syntax for the raise statement is as follows.\n",
    "\n",
    "```python\n",
    "raise [Exception]\n",
    "```\n",
    "\n",
    "Here, Exception is the type of exception (for example, NameError). Specifying the Exception is optional. If the Exception is not specified, the last exception is raised. Standard exceptions that can be raised are detailed at: https://docs.python.org/3/library/exceptions.html."
   ]
  },
  {
   "cell_type": "code",
   "execution_count": 200,
   "metadata": {},
   "outputs": [
    {
     "name": "stdout",
     "output_type": "stream",
     "text": [
      "Level is too low, stop the function\n"
     ]
    }
   ],
   "source": [
    "def fctLevel(level):\n",
    "    if level < 10:\n",
    "        raise TypeError\n",
    "        print('something')\n",
    "        # The code below to this would not be executed\n",
    "        # if we raise the exception\n",
    "try:\n",
    "    fctLevel(5)\n",
    "except TypeError:\n",
    "    print('Level is too low, stop the function')"
   ]
  },
  {
   "cell_type": "markdown",
   "metadata": {},
   "source": [
    "Alternatively, the exception handling could be coded into the function:"
   ]
  },
  {
   "cell_type": "code",
   "execution_count": 201,
   "metadata": {},
   "outputs": [
    {
     "name": "stdout",
     "output_type": "stream",
     "text": [
      "Level is too low, stop the function\n"
     ]
    }
   ],
   "source": [
    "def fctLevel(level):\n",
    "    try: \n",
    "        if level < 10:\n",
    "            raise TypeError\n",
    "            print('something')\n",
    "            # The code below to this would not be executed\n",
    "            # if we raise the exception        \n",
    "    except TypeError:\n",
    "        print('Level is too low, stop the function')\n",
    "    \n",
    "fctLevel(5)"
   ]
  },
  {
   "cell_type": "markdown",
   "metadata": {},
   "source": [
    "More details on exceptions can be found here: https://www.python-course.eu/exception_handling.php."
   ]
  },
  {
   "cell_type": "markdown",
   "metadata": {},
   "source": [
    "### C.2. Exception Handling for the Function tempCalculator\n",
    "\n",
    "Given the two last examples for handling exceptions related to functions. Write code that does the same for the function `tempCalculator`: Handle the case that the user inputs a not-supported value for the `convertTo` parameter. If the user runs this function using another value than `C` or `F` for the second parameter, it should return a respective error message to the user and interrupt the function.\n",
    "\n",
    "Also here, you have two options. You can code the exception handling inside the function, or when calling the funciton. Try to code either or both options. You can find the solutions at the end of this notebook. "
   ]
  },
  {
   "cell_type": "code",
   "execution_count": 158,
   "metadata": {},
   "outputs": [],
   "source": [
    "# Extended tempCalculator\n",
    "\n",
    "\n",
    "\n"
   ]
  },
  {
   "cell_type": "markdown",
   "metadata": {},
   "source": [
    "---\n",
    "# Solutions\n",
    "\n",
    "#### Solution for Check your Understanding"
   ]
  },
  {
   "cell_type": "code",
   "execution_count": 194,
   "metadata": {},
   "outputs": [
    {
     "name": "stdout",
     "output_type": "stream",
     "text": [
      "Hello, my name is Dave. I am 38 years old.\n"
     ]
    }
   ],
   "source": [
    "# Check your Understanding\n",
    "def hello(name, age):\n",
    "    return 'Hello, my name is ' + name + '. I am ' + str(age) + ' years old.'\n",
    "\n",
    "output = hello(name='Dave', age=38)\n",
    "print(output)"
   ]
  },
  {
   "cell_type": "markdown",
   "metadata": {},
   "source": [
    "#### Exception Handling for tempCalculator: Outside the function"
   ]
  },
  {
   "cell_type": "code",
   "execution_count": 202,
   "metadata": {},
   "outputs": [
    {
     "name": "stdout",
     "output_type": "stream",
     "text": [
      "Temperature conversion not valid for parameter 'A'. Supported values: 'C' | 'F'\n"
     ]
    }
   ],
   "source": [
    "# Exception Handling for tempCalculator \n",
    "\n",
    "tempInK = 0\n",
    "convertPar = 'A'\n",
    "\n",
    "try:\n",
    "    if convertParameter == 'C' or convertParameter == 'F':\n",
    "        tempCalculator(tempInK, convertPar)\n",
    "    else:\n",
    "        raise TypeError\n",
    "except:\n",
    "    print(\"Temperature conversion not valid for parameter '{}'. Supported values: 'C' | 'F'\"\n",
    "          .format(convertPar) )\n"
   ]
  },
  {
   "cell_type": "markdown",
   "metadata": {},
   "source": [
    "#### Exception Handling for tempCalculator: Inside a function"
   ]
  },
  {
   "cell_type": "code",
   "execution_count": 203,
   "metadata": {},
   "outputs": [],
   "source": [
    "# Exception Handling for tempCalculatorWithExc\n",
    "\n",
    "# 1 to convert temperature values from Kelvin to Celcius and \n",
    "def kelvinsToCelsius(tempKelvins):\n",
    "    return tempKelvins - 273.15\n",
    "\n",
    "# 2 to convert temperature values from Celcius to Fahrenheit.\n",
    "def celsiusToFahr(tempCelsius):\n",
    "    return 9/5 * tempCelsius + 32\n",
    "\n",
    "# 3 to convert temperature values from Kelvin to Fahrenheit\n",
    "def kelvinsToFahrenheit(tempKelvins):\n",
    "    tempCelsius = kelvinsToCelsius(tempKelvins)\n",
    "    tempFahr = celsiusToFahr(tempCelsius)\n",
    "    return tempFahr\n",
    "\n",
    "# 4 Temperature Calculator\n",
    "#   to convert temperature values from Kelvin to either Celcius or Fahrenheit\n",
    "def tempCalculatorWithExc(tempK, convertTo):\n",
    "\n",
    "    try: \n",
    "        \n",
    "        # Check if user wants the temperature in Celsius\n",
    "        if convertTo == \"C\":\n",
    "            # Convert the value to Celsius \n",
    "            # using the dedicated function for the task \n",
    "            # that we defined above\n",
    "            convertedTemp = kelvinsToCelsius(tempKelvins=tempK)\n",
    "        elif convertTo == \"F\":\n",
    "            # Convert the value to Fahrenheit \n",
    "            # using the dedicated function for the task \n",
    "            # that we defined above\n",
    "            convertedTemp = kelvinsToFahrenheit(tempKelvins=tempK)\n",
    "        else:\n",
    "            raise\n",
    "            \n",
    "        # Return the result\n",
    "        return convertedTemp\n",
    "\n",
    "    except:\n",
    "        print(\"Temperature conversion not valid for parameter '{}'. Supported values: 'C' | 'F'\"\n",
    "              .format(convertTo) )"
   ]
  },
  {
   "cell_type": "code",
   "execution_count": 204,
   "metadata": {},
   "outputs": [
    {
     "name": "stdout",
     "output_type": "stream",
     "text": [
      "Temperature conversion not valid for parameter 'A'. Supported values: 'C' | 'F'\n"
     ]
    }
   ],
   "source": [
    "tempInK = 0\n",
    "convertPar = 'A'\n",
    "\n",
    "tempCalculatorWithExc(tempInK, convertPar)"
   ]
  },
  {
   "cell_type": "code",
   "execution_count": null,
   "metadata": {},
   "outputs": [],
   "source": []
  }
 ],
 "metadata": {
  "kernelspec": {
   "display_name": "Python 3",
   "language": "python",
   "name": "python3"
  },
  "language_info": {
   "codemirror_mode": {
    "name": "ipython",
    "version": 3
   },
   "file_extension": ".py",
   "mimetype": "text/x-python",
   "name": "python",
   "nbconvert_exporter": "python",
   "pygments_lexer": "ipython3",
   "version": "3.7.4"
  }
 },
 "nbformat": 4,
 "nbformat_minor": 2
}
